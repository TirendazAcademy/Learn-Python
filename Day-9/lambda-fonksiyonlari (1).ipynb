{
 "cells": [
  {
   "cell_type": "code",
   "execution_count": 1,
   "id": "751da0e2-3960-474b-99aa-36baef3c213d",
   "metadata": {},
   "outputs": [
    {
     "data": {
      "text/plain": [
       "5"
      ]
     },
     "execution_count": 1,
     "metadata": {},
     "output_type": "execute_result"
    }
   ],
   "source": [
    "(lambda x, y: x+y)(2,3)"
   ]
  },
  {
   "cell_type": "code",
   "execution_count": 2,
   "id": "3d2c13e0-8880-4d5a-8701-0cdfb987a63c",
   "metadata": {},
   "outputs": [
    {
     "data": {
      "text/plain": [
       "12"
      ]
     },
     "execution_count": 2,
     "metadata": {},
     "output_type": "execute_result"
    }
   ],
   "source": [
    "(lambda x, y: x+y)(5,7)"
   ]
  },
  {
   "cell_type": "code",
   "execution_count": 3,
   "id": "aa62a145-e410-4b4e-982a-cf7169c3d2d6",
   "metadata": {},
   "outputs": [],
   "source": [
    "carpma = lambda x,y: x*y"
   ]
  },
  {
   "cell_type": "code",
   "execution_count": 4,
   "id": "7dfb4714-7ee0-48f6-9ee8-26504d7bfff9",
   "metadata": {},
   "outputs": [
    {
     "data": {
      "text/plain": [
       "6"
      ]
     },
     "execution_count": 4,
     "metadata": {},
     "output_type": "execute_result"
    }
   ],
   "source": [
    "carpma(2,3)"
   ]
  },
  {
   "cell_type": "code",
   "execution_count": 5,
   "id": "a2fdb590-ef02-4eaf-bf7d-f4d176c1ee52",
   "metadata": {},
   "outputs": [],
   "source": [
    "cift_mi = lambda x: x % 2 == 0"
   ]
  },
  {
   "cell_type": "code",
   "execution_count": 6,
   "id": "14b13c1f-6757-4bae-a495-1550c9a127fc",
   "metadata": {},
   "outputs": [
    {
     "data": {
      "text/plain": [
       "True"
      ]
     },
     "execution_count": 6,
     "metadata": {},
     "output_type": "execute_result"
    }
   ],
   "source": [
    "cift_mi(4)"
   ]
  },
  {
   "cell_type": "code",
   "execution_count": 7,
   "id": "90152caa-5187-4bda-9e0e-b635c988ca18",
   "metadata": {},
   "outputs": [
    {
     "data": {
      "text/plain": [
       "False"
      ]
     },
     "execution_count": 7,
     "metadata": {},
     "output_type": "execute_result"
    }
   ],
   "source": [
    "cift_mi(7)"
   ]
  },
  {
   "cell_type": "code",
   "execution_count": 8,
   "id": "9c6b1818-6efb-403f-8d55-89def0ef58e2",
   "metadata": {},
   "outputs": [
    {
     "data": {
      "text/plain": [
       "<function __main__.<lambda>(x, y)>"
      ]
     },
     "execution_count": 8,
     "metadata": {},
     "output_type": "execute_result"
    }
   ],
   "source": [
    "lambda x, y: x*y"
   ]
  },
  {
   "cell_type": "code",
   "execution_count": 9,
   "id": "0d405045-1151-4634-9777-d83494ca38b8",
   "metadata": {},
   "outputs": [
    {
     "data": {
      "text/plain": [
       "20"
      ]
     },
     "execution_count": 9,
     "metadata": {},
     "output_type": "execute_result"
    }
   ],
   "source": [
    "_(4,5)"
   ]
  },
  {
   "cell_type": "code",
   "execution_count": 17,
   "id": "9292eee0-ef95-4a80-ad40-0bacafab0638",
   "metadata": {},
   "outputs": [
    {
     "data": {
      "text/plain": [
       "<function __main__.<lambda>(x, y)>"
      ]
     },
     "execution_count": 17,
     "metadata": {},
     "output_type": "execute_result"
    }
   ],
   "source": [
    "lambda x, y: x*y"
   ]
  },
  {
   "cell_type": "code",
   "execution_count": 18,
   "id": "7602e434-2dce-4be0-8b39-3f6071823bfe",
   "metadata": {},
   "outputs": [
    {
     "data": {
      "text/plain": [
       "20"
      ]
     },
     "execution_count": 18,
     "metadata": {},
     "output_type": "execute_result"
    }
   ],
   "source": [
    "_(4,5)"
   ]
  },
  {
   "cell_type": "code",
   "execution_count": 23,
   "id": "9741a5cd-cf95-4ee9-b5b4-8c8b45098756",
   "metadata": {},
   "outputs": [
    {
     "data": {
      "text/plain": [
       "<function __main__.<lambda>(a)>"
      ]
     },
     "execution_count": 23,
     "metadata": {},
     "output_type": "execute_result"
    }
   ],
   "source": [
    "lambda a: a+2"
   ]
  },
  {
   "cell_type": "code",
   "execution_count": 24,
   "id": "043642e6-ce16-4336-8fcd-a0a0b4117431",
   "metadata": {},
   "outputs": [
    {
     "name": "stdout",
     "output_type": "stream",
     "text": [
      "5\n"
     ]
    }
   ],
   "source": [
    "print(_(3))"
   ]
  },
  {
   "cell_type": "code",
   "execution_count": 25,
   "id": "7246efbe-b243-4390-9f5c-70a1841a6406",
   "metadata": {},
   "outputs": [
    {
     "data": {
      "text/plain": [
       "<function __main__.<lambda>(a)>"
      ]
     },
     "execution_count": 25,
     "metadata": {},
     "output_type": "execute_result"
    }
   ],
   "source": [
    "lambda a: len(a)"
   ]
  },
  {
   "cell_type": "code",
   "execution_count": 27,
   "id": "0bfc865f-95c3-4b7a-a638-3d296ba4a505",
   "metadata": {},
   "outputs": [
    {
     "name": "stdout",
     "output_type": "stream",
     "text": [
      "6\n"
     ]
    }
   ],
   "source": [
    "print(_(\"python\"))"
   ]
  },
  {
   "cell_type": "code",
   "execution_count": 28,
   "id": "692e112f-1819-4212-afbe-723a4e518c57",
   "metadata": {},
   "outputs": [],
   "source": [
    "lambda x,y: x*y"
   ]
  },
  {
   "cell_type": "code",
   "execution_count": 29,
   "id": "f486ca5c-f1e4-4f61-9a36-49bfb2ac4078",
   "metadata": {},
   "outputs": [],
   "source": [
    "def carpma(x,y):\n",
    "    return x*y"
   ]
  },
  {
   "cell_type": "code",
   "execution_count": 30,
   "id": "6a278280-6672-407d-ac8b-8f6b03d46a1a",
   "metadata": {},
   "outputs": [
    {
     "data": {
      "text/plain": [
       "24"
      ]
     },
     "execution_count": 30,
     "metadata": {},
     "output_type": "execute_result"
    }
   ],
   "source": [
    "carpma(4,6)"
   ]
  },
  {
   "cell_type": "code",
   "execution_count": 34,
   "id": "5592f2b8-bbfb-4db7-b95b-54a15ff2f119",
   "metadata": {},
   "outputs": [
    {
     "data": {
      "text/plain": [
       "False"
      ]
     },
     "execution_count": 34,
     "metadata": {},
     "output_type": "execute_result"
    }
   ],
   "source": [
    "(lambda x: x==5)(7)"
   ]
  },
  {
   "cell_type": "code",
   "execution_count": 35,
   "id": "87df811a-8aa7-477c-b678-ccc5acce8dd6",
   "metadata": {},
   "outputs": [],
   "source": [
    "kare = lambda x: x **2"
   ]
  },
  {
   "cell_type": "code",
   "execution_count": 36,
   "id": "bfe164e0-af2c-4cfb-8079-86826d2d19ae",
   "metadata": {},
   "outputs": [
    {
     "data": {
      "text/plain": [
       "25"
      ]
     },
     "execution_count": 36,
     "metadata": {},
     "output_type": "execute_result"
    }
   ],
   "source": [
    "kare(5)"
   ]
  },
  {
   "cell_type": "code",
   "execution_count": 38,
   "id": "58a506ac-0b34-4a08-a047-35c2f6bc3bbd",
   "metadata": {},
   "outputs": [],
   "source": [
    "def pozitif_sayilari_topla(liste):\n",
    "    toplam=0\n",
    "    for sayi in liste:\n",
    "        if sayi>0:\n",
    "            toplam += sayi # toplam = toplam + sayi # toplam = 3+7=10\n",
    "    return toplam"
   ]
  },
  {
   "cell_type": "code",
   "execution_count": 39,
   "id": "1a901a3c-aed3-4918-9ed3-d513e90037a9",
   "metadata": {},
   "outputs": [
    {
     "data": {
      "text/plain": [
       "10"
      ]
     },
     "execution_count": 39,
     "metadata": {},
     "output_type": "execute_result"
    }
   ],
   "source": [
    "pozitif_sayilari_topla([-2,3,7,-1])"
   ]
  },
  {
   "cell_type": "code",
   "execution_count": 40,
   "id": "8429e049-1539-4cc1-99c8-dac0fb339b58",
   "metadata": {},
   "outputs": [],
   "source": [
    "sayilar = [1,2,3,4,5,6]"
   ]
  },
  {
   "cell_type": "code",
   "execution_count": 41,
   "id": "bb7dcb44-6b15-45b0-b972-f0c49a94e4c0",
   "metadata": {},
   "outputs": [
    {
     "data": {
      "text/plain": [
       "<map at 0x26107f17e20>"
      ]
     },
     "execution_count": 41,
     "metadata": {},
     "output_type": "execute_result"
    }
   ],
   "source": [
    "map(lambda x: x**2, sayilar)"
   ]
  },
  {
   "cell_type": "code",
   "execution_count": 42,
   "id": "51a573d3-d987-4b21-9218-c0ec18d61bcc",
   "metadata": {},
   "outputs": [
    {
     "data": {
      "text/plain": [
       "[1, 4, 9, 16, 25, 36]"
      ]
     },
     "execution_count": 42,
     "metadata": {},
     "output_type": "execute_result"
    }
   ],
   "source": [
    "list(map(lambda x: x**2, sayilar))"
   ]
  },
  {
   "cell_type": "code",
   "execution_count": 43,
   "id": "ddb6420d-1547-4d6c-823d-6855228f1c7d",
   "metadata": {},
   "outputs": [
    {
     "data": {
      "text/plain": [
       "[1, 2, 3, 4, 5, 6]"
      ]
     },
     "execution_count": 43,
     "metadata": {},
     "output_type": "execute_result"
    }
   ],
   "source": [
    "sayilar"
   ]
  },
  {
   "cell_type": "code",
   "execution_count": 44,
   "id": "8cdad140-0040-4fc3-98e8-6281c82697d5",
   "metadata": {},
   "outputs": [],
   "source": [
    "ciftler = filter(lambda x: x%2==0, sayilar)"
   ]
  },
  {
   "cell_type": "code",
   "execution_count": 46,
   "id": "1d052fd3-cecf-413d-93cf-a98d94f3097d",
   "metadata": {},
   "outputs": [
    {
     "data": {
      "text/plain": [
       "[2, 4, 6]"
      ]
     },
     "execution_count": 46,
     "metadata": {},
     "output_type": "execute_result"
    }
   ],
   "source": [
    "list(ciftler)"
   ]
  },
  {
   "cell_type": "code",
   "execution_count": 47,
   "id": "1fc90e0c-760d-44c7-a8b5-2a96df7965bd",
   "metadata": {},
   "outputs": [],
   "source": [
    "liste = [\"elma\", \"\", \"muz\", \"kiraz\"]"
   ]
  },
  {
   "cell_type": "code",
   "execution_count": 48,
   "id": "786a2e7f-2efe-4258-8a5a-74a764bd2668",
   "metadata": {},
   "outputs": [
    {
     "data": {
      "text/plain": [
       "['elma', 'muz', 'kiraz']"
      ]
     },
     "execution_count": 48,
     "metadata": {},
     "output_type": "execute_result"
    }
   ],
   "source": [
    "list(filter(lambda x: x != \"\", liste))"
   ]
  },
  {
   "cell_type": "code",
   "execution_count": 50,
   "id": "77249e17-4295-46b9-8d4f-bf6e689268b4",
   "metadata": {},
   "outputs": [
    {
     "data": {
      "text/plain": [
       "21"
      ]
     },
     "execution_count": 50,
     "metadata": {},
     "output_type": "execute_result"
    }
   ],
   "source": [
    "from functools import reduce\n",
    "\n",
    "sayilar = [1,2,3,4,5,6]\n",
    "\n",
    "reduce(lambda x,y: x+y, sayilar)"
   ]
  },
  {
   "cell_type": "code",
   "execution_count": 52,
   "id": "5f3718a7-163c-473b-8040-0f75c0a19a58",
   "metadata": {},
   "outputs": [
    {
     "data": {
      "text/plain": [
       "120"
      ]
     },
     "execution_count": 52,
     "metadata": {},
     "output_type": "execute_result"
    }
   ],
   "source": [
    "reduce(lambda x,y: x*y, [1,2,3,4,5])"
   ]
  },
  {
   "cell_type": "code",
   "execution_count": 53,
   "id": "58b59b59-da06-4534-addb-06b93b703a18",
   "metadata": {},
   "outputs": [],
   "source": [
    "sayilar = [5,2,7,6]"
   ]
  },
  {
   "cell_type": "code",
   "execution_count": 54,
   "id": "37a81cbc-a653-4ff4-9665-c5bc19964714",
   "metadata": {},
   "outputs": [
    {
     "data": {
      "text/plain": [
       "[2, 5, 6, 7]"
      ]
     },
     "execution_count": 54,
     "metadata": {},
     "output_type": "execute_result"
    }
   ],
   "source": [
    "sorted(sayilar)"
   ]
  },
  {
   "cell_type": "code",
   "execution_count": 55,
   "id": "fcd7f5eb-a154-4310-be2e-80d03e530580",
   "metadata": {},
   "outputs": [],
   "source": [
    "puanlar = {\n",
    "    \"Ali\":85, \n",
    "    \"Ayşe\":95,\n",
    "    \"Can\":78,\n",
    "    \"Buse\":90\n",
    "}"
   ]
  },
  {
   "cell_type": "code",
   "execution_count": 56,
   "id": "cce406e3-ed31-49e7-b2c0-85a9560544d6",
   "metadata": {},
   "outputs": [
    {
     "data": {
      "text/plain": [
       "['Ali', 'Ayşe', 'Buse', 'Can']"
      ]
     },
     "execution_count": 56,
     "metadata": {},
     "output_type": "execute_result"
    }
   ],
   "source": [
    "sorted(puanlar)"
   ]
  },
  {
   "cell_type": "code",
   "execution_count": 58,
   "id": "85410a8b-c6b5-4e42-8bac-e41ee55ac795",
   "metadata": {},
   "outputs": [
    {
     "data": {
      "text/plain": [
       "dict_items([('Ali', 85), ('Ayşe', 95), ('Can', 78), ('Buse', 90)])"
      ]
     },
     "execution_count": 58,
     "metadata": {},
     "output_type": "execute_result"
    }
   ],
   "source": [
    "puanlar.items()"
   ]
  },
  {
   "cell_type": "code",
   "execution_count": 59,
   "id": "f10be401-e9b2-46b3-b648-3e36a1a1e32a",
   "metadata": {},
   "outputs": [
    {
     "data": {
      "text/plain": [
       "[('Can', 78), ('Ali', 85), ('Buse', 90), ('Ayşe', 95)]"
      ]
     },
     "execution_count": 59,
     "metadata": {},
     "output_type": "execute_result"
    }
   ],
   "source": [
    "sorted(puanlar.items(), key=lambda x: x[1])"
   ]
  },
  {
   "cell_type": "code",
   "execution_count": 60,
   "id": "f8128d28-ba50-479e-b3a2-06d35b748698",
   "metadata": {},
   "outputs": [
    {
     "data": {
      "text/plain": [
       "[('Ayşe', 95), ('Buse', 90), ('Ali', 85), ('Can', 78)]"
      ]
     },
     "execution_count": 60,
     "metadata": {},
     "output_type": "execute_result"
    }
   ],
   "source": [
    "sorted(puanlar.items(), key=lambda x: x[1], reverse=True)"
   ]
  },
  {
   "cell_type": "code",
   "execution_count": 61,
   "id": "9a59011c-8a7b-482c-9595-21e66df23b70",
   "metadata": {},
   "outputs": [],
   "source": [
    "isimler = [\"Ali\", \"Zeynep\", \"Can\", \"Ayşe\"]"
   ]
  },
  {
   "cell_type": "code",
   "execution_count": 62,
   "id": "3461e5b6-351d-4295-a5e2-5e2ceb26afba",
   "metadata": {},
   "outputs": [
    {
     "data": {
      "text/plain": [
       "['Ali', 'Ayşe', 'Can', 'Zeynep']"
      ]
     },
     "execution_count": 62,
     "metadata": {},
     "output_type": "execute_result"
    }
   ],
   "source": [
    "sorted(isimler)"
   ]
  },
  {
   "cell_type": "code",
   "execution_count": 63,
   "id": "deadf3d2-61b7-47ac-b29b-6ba6adf885e8",
   "metadata": {},
   "outputs": [
    {
     "data": {
      "text/plain": [
       "['Ali', 'Can', 'Ayşe', 'Zeynep']"
      ]
     },
     "execution_count": 63,
     "metadata": {},
     "output_type": "execute_result"
    }
   ],
   "source": [
    "sorted(isimler, key=lambda x: len(x))"
   ]
  },
  {
   "cell_type": "code",
   "execution_count": 64,
   "id": "5a5bd95f-9183-44c7-8741-37182f3f376b",
   "metadata": {},
   "outputs": [],
   "source": [
    "ogrenciler = [(\"Ali\", 85), (\"Ayşe\", 95), (\"Can\", 80)]"
   ]
  },
  {
   "cell_type": "code",
   "execution_count": 65,
   "id": "40900e9b-9d11-455d-882f-81f9ee9f33b9",
   "metadata": {},
   "outputs": [
    {
     "data": {
      "text/plain": [
       "('Ayşe', 95)"
      ]
     },
     "execution_count": 65,
     "metadata": {},
     "output_type": "execute_result"
    }
   ],
   "source": [
    "max(ogrenciler, key=lambda x : x[1])"
   ]
  },
  {
   "cell_type": "code",
   "execution_count": 66,
   "id": "1982b0d1-bb12-4bb3-af6d-74a5be0661a1",
   "metadata": {},
   "outputs": [],
   "source": [
    "urunler = [\n",
    "    {\"isim\": \"elma\", \"fiyat\": 50},\n",
    "    {\"isim\": \"muz\", \"fiyat\": 80},\n",
    "    {\"isim\": \"armut\", \"fiyat\": 60}\n",
    "]"
   ]
  },
  {
   "cell_type": "code",
   "execution_count": 67,
   "id": "70587e69-270c-4fa6-9223-955edf079e9d",
   "metadata": {},
   "outputs": [
    {
     "data": {
      "text/plain": [
       "{'isim': 'elma', 'fiyat': 50}"
      ]
     },
     "execution_count": 67,
     "metadata": {},
     "output_type": "execute_result"
    }
   ],
   "source": [
    "min(urunler, key= lambda x: x[\"fiyat\"])"
   ]
  },
  {
   "cell_type": "code",
   "execution_count": 68,
   "id": "baa78883-8af7-4073-8deb-0f6f7b56cbaa",
   "metadata": {},
   "outputs": [],
   "source": [
    "def topla_sabit(sabit):\n",
    "    return lambda x: x + sabit"
   ]
  },
  {
   "cell_type": "code",
   "execution_count": 69,
   "id": "553b0746-7e04-4cb3-97c4-5c02c1c75be5",
   "metadata": {},
   "outputs": [],
   "source": [
    "artir_5 = topla_sabit(5) # artir_5 = lambda x: x + 5"
   ]
  },
  {
   "cell_type": "code",
   "execution_count": 70,
   "id": "aff81988-ca21-4cce-8ee3-52f5697166c7",
   "metadata": {},
   "outputs": [
    {
     "data": {
      "text/plain": [
       "15"
      ]
     },
     "execution_count": 70,
     "metadata": {},
     "output_type": "execute_result"
    }
   ],
   "source": [
    "artir_5(10)"
   ]
  },
  {
   "cell_type": "code",
   "execution_count": 71,
   "id": "33ed3e59-02ce-4a46-a8ec-aaf650f9da66",
   "metadata": {},
   "outputs": [
    {
     "data": {
      "text/plain": [
       "25"
      ]
     },
     "execution_count": 71,
     "metadata": {},
     "output_type": "execute_result"
    }
   ],
   "source": [
    "artir_5(20)"
   ]
  },
  {
   "cell_type": "code",
   "execution_count": null,
   "id": "c52832de-d2ed-4435-9d65-4583e6ed8397",
   "metadata": {},
   "outputs": [],
   "source": [
    "# closure"
   ]
  },
  {
   "cell_type": "code",
   "execution_count": 72,
   "id": "145fe905-0ce7-4432-a365-8f36336e961b",
   "metadata": {},
   "outputs": [],
   "source": [
    "def normalizasyon_olustur(min_deger, max_deger):\n",
    "    return lambda x: (x-min_deger) / (max_deger- min_deger)"
   ]
  },
  {
   "cell_type": "code",
   "execution_count": 73,
   "id": "773c4a52-e3c5-40f5-9716-7525a1d772f3",
   "metadata": {},
   "outputs": [],
   "source": [
    "normalize_0_255 = normalizasyon_olustur(0,255)"
   ]
  },
  {
   "cell_type": "code",
   "execution_count": 74,
   "id": "681d2647-4e27-489d-ab7d-307346ed6875",
   "metadata": {},
   "outputs": [
    {
     "data": {
      "text/plain": [
       "0.5019607843137255"
      ]
     },
     "execution_count": 74,
     "metadata": {},
     "output_type": "execute_result"
    }
   ],
   "source": [
    "normalize_0_255(128)"
   ]
  },
  {
   "cell_type": "code",
   "execution_count": 75,
   "id": "321f2352-fcce-4dfe-87d3-e4b590fad4b6",
   "metadata": {},
   "outputs": [
    {
     "data": {
      "text/plain": [
       "1.0"
      ]
     },
     "execution_count": 75,
     "metadata": {},
     "output_type": "execute_result"
    }
   ],
   "source": [
    "normalize_0_255(255)"
   ]
  },
  {
   "cell_type": "code",
   "execution_count": 76,
   "id": "92197b48-b442-4403-994a-e6fc08729976",
   "metadata": {},
   "outputs": [
    {
     "data": {
      "text/plain": [
       "0.39215686274509803"
      ]
     },
     "execution_count": 76,
     "metadata": {},
     "output_type": "execute_result"
    }
   ],
   "source": [
    "normalize_0_255(100)"
   ]
  },
  {
   "cell_type": "code",
   "execution_count": 77,
   "id": "83511401-5a0b-4cb2-9523-a721a5ae4a18",
   "metadata": {},
   "outputs": [],
   "source": [
    "kontrol = lambda x: \"Pozitif\" if x>0 else \"Negatif\""
   ]
  },
  {
   "cell_type": "code",
   "execution_count": 78,
   "id": "8b46f8cf-60c8-4fbe-b08b-29dcd48ce314",
   "metadata": {},
   "outputs": [
    {
     "data": {
      "text/plain": [
       "'Pozitif'"
      ]
     },
     "execution_count": 78,
     "metadata": {},
     "output_type": "execute_result"
    }
   ],
   "source": [
    "kontrol(10)"
   ]
  },
  {
   "cell_type": "code",
   "execution_count": 79,
   "id": "8888c06b-df05-4c9a-9c72-f24f039cff8e",
   "metadata": {},
   "outputs": [
    {
     "data": {
      "text/plain": [
       "'Negatif'"
      ]
     },
     "execution_count": 79,
     "metadata": {},
     "output_type": "execute_result"
    }
   ],
   "source": [
    "kontrol(-3)"
   ]
  },
  {
   "cell_type": "code",
   "execution_count": 80,
   "id": "bdb2badc-e5f3-4a74-938e-d54eb1ff160c",
   "metadata": {},
   "outputs": [
    {
     "data": {
      "text/plain": [
       "'Negatif'"
      ]
     },
     "execution_count": 80,
     "metadata": {},
     "output_type": "execute_result"
    }
   ],
   "source": [
    "kontrol(0)"
   ]
  },
  {
   "cell_type": "code",
   "execution_count": 85,
   "id": "e15e46a2-5e73-40bc-aa9d-3970567740df",
   "metadata": {},
   "outputs": [],
   "source": [
    "durum = lambda x: \"Pozitif\" if x>0 else (\"Negatif\" if x<0 else \"Nötr\")"
   ]
  },
  {
   "cell_type": "code",
   "execution_count": 82,
   "id": "e65141c5-19d5-4a65-9816-e9209af94a03",
   "metadata": {},
   "outputs": [
    {
     "data": {
      "text/plain": [
       "'Pozitif'"
      ]
     },
     "execution_count": 82,
     "metadata": {},
     "output_type": "execute_result"
    }
   ],
   "source": [
    "durum(5)"
   ]
  },
  {
   "cell_type": "code",
   "execution_count": 83,
   "id": "684a77eb-83d1-4463-a27d-d3c301850295",
   "metadata": {},
   "outputs": [
    {
     "data": {
      "text/plain": [
       "'Negatif'"
      ]
     },
     "execution_count": 83,
     "metadata": {},
     "output_type": "execute_result"
    }
   ],
   "source": [
    "durum(-5)"
   ]
  },
  {
   "cell_type": "code",
   "execution_count": 86,
   "id": "f93b0d5e-f7f2-4588-a156-603da3e54535",
   "metadata": {},
   "outputs": [
    {
     "data": {
      "text/plain": [
       "'Nötr'"
      ]
     },
     "execution_count": 86,
     "metadata": {},
     "output_type": "execute_result"
    }
   ],
   "source": [
    "durum(0)"
   ]
  },
  {
   "cell_type": "code",
   "execution_count": 87,
   "id": "9ce26a8c-7120-427b-81a9-4388b62f35f0",
   "metadata": {},
   "outputs": [],
   "source": [
    "cift_mi = lambda x: \"Çift\" if x%2 ==0 else \"Tek\""
   ]
  },
  {
   "cell_type": "code",
   "execution_count": 88,
   "id": "81f0d3f3-2405-4ff0-9fa5-bc2c8e820ff7",
   "metadata": {},
   "outputs": [
    {
     "data": {
      "text/plain": [
       "'Tek'"
      ]
     },
     "execution_count": 88,
     "metadata": {},
     "output_type": "execute_result"
    }
   ],
   "source": [
    "cift_mi(15)"
   ]
  },
  {
   "cell_type": "code",
   "execution_count": 89,
   "id": "496c32a9-60d6-4aac-a521-0b86c3d50a7b",
   "metadata": {},
   "outputs": [
    {
     "data": {
      "text/plain": [
       "'Çift'"
      ]
     },
     "execution_count": 89,
     "metadata": {},
     "output_type": "execute_result"
    }
   ],
   "source": [
    "cift_mi(26)"
   ]
  },
  {
   "cell_type": "raw",
   "id": "db8b6758-fcbf-497d-9234-999bec821d39",
   "metadata": {},
   "source": [
    "Lambdayla if ve for blokları kullanılamaz."
   ]
  },
  {
   "cell_type": "code",
   "execution_count": 90,
   "id": "63790164-cdde-4b2d-88d7-ee5a8dff3f3c",
   "metadata": {},
   "outputs": [
    {
     "ename": "SyntaxError",
     "evalue": "invalid syntax (2490481391.py, line 1)",
     "output_type": "error",
     "traceback": [
      "  \u001b[36mCell\u001b[39m\u001b[36m \u001b[39m\u001b[32mIn[90]\u001b[39m\u001b[32m, line 1\u001b[39m\n\u001b[31m    \u001b[39m\u001b[31mlambda x:\u001b[39m\n             ^\n\u001b[31mSyntaxError\u001b[39m\u001b[31m:\u001b[39m invalid syntax\n"
     ]
    }
   ],
   "source": [
    "lambda x:\n",
    "    if x>0:\n",
    "        return \"Pozitif\""
   ]
  },
  {
   "cell_type": "code",
   "execution_count": 92,
   "id": "0befa968-27f5-4237-9111-c94d5c791e3a",
   "metadata": {},
   "outputs": [
    {
     "data": {
      "text/plain": [
       "'Pozitif'"
      ]
     },
     "execution_count": 92,
     "metadata": {},
     "output_type": "execute_result"
    }
   ],
   "source": [
    "(lambda x: \"Pozitif\" if x>0 else \"Negatif\")(5)"
   ]
  },
  {
   "cell_type": "code",
   "execution_count": 93,
   "id": "0c5e6486-21fc-43fb-b81b-a4308b62c848",
   "metadata": {},
   "outputs": [
    {
     "data": {
      "text/plain": [
       "'Negatif'"
      ]
     },
     "execution_count": 93,
     "metadata": {},
     "output_type": "execute_result"
    }
   ],
   "source": [
    "(lambda x: \"Pozitif\" if x>0 else \"Negatif\")(-4)"
   ]
  },
  {
   "cell_type": "raw",
   "id": "bebdec90-2bb7-4093-827d-e7ca4b188d6f",
   "metadata": {},
   "source": [
    "Lambda ile return kullanılmaz "
   ]
  },
  {
   "cell_type": "code",
   "execution_count": 94,
   "id": "b91d822e-cf7d-4e81-8683-3292835ef3ce",
   "metadata": {},
   "outputs": [
    {
     "ename": "SyntaxError",
     "evalue": "invalid syntax (2104274736.py, line 1)",
     "output_type": "error",
     "traceback": [
      "  \u001b[36mCell\u001b[39m\u001b[36m \u001b[39m\u001b[32mIn[94]\u001b[39m\u001b[32m, line 1\u001b[39m\n\u001b[31m    \u001b[39m\u001b[31mlambda x: return x*2\u001b[39m\n              ^\n\u001b[31mSyntaxError\u001b[39m\u001b[31m:\u001b[39m invalid syntax\n"
     ]
    }
   ],
   "source": [
    "lambda x: return x*2"
   ]
  },
  {
   "cell_type": "code",
   "execution_count": 96,
   "id": "bf474ad6-a15a-4509-8c09-5b67b410d2e8",
   "metadata": {},
   "outputs": [
    {
     "data": {
      "text/plain": [
       "6"
      ]
     },
     "execution_count": 96,
     "metadata": {},
     "output_type": "execute_result"
    }
   ],
   "source": [
    "(lambda x: x*2)(3)"
   ]
  },
  {
   "cell_type": "raw",
   "id": "3c31143c-01e8-4603-9a30-56331ab61e4e",
   "metadata": {},
   "source": [
    "Lambda fonksiyonu annotations ve docstring desteklemez."
   ]
  },
  {
   "cell_type": "code",
   "execution_count": 97,
   "id": "374753ac-a6e7-498d-9683-551dc3f110d5",
   "metadata": {},
   "outputs": [],
   "source": [
    "def kare(x: int) -> int:\n",
    "    \"\"\"Bu x'in karesini döndürür\"\"\" # docstring \n",
    "    return x**2"
   ]
  },
  {
   "cell_type": "code",
   "execution_count": null,
   "id": "dba12393-7ecd-4c6c-97b5-cbd6ce0db6b1",
   "metadata": {},
   "outputs": [],
   "source": []
  }
 ],
 "metadata": {
  "kernelspec": {
   "display_name": "Python 3 (ipykernel)",
   "language": "python",
   "name": "python3"
  },
  "language_info": {
   "codemirror_mode": {
    "name": "ipython",
    "version": 3
   },
   "file_extension": ".py",
   "mimetype": "text/x-python",
   "name": "python",
   "nbconvert_exporter": "python",
   "pygments_lexer": "ipython3",
   "version": "3.12.2"
  }
 },
 "nbformat": 4,
 "nbformat_minor": 5
}
