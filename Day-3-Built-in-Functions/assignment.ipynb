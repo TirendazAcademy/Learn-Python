{
 "cells": [
  {
   "cell_type": "markdown",
   "id": "aab714fe-4723-46eb-af28-b21c71811e6e",
   "metadata": {},
   "source": [
    "# Atama "
   ]
  },
  {
   "cell_type": "code",
   "execution_count": 1,
   "id": "25cc41c3-ddd0-4367-b781-2ba5d95af195",
   "metadata": {},
   "outputs": [],
   "source": [
    "x = 5"
   ]
  },
  {
   "cell_type": "code",
   "execution_count": 2,
   "id": "9abb70a0-9ace-4859-ae70-0baf4bc3df96",
   "metadata": {},
   "outputs": [
    {
     "data": {
      "text/plain": [
       "5"
      ]
     },
     "execution_count": 2,
     "metadata": {},
     "output_type": "execute_result"
    }
   ],
   "source": [
    "x"
   ]
  },
  {
   "cell_type": "code",
   "execution_count": 3,
   "id": "7ad6eb50-c314-4232-aacb-cbc3678471e7",
   "metadata": {},
   "outputs": [
    {
     "data": {
      "text/plain": [
       "int"
      ]
     },
     "execution_count": 3,
     "metadata": {},
     "output_type": "execute_result"
    }
   ],
   "source": [
    "type(x)"
   ]
  },
  {
   "cell_type": "code",
   "execution_count": 4,
   "id": "6a4779f1-972c-4539-8f70-4f46ae18e513",
   "metadata": {},
   "outputs": [
    {
     "ename": "NameError",
     "evalue": "name 'y' is not defined",
     "output_type": "error",
     "traceback": [
      "\u001b[31m---------------------------------------------------------------------------\u001b[39m",
      "\u001b[31mNameError\u001b[39m                                 Traceback (most recent call last)",
      "\u001b[36mCell\u001b[39m\u001b[36m \u001b[39m\u001b[32mIn[4]\u001b[39m\u001b[32m, line 1\u001b[39m\n\u001b[32m----> \u001b[39m\u001b[32m1\u001b[39m \u001b[43my\u001b[49m\n",
      "\u001b[31mNameError\u001b[39m: name 'y' is not defined"
     ]
    }
   ],
   "source": [
    "y"
   ]
  },
  {
   "cell_type": "code",
   "execution_count": 5,
   "id": "1ac11724-8b85-4524-a292-89fb04c4bb7f",
   "metadata": {},
   "outputs": [],
   "source": [
    "y = \"Merhaba\""
   ]
  },
  {
   "cell_type": "code",
   "execution_count": 6,
   "id": "2627c25c-c75c-4f87-8ebc-fa26bb70dd10",
   "metadata": {},
   "outputs": [
    {
     "data": {
      "text/plain": [
       "'Merhaba'"
      ]
     },
     "execution_count": 6,
     "metadata": {},
     "output_type": "execute_result"
    }
   ],
   "source": [
    "y"
   ]
  },
  {
   "cell_type": "code",
   "execution_count": 7,
   "id": "d69ad0cb-c7a2-43a3-b3bf-3eb24cf98da5",
   "metadata": {},
   "outputs": [],
   "source": [
    "isim , yas = \"Eda\", 25"
   ]
  },
  {
   "cell_type": "code",
   "execution_count": 8,
   "id": "35000b59-431b-4c82-b87b-ca99af752791",
   "metadata": {},
   "outputs": [
    {
     "data": {
      "text/plain": [
       "'Eda'"
      ]
     },
     "execution_count": 8,
     "metadata": {},
     "output_type": "execute_result"
    }
   ],
   "source": [
    "isim"
   ]
  },
  {
   "cell_type": "code",
   "execution_count": 9,
   "id": "5f67aadf-fd57-41b4-b79b-6ba7ba5f937f",
   "metadata": {},
   "outputs": [
    {
     "name": "stdout",
     "output_type": "stream",
     "text": [
      "25\n"
     ]
    }
   ],
   "source": [
    "print(yas)"
   ]
  },
  {
   "cell_type": "code",
   "execution_count": 10,
   "id": "1a9ef6a7-acb3-4153-8cf3-fb9c031bbe09",
   "metadata": {},
   "outputs": [],
   "source": [
    "a1, a2, a3 = 1, 2, 3"
   ]
  },
  {
   "cell_type": "code",
   "execution_count": 11,
   "id": "75d767b4-f831-43a8-a480-d657a5314b4b",
   "metadata": {},
   "outputs": [
    {
     "name": "stdout",
     "output_type": "stream",
     "text": [
      "1 2 3\n"
     ]
    }
   ],
   "source": [
    "print(a1,a2,a3)"
   ]
  },
  {
   "cell_type": "code",
   "execution_count": 12,
   "id": "73e5ca1b-82fa-4c7a-96df-0eb4e5a706ea",
   "metadata": {},
   "outputs": [],
   "source": [
    "s1, s2, s3, s4 = \"Erol\""
   ]
  },
  {
   "cell_type": "code",
   "execution_count": 13,
   "id": "c6de374f-2abe-4c5b-b874-1cc732e2af07",
   "metadata": {},
   "outputs": [
    {
     "name": "stdout",
     "output_type": "stream",
     "text": [
      "E r o l\n"
     ]
    }
   ],
   "source": [
    "print(s1,s2,s3,s4)"
   ]
  },
  {
   "cell_type": "code",
   "execution_count": 14,
   "id": "43d8707e-9ceb-4835-a421-2fe73c529fb9",
   "metadata": {},
   "outputs": [
    {
     "name": "stdout",
     "output_type": "stream",
     "text": [
      "50\n"
     ]
    }
   ],
   "source": [
    "[sayi1, sayi2, sayi3, sayi4]=[5, 10, 15, 20]\n",
    "print(sayi1+sayi2+sayi3+sayi4)"
   ]
  },
  {
   "cell_type": "code",
   "execution_count": 15,
   "id": "83480b6b-18e6-45c0-869c-6a61957d311a",
   "metadata": {},
   "outputs": [],
   "source": [
    "a1, *a2 = \"Merhaba\""
   ]
  },
  {
   "cell_type": "code",
   "execution_count": 16,
   "id": "76a71a9b-f050-4d54-814e-5a541c959fdd",
   "metadata": {},
   "outputs": [
    {
     "data": {
      "text/plain": [
       "'M'"
      ]
     },
     "execution_count": 16,
     "metadata": {},
     "output_type": "execute_result"
    }
   ],
   "source": [
    "a1"
   ]
  },
  {
   "cell_type": "code",
   "execution_count": 17,
   "id": "ce8355bd-6c4e-4c11-9d41-6159dee19052",
   "metadata": {},
   "outputs": [
    {
     "data": {
      "text/plain": [
       "['e', 'r', 'h', 'a', 'b', 'a']"
      ]
     },
     "execution_count": 17,
     "metadata": {},
     "output_type": "execute_result"
    }
   ],
   "source": [
    "a2"
   ]
  },
  {
   "cell_type": "code",
   "execution_count": 18,
   "id": "8d2b0c41-602a-409d-8e15-b934ba162e11",
   "metadata": {},
   "outputs": [],
   "source": [
    "r1, *r2, r3 = [1,2,3,4,5]"
   ]
  },
  {
   "cell_type": "code",
   "execution_count": 19,
   "id": "fd9d8255-e3ed-42b0-a098-d4d910fb3f5e",
   "metadata": {},
   "outputs": [
    {
     "data": {
      "text/plain": [
       "1"
      ]
     },
     "execution_count": 19,
     "metadata": {},
     "output_type": "execute_result"
    }
   ],
   "source": [
    "r1"
   ]
  },
  {
   "cell_type": "code",
   "execution_count": 20,
   "id": "c3a60643-f8b5-4788-895c-73b2a1e82dd4",
   "metadata": {},
   "outputs": [
    {
     "data": {
      "text/plain": [
       "[2, 3, 4]"
      ]
     },
     "execution_count": 20,
     "metadata": {},
     "output_type": "execute_result"
    }
   ],
   "source": [
    "r2"
   ]
  },
  {
   "cell_type": "code",
   "execution_count": 21,
   "id": "5af411df-c768-479e-93b2-79b736eba678",
   "metadata": {},
   "outputs": [
    {
     "data": {
      "text/plain": [
       "5"
      ]
     },
     "execution_count": 21,
     "metadata": {},
     "output_type": "execute_result"
    }
   ],
   "source": [
    "r3"
   ]
  },
  {
   "cell_type": "code",
   "execution_count": 22,
   "id": "f80d8c6a-0ac8-4551-9a02-2e5d3b585c6e",
   "metadata": {},
   "outputs": [],
   "source": [
    "puan = 10"
   ]
  },
  {
   "cell_type": "code",
   "execution_count": 23,
   "id": "b4cda328-59c7-4bda-839f-ab31a946a2d3",
   "metadata": {},
   "outputs": [
    {
     "data": {
      "text/plain": [
       "10"
      ]
     },
     "execution_count": 23,
     "metadata": {},
     "output_type": "execute_result"
    }
   ],
   "source": [
    "puan"
   ]
  },
  {
   "cell_type": "code",
   "execution_count": 24,
   "id": "73f2f6bf-8b28-40e8-bebf-af10d391cccb",
   "metadata": {},
   "outputs": [],
   "source": [
    "puan += 5"
   ]
  },
  {
   "cell_type": "code",
   "execution_count": 25,
   "id": "3df71888-012c-4675-972d-13ab5a5217cb",
   "metadata": {},
   "outputs": [
    {
     "data": {
      "text/plain": [
       "15"
      ]
     },
     "execution_count": 25,
     "metadata": {},
     "output_type": "execute_result"
    }
   ],
   "source": [
    "puan"
   ]
  },
  {
   "cell_type": "code",
   "execution_count": 26,
   "id": "e2a05105-4060-4830-9ba8-279a4478bd60",
   "metadata": {},
   "outputs": [],
   "source": [
    "puan = puan +5 "
   ]
  },
  {
   "cell_type": "code",
   "execution_count": 27,
   "id": "63bcbf96-6b00-4d13-8889-e9db488fffa1",
   "metadata": {},
   "outputs": [
    {
     "data": {
      "text/plain": [
       "20"
      ]
     },
     "execution_count": 27,
     "metadata": {},
     "output_type": "execute_result"
    }
   ],
   "source": [
    "puan"
   ]
  },
  {
   "cell_type": "code",
   "execution_count": 28,
   "id": "db7fd82d-64d0-40df-8620-0da4026c5128",
   "metadata": {},
   "outputs": [],
   "source": [
    "mesaj = \"Merhaba\"\n",
    "mesaj += \" Dünya\""
   ]
  },
  {
   "cell_type": "code",
   "execution_count": 29,
   "id": "10c7d9a5-551f-44aa-ac02-419661df1336",
   "metadata": {},
   "outputs": [
    {
     "data": {
      "text/plain": [
       "'Merhaba Dünya'"
      ]
     },
     "execution_count": 29,
     "metadata": {},
     "output_type": "execute_result"
    }
   ],
   "source": [
    "mesaj"
   ]
  },
  {
   "cell_type": "code",
   "execution_count": 32,
   "id": "04f43046-f88c-4fd0-8677-0dbdd77558b6",
   "metadata": {},
   "outputs": [
    {
     "ename": "SyntaxError",
     "evalue": "invalid syntax. Maybe you meant '==' or ':=' instead of '='? (1244254050.py, line 1)",
     "output_type": "error",
     "traceback": [
      "  \u001b[36mCell\u001b[39m\u001b[36m \u001b[39m\u001b[32mIn[32]\u001b[39m\u001b[32m, line 1\u001b[39m\n\u001b[31m    \u001b[39m\u001b[31m(python = 3.12)+0.01\u001b[39m\n     ^\n\u001b[31mSyntaxError\u001b[39m\u001b[31m:\u001b[39m invalid syntax. Maybe you meant '==' or ':=' instead of '='?\n"
     ]
    }
   ],
   "source": [
    "(python = 3.12)+0.01"
   ]
  },
  {
   "cell_type": "code",
   "execution_count": 30,
   "id": "ce173c88-20ad-45f4-90be-4d1e8a4b7440",
   "metadata": {},
   "outputs": [
    {
     "data": {
      "text/plain": [
       "3.13"
      ]
     },
     "execution_count": 30,
     "metadata": {},
     "output_type": "execute_result"
    }
   ],
   "source": [
    "(python := 3.12)+0.01"
   ]
  },
  {
   "cell_type": "code",
   "execution_count": 31,
   "id": "525a75e9-8cd2-4268-8c7e-f659e89625ac",
   "metadata": {},
   "outputs": [
    {
     "data": {
      "text/plain": [
       "3.12"
      ]
     },
     "execution_count": 31,
     "metadata": {},
     "output_type": "execute_result"
    }
   ],
   "source": [
    "python"
   ]
  },
  {
   "cell_type": "code",
   "execution_count": 33,
   "id": "8620d5a8-1053-4a6e-b659-1221d92b2c6b",
   "metadata": {},
   "outputs": [],
   "source": [
    "a = \"hack\" * (b := 2)"
   ]
  },
  {
   "cell_type": "code",
   "execution_count": 34,
   "id": "b3844762-861f-451a-b652-9fbcfb741a59",
   "metadata": {},
   "outputs": [
    {
     "data": {
      "text/plain": [
       "'hackhack'"
      ]
     },
     "execution_count": 34,
     "metadata": {},
     "output_type": "execute_result"
    }
   ],
   "source": [
    "a"
   ]
  },
  {
   "cell_type": "code",
   "execution_count": 35,
   "id": "9c3243e5-615a-417e-bade-1b6f023fc2a0",
   "metadata": {},
   "outputs": [
    {
     "data": {
      "text/plain": [
       "2"
      ]
     },
     "execution_count": 35,
     "metadata": {},
     "output_type": "execute_result"
    }
   ],
   "source": [
    "b"
   ]
  },
  {
   "cell_type": "code",
   "execution_count": 36,
   "id": "e6e6237b-1876-412a-aa73-7ff22678bef6",
   "metadata": {},
   "outputs": [
    {
     "name": "stdout",
     "output_type": "stream",
     "text": [
      "Toplam: 12\n"
     ]
    }
   ],
   "source": [
    "print(\"Toplam:\", toplam := 5+7)"
   ]
  },
  {
   "cell_type": "code",
   "execution_count": 37,
   "id": "e520b39e-40cd-4456-bdf7-14000491a0d0",
   "metadata": {},
   "outputs": [
    {
     "data": {
      "text/plain": [
       "12"
      ]
     },
     "execution_count": 37,
     "metadata": {},
     "output_type": "execute_result"
    }
   ],
   "source": [
    "toplam"
   ]
  },
  {
   "cell_type": "code",
   "execution_count": 38,
   "id": "11ec24a8-b9b1-4236-b1d5-bef5b2aaae4c",
   "metadata": {},
   "outputs": [],
   "source": [
    "a = b = c =\"elma\""
   ]
  },
  {
   "cell_type": "code",
   "execution_count": 39,
   "id": "42d42485-54eb-4c8b-b292-f758ebd25fb9",
   "metadata": {},
   "outputs": [
    {
     "data": {
      "text/plain": [
       "'elma'"
      ]
     },
     "execution_count": 39,
     "metadata": {},
     "output_type": "execute_result"
    }
   ],
   "source": [
    "a"
   ]
  },
  {
   "cell_type": "code",
   "execution_count": 40,
   "id": "c642f336-e93c-4c8c-a3b9-7ed06e7cea22",
   "metadata": {},
   "outputs": [
    {
     "data": {
      "text/plain": [
       "'elma'"
      ]
     },
     "execution_count": 40,
     "metadata": {},
     "output_type": "execute_result"
    }
   ],
   "source": [
    "b"
   ]
  },
  {
   "cell_type": "code",
   "execution_count": 41,
   "id": "c6bfde26-9393-4f51-9781-d6c5a533a170",
   "metadata": {},
   "outputs": [
    {
     "data": {
      "text/plain": [
       "'elma'"
      ]
     },
     "execution_count": 41,
     "metadata": {},
     "output_type": "execute_result"
    }
   ],
   "source": [
    "c"
   ]
  },
  {
   "cell_type": "markdown",
   "id": "34be5ed9-62fe-4735-a6a2-d7431c00f689",
   "metadata": {},
   "source": [
    "# Değişkenleri İsimlendirme"
   ]
  },
  {
   "cell_type": "code",
   "execution_count": 42,
   "id": "338a02b2-e173-4918-a578-0ae77ef15aba",
   "metadata": {},
   "outputs": [],
   "source": [
    "sayi = 5"
   ]
  },
  {
   "cell_type": "code",
   "execution_count": 43,
   "id": "524b2289-e3a9-49d0-b0ef-5af8203268ba",
   "metadata": {},
   "outputs": [
    {
     "data": {
      "text/plain": [
       "5"
      ]
     },
     "execution_count": 43,
     "metadata": {},
     "output_type": "execute_result"
    }
   ],
   "source": [
    "sayi"
   ]
  },
  {
   "cell_type": "code",
   "execution_count": 44,
   "id": "20463bea-3f7a-4825-96e1-7c4cb1363bea",
   "metadata": {},
   "outputs": [
    {
     "ename": "SyntaxError",
     "evalue": "invalid decimal literal (827768757.py, line 1)",
     "output_type": "error",
     "traceback": [
      "  \u001b[36mCell\u001b[39m\u001b[36m \u001b[39m\u001b[32mIn[44]\u001b[39m\u001b[32m, line 1\u001b[39m\n\u001b[31m    \u001b[39m\u001b[31m2sayi = 5\u001b[39m\n    ^\n\u001b[31mSyntaxError\u001b[39m\u001b[31m:\u001b[39m invalid decimal literal\n"
     ]
    }
   ],
   "source": [
    "2sayi = 5"
   ]
  },
  {
   "cell_type": "code",
   "execution_count": 45,
   "id": "bcd8b07b-4f8f-442d-9ae4-8f9d9780d0d7",
   "metadata": {},
   "outputs": [],
   "source": [
    "ç = 10"
   ]
  },
  {
   "cell_type": "code",
   "execution_count": 46,
   "id": "d8131545-4c9f-4a04-b188-6acb399943b3",
   "metadata": {},
   "outputs": [
    {
     "data": {
      "text/plain": [
       "10"
      ]
     },
     "execution_count": 46,
     "metadata": {},
     "output_type": "execute_result"
    }
   ],
   "source": [
    "ç"
   ]
  },
  {
   "cell_type": "code",
   "execution_count": 47,
   "id": "611d6765-5018-483e-9785-b5df3caae566",
   "metadata": {},
   "outputs": [
    {
     "data": {
      "text/plain": [
       "65"
      ]
     },
     "execution_count": 47,
     "metadata": {},
     "output_type": "execute_result"
    }
   ],
   "source": [
    "ord(\"A\")"
   ]
  },
  {
   "cell_type": "code",
   "execution_count": 48,
   "id": "a6bcfc3b-27e5-4e41-9f67-9bce65eef373",
   "metadata": {},
   "outputs": [
    {
     "data": {
      "text/plain": [
       "97"
      ]
     },
     "execution_count": 48,
     "metadata": {},
     "output_type": "execute_result"
    }
   ],
   "source": [
    "ord(\"a\")"
   ]
  },
  {
   "cell_type": "code",
   "execution_count": 49,
   "id": "69b8b7bd-000a-4d89-a55b-ac44c96c54cd",
   "metadata": {},
   "outputs": [
    {
     "data": {
      "text/plain": [
       "231"
      ]
     },
     "execution_count": 49,
     "metadata": {},
     "output_type": "execute_result"
    }
   ],
   "source": [
    "ord(\"ç\")"
   ]
  },
  {
   "cell_type": "code",
   "execution_count": 50,
   "id": "922f583a-4a92-462e-8c22-3669f22d40f8",
   "metadata": {},
   "outputs": [
    {
     "data": {
      "text/plain": [
       "128522"
      ]
     },
     "execution_count": 50,
     "metadata": {},
     "output_type": "execute_result"
    }
   ],
   "source": [
    "ord(\"😊\")"
   ]
  },
  {
   "cell_type": "code",
   "execution_count": 51,
   "id": "26f68196-d54b-483f-abbe-345d66eac564",
   "metadata": {},
   "outputs": [
    {
     "data": {
      "text/plain": [
       "'ç'"
      ]
     },
     "execution_count": 51,
     "metadata": {},
     "output_type": "execute_result"
    }
   ],
   "source": [
    "chr(231)"
   ]
  },
  {
   "cell_type": "markdown",
   "id": "55478952-d648-495a-b1e1-a1ce3ac04153",
   "metadata": {},
   "source": [
    "isim İsim ISIM"
   ]
  },
  {
   "cell_type": "markdown",
   "id": "7c7096d9-b2f9-4542-8bc3-f043297159d4",
   "metadata": {},
   "source": [
    "class, if, else, for, while, def, return, try, except, and, or, not, True, False, None, ..."
   ]
  },
  {
   "cell_type": "markdown",
   "id": "550f6a45-87a0-42b3-85fb-8df074d44352",
   "metadata": {},
   "source": [
    "__isim__"
   ]
  },
  {
   "cell_type": "code",
   "execution_count": null,
   "id": "d5e1e1ae-3d00-4b9f-8a26-fbd5c56cfbec",
   "metadata": {},
   "outputs": [],
   "source": [
    "__init__"
   ]
  },
  {
   "cell_type": "code",
   "execution_count": 53,
   "id": "c6f7fb00-9caf-4335-879b-20b3487eeb88",
   "metadata": {},
   "outputs": [],
   "source": [
    "x = 10"
   ]
  },
  {
   "cell_type": "code",
   "execution_count": 54,
   "id": "cb61567e-4e70-42f6-830d-0bb7ab05db8d",
   "metadata": {},
   "outputs": [],
   "source": [
    "x = \"merhaba\""
   ]
  },
  {
   "cell_type": "code",
   "execution_count": 55,
   "id": "c71e3c22-0f42-4388-af09-476d139b0fdc",
   "metadata": {},
   "outputs": [],
   "source": [
    "x = [1,2,3]"
   ]
  },
  {
   "cell_type": "code",
   "execution_count": 56,
   "id": "ea2bb1e4-546c-4c25-998b-f8ed2206d855",
   "metadata": {},
   "outputs": [],
   "source": [
    "_sifre = 1234"
   ]
  },
  {
   "cell_type": "code",
   "execution_count": 57,
   "id": "f5dc898a-12f1-4f23-b61d-8370e8052d61",
   "metadata": {},
   "outputs": [
    {
     "data": {
      "text/plain": [
       "1234"
      ]
     },
     "execution_count": 57,
     "metadata": {},
     "output_type": "execute_result"
    }
   ],
   "source": [
    "_sifre"
   ]
  },
  {
   "cell_type": "code",
   "execution_count": 58,
   "id": "37a094ce-ee34-455a-84d7-0e421dbfa5d3",
   "metadata": {},
   "outputs": [],
   "source": [
    "def hesapla(): \n",
    "    _sifre = \"1234\"\n",
    "    topla = 5+3\n",
    "    return topla*7"
   ]
  },
  {
   "cell_type": "code",
   "execution_count": 59,
   "id": "d76985d9-1f41-4c2d-9b8d-5f8b1a527531",
   "metadata": {},
   "outputs": [
    {
     "data": {
      "text/plain": [
       "7"
      ]
     },
     "execution_count": 59,
     "metadata": {},
     "output_type": "execute_result"
    }
   ],
   "source": [
    "3 + 4 "
   ]
  },
  {
   "cell_type": "code",
   "execution_count": 60,
   "id": "527f2e5a-51f6-4a03-b14b-5f6be58c64f1",
   "metadata": {},
   "outputs": [
    {
     "data": {
      "text/plain": [
       "35"
      ]
     },
     "execution_count": 60,
     "metadata": {},
     "output_type": "execute_result"
    }
   ],
   "source": [
    "_ * 5"
   ]
  },
  {
   "cell_type": "code",
   "execution_count": 61,
   "id": "c17bc392-f455-4cf1-871b-5783128d50b4",
   "metadata": {},
   "outputs": [
    {
     "data": {
      "text/plain": [
       "7"
      ]
     },
     "execution_count": 61,
     "metadata": {},
     "output_type": "execute_result"
    }
   ],
   "source": [
    "3 + 4"
   ]
  },
  {
   "cell_type": "code",
   "execution_count": 65,
   "id": "c5b15ca1-418c-422e-9592-b4804bff52f1",
   "metadata": {},
   "outputs": [
    {
     "data": {
      "text/plain": [
       "'heyheyheyheyheyheyheyheyheyheyheyheyheyheyheyheyheyheyheyheyheyheyheyheyheyheyheyheyheyhey'"
      ]
     },
     "execution_count": 65,
     "metadata": {},
     "output_type": "execute_result"
    }
   ],
   "source": [
    "_ * 5"
   ]
  },
  {
   "cell_type": "code",
   "execution_count": 63,
   "id": "1b8ab5c7-635d-4adc-9d7e-bb9096694ef9",
   "metadata": {},
   "outputs": [
    {
     "data": {
      "text/plain": [
       "'heyheyhey'"
      ]
     },
     "execution_count": 63,
     "metadata": {},
     "output_type": "execute_result"
    }
   ],
   "source": [
    "\"hey\" * 3"
   ]
  },
  {
   "cell_type": "code",
   "execution_count": 64,
   "id": "e28d6aab-baab-4fc3-8699-a546c06c96cf",
   "metadata": {},
   "outputs": [
    {
     "data": {
      "text/plain": [
       "'heyheyheyheyheyhey'"
      ]
     },
     "execution_count": 64,
     "metadata": {},
     "output_type": "execute_result"
    }
   ],
   "source": [
    "_ * 2"
   ]
  },
  {
   "cell_type": "code",
   "execution_count": 66,
   "id": "058718a3-dfe8-42e7-a0c7-3f41ee400f69",
   "metadata": {},
   "outputs": [
    {
     "data": {
      "text/plain": [
       "6"
      ]
     },
     "execution_count": 66,
     "metadata": {},
     "output_type": "execute_result"
    }
   ],
   "source": [
    "2 * 3"
   ]
  },
  {
   "cell_type": "code",
   "execution_count": 70,
   "id": "f2ddd1b9-1641-4554-a2c0-017e9fc8e548",
   "metadata": {},
   "outputs": [
    {
     "data": {
      "text/plain": [
       "26"
      ]
     },
     "execution_count": 70,
     "metadata": {},
     "output_type": "execute_result"
    }
   ],
   "source": [
    "_ + 5"
   ]
  },
  {
   "cell_type": "code",
   "execution_count": null,
   "id": "2edb011b-bf9e-45a5-8057-4fad13ebe525",
   "metadata": {},
   "outputs": [],
   "source": []
  }
 ],
 "metadata": {
  "kernelspec": {
   "display_name": "Python 3 (ipykernel)",
   "language": "python",
   "name": "python3"
  },
  "language_info": {
   "codemirror_mode": {
    "name": "ipython",
    "version": 3
   },
   "file_extension": ".py",
   "mimetype": "text/x-python",
   "name": "python",
   "nbconvert_exporter": "python",
   "pygments_lexer": "ipython3",
   "version": "3.12.2"
  }
 },
 "nbformat": 4,
 "nbformat_minor": 5
}
