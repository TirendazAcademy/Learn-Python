{
 "cells": [
  {
   "cell_type": "markdown",
   "id": "7bba56ba-9350-4501-8236-9f139e8880ef",
   "metadata": {},
   "source": [
    "# İnput Fonksiyonu"
   ]
  },
  {
   "cell_type": "code",
   "execution_count": 1,
   "id": "48eb0714-b5e1-40ce-ba2c-ad66f913efa5",
   "metadata": {},
   "outputs": [
    {
     "name": "stdin",
     "output_type": "stream",
     "text": [
      "işin nedir?  python-dev\n"
     ]
    }
   ],
   "source": [
    "job = input(\"işin nedir? \")"
   ]
  },
  {
   "cell_type": "code",
   "execution_count": 2,
   "id": "e906719d-9f9c-486d-b714-d7990a767b35",
   "metadata": {},
   "outputs": [
    {
     "data": {
      "text/plain": [
       "'python-dev'"
      ]
     },
     "execution_count": 2,
     "metadata": {},
     "output_type": "execute_result"
    }
   ],
   "source": [
    "job"
   ]
  },
  {
   "cell_type": "code",
   "execution_count": 4,
   "id": "dd8a80a9-dac1-475a-b50c-764fd2226348",
   "metadata": {},
   "outputs": [
    {
     "name": "stdin",
     "output_type": "stream",
     "text": [
      "Adın ne:  Eda\n"
     ]
    },
    {
     "name": "stdout",
     "output_type": "stream",
     "text": [
      "Merhaba, Eda hoşgeldin!\n"
     ]
    }
   ],
   "source": [
    "name = input(\"Adın ne: \")\n",
    "print(\"Merhaba, \" + name + \" hoşgeldin!\")"
   ]
  },
  {
   "cell_type": "code",
   "execution_count": 5,
   "id": "fbf41258-efec-4536-815b-33c72a1ce44b",
   "metadata": {},
   "outputs": [
    {
     "name": "stdin",
     "output_type": "stream",
     "text": [
      "Yaşın kaç? 25\n"
     ]
    }
   ],
   "source": [
    "age = input(\"Yaşın kaç?\")"
   ]
  },
  {
   "cell_type": "code",
   "execution_count": 6,
   "id": "f4d84230-1973-44da-bc9c-518b20099893",
   "metadata": {},
   "outputs": [
    {
     "data": {
      "text/plain": [
       "'25'"
      ]
     },
     "execution_count": 6,
     "metadata": {},
     "output_type": "execute_result"
    }
   ],
   "source": [
    "age"
   ]
  },
  {
   "cell_type": "code",
   "execution_count": 7,
   "id": "723b8a2a-f8d6-49c1-9c44-ea4cb555f30e",
   "metadata": {},
   "outputs": [
    {
     "data": {
      "text/plain": [
       "str"
      ]
     },
     "execution_count": 7,
     "metadata": {},
     "output_type": "execute_result"
    }
   ],
   "source": [
    "type(age)"
   ]
  },
  {
   "cell_type": "code",
   "execution_count": 8,
   "id": "a0c16d89-83a9-4bc7-8199-aaeca8a3c265",
   "metadata": {},
   "outputs": [
    {
     "name": "stdin",
     "output_type": "stream",
     "text": [
      "Yaşın kaç: 25\n"
     ]
    }
   ],
   "source": [
    "age = int(input(\"Yaşın kaç:\"))"
   ]
  },
  {
   "cell_type": "code",
   "execution_count": 9,
   "id": "814c8dec-538c-4c66-848b-8157bfaa1d9c",
   "metadata": {},
   "outputs": [
    {
     "data": {
      "text/plain": [
       "50"
      ]
     },
     "execution_count": 9,
     "metadata": {},
     "output_type": "execute_result"
    }
   ],
   "source": [
    "age * 2"
   ]
  },
  {
   "cell_type": "code",
   "execution_count": 10,
   "id": "7a2e66cb-806f-4fe2-a942-4409e156e5b5",
   "metadata": {},
   "outputs": [
    {
     "name": "stdin",
     "output_type": "stream",
     "text": [
      "Bir değer gir: 3.15\n"
     ]
    }
   ],
   "source": [
    "fiyat = input(\"Bir değer gir:\")"
   ]
  },
  {
   "cell_type": "code",
   "execution_count": 11,
   "id": "c33542c7-d70a-4233-8919-0749aa052772",
   "metadata": {},
   "outputs": [
    {
     "data": {
      "text/plain": [
       "'3.15'"
      ]
     },
     "execution_count": 11,
     "metadata": {},
     "output_type": "execute_result"
    }
   ],
   "source": [
    "fiyat"
   ]
  },
  {
   "cell_type": "code",
   "execution_count": 12,
   "id": "a2413de4-2e0e-4bc0-b9ad-792c905682ac",
   "metadata": {},
   "outputs": [
    {
     "data": {
      "text/plain": [
       "'3.153.15'"
      ]
     },
     "execution_count": 12,
     "metadata": {},
     "output_type": "execute_result"
    }
   ],
   "source": [
    "fiyat * 2"
   ]
  },
  {
   "cell_type": "code",
   "execution_count": 13,
   "id": "df90d4eb-492a-4c47-8baa-2a5ed7f6a697",
   "metadata": {},
   "outputs": [
    {
     "name": "stdin",
     "output_type": "stream",
     "text": [
      "Bir değer gir: 3.15\n"
     ]
    }
   ],
   "source": [
    "fiyat = float(input(\"Bir değer gir:\"))"
   ]
  },
  {
   "cell_type": "code",
   "execution_count": 14,
   "id": "309f88d8-5b1d-454f-955b-9fca2b20fdf3",
   "metadata": {},
   "outputs": [
    {
     "data": {
      "text/plain": [
       "3.15"
      ]
     },
     "execution_count": 14,
     "metadata": {},
     "output_type": "execute_result"
    }
   ],
   "source": [
    "fiyat"
   ]
  },
  {
   "cell_type": "code",
   "execution_count": 15,
   "id": "4ba3667d-3200-420e-9c45-22eabbee4457",
   "metadata": {},
   "outputs": [
    {
     "data": {
      "text/plain": [
       "6.3"
      ]
     },
     "execution_count": 15,
     "metadata": {},
     "output_type": "execute_result"
    }
   ],
   "source": [
    "fiyat * 2"
   ]
  },
  {
   "cell_type": "code",
   "execution_count": 16,
   "id": "6fa2ce6b-cb54-4064-9237-63354a20561f",
   "metadata": {},
   "outputs": [
    {
     "name": "stdin",
     "output_type": "stream",
     "text": [
      "Bir değer gir:  15\n"
     ]
    }
   ],
   "source": [
    "liste = list(input(\"Bir değer gir: \"))"
   ]
  },
  {
   "cell_type": "code",
   "execution_count": 17,
   "id": "0b418d5f-f34e-413c-9e74-0e834402fd48",
   "metadata": {},
   "outputs": [
    {
     "data": {
      "text/plain": [
       "['1', '5']"
      ]
     },
     "execution_count": 17,
     "metadata": {},
     "output_type": "execute_result"
    }
   ],
   "source": [
    "liste"
   ]
  },
  {
   "cell_type": "code",
   "execution_count": 18,
   "id": "4957da5d-291f-4f6d-ac54-33259dd9239a",
   "metadata": {},
   "outputs": [
    {
     "name": "stdin",
     "output_type": "stream",
     "text": [
      "Enter your name:  Ali\n"
     ]
    },
    {
     "name": "stdout",
     "output_type": "stream",
     "text": [
      "Hello Ali\n"
     ]
    }
   ],
   "source": [
    "name = input(\"Enter your name: \")\n",
    "print(f\"Hello {name}\")"
   ]
  },
  {
   "cell_type": "code",
   "execution_count": 19,
   "id": "8031d785-92da-4077-8f0f-ef43f435aa02",
   "metadata": {},
   "outputs": [
    {
     "name": "stdin",
     "output_type": "stream",
     "text": [
      "Bir sayı gir: 15\n"
     ]
    },
    {
     "name": "stdout",
     "output_type": "stream",
     "text": [
      "15 sayısının karekökü: 3.872983346207417\n"
     ]
    }
   ],
   "source": [
    "x = input(\"Bir sayı gir:\")\n",
    "\n",
    "import math \n",
    "\n",
    "y = math.sqrt(float(x))\n",
    "\n",
    "print(f\"{x} sayısının karekökü: {y}\")"
   ]
  },
  {
   "cell_type": "code",
   "execution_count": 22,
   "id": "b4810217-65ac-4bfd-91f1-302e36bb35f8",
   "metadata": {},
   "outputs": [
    {
     "name": "stdin",
     "output_type": "stream",
     "text": [
      "Bir sayı gir: 15\n"
     ]
    },
    {
     "name": "stdout",
     "output_type": "stream",
     "text": [
      "15 sayısının karekökü: 3.87\n"
     ]
    }
   ],
   "source": [
    "x = input(\"Bir sayı gir:\")\n",
    "\n",
    "import math \n",
    "\n",
    "y = math.sqrt(float(x))\n",
    "\n",
    "print(f\"{x} sayısının karekökü: {y:.2f}\")"
   ]
  },
  {
   "cell_type": "code",
   "execution_count": 28,
   "id": "4ce88348-7786-4986-a53d-5da0d1f399ee",
   "metadata": {},
   "outputs": [
    {
     "name": "stdin",
     "output_type": "stream",
     "text": [
      "Kız ve erkeklerin sayısını sırayla gir:  15 20\n"
     ]
    }
   ],
   "source": [
    "x, y = input(\"Kız ve erkeklerin sayısını sırayla gir: \").split()"
   ]
  },
  {
   "cell_type": "code",
   "execution_count": 29,
   "id": "1c9a8346-1c1b-44c6-90d5-f2d829cba485",
   "metadata": {},
   "outputs": [],
   "source": [
    "x = int(x)"
   ]
  },
  {
   "cell_type": "code",
   "execution_count": 30,
   "id": "be6a38dc-5bcd-4df2-a8dd-8a12850cd3a0",
   "metadata": {},
   "outputs": [
    {
     "data": {
      "text/plain": [
       "15"
      ]
     },
     "execution_count": 30,
     "metadata": {},
     "output_type": "execute_result"
    }
   ],
   "source": [
    "x"
   ]
  },
  {
   "cell_type": "code",
   "execution_count": 31,
   "id": "d4cfd455-529e-41d8-ae2e-4906722d5c77",
   "metadata": {},
   "outputs": [
    {
     "data": {
      "text/plain": [
       "int"
      ]
     },
     "execution_count": 31,
     "metadata": {},
     "output_type": "execute_result"
    }
   ],
   "source": [
    "type(x)"
   ]
  },
  {
   "cell_type": "code",
   "execution_count": 32,
   "id": "6fb8e7b3-7ed9-40b8-a015-dac310545163",
   "metadata": {},
   "outputs": [
    {
     "data": {
      "text/plain": [
       "str"
      ]
     },
     "execution_count": 32,
     "metadata": {},
     "output_type": "execute_result"
    }
   ],
   "source": [
    "type(y)"
   ]
  },
  {
   "cell_type": "code",
   "execution_count": 33,
   "id": "1938385d-e5b3-4f65-9dbe-36ea4b28c14c",
   "metadata": {},
   "outputs": [
    {
     "data": {
      "text/plain": [
       "20"
      ]
     },
     "execution_count": 33,
     "metadata": {},
     "output_type": "execute_result"
    }
   ],
   "source": [
    "y = int(y)\n",
    "y"
   ]
  },
  {
   "cell_type": "markdown",
   "id": "10f3a52c-f07b-45e9-ad1f-391ff34d5a45",
   "metadata": {},
   "source": [
    "# Uygulama"
   ]
  },
  {
   "cell_type": "code",
   "execution_count": 34,
   "id": "4c842575-4515-45ec-a968-5a9965bfef2e",
   "metadata": {},
   "outputs": [
    {
     "name": "stdin",
     "output_type": "stream",
     "text": [
      "Boşluklarala ayrılmış kelimeleri girin:  elma armut karpuz\n"
     ]
    },
    {
     "name": "stdout",
     "output_type": "stream",
     "text": [
      "{'elma': 4, 'armut': 5, 'karpuz': 6}\n"
     ]
    }
   ],
   "source": [
    "words_str = input(\"Boşluklarala ayrılmış kelimeleri girin: \")\n",
    "\n",
    "words = {word : len(word) for word in words_str.split()}\n",
    "\n",
    "print(words)"
   ]
  },
  {
   "cell_type": "code",
   "execution_count": 46,
   "id": "9c72b83a-1a38-4f81-953b-98329d9ea062",
   "metadata": {},
   "outputs": [
    {
     "name": "stdin",
     "output_type": "stream",
     "text": [
      "Boşluklarala ayrılmış kelimeleri girin:  elma armut kiraz\n"
     ]
    },
    {
     "name": "stdout",
     "output_type": "stream",
     "text": [
      "{'elma': 4, 'armut': 5, 'kiraz': 5}\n"
     ]
    }
   ],
   "source": [
    "words_str = input(\"Boşluklarala ayrılmış kelimeleri girin: \")\n",
    "\n",
    "words = {}\n",
    "\n",
    "for word in words_str.split():\n",
    "    words.update({word: len(word)})\n",
    "\n",
    "print(words)"
   ]
  },
  {
   "cell_type": "code",
   "execution_count": 35,
   "id": "9d049ad1-0f89-4025-8516-9fcc600b02fa",
   "metadata": {},
   "outputs": [
    {
     "name": "stdout",
     "output_type": "stream",
     "text": [
      "elma\n",
      "armut\n",
      "karpuz\n"
     ]
    }
   ],
   "source": [
    "for word in words_str.split():\n",
    "    print(word)"
   ]
  },
  {
   "cell_type": "code",
   "execution_count": 36,
   "id": "7a07d4ac-dfbd-4b03-a8e4-75823c789912",
   "metadata": {},
   "outputs": [
    {
     "name": "stdout",
     "output_type": "stream",
     "text": [
      "{'elma': 4}\n",
      "{'armut': 5}\n",
      "{'karpuz': 6}\n"
     ]
    }
   ],
   "source": [
    "for word in words_str.split():\n",
    "    x = []\n",
    "    print({word:len(word)})"
   ]
  },
  {
   "cell_type": "code",
   "execution_count": 37,
   "id": "dc10cb02-cd0f-45a9-b0ff-dbec25fc2138",
   "metadata": {},
   "outputs": [
    {
     "data": {
      "text/plain": [
       "[2, 3, 5, 9]"
      ]
     },
     "execution_count": 37,
     "metadata": {},
     "output_type": "execute_result"
    }
   ],
   "source": [
    "sayilar = [5, 3, 9, 2]\n",
    "sayilar_sirali = sorted(sayilar)\n",
    "sayilar_sirali"
   ]
  },
  {
   "cell_type": "code",
   "execution_count": 38,
   "id": "bd89a070-9a19-4e68-a98a-e3d88fe74ab3",
   "metadata": {},
   "outputs": [
    {
     "data": {
      "text/plain": [
       "['h', 'n', 'o', 'p', 't', 'y']"
      ]
     },
     "execution_count": 38,
     "metadata": {},
     "output_type": "execute_result"
    }
   ],
   "source": [
    "kelime = \"python\"\n",
    "kelime_sirali  = sorted(kelime)\n",
    "kelime_sirali"
   ]
  },
  {
   "cell_type": "code",
   "execution_count": 39,
   "id": "e1cc4d57-3fa7-441f-9064-85e77fe3b7a5",
   "metadata": {},
   "outputs": [
    {
     "data": {
      "text/plain": [
       "['Ahmet', 'Ayşe', 'Mehmet', 'Zeynep']"
      ]
     },
     "execution_count": 39,
     "metadata": {},
     "output_type": "execute_result"
    }
   ],
   "source": [
    "isimler = [\"Zeynep\", \"Ahmet\", \"Mehmet\", \"Ayşe\"]\n",
    "isimler_sirali = sorted(isimler)\n",
    "isimler_sirali"
   ]
  },
  {
   "cell_type": "code",
   "execution_count": 40,
   "id": "dcbd174f-a432-43f0-9eb3-be0c3072f742",
   "metadata": {},
   "outputs": [
    {
     "data": {
      "text/plain": [
       "65"
      ]
     },
     "execution_count": 40,
     "metadata": {},
     "output_type": "execute_result"
    }
   ],
   "source": [
    "ord(\"A\")"
   ]
  },
  {
   "cell_type": "code",
   "execution_count": 41,
   "id": "0239640f-a350-4686-92b8-549783db2e49",
   "metadata": {},
   "outputs": [
    {
     "data": {
      "text/plain": [
       "77"
      ]
     },
     "execution_count": 41,
     "metadata": {},
     "output_type": "execute_result"
    }
   ],
   "source": [
    "ord(\"M\")"
   ]
  },
  {
   "cell_type": "code",
   "execution_count": 42,
   "id": "cf72c5f9-02b3-4f27-a01d-bd35eb5c4818",
   "metadata": {},
   "outputs": [
    {
     "data": {
      "text/plain": [
       "90"
      ]
     },
     "execution_count": 42,
     "metadata": {},
     "output_type": "execute_result"
    }
   ],
   "source": [
    "ord(\"Z\")"
   ]
  },
  {
   "cell_type": "code",
   "execution_count": 43,
   "id": "4f9913be-2bdb-4a61-bce9-8754a1831786",
   "metadata": {},
   "outputs": [
    {
     "data": {
      "text/plain": [
       "['kiraz', 'muz', 'elma']"
      ]
     },
     "execution_count": 43,
     "metadata": {},
     "output_type": "execute_result"
    }
   ],
   "source": [
    "meyveler = [\"elma\", \"muz\", \"kiraz\"]\n",
    "ters = list(reversed(meyveler))\n",
    "ters"
   ]
  },
  {
   "cell_type": "code",
   "execution_count": 47,
   "id": "8d0f519c-b7ff-4576-81ab-37b3bc0285b6",
   "metadata": {},
   "outputs": [
    {
     "name": "stdout",
     "output_type": "stream",
     "text": [
      "0 elma\n",
      "1 muz\n",
      "2 kiraz\n"
     ]
    }
   ],
   "source": [
    "meyveler = [\"elma\", \"muz\", \"kiraz\"]\n",
    "\n",
    "for i, meyve in enumerate(meyveler):\n",
    "    print(i, meyve)"
   ]
  },
  {
   "cell_type": "code",
   "execution_count": 48,
   "id": "ec56fbfe-0322-43eb-9f6b-c1e94e144e01",
   "metadata": {},
   "outputs": [
    {
     "name": "stdout",
     "output_type": "stream",
     "text": [
      "1 elma\n",
      "2 muz\n",
      "3 kiraz\n"
     ]
    }
   ],
   "source": [
    "meyveler = [\"elma\", \"muz\", \"kiraz\"]\n",
    "\n",
    "for i, meyve in enumerate(meyveler, start=1):\n",
    "    print(i, meyve)"
   ]
  },
  {
   "cell_type": "code",
   "execution_count": 49,
   "id": "2d53c78e-c3e3-4d29-a58f-ee8094f1f742",
   "metadata": {},
   "outputs": [
    {
     "name": "stdout",
     "output_type": "stream",
     "text": [
      "[('Ali', 25), ('Ayşe', 22), ('Mehmet', 30)]\n"
     ]
    }
   ],
   "source": [
    "isimler = [\"Ali\", \"Ayşe\", \"Mehmet\"]\n",
    "yaslar = [25,22,30]\n",
    "sonuc = zip(isimler, yaslar)\n",
    "print(list(sonuc))"
   ]
  },
  {
   "cell_type": "code",
   "execution_count": 50,
   "id": "9e7dcff7-ba76-4a96-b73a-49798478e2f5",
   "metadata": {},
   "outputs": [
    {
     "name": "stdout",
     "output_type": "stream",
     "text": [
      "[('Ali', 25), ('Ayşe', 22), ('Mehmet', 30)]\n"
     ]
    }
   ],
   "source": [
    "isimler = [\"Ali\", \"Ayşe\", \"Mehmet\", \"Kemal\"]\n",
    "yaslar = [25,22,30]\n",
    "sonuc = zip(isimler, yaslar)\n",
    "print(list(sonuc))"
   ]
  },
  {
   "cell_type": "code",
   "execution_count": 51,
   "id": "fddfca74-ea4d-4634-9d54-852492b4909b",
   "metadata": {},
   "outputs": [
    {
     "data": {
      "text/plain": [
       "{'isim': 'Ahmet', 'yaş': 28}"
      ]
     },
     "execution_count": 51,
     "metadata": {},
     "output_type": "execute_result"
    }
   ],
   "source": [
    "anahtar = [\"isim\", \"yaş\"]\n",
    "degerler = [\"Ahmet\", 28]\n",
    "\n",
    "sozluk = dict(zip(anahtar, degerler))\n",
    "sozluk"
   ]
  },
  {
   "cell_type": "code",
   "execution_count": 52,
   "id": "257bd929-05a4-4bc9-ba09-fef2a8363474",
   "metadata": {},
   "outputs": [],
   "source": [
    "kare = lambda x: x*x"
   ]
  },
  {
   "cell_type": "code",
   "execution_count": 53,
   "id": "5f8d41b8-d8cd-4f90-82f5-58cfbf9bd5e6",
   "metadata": {},
   "outputs": [
    {
     "data": {
      "text/plain": [
       "9"
      ]
     },
     "execution_count": 53,
     "metadata": {},
     "output_type": "execute_result"
    }
   ],
   "source": [
    "kare(3)"
   ]
  },
  {
   "cell_type": "code",
   "execution_count": 54,
   "id": "4a562586-6a5e-4583-8656-cf5541b31335",
   "metadata": {},
   "outputs": [
    {
     "data": {
      "text/plain": [
       "144"
      ]
     },
     "execution_count": 54,
     "metadata": {},
     "output_type": "execute_result"
    }
   ],
   "source": [
    "kare(12)"
   ]
  },
  {
   "cell_type": "code",
   "execution_count": 55,
   "id": "c8d954c8-9d66-41d8-abd7-9f497e08721b",
   "metadata": {},
   "outputs": [
    {
     "data": {
      "text/plain": [
       "[4, 5]"
      ]
     },
     "execution_count": 55,
     "metadata": {},
     "output_type": "execute_result"
    }
   ],
   "source": [
    "list(filter(lambda x: x>3, [1,2,3,4,5]))"
   ]
  },
  {
   "cell_type": "code",
   "execution_count": 58,
   "id": "0751370b-a8c1-46cb-948e-72c41a9a9ec9",
   "metadata": {},
   "outputs": [
    {
     "data": {
      "text/plain": [
       "<map at 0x24c0ccde950>"
      ]
     },
     "execution_count": 58,
     "metadata": {},
     "output_type": "execute_result"
    }
   ],
   "source": [
    "map(lambda x: x*2, [1,2,3])"
   ]
  },
  {
   "cell_type": "code",
   "execution_count": 57,
   "id": "de22e0dd-7d24-4221-a3f6-668c6e00af24",
   "metadata": {},
   "outputs": [
    {
     "data": {
      "text/plain": [
       "[2, 4, 6]"
      ]
     },
     "execution_count": 57,
     "metadata": {},
     "output_type": "execute_result"
    }
   ],
   "source": [
    "list(map(lambda x: x*2, [1,2,3]))"
   ]
  },
  {
   "cell_type": "code",
   "execution_count": 59,
   "id": "776cca37-d9bd-4561-af15-7527014cc997",
   "metadata": {},
   "outputs": [
    {
     "name": "stdout",
     "output_type": "stream",
     "text": [
      "<map object at 0x0000024C0CCDC790>\n"
     ]
    }
   ],
   "source": [
    "print(map(lambda x: x*2, [1,2,3]))"
   ]
  },
  {
   "cell_type": "code",
   "execution_count": 60,
   "id": "1c50a4b1-c019-41d9-8211-ab1473061928",
   "metadata": {},
   "outputs": [
    {
     "data": {
      "text/plain": [
       "'2+3'"
      ]
     },
     "execution_count": 60,
     "metadata": {},
     "output_type": "execute_result"
    }
   ],
   "source": [
    "\"2+3\""
   ]
  },
  {
   "cell_type": "code",
   "execution_count": 61,
   "id": "741c9103-875e-4746-98d6-3bd15a181e1e",
   "metadata": {},
   "outputs": [
    {
     "data": {
      "text/plain": [
       "5"
      ]
     },
     "execution_count": 61,
     "metadata": {},
     "output_type": "execute_result"
    }
   ],
   "source": [
    "eval(\"2+3\")"
   ]
  },
  {
   "cell_type": "code",
   "execution_count": 62,
   "id": "7e8a94fa-0129-4699-9f1f-198912d6386e",
   "metadata": {},
   "outputs": [
    {
     "data": {
      "text/plain": [
       "'x * 10'"
      ]
     },
     "execution_count": 62,
     "metadata": {},
     "output_type": "execute_result"
    }
   ],
   "source": [
    "\"x * 10\""
   ]
  },
  {
   "cell_type": "code",
   "execution_count": 64,
   "id": "2f3a4744-33dc-4f7a-8cf4-76a002fc65f3",
   "metadata": {},
   "outputs": [
    {
     "data": {
      "text/plain": [
       "15"
      ]
     },
     "execution_count": 64,
     "metadata": {},
     "output_type": "execute_result"
    }
   ],
   "source": [
    "x"
   ]
  },
  {
   "cell_type": "code",
   "execution_count": 63,
   "id": "7a263490-8910-4db0-92dd-7fc07f622638",
   "metadata": {},
   "outputs": [
    {
     "data": {
      "text/plain": [
       "150"
      ]
     },
     "execution_count": 63,
     "metadata": {},
     "output_type": "execute_result"
    }
   ],
   "source": [
    "eval(\"x*10\")"
   ]
  },
  {
   "cell_type": "markdown",
   "id": "e1993020-ee0a-41a6-add8-3510c8dae7f0",
   "metadata": {},
   "source": [
    "# Uygulamalar"
   ]
  },
  {
   "cell_type": "code",
   "execution_count": 65,
   "id": "0abd5251-02c5-4a86-b04c-31e8f261d631",
   "metadata": {},
   "outputs": [
    {
     "name": "stdout",
     "output_type": "stream",
     "text": [
      "Santigrat derece cinsinden sıcaklık giriniz: \n"
     ]
    },
    {
     "name": "stdin",
     "output_type": "stream",
     "text": [
      " 35\n"
     ]
    },
    {
     "name": "stdout",
     "output_type": "stream",
     "text": [
      "Fahrenheit:  95.0\n",
      "Kelvin:  308.15\n"
     ]
    }
   ],
   "source": [
    "print(\"Santigrat derece cinsinden sıcaklık giriniz: \")\n",
    "c = input()\n",
    "c = float(c)\n",
    "f = ((c*9)/5) + 32\n",
    "k = c+273.15\n",
    "print(\"Fahrenheit: \", f)\n",
    "print(\"Kelvin: \", k)"
   ]
  },
  {
   "cell_type": "code",
   "execution_count": 66,
   "id": "97b0d5df-cab4-4fc6-a16c-72ccde62bf55",
   "metadata": {},
   "outputs": [
    {
     "name": "stdout",
     "output_type": "stream",
     "text": [
      "Santigrat derece cinsinden sıcaklık giriniz: \n"
     ]
    },
    {
     "name": "stdin",
     "output_type": "stream",
     "text": [
      " 33\n"
     ]
    },
    {
     "name": "stdout",
     "output_type": "stream",
     "text": [
      "Fahrenheit:  91.4\n",
      "Kelvin:  306.15\n"
     ]
    }
   ],
   "source": [
    "print(\"Santigrat derece cinsinden sıcaklık giriniz: \")\n",
    "c = input()\n",
    "c = float(c)\n",
    "f = ((c*9)/5) + 32\n",
    "k = c+273.15\n",
    "print(\"Fahrenheit: \", f)\n",
    "print(\"Kelvin: \", k)"
   ]
  },
  {
   "cell_type": "markdown",
   "id": "9e84912a-34d4-4807-8432-a5321c7d28d1",
   "metadata": {},
   "source": [
    "# 2. Dereceden Verilen Denklemin Köklerini Bulma"
   ]
  },
  {
   "cell_type": "code",
   "execution_count": 67,
   "id": "1e2da8ba-12d1-45ca-ae92-89184103eb32",
   "metadata": {},
   "outputs": [
    {
     "name": "stdout",
     "output_type": "stream",
     "text": [
      "2. dereceden denklem : ax^2+bx+c=0\n"
     ]
    },
    {
     "name": "stdin",
     "output_type": "stream",
     "text": [
      "a değerini girin:  1\n",
      "b değerini girin:  -3\n",
      "c değerini girin:  2\n"
     ]
    },
    {
     "name": "stdout",
     "output_type": "stream",
     "text": [
      "1. kök:  2.0\n",
      "2. kök:  1.0\n"
     ]
    }
   ],
   "source": [
    "import math\n",
    "\n",
    "print(\"2. dereceden denklem : ax^2+bx+c=0\")\n",
    "\n",
    "a = float(input(\"a değerini girin: \"))\n",
    "b = float(input(\"b değerini girin: \"))\n",
    "c = float(input(\"c değerini girin: \"))\n",
    "\n",
    "delta = b**2-4*a*c\n",
    "\n",
    "kok1 = (-b+math.sqrt(delta)) / (2*a)\n",
    "kok2 = (-b-math.sqrt(delta)) / (2*a)\n",
    "\n",
    "print(\"1. kök: \", kok1)\n",
    "print(\"2. kök: \", kok2)"
   ]
  },
  {
   "cell_type": "code",
   "execution_count": 68,
   "id": "4592cbb3-a3fb-42e1-ade6-e3e00ebe5f6d",
   "metadata": {},
   "outputs": [
    {
     "name": "stdout",
     "output_type": "stream",
     "text": [
      "2. dereceden denklem : ax^2+bx+c=0\n"
     ]
    },
    {
     "name": "stdin",
     "output_type": "stream",
     "text": [
      "a değerini girin:  2\n",
      "b değerini girin:  3\n",
      "c değerini girin:  4\n"
     ]
    },
    {
     "ename": "ValueError",
     "evalue": "math domain error",
     "output_type": "error",
     "traceback": [
      "\u001b[31m---------------------------------------------------------------------------\u001b[39m",
      "\u001b[31mValueError\u001b[39m                                Traceback (most recent call last)",
      "\u001b[36mCell\u001b[39m\u001b[36m \u001b[39m\u001b[32mIn[68]\u001b[39m\u001b[32m, line 11\u001b[39m\n\u001b[32m      7\u001b[39m c = \u001b[38;5;28mfloat\u001b[39m(\u001b[38;5;28minput\u001b[39m(\u001b[33m\"\u001b[39m\u001b[33mc değerini girin: \u001b[39m\u001b[33m\"\u001b[39m))\n\u001b[32m      9\u001b[39m delta = b**\u001b[32m2\u001b[39m-\u001b[32m4\u001b[39m*a*c\n\u001b[32m---> \u001b[39m\u001b[32m11\u001b[39m kok1 = (-b+\u001b[43mmath\u001b[49m\u001b[43m.\u001b[49m\u001b[43msqrt\u001b[49m\u001b[43m(\u001b[49m\u001b[43mdelta\u001b[49m\u001b[43m)\u001b[49m) / (\u001b[32m2\u001b[39m*a)\n\u001b[32m     12\u001b[39m kok2 = (-b-math.sqrt(delta)) / (\u001b[32m2\u001b[39m*a)\n\u001b[32m     14\u001b[39m \u001b[38;5;28mprint\u001b[39m(\u001b[33m\"\u001b[39m\u001b[33m1. kök: \u001b[39m\u001b[33m\"\u001b[39m, kok1)\n",
      "\u001b[31mValueError\u001b[39m: math domain error"
     ]
    }
   ],
   "source": [
    "import math\n",
    "\n",
    "print(\"2. dereceden denklem : ax^2+bx+c=0\")\n",
    "\n",
    "a = float(input(\"a değerini girin: \"))\n",
    "b = float(input(\"b değerini girin: \"))\n",
    "c = float(input(\"c değerini girin: \"))\n",
    "\n",
    "delta = b**2-4*a*c # -44\n",
    "\n",
    "kok1 = (-b+math.sqrt(delta)) / (2*a)\n",
    "kok2 = (-b-math.sqrt(delta)) / (2*a)\n",
    "\n",
    "print(\"1. kök: \", kok1)\n",
    "print(\"2. kök: \", kok2)"
   ]
  },
  {
   "cell_type": "code",
   "execution_count": 69,
   "id": "5fc7d63c-731c-408d-9b8a-d1ddac64ebb2",
   "metadata": {},
   "outputs": [
    {
     "name": "stdout",
     "output_type": "stream",
     "text": [
      "2. dereceden denklem : ax^2+bx+c=0\n"
     ]
    },
    {
     "name": "stdin",
     "output_type": "stream",
     "text": [
      "a değerini girin:  2\n",
      "b değerini girin:  3\n",
      "c değerini girin:  4\n"
     ]
    },
    {
     "name": "stdout",
     "output_type": "stream",
     "text": [
      "Gerçek kök yok, karmaşık kökler var.\n"
     ]
    }
   ],
   "source": [
    "import math\n",
    "\n",
    "print(\"2. dereceden denklem : ax^2+bx+c=0\")\n",
    "\n",
    "a = float(input(\"a değerini girin: \"))\n",
    "b = float(input(\"b değerini girin: \"))\n",
    "c = float(input(\"c değerini girin: \"))\n",
    "\n",
    "delta = b**2-4*a*c # -44\n",
    "\n",
    "if delta <0:\n",
    "    print(\"Gerçek kök yok, karmaşık kökler var.\")\n",
    "else:\n",
    "    kok1 = (-b+math.sqrt(delta)) / (2*a)\n",
    "    kok2 = (-b-math.sqrt(delta)) / (2*a)\n",
    "    \n",
    "    print(\"1. kök: \", kok1)\n",
    "    print(\"2. kök: \", kok2)"
   ]
  },
  {
   "cell_type": "code",
   "execution_count": 70,
   "id": "521a2e0a-92f6-40d7-a6d8-6e7483589911",
   "metadata": {},
   "outputs": [
    {
     "name": "stdout",
     "output_type": "stream",
     "text": [
      "2. dereceden denklem : ax^2+bx+c=0\n"
     ]
    },
    {
     "name": "stdin",
     "output_type": "stream",
     "text": [
      "a değerini girin:  2\n",
      "b değerini girin:  -5\n",
      "c değerini girin:  6\n"
     ]
    },
    {
     "name": "stdout",
     "output_type": "stream",
     "text": [
      "Gerçek kök yok, karmaşık kökler var.\n"
     ]
    }
   ],
   "source": [
    "import math\n",
    "\n",
    "print(\"2. dereceden denklem : ax^2+bx+c=0\")\n",
    "\n",
    "a = float(input(\"a değerini girin: \"))\n",
    "b = float(input(\"b değerini girin: \"))\n",
    "c = float(input(\"c değerini girin: \"))\n",
    "\n",
    "delta = b**2-4*a*c # -44\n",
    "\n",
    "if delta <0:\n",
    "    print(\"Gerçek kök yok, karmaşık kökler var.\")\n",
    "else:\n",
    "    kok1 = (-b+math.sqrt(delta)) / (2*a)\n",
    "    kok2 = (-b-math.sqrt(delta)) / (2*a)\n",
    "    \n",
    "    print(\"1. kök: \", kok1)\n",
    "    print(\"2. kök: \", kok2)"
   ]
  },
  {
   "cell_type": "code",
   "execution_count": 71,
   "id": "c0864892-e83e-4fa9-beeb-51b68ebe8ea9",
   "metadata": {},
   "outputs": [
    {
     "name": "stdout",
     "output_type": "stream",
     "text": [
      "2. dereceden denklem : ax^2+bx+c=0\n"
     ]
    },
    {
     "name": "stdin",
     "output_type": "stream",
     "text": [
      "a değerini girin:  2\n",
      "b değerini girin:  -3\n",
      "c değerini girin:  -4\n"
     ]
    },
    {
     "name": "stdout",
     "output_type": "stream",
     "text": [
      "1. kök:  2.350781059358212\n",
      "2. kök:  -0.8507810593582121\n"
     ]
    }
   ],
   "source": [
    "import math\n",
    "\n",
    "print(\"2. dereceden denklem : ax^2+bx+c=0\")\n",
    "\n",
    "a = float(input(\"a değerini girin: \"))\n",
    "b = float(input(\"b değerini girin: \"))\n",
    "c = float(input(\"c değerini girin: \"))\n",
    "\n",
    "delta = b**2-4*a*c # -44\n",
    "\n",
    "if delta <0:\n",
    "    print(\"Gerçek kök yok, karmaşık kökler var.\")\n",
    "else:\n",
    "    kok1 = (-b+math.sqrt(delta)) / (2*a)\n",
    "    kok2 = (-b-math.sqrt(delta)) / (2*a)\n",
    "    \n",
    "    print(\"1. kök: \", kok1)\n",
    "    print(\"2. kök: \", kok2)"
   ]
  },
  {
   "cell_type": "code",
   "execution_count": null,
   "id": "0dab3c17-4962-4f00-979d-0d17e675a2f7",
   "metadata": {},
   "outputs": [],
   "source": [
    "help()"
   ]
  }
 ],
 "metadata": {
  "kernelspec": {
   "display_name": "Python 3 (ipykernel)",
   "language": "python",
   "name": "python3"
  },
  "language_info": {
   "codemirror_mode": {
    "name": "ipython",
    "version": 3
   },
   "file_extension": ".py",
   "mimetype": "text/x-python",
   "name": "python",
   "nbconvert_exporter": "python",
   "pygments_lexer": "ipython3",
   "version": "3.12.2"
  }
 },
 "nbformat": 4,
 "nbformat_minor": 5
}
