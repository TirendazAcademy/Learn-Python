{
 "cells": [
  {
   "cell_type": "code",
   "execution_count": 1,
   "id": "b5660e60-1864-41ed-8ca1-21920c92c24f",
   "metadata": {},
   "outputs": [
    {
     "name": "stdout",
     "output_type": "stream",
     "text": [
      "Hey\n"
     ]
    }
   ],
   "source": [
    "print(\"Hey\")"
   ]
  },
  {
   "cell_type": "code",
   "execution_count": 2,
   "id": "fe061b9f-ef88-462f-b16e-915c00064c23",
   "metadata": {},
   "outputs": [
    {
     "name": "stdout",
     "output_type": "stream",
     "text": [
      "hey-sen\n"
     ]
    }
   ],
   "source": [
    "print(\"hey\", \"sen\", sep = \"-\")"
   ]
  },
  {
   "cell_type": "code",
   "execution_count": 3,
   "id": "bcfa5c5d-e756-47fb-8fc9-405ac92b4763",
   "metadata": {},
   "outputs": [
    {
     "name": "stdout",
     "output_type": "stream",
     "text": [
      "isim+++soyisim\n"
     ]
    }
   ],
   "source": [
    "print(\"isim\", \"soyisim\", sep = \"+++\")"
   ]
  },
  {
   "cell_type": "code",
   "execution_count": 4,
   "id": "9a843d1e-c6c7-40c5-a4f9-45a703caf350",
   "metadata": {},
   "outputs": [
    {
     "name": "stdout",
     "output_type": "stream",
     "text": [
      "isim soyisim\n"
     ]
    }
   ],
   "source": [
    "print(\"isim\", \"soyisim\", sep= \" \")"
   ]
  },
  {
   "cell_type": "code",
   "execution_count": 5,
   "id": "d31da6d7-b696-4d77-b97f-7aefd0b1ab31",
   "metadata": {},
   "outputs": [
    {
     "name": "stdout",
     "output_type": "stream",
     "text": [
      "isim soyisim\n"
     ]
    }
   ],
   "source": [
    "print(\"isim\", \"soyisim\")"
   ]
  },
  {
   "cell_type": "code",
   "execution_count": 6,
   "id": "481af5cb-a851-4bd6-b087-127cbe64e848",
   "metadata": {},
   "outputs": [
    {
     "name": "stdout",
     "output_type": "stream",
     "text": [
      "pythonprogramlama\n"
     ]
    }
   ],
   "source": [
    "print(\"python\", \"programlama\", sep=\"\")"
   ]
  },
  {
   "cell_type": "code",
   "execution_count": 7,
   "id": "3aeb97e7-8f51-4c70-ab37-f4f5e4e0c328",
   "metadata": {},
   "outputs": [
    {
     "name": "stdout",
     "output_type": "stream",
     "text": [
      "Merhaba!"
     ]
    }
   ],
   "source": [
    "print(\"Merhaba\", end=\"!\")"
   ]
  },
  {
   "cell_type": "code",
   "execution_count": 8,
   "id": "7370715a-1836-4a6b-8203-d801923ca691",
   "metadata": {},
   "outputs": [
    {
     "name": "stdout",
     "output_type": "stream",
     "text": [
      "satır1...\n"
     ]
    }
   ],
   "source": [
    "print(\"satır1\", end = \"...\\n\")"
   ]
  },
  {
   "cell_type": "code",
   "execution_count": 9,
   "id": "d1595078-33b7-43f9-9116-4c57bfa19f48",
   "metadata": {},
   "outputs": [
    {
     "name": "stdout",
     "output_type": "stream",
     "text": [
      "satır1...\n",
      "satır2\n"
     ]
    }
   ],
   "source": [
    "print(\"satır1\", end = \"...\\n\"); print(\"satır2\")"
   ]
  },
  {
   "cell_type": "code",
   "execution_count": 10,
   "id": "f8dad640-ea9e-447a-8002-baa5e0384d43",
   "metadata": {},
   "outputs": [],
   "source": [
    "print(\"ilk satır\", file = open(\"dosya.txt\", \"w\"))"
   ]
  },
  {
   "cell_type": "code",
   "execution_count": 11,
   "id": "b94a80fa-6b28-4daa-b07a-ed3f0787c46a",
   "metadata": {},
   "outputs": [
    {
     "name": "stdout",
     "output_type": "stream",
     "text": [
      "ilk satır\n",
      "\n"
     ]
    }
   ],
   "source": [
    "with open(\"dosya.txt\", \"r\") as f:\n",
    "    text = f.read()\n",
    "    print(text)"
   ]
  },
  {
   "cell_type": "code",
   "execution_count": 12,
   "id": "b028f28d-da8a-474d-b2b5-aad42aa238fb",
   "metadata": {},
   "outputs": [],
   "source": [
    "with open(\"dosya.txt\", \"w\") as f:\n",
    "    f.write(\"ikinci satır \\n\")"
   ]
  },
  {
   "cell_type": "code",
   "execution_count": 13,
   "id": "1cac824f-ebc5-4e66-bd83-1256afa23a39",
   "metadata": {},
   "outputs": [
    {
     "name": "stdout",
     "output_type": "stream",
     "text": [
      "ikinci satır \n",
      "\n"
     ]
    }
   ],
   "source": [
    "with open(\"dosya.txt\", \"r\") as f:\n",
    "    text = f.read()\n",
    "    print(text)"
   ]
  },
  {
   "cell_type": "code",
   "execution_count": 14,
   "id": "ee8157b8-b505-4af9-a8c1-c93575dcf043",
   "metadata": {},
   "outputs": [],
   "source": [
    "with open(\"dosya.txt\", \"w\") as f:\n",
    "    f.write(\"birinci satır \\n\")"
   ]
  },
  {
   "cell_type": "code",
   "execution_count": 15,
   "id": "4744fe77-f045-4b77-bb6d-099c77950429",
   "metadata": {},
   "outputs": [],
   "source": [
    "with open(\"dosya.txt\", \"a\") as f:\n",
    "    f.write(\"ikinci satır \\n\")"
   ]
  },
  {
   "cell_type": "code",
   "execution_count": 16,
   "id": "7c409644-0257-4ba2-b383-18d3266e1f22",
   "metadata": {},
   "outputs": [
    {
     "name": "stdout",
     "output_type": "stream",
     "text": [
      "birinci satır \n",
      "ikinci satır \n",
      "\n"
     ]
    }
   ],
   "source": [
    "with open(\"dosya.txt\", \"r\") as f:\n",
    "    text = f.read()\n",
    "    print(text)"
   ]
  },
  {
   "cell_type": "code",
   "execution_count": 17,
   "id": "2212a374-fc66-4985-aa08-7a6d5c4c89b2",
   "metadata": {},
   "outputs": [],
   "source": [
    "with open(\"dosya.txt\", \"a\") as f:\n",
    "    print(\"Üçüncü satır\", file = f)"
   ]
  },
  {
   "cell_type": "code",
   "execution_count": 18,
   "id": "66cd6549-30ab-4817-a93d-c9fb6a0e82ba",
   "metadata": {},
   "outputs": [
    {
     "name": "stdout",
     "output_type": "stream",
     "text": [
      "birinci satır \n",
      "ikinci satır \n",
      "Üçüncü satır\n",
      "\n"
     ]
    }
   ],
   "source": [
    "with open(\"dosya.txt\", \"r\") as f:\n",
    "    text = f.read()\n",
    "    print(text)"
   ]
  },
  {
   "cell_type": "code",
   "execution_count": 19,
   "id": "b5f0e221-f258-427a-ae10-5f4d362e75a1",
   "metadata": {},
   "outputs": [
    {
     "name": "stdout",
     "output_type": "stream",
     "text": [
      "Yükleniyor... Bitti!\n"
     ]
    }
   ],
   "source": [
    "import time \n",
    "print(\"Yükleniyor...\", end = \"\")\n",
    "time.sleep(2)\n",
    "print(\" Bitti!\")"
   ]
  },
  {
   "cell_type": "code",
   "execution_count": 20,
   "id": "74c669ba-0d82-4fc9-a775-b18a5a7d9c1e",
   "metadata": {},
   "outputs": [
    {
     "name": "stdout",
     "output_type": "stream",
     "text": [
      "Yükleniyor... Bitti!\n"
     ]
    }
   ],
   "source": [
    "import time \n",
    "print(\"Yükleniyor...\", end = \"\")\n",
    "time.sleep(2)\n",
    "print(\" Bitti!\")"
   ]
  },
  {
   "cell_type": "code",
   "execution_count": 21,
   "id": "bdd914c1-fad7-4052-a271-6e350c426e8b",
   "metadata": {},
   "outputs": [
    {
     "name": "stdout",
     "output_type": "stream",
     "text": [
      "Yükleniyor... Bitti!\n"
     ]
    }
   ],
   "source": [
    "import time \n",
    "print(\"Yükleniyor...\", end = \"\", flush=True)\n",
    "time.sleep(2)\n",
    "print(\" Bitti!\")"
   ]
  },
  {
   "cell_type": "code",
   "execution_count": 22,
   "id": "410ab3cc-d11d-4885-8823-e262a79f3128",
   "metadata": {},
   "outputs": [
    {
     "name": "stdout",
     "output_type": "stream",
     "text": [
      "['ali', 'buse', 'can']\n"
     ]
    }
   ],
   "source": [
    "isimler = [\"ali\", \"buse\", \"can\"]\n",
    "\n",
    "print(isimler)"
   ]
  },
  {
   "cell_type": "code",
   "execution_count": 23,
   "id": "bd932e0e-f9d3-40a5-8075-f86c013d4891",
   "metadata": {},
   "outputs": [
    {
     "name": "stdout",
     "output_type": "stream",
     "text": [
      "ali buse can\n"
     ]
    }
   ],
   "source": [
    "print(*isimler)"
   ]
  },
  {
   "cell_type": "code",
   "execution_count": 25,
   "id": "ecae3d0d-2a8e-4b13-8dcf-0671f8cb6ccf",
   "metadata": {},
   "outputs": [
    {
     "name": "stdout",
     "output_type": "stream",
     "text": [
      "a l i\n"
     ]
    }
   ],
   "source": [
    "print(*isimler[0])"
   ]
  },
  {
   "cell_type": "code",
   "execution_count": 27,
   "id": "7a8b9f30-a129-40a1-b74d-cc40f523e3a9",
   "metadata": {},
   "outputs": [
    {
     "name": "stdout",
     "output_type": "stream",
     "text": [
      "Merhaba"
     ]
    },
    {
     "data": {
      "text/plain": [
       "7"
      ]
     },
     "execution_count": 27,
     "metadata": {},
     "output_type": "execute_result"
    }
   ],
   "source": [
    "import sys \n",
    "\n",
    "sys.stdout.write(\"Merhaba\")"
   ]
  },
  {
   "cell_type": "code",
   "execution_count": 28,
   "id": "9c927900-9241-4e75-8198-e218be088166",
   "metadata": {},
   "outputs": [
    {
     "name": "stdout",
     "output_type": "stream",
     "text": [
      "Merhaba\n"
     ]
    }
   ],
   "source": [
    "print(\"Merhaba\")"
   ]
  },
  {
   "cell_type": "code",
   "execution_count": 29,
   "id": "aef2ee40-a236-474c-80c1-bca952868887",
   "metadata": {},
   "outputs": [
    {
     "name": "stdout",
     "output_type": "stream",
     "text": [
      "Merhaba dünya\n"
     ]
    }
   ],
   "source": [
    "print(\"Merhaba\", \"dünya\")"
   ]
  },
  {
   "cell_type": "code",
   "execution_count": 30,
   "id": "35fdd00d-3fc8-4d5e-8a7b-7adae83cd36a",
   "metadata": {},
   "outputs": [
    {
     "name": "stdout",
     "output_type": "stream",
     "text": [
      "MerhabaDünya"
     ]
    },
    {
     "data": {
      "text/plain": [
       "5"
      ]
     },
     "execution_count": 30,
     "metadata": {},
     "output_type": "execute_result"
    }
   ],
   "source": [
    "sys.stdout.write(\"Merhaba\"); sys.stdout.write(\"Dünya\")"
   ]
  },
  {
   "cell_type": "code",
   "execution_count": 31,
   "id": "cc175b5c-437d-428a-a3ad-a5f77b6998b4",
   "metadata": {},
   "outputs": [
    {
     "name": "stdout",
     "output_type": "stream",
     "text": [
      "X Y\n"
     ]
    }
   ],
   "source": [
    "print(\"X\", \"Y\")"
   ]
  },
  {
   "cell_type": "code",
   "execution_count": 32,
   "id": "92f9e105-77ca-4a36-a980-b4cc2bb07e88",
   "metadata": {},
   "outputs": [
    {
     "name": "stdout",
     "output_type": "stream",
     "text": [
      "X Y"
     ]
    },
    {
     "data": {
      "text/plain": [
       "2"
      ]
     },
     "execution_count": 32,
     "metadata": {},
     "output_type": "execute_result"
    }
   ],
   "source": [
    "sys.stdout.write(\"X\"); sys.stdout.write(\" Y\")"
   ]
  },
  {
   "cell_type": "code",
   "execution_count": 34,
   "id": "76d277b9-56f4-496e-9a04-9df953da3f29",
   "metadata": {},
   "outputs": [
    {
     "name": "stdout",
     "output_type": "stream",
     "text": [
      "X Y"
     ]
    },
    {
     "data": {
      "text/plain": [
       "1"
      ]
     },
     "execution_count": 34,
     "metadata": {},
     "output_type": "execute_result"
    }
   ],
   "source": [
    "sys.stdout.write(\"X\"); sys.stdout.write(\" \"); sys.stdout.write(\"Y\")"
   ]
  },
  {
   "cell_type": "code",
   "execution_count": 35,
   "id": "02d9495b-edd6-4c8f-84ce-f22a43ff7cbf",
   "metadata": {},
   "outputs": [
    {
     "name": "stdout",
     "output_type": "stream",
     "text": [
      "X Y\n"
     ]
    },
    {
     "data": {
      "text/plain": [
       "4"
      ]
     },
     "execution_count": 35,
     "metadata": {},
     "output_type": "execute_result"
    }
   ],
   "source": [
    "sys.stdout.write(str(\"X\")+ \" \" + str(\"Y\")+ \"\\n\")"
   ]
  },
  {
   "cell_type": "code",
   "execution_count": 36,
   "id": "16d25895-80de-4729-a292-0b40bb18dc4e",
   "metadata": {},
   "outputs": [
    {
     "data": {
      "text/plain": [
       "'birinci satır\\nikinci satır\\nüçüncü satır'"
      ]
     },
     "execution_count": 36,
     "metadata": {},
     "output_type": "execute_result"
    }
   ],
   "source": [
    "\"birinci satır\\nikinci satır\\nüçüncü satır\""
   ]
  },
  {
   "cell_type": "code",
   "execution_count": 37,
   "id": "58c62bf9-31bc-44b8-afb0-81baa6ed2572",
   "metadata": {},
   "outputs": [
    {
     "name": "stdout",
     "output_type": "stream",
     "text": [
      "birinci satır\n",
      "ikinci satır\n",
      "üçüncü satır\n"
     ]
    }
   ],
   "source": [
    "print(\"birinci satır\\nikinci satır\\nüçüncü satır\")"
   ]
  },
  {
   "cell_type": "code",
   "execution_count": 38,
   "id": "13b5022a-c841-4dc7-919b-0971d3999609",
   "metadata": {},
   "outputs": [
    {
     "name": "stdout",
     "output_type": "stream",
     "text": [
      "C:\n",
      "isan\\masraflar.txt\n"
     ]
    },
    {
     "name": "stderr",
     "output_type": "stream",
     "text": [
      "<>:1: SyntaxWarning: invalid escape sequence '\\m'\n",
      "<>:1: SyntaxWarning: invalid escape sequence '\\m'\n",
      "C:\\Users\\pc\\AppData\\Local\\Temp\\ipykernel_13300\\2698377610.py:1: SyntaxWarning: invalid escape sequence '\\m'\n",
      "  print(\"C:\\nisan\\masraflar.txt\")\n"
     ]
    }
   ],
   "source": [
    "print(\"C:\\nisan\\masraflar.txt\")"
   ]
  },
  {
   "cell_type": "code",
   "execution_count": 39,
   "id": "04a0cac1-b48a-49de-ae6d-acad53e76027",
   "metadata": {},
   "outputs": [
    {
     "name": "stdout",
     "output_type": "stream",
     "text": [
      "C:\\nisan\\masraflar.txt\n"
     ]
    }
   ],
   "source": [
    "print(\"C:\\\\nisan\\\\masraflar.txt\")"
   ]
  },
  {
   "cell_type": "code",
   "execution_count": null,
   "id": "04b6de24-8172-46d8-a423-28bc7f7a5d76",
   "metadata": {},
   "outputs": [],
   "source": []
  }
 ],
 "metadata": {
  "kernelspec": {
   "display_name": "Python 3 (ipykernel)",
   "language": "python",
   "name": "python3"
  },
  "language_info": {
   "codemirror_mode": {
    "name": "ipython",
    "version": 3
   },
   "file_extension": ".py",
   "mimetype": "text/x-python",
   "name": "python",
   "nbconvert_exporter": "python",
   "pygments_lexer": "ipython3",
   "version": "3.12.2"
  }
 },
 "nbformat": 4,
 "nbformat_minor": 5
}
