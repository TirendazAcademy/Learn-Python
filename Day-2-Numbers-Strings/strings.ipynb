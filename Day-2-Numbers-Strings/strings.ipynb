{
 "cells": [
  {
   "cell_type": "code",
   "execution_count": 1,
   "id": "b6ef0896-9abf-48bd-9d98-942c45f11705",
   "metadata": {},
   "outputs": [
    {
     "data": {
      "text/plain": [
       "'Merhaba'"
      ]
     },
     "execution_count": 1,
     "metadata": {},
     "output_type": "execute_result"
    }
   ],
   "source": [
    "\"Merhaba\""
   ]
  },
  {
   "cell_type": "code",
   "execution_count": 2,
   "id": "aca77f43-465d-4446-b94d-4e185a4bd552",
   "metadata": {},
   "outputs": [],
   "source": [
    "S = \"Python\""
   ]
  },
  {
   "cell_type": "code",
   "execution_count": 3,
   "id": "fd5d2f87-30ca-4ee4-b84a-1686163bd666",
   "metadata": {},
   "outputs": [
    {
     "data": {
      "text/plain": [
       "str"
      ]
     },
     "execution_count": 3,
     "metadata": {},
     "output_type": "execute_result"
    }
   ],
   "source": [
    "type(S)"
   ]
  },
  {
   "cell_type": "code",
   "execution_count": 4,
   "id": "ec5ecf4e-b744-49b9-b6c7-bdf24e15902d",
   "metadata": {},
   "outputs": [
    {
     "data": {
      "text/plain": [
       "'Evren'"
      ]
     },
     "execution_count": 4,
     "metadata": {},
     "output_type": "execute_result"
    }
   ],
   "source": [
    "'Evren'"
   ]
  },
  {
   "cell_type": "code",
   "execution_count": 5,
   "id": "80bc7ec2-9f41-4f10-8851-19bd1cda073a",
   "metadata": {},
   "outputs": [
    {
     "data": {
      "text/plain": [
       "'Ela'"
      ]
     },
     "execution_count": 5,
     "metadata": {},
     "output_type": "execute_result"
    }
   ],
   "source": [
    "\"\"\"Ela\"\"\""
   ]
  },
  {
   "cell_type": "code",
   "execution_count": 7,
   "id": "86304a59-b463-4e90-9c87-9adb34c33061",
   "metadata": {},
   "outputs": [
    {
     "data": {
      "text/plain": [
       "\"Ankara'dan abim geldi\""
      ]
     },
     "execution_count": 7,
     "metadata": {},
     "output_type": "execute_result"
    }
   ],
   "source": [
    "\"Ankara'dan abim geldi\""
   ]
  },
  {
   "cell_type": "code",
   "execution_count": 8,
   "id": "6747c2fd-fe62-4df1-b053-14cc18c864cf",
   "metadata": {},
   "outputs": [
    {
     "data": {
      "text/plain": [
       "True"
      ]
     },
     "execution_count": 8,
     "metadata": {},
     "output_type": "execute_result"
    }
   ],
   "source": [
    "\"evren\" == 'evren'"
   ]
  },
  {
   "cell_type": "code",
   "execution_count": 9,
   "id": "238184ee-31cc-4779-a0bf-090135d0bafb",
   "metadata": {},
   "outputs": [],
   "source": [
    "x = \"Hello\""
   ]
  },
  {
   "cell_type": "code",
   "execution_count": 10,
   "id": "9ab4fe0b-8041-4a22-9436-080ef117fd3a",
   "metadata": {},
   "outputs": [
    {
     "data": {
      "text/plain": [
       "'H'"
      ]
     },
     "execution_count": 10,
     "metadata": {},
     "output_type": "execute_result"
    }
   ],
   "source": [
    "x[0]"
   ]
  },
  {
   "cell_type": "code",
   "execution_count": 11,
   "id": "812d10e3-f7ed-4d71-9bed-6a63e9e43ea4",
   "metadata": {},
   "outputs": [
    {
     "data": {
      "text/plain": [
       "'o'"
      ]
     },
     "execution_count": 11,
     "metadata": {},
     "output_type": "execute_result"
    }
   ],
   "source": [
    "x[-1]"
   ]
  },
  {
   "cell_type": "code",
   "execution_count": 12,
   "id": "83e363d2-bd57-4727-a249-694a5dada142",
   "metadata": {},
   "outputs": [
    {
     "data": {
      "text/plain": [
       "'o'"
      ]
     },
     "execution_count": 12,
     "metadata": {},
     "output_type": "execute_result"
    }
   ],
   "source": [
    "x[4]"
   ]
  },
  {
   "cell_type": "code",
   "execution_count": 13,
   "id": "f52dd1ee-4458-4224-97b4-08932622d7bd",
   "metadata": {},
   "outputs": [
    {
     "data": {
      "text/plain": [
       "'ello'"
      ]
     },
     "execution_count": 13,
     "metadata": {},
     "output_type": "execute_result"
    }
   ],
   "source": [
    "x[1:]"
   ]
  },
  {
   "cell_type": "code",
   "execution_count": 14,
   "id": "47289011-e321-452a-b62f-6d560db2f6ac",
   "metadata": {},
   "outputs": [],
   "source": [
    "a = \"Goodbye\\n\""
   ]
  },
  {
   "cell_type": "code",
   "execution_count": 15,
   "id": "2437c2bd-c420-4a57-bd0e-11289796d078",
   "metadata": {},
   "outputs": [
    {
     "data": {
      "text/plain": [
       "'Goodbye'"
      ]
     },
     "execution_count": 15,
     "metadata": {},
     "output_type": "execute_result"
    }
   ],
   "source": [
    "a = a[:-1]\n",
    "a"
   ]
  },
  {
   "cell_type": "code",
   "execution_count": 16,
   "id": "e3bfa521-5294-410e-9e99-fa0f625f4c84",
   "metadata": {},
   "outputs": [],
   "source": [
    "name = \"Ahmet\""
   ]
  },
  {
   "cell_type": "code",
   "execution_count": 17,
   "id": "47dbb3f7-8895-4633-9ada-d15400316c75",
   "metadata": {},
   "outputs": [
    {
     "data": {
      "text/plain": [
       "'A'"
      ]
     },
     "execution_count": 17,
     "metadata": {},
     "output_type": "execute_result"
    }
   ],
   "source": [
    "name[0]"
   ]
  },
  {
   "cell_type": "code",
   "execution_count": 18,
   "id": "fa2c29f1-178f-40b8-a40f-5c3d3557ebc8",
   "metadata": {},
   "outputs": [
    {
     "data": {
      "text/plain": [
       "str"
      ]
     },
     "execution_count": 18,
     "metadata": {},
     "output_type": "execute_result"
    }
   ],
   "source": [
    "type(name[0])"
   ]
  },
  {
   "cell_type": "code",
   "execution_count": 19,
   "id": "c971bee7-4397-4c31-8774-de966397f662",
   "metadata": {},
   "outputs": [
    {
     "data": {
      "text/plain": [
       "8"
      ]
     },
     "execution_count": 19,
     "metadata": {},
     "output_type": "execute_result"
    }
   ],
   "source": [
    "len(\"istanbul\")"
   ]
  },
  {
   "cell_type": "code",
   "execution_count": 20,
   "id": "afacee27-191a-4001-921c-4abfcd2803f9",
   "metadata": {},
   "outputs": [
    {
     "data": {
      "text/plain": [
       "'Hello'"
      ]
     },
     "execution_count": 20,
     "metadata": {},
     "output_type": "execute_result"
    }
   ],
   "source": [
    "x"
   ]
  },
  {
   "cell_type": "code",
   "execution_count": 22,
   "id": "8b4b34bb-7c93-42ea-a7f4-bc34306cef62",
   "metadata": {},
   "outputs": [
    {
     "ename": "TypeError",
     "evalue": "'str' object does not support item assignment",
     "output_type": "error",
     "traceback": [
      "\u001b[31m---------------------------------------------------------------------------\u001b[39m",
      "\u001b[31mTypeError\u001b[39m                                 Traceback (most recent call last)",
      "\u001b[36mCell\u001b[39m\u001b[36m \u001b[39m\u001b[32mIn[22]\u001b[39m\u001b[32m, line 1\u001b[39m\n\u001b[32m----> \u001b[39m\u001b[32m1\u001b[39m \u001b[43mx\u001b[49m\u001b[43m[\u001b[49m\u001b[32;43m0\u001b[39;49m\u001b[43m]\u001b[49m=\u001b[33m\"\u001b[39m\u001b[33mA\u001b[39m\u001b[33m\"\u001b[39m\n",
      "\u001b[31mTypeError\u001b[39m: 'str' object does not support item assignment"
     ]
    }
   ],
   "source": [
    "x[0]=\"A\""
   ]
  },
  {
   "cell_type": "code",
   "execution_count": 23,
   "id": "73116472-ef21-4429-9c2e-4b125d97eaff",
   "metadata": {},
   "outputs": [
    {
     "ename": "AttributeError",
     "evalue": "'str' object has no attribute 'append'",
     "output_type": "error",
     "traceback": [
      "\u001b[31m---------------------------------------------------------------------------\u001b[39m",
      "\u001b[31mAttributeError\u001b[39m                            Traceback (most recent call last)",
      "\u001b[36mCell\u001b[39m\u001b[36m \u001b[39m\u001b[32mIn[23]\u001b[39m\u001b[32m, line 1\u001b[39m\n\u001b[32m----> \u001b[39m\u001b[32m1\u001b[39m \u001b[43mx\u001b[49m\u001b[43m.\u001b[49m\u001b[43mappend\u001b[49m(\u001b[33m\"\u001b[39m\u001b[33m!\u001b[39m\u001b[33m\"\u001b[39m)\n",
      "\u001b[31mAttributeError\u001b[39m: 'str' object has no attribute 'append'"
     ]
    }
   ],
   "source": [
    "x.append(\"!\")"
   ]
  },
  {
   "cell_type": "markdown",
   "id": "9d3abb73-b456-4995-aabf-f1c00148e641",
   "metadata": {},
   "source": [
    "# String İşlemleri "
   ]
  },
  {
   "cell_type": "code",
   "execution_count": 24,
   "id": "cd86ea39-0441-45cb-a045-2adec4568071",
   "metadata": {},
   "outputs": [
    {
     "data": {
      "text/plain": [
       "'HelloWorld'"
      ]
     },
     "execution_count": 24,
     "metadata": {},
     "output_type": "execute_result"
    }
   ],
   "source": [
    "x = \"Hello\"+\"World\"\n",
    "x"
   ]
  },
  {
   "cell_type": "code",
   "execution_count": 25,
   "id": "63adbc5d-3ffb-4dd4-9469-9b88120f2d7c",
   "metadata": {},
   "outputs": [
    {
     "data": {
      "text/plain": [
       "'Hello World'"
      ]
     },
     "execution_count": 25,
     "metadata": {},
     "output_type": "execute_result"
    }
   ],
   "source": [
    "x = \"Hello \"+\"World\"\n",
    "x"
   ]
  },
  {
   "cell_type": "code",
   "execution_count": 26,
   "id": "e6b9dbd0-5e68-4ca8-8d11-c97439981d16",
   "metadata": {},
   "outputs": [
    {
     "ename": "TypeError",
     "evalue": "can only concatenate str (not \"int\") to str",
     "output_type": "error",
     "traceback": [
      "\u001b[31m---------------------------------------------------------------------------\u001b[39m",
      "\u001b[31mTypeError\u001b[39m                                 Traceback (most recent call last)",
      "\u001b[36mCell\u001b[39m\u001b[36m \u001b[39m\u001b[32mIn[26]\u001b[39m\u001b[32m, line 1\u001b[39m\n\u001b[32m----> \u001b[39m\u001b[32m1\u001b[39m \u001b[33;43m\"\u001b[39;49m\u001b[33;43mHello\u001b[39;49m\u001b[33;43m\"\u001b[39;49m\u001b[43m+\u001b[49m\u001b[43m \u001b[49m\u001b[32;43m5\u001b[39;49m\n",
      "\u001b[31mTypeError\u001b[39m: can only concatenate str (not \"int\") to str"
     ]
    }
   ],
   "source": [
    "\"Hello\"+ 5"
   ]
  },
  {
   "cell_type": "code",
   "execution_count": 27,
   "id": "76e70a8b-0018-4094-b4a7-47f726d47b24",
   "metadata": {},
   "outputs": [
    {
     "name": "stdout",
     "output_type": "stream",
     "text": [
      "xxx\n"
     ]
    }
   ],
   "source": [
    "print(\"x\"*3)"
   ]
  },
  {
   "cell_type": "code",
   "execution_count": 28,
   "id": "af6ac183-4056-4505-93be-8822401fa905",
   "metadata": {},
   "outputs": [
    {
     "name": "stdout",
     "output_type": "stream",
     "text": [
      "HiHiHiHiHi\n"
     ]
    }
   ],
   "source": [
    "print(\"Hi\" * 5 )"
   ]
  },
  {
   "cell_type": "code",
   "execution_count": 29,
   "id": "78992556-cd14-4b60-b98b-b86bc407f4b8",
   "metadata": {},
   "outputs": [
    {
     "data": {
      "text/plain": [
       "'HiHiHiHiHi'"
      ]
     },
     "execution_count": 29,
     "metadata": {},
     "output_type": "execute_result"
    }
   ],
   "source": [
    "\"Hi\" * 5"
   ]
  },
  {
   "cell_type": "markdown",
   "id": "ce977da7-c5ad-4f07-a59c-4904cadf281c",
   "metadata": {},
   "source": [
    "# Kaçış Karakterleri"
   ]
  },
  {
   "cell_type": "code",
   "execution_count": 30,
   "id": "41fa5bce-a250-484b-9626-ee963c5ba16e",
   "metadata": {},
   "outputs": [
    {
     "name": "stdout",
     "output_type": "stream",
     "text": [
      "Merhaba \n",
      "Dünya\n"
     ]
    }
   ],
   "source": [
    "print(\"Merhaba \\nDünya\")"
   ]
  },
  {
   "cell_type": "code",
   "execution_count": 31,
   "id": "43ed6a85-57ca-4a58-b373-a9c359f46d26",
   "metadata": {},
   "outputs": [
    {
     "name": "stdout",
     "output_type": "stream",
     "text": [
      "Ali\tEla\tCan\n"
     ]
    }
   ],
   "source": [
    "print(\"Ali\\tEla\\tCan\")"
   ]
  },
  {
   "cell_type": "code",
   "execution_count": 32,
   "id": "569e6cb6-befc-49ac-9ef2-d974d17bd089",
   "metadata": {},
   "outputs": [
    {
     "name": "stdout",
     "output_type": "stream",
     "text": [
      "Bu bir \"alıntı\"dır.\n"
     ]
    }
   ],
   "source": [
    "print(\"Bu bir \\\"alıntı\\\"dır.\")"
   ]
  },
  {
   "cell_type": "code",
   "execution_count": 33,
   "id": "53a59d53-43fa-4a2f-b2f0-4ff2c426c68a",
   "metadata": {},
   "outputs": [
    {
     "name": "stdout",
     "output_type": "stream",
     "text": [
      "Bu bir 'alıntı'dır.\n"
     ]
    }
   ],
   "source": [
    "print(\"Bu bir \\'alıntı\\'dır.\")"
   ]
  },
  {
   "cell_type": "code",
   "execution_count": 34,
   "id": "869b0c1a-a941-4e2b-a9e0-9ff520380048",
   "metadata": {},
   "outputs": [
    {
     "name": "stdout",
     "output_type": "stream",
     "text": [
      "C:\\Users\\Evren\n"
     ]
    }
   ],
   "source": [
    "print(\"C:\\\\Users\\\\Evren\")"
   ]
  },
  {
   "cell_type": "code",
   "execution_count": 35,
   "id": "1930076e-b604-483f-b771-947494007cfb",
   "metadata": {},
   "outputs": [
    {
     "name": "stdout",
     "output_type": "stream",
     "text": [
      "C:\\Users\\Evren\n"
     ]
    }
   ],
   "source": [
    "print(r\"C:\\Users\\Evren\")"
   ]
  },
  {
   "cell_type": "code",
   "execution_count": 36,
   "id": "0f3f9288-83d9-4e60-8ed8-1ae41aabf8de",
   "metadata": {},
   "outputs": [
    {
     "data": {
      "text/plain": [
       "'C:\\\\Users\\\\Evren'"
      ]
     },
     "execution_count": 36,
     "metadata": {},
     "output_type": "execute_result"
    }
   ],
   "source": [
    "\"C:\\\\Users\\\\Evren\""
   ]
  },
  {
   "cell_type": "code",
   "execution_count": 37,
   "id": "531056cb-7d72-4a57-8b29-54d61ad60a74",
   "metadata": {},
   "outputs": [
    {
     "name": "stdout",
     "output_type": "stream",
     "text": [
      "C:\\Users\\Evren\n"
     ]
    }
   ],
   "source": [
    "print(\"C:\\\\Users\\\\Evren\")"
   ]
  },
  {
   "cell_type": "markdown",
   "id": "9fc6bf15-a852-401b-938c-84a43048d2f3",
   "metadata": {},
   "source": [
    "# String Metotlar"
   ]
  },
  {
   "cell_type": "code",
   "execution_count": 38,
   "id": "55f4c98c-0e89-43e0-b4e7-e8edc37e6d02",
   "metadata": {},
   "outputs": [],
   "source": [
    "S = \"Merve\""
   ]
  },
  {
   "cell_type": "code",
   "execution_count": 39,
   "id": "2d2be6b9-3a40-4959-a4c5-acbdabd602e4",
   "metadata": {},
   "outputs": [
    {
     "data": {
      "text/plain": [
       "['__add__',\n",
       " '__class__',\n",
       " '__contains__',\n",
       " '__delattr__',\n",
       " '__dir__',\n",
       " '__doc__',\n",
       " '__eq__',\n",
       " '__format__',\n",
       " '__ge__',\n",
       " '__getattribute__',\n",
       " '__getitem__',\n",
       " '__getnewargs__',\n",
       " '__getstate__',\n",
       " '__gt__',\n",
       " '__hash__',\n",
       " '__init__',\n",
       " '__init_subclass__',\n",
       " '__iter__',\n",
       " '__le__',\n",
       " '__len__',\n",
       " '__lt__',\n",
       " '__mod__',\n",
       " '__mul__',\n",
       " '__ne__',\n",
       " '__new__',\n",
       " '__reduce__',\n",
       " '__reduce_ex__',\n",
       " '__repr__',\n",
       " '__rmod__',\n",
       " '__rmul__',\n",
       " '__setattr__',\n",
       " '__sizeof__',\n",
       " '__str__',\n",
       " '__subclasshook__',\n",
       " 'capitalize',\n",
       " 'casefold',\n",
       " 'center',\n",
       " 'count',\n",
       " 'encode',\n",
       " 'endswith',\n",
       " 'expandtabs',\n",
       " 'find',\n",
       " 'format',\n",
       " 'format_map',\n",
       " 'index',\n",
       " 'isalnum',\n",
       " 'isalpha',\n",
       " 'isascii',\n",
       " 'isdecimal',\n",
       " 'isdigit',\n",
       " 'isidentifier',\n",
       " 'islower',\n",
       " 'isnumeric',\n",
       " 'isprintable',\n",
       " 'isspace',\n",
       " 'istitle',\n",
       " 'isupper',\n",
       " 'join',\n",
       " 'ljust',\n",
       " 'lower',\n",
       " 'lstrip',\n",
       " 'maketrans',\n",
       " 'partition',\n",
       " 'removeprefix',\n",
       " 'removesuffix',\n",
       " 'replace',\n",
       " 'rfind',\n",
       " 'rindex',\n",
       " 'rjust',\n",
       " 'rpartition',\n",
       " 'rsplit',\n",
       " 'rstrip',\n",
       " 'split',\n",
       " 'splitlines',\n",
       " 'startswith',\n",
       " 'strip',\n",
       " 'swapcase',\n",
       " 'title',\n",
       " 'translate',\n",
       " 'upper',\n",
       " 'zfill']"
      ]
     },
     "execution_count": 39,
     "metadata": {},
     "output_type": "execute_result"
    }
   ],
   "source": [
    "dir(S)"
   ]
  },
  {
   "cell_type": "code",
   "execution_count": 40,
   "id": "ebc10058-04a4-466f-bef2-3a4d0db8713d",
   "metadata": {},
   "outputs": [
    {
     "data": {
      "text/plain": [
       "'Merve'"
      ]
     },
     "execution_count": 40,
     "metadata": {},
     "output_type": "execute_result"
    }
   ],
   "source": [
    "S"
   ]
  },
  {
   "cell_type": "code",
   "execution_count": 41,
   "id": "690b37a3-da7f-4f18-8095-5d505cd7d3d6",
   "metadata": {},
   "outputs": [
    {
     "data": {
      "text/plain": [
       "'MERVE'"
      ]
     },
     "execution_count": 41,
     "metadata": {},
     "output_type": "execute_result"
    }
   ],
   "source": [
    "S.upper()"
   ]
  },
  {
   "cell_type": "code",
   "execution_count": 42,
   "id": "4d4329ab-23d6-4d8b-80c3-b91762841652",
   "metadata": {},
   "outputs": [
    {
     "data": {
      "text/plain": [
       "False"
      ]
     },
     "execution_count": 42,
     "metadata": {},
     "output_type": "execute_result"
    }
   ],
   "source": [
    "S == S.upper()"
   ]
  },
  {
   "cell_type": "code",
   "execution_count": 43,
   "id": "e47dcd61-e5b2-4c19-9525-8cd3b3c02ed1",
   "metadata": {},
   "outputs": [],
   "source": [
    "x = \"Python çok eğlencelidir.\""
   ]
  },
  {
   "cell_type": "code",
   "execution_count": 44,
   "id": "a681d3ae-67cb-45fe-a5f9-03956d9b4c6b",
   "metadata": {},
   "outputs": [
    {
     "data": {
      "text/plain": [
       "['Python', 'çok', 'eğlencelidir.']"
      ]
     },
     "execution_count": 44,
     "metadata": {},
     "output_type": "execute_result"
    }
   ],
   "source": [
    "x.split()"
   ]
  },
  {
   "cell_type": "code",
   "execution_count": 45,
   "id": "316be56a-f200-4c7a-87f2-5fb200be566e",
   "metadata": {},
   "outputs": [
    {
     "data": {
      "text/plain": [
       "['Mi', 'i', 'ippi']"
      ]
     },
     "execution_count": 45,
     "metadata": {},
     "output_type": "execute_result"
    }
   ],
   "source": [
    "\"Mississippi\".split(\"ss\")"
   ]
  },
  {
   "cell_type": "code",
   "execution_count": 48,
   "id": "05222520-b872-408e-a189-26d5a4dd088e",
   "metadata": {},
   "outputs": [
    {
     "data": {
      "text/plain": [
       "'ABChello'"
      ]
     },
     "execution_count": 48,
     "metadata": {},
     "output_type": "execute_result"
    }
   ],
   "source": [
    "\"\".join([\"A\",\"B\",\"C\", \"hello\"])"
   ]
  },
  {
   "cell_type": "code",
   "execution_count": 49,
   "id": "00b3b994-0cdb-4cf3-97ee-7e5702e61271",
   "metadata": {},
   "outputs": [
    {
     "data": {
      "text/plain": [
       "'A-B-C'"
      ]
     },
     "execution_count": 49,
     "metadata": {},
     "output_type": "execute_result"
    }
   ],
   "source": [
    "\"-\".join([\"A\",\"B\",\"C\"])"
   ]
  },
  {
   "cell_type": "code",
   "execution_count": 51,
   "id": "e848088d-21fc-4621-a324-779ceb8d37cf",
   "metadata": {},
   "outputs": [
    {
     "data": {
      "text/plain": [
       "'a b c'"
      ]
     },
     "execution_count": 51,
     "metadata": {},
     "output_type": "execute_result"
    }
   ],
   "source": [
    "x=[\"a\",\"b\",\"c\"]\n",
    "\" \".join(x)"
   ]
  },
  {
   "cell_type": "code",
   "execution_count": 52,
   "id": "ea0d6f98-34bf-4b56-b0af-bd118839ea35",
   "metadata": {},
   "outputs": [],
   "source": [
    "# \"this is a test\" -> \"this-is-a-test\""
   ]
  },
  {
   "cell_type": "code",
   "execution_count": 53,
   "id": "3d9aaaa1-b825-4ae8-b4ee-f3abf71f7bf4",
   "metadata": {},
   "outputs": [],
   "source": [
    "x = \"this is a test\""
   ]
  },
  {
   "cell_type": "code",
   "execution_count": 54,
   "id": "a6fb919e-8ac5-4eaa-8730-25cc0bdb3e71",
   "metadata": {},
   "outputs": [
    {
     "data": {
      "text/plain": [
       "'this-is-a-test'"
      ]
     },
     "execution_count": 54,
     "metadata": {},
     "output_type": "execute_result"
    }
   ],
   "source": [
    "x.replace(\" \",\"-\") "
   ]
  },
  {
   "cell_type": "code",
   "execution_count": 55,
   "id": "89d0966a-662f-40c7-bec9-69849f040e3e",
   "metadata": {},
   "outputs": [
    {
     "data": {
      "text/plain": [
       "['this', 'is', 'a', 'test']"
      ]
     },
     "execution_count": 55,
     "metadata": {},
     "output_type": "execute_result"
    }
   ],
   "source": [
    "x.split()"
   ]
  },
  {
   "cell_type": "code",
   "execution_count": 56,
   "id": "a6479fba-1482-4748-b32f-b30778079cee",
   "metadata": {},
   "outputs": [
    {
     "data": {
      "text/plain": [
       "'this-is-a-test'"
      ]
     },
     "execution_count": 56,
     "metadata": {},
     "output_type": "execute_result"
    }
   ],
   "source": [
    "\"-\".join(x.split())"
   ]
  },
  {
   "cell_type": "code",
   "execution_count": 57,
   "id": "ea9e3595-cf63-46d9-93c7-a1dc95600831",
   "metadata": {},
   "outputs": [
    {
     "data": {
      "text/plain": [
       "123"
      ]
     },
     "execution_count": 57,
     "metadata": {},
     "output_type": "execute_result"
    }
   ],
   "source": [
    "int(\"123\")"
   ]
  },
  {
   "cell_type": "code",
   "execution_count": 58,
   "id": "6d48eeae-24f6-430b-9e24-9a1539736696",
   "metadata": {},
   "outputs": [
    {
     "data": {
      "text/plain": [
       "123.456"
      ]
     },
     "execution_count": 58,
     "metadata": {},
     "output_type": "execute_result"
    }
   ],
   "source": [
    "float(\"123.456\")"
   ]
  },
  {
   "cell_type": "code",
   "execution_count": 59,
   "id": "a8154ebb-3dfe-468b-9f28-90aa0cc83016",
   "metadata": {},
   "outputs": [
    {
     "data": {
      "text/plain": [
       "255"
      ]
     },
     "execution_count": 59,
     "metadata": {},
     "output_type": "execute_result"
    }
   ],
   "source": [
    "int(\"ff\", 16)"
   ]
  },
  {
   "cell_type": "code",
   "execution_count": 60,
   "id": "d14eca00-585d-415a-9a72-a47e30d9f5bf",
   "metadata": {},
   "outputs": [
    {
     "ename": "ValueError",
     "evalue": "could not convert string to float: 'xyz'",
     "output_type": "error",
     "traceback": [
      "\u001b[31m---------------------------------------------------------------------------\u001b[39m",
      "\u001b[31mValueError\u001b[39m                                Traceback (most recent call last)",
      "\u001b[36mCell\u001b[39m\u001b[36m \u001b[39m\u001b[32mIn[60]\u001b[39m\u001b[32m, line 1\u001b[39m\n\u001b[32m----> \u001b[39m\u001b[32m1\u001b[39m \u001b[38;5;28;43mfloat\u001b[39;49m\u001b[43m(\u001b[49m\u001b[33;43m\"\u001b[39;49m\u001b[33;43mxyz\u001b[39;49m\u001b[33;43m\"\u001b[39;49m\u001b[43m)\u001b[49m\n",
      "\u001b[31mValueError\u001b[39m: could not convert string to float: 'xyz'"
     ]
    }
   ],
   "source": [
    "float(\"xyz\")"
   ]
  },
  {
   "cell_type": "code",
   "execution_count": 61,
   "id": "0af5ac3f-ac77-4394-979c-48d9444f130a",
   "metadata": {},
   "outputs": [],
   "source": [
    "x = \" hello, World\\t\\t\""
   ]
  },
  {
   "cell_type": "code",
   "execution_count": 63,
   "id": "4c6ec5fd-f133-4e4d-ae40-66dd0733f6d4",
   "metadata": {},
   "outputs": [
    {
     "data": {
      "text/plain": [
       "'hello, World'"
      ]
     },
     "execution_count": 63,
     "metadata": {},
     "output_type": "execute_result"
    }
   ],
   "source": [
    "x.strip()"
   ]
  },
  {
   "cell_type": "code",
   "execution_count": 64,
   "id": "02d7367e-31b0-4778-9be9-d5eccabaf8c1",
   "metadata": {},
   "outputs": [
    {
     "data": {
      "text/plain": [
       "'hello, World\\t\\t'"
      ]
     },
     "execution_count": 64,
     "metadata": {},
     "output_type": "execute_result"
    }
   ],
   "source": [
    "x.lstrip()"
   ]
  },
  {
   "cell_type": "code",
   "execution_count": 65,
   "id": "8a47d407-1698-4c6d-b3c3-2f99efddd65e",
   "metadata": {},
   "outputs": [
    {
     "data": {
      "text/plain": [
       "' hello, World'"
      ]
     },
     "execution_count": 65,
     "metadata": {},
     "output_type": "execute_result"
    }
   ],
   "source": [
    "x.rstrip()"
   ]
  },
  {
   "cell_type": "code",
   "execution_count": 66,
   "id": "3cd28b7b-2e38-438a-999b-bafc75bfacb2",
   "metadata": {},
   "outputs": [],
   "source": [
    "l = \"www.python.org\""
   ]
  },
  {
   "cell_type": "code",
   "execution_count": 67,
   "id": "05e81590-653a-4f8d-9f15-20be5e195a7b",
   "metadata": {},
   "outputs": [
    {
     "data": {
      "text/plain": [
       "'.python.org'"
      ]
     },
     "execution_count": 67,
     "metadata": {},
     "output_type": "execute_result"
    }
   ],
   "source": [
    "l.strip(\"w\")"
   ]
  },
  {
   "cell_type": "code",
   "execution_count": 68,
   "id": "9ff56679-9794-4209-9b6d-936bf01f512e",
   "metadata": {},
   "outputs": [
    {
     "data": {
      "text/plain": [
       "'www.python.'"
      ]
     },
     "execution_count": 68,
     "metadata": {},
     "output_type": "execute_result"
    }
   ],
   "source": [
    "l.strip(\"rgo\")"
   ]
  },
  {
   "cell_type": "code",
   "execution_count": 69,
   "id": "b2e89380-8e29-4c9d-911a-8e60a4f5510c",
   "metadata": {},
   "outputs": [
    {
     "data": {
      "text/plain": [
       "' hello, World\\t\\t'"
      ]
     },
     "execution_count": 69,
     "metadata": {},
     "output_type": "execute_result"
    }
   ],
   "source": [
    "x"
   ]
  },
  {
   "cell_type": "code",
   "execution_count": 70,
   "id": "1be83d88-17e2-478c-aa96-9745ba7204b5",
   "metadata": {},
   "outputs": [
    {
     "data": {
      "text/plain": [
       "'www.python.org'"
      ]
     },
     "execution_count": 70,
     "metadata": {},
     "output_type": "execute_result"
    }
   ],
   "source": [
    "l"
   ]
  },
  {
   "cell_type": "code",
   "execution_count": 71,
   "id": "ee4ea1b4-f27c-4616-b864-1192557465b3",
   "metadata": {},
   "outputs": [
    {
     "data": {
      "text/plain": [
       "'python.org'"
      ]
     },
     "execution_count": 71,
     "metadata": {},
     "output_type": "execute_result"
    }
   ],
   "source": [
    "l.removeprefix(\"www.\")"
   ]
  },
  {
   "cell_type": "code",
   "execution_count": 72,
   "id": "57ec6ea1-b864-40fa-a85f-bfb4cc7870e8",
   "metadata": {},
   "outputs": [
    {
     "data": {
      "text/plain": [
       "'www.python'"
      ]
     },
     "execution_count": 72,
     "metadata": {},
     "output_type": "execute_result"
    }
   ],
   "source": [
    "l.removesuffix(\".org\")"
   ]
  },
  {
   "cell_type": "code",
   "execution_count": 73,
   "id": "a37fe375-b7dc-4626-baef-5e7abf2ec216",
   "metadata": {},
   "outputs": [],
   "source": [
    "line = \"Ali geldi\\n\""
   ]
  },
  {
   "cell_type": "code",
   "execution_count": 74,
   "id": "8f775025-294d-48e8-99c8-a4ef9c87fc30",
   "metadata": {},
   "outputs": [
    {
     "data": {
      "text/plain": [
       "'Ali geldi'"
      ]
     },
     "execution_count": 74,
     "metadata": {},
     "output_type": "execute_result"
    }
   ],
   "source": [
    "clean = line.rstrip()\n",
    "clean"
   ]
  },
  {
   "cell_type": "code",
   "execution_count": 75,
   "id": "ef5e75aa-4e2f-4127-9bfb-ade0e8c9f702",
   "metadata": {},
   "outputs": [
    {
     "data": {
      "text/plain": [
       "'Ali geldi'"
      ]
     },
     "execution_count": 75,
     "metadata": {},
     "output_type": "execute_result"
    }
   ],
   "source": [
    "line.removesuffix(\"\\n\")"
   ]
  },
  {
   "cell_type": "code",
   "execution_count": 76,
   "id": "125e6628-1068-4c66-b9d7-ac8037d1468a",
   "metadata": {},
   "outputs": [],
   "source": [
    "x = \"Mississippi\""
   ]
  },
  {
   "cell_type": "code",
   "execution_count": 77,
   "id": "b15e922b-f227-4394-930b-0e5c7abe0377",
   "metadata": {},
   "outputs": [
    {
     "data": {
      "text/plain": [
       "2"
      ]
     },
     "execution_count": 77,
     "metadata": {},
     "output_type": "execute_result"
    }
   ],
   "source": [
    "x.find(\"ss\")"
   ]
  },
  {
   "cell_type": "code",
   "execution_count": 78,
   "id": "88136a24-4e3a-405e-9ae9-a407ed5a5b52",
   "metadata": {},
   "outputs": [
    {
     "data": {
      "text/plain": [
       "8"
      ]
     },
     "execution_count": 78,
     "metadata": {},
     "output_type": "execute_result"
    }
   ],
   "source": [
    "x.find(\"pp\")"
   ]
  },
  {
   "cell_type": "code",
   "execution_count": 79,
   "id": "96f4fcad-134a-4d9b-877a-eeed70f5346a",
   "metadata": {},
   "outputs": [
    {
     "data": {
      "text/plain": [
       "5"
      ]
     },
     "execution_count": 79,
     "metadata": {},
     "output_type": "execute_result"
    }
   ],
   "source": [
    "x.find(\"ss\",3)"
   ]
  },
  {
   "cell_type": "code",
   "execution_count": 80,
   "id": "8f0f0e6a-f13c-4484-ac57-6e693d932eb0",
   "metadata": {},
   "outputs": [
    {
     "data": {
      "text/plain": [
       "-1"
      ]
     },
     "execution_count": 80,
     "metadata": {},
     "output_type": "execute_result"
    }
   ],
   "source": [
    "x.find(\"zz\")"
   ]
  },
  {
   "cell_type": "code",
   "execution_count": 81,
   "id": "41dc6609-2d49-4590-a61d-7f9bef152460",
   "metadata": {},
   "outputs": [
    {
     "data": {
      "text/plain": [
       "-1"
      ]
     },
     "execution_count": 81,
     "metadata": {},
     "output_type": "execute_result"
    }
   ],
   "source": [
    "x.find(\"gg\")"
   ]
  },
  {
   "cell_type": "code",
   "execution_count": 82,
   "id": "0b388f40-6b01-46f4-87ce-2fa2edafd282",
   "metadata": {},
   "outputs": [
    {
     "data": {
      "text/plain": [
       "5"
      ]
     },
     "execution_count": 82,
     "metadata": {},
     "output_type": "execute_result"
    }
   ],
   "source": [
    "x.rfind(\"ss\")"
   ]
  },
  {
   "cell_type": "code",
   "execution_count": 83,
   "id": "ffe44488-bf93-4a62-bc75-6c883fd6bf3d",
   "metadata": {},
   "outputs": [
    {
     "data": {
      "text/plain": [
       "'Mississippi'"
      ]
     },
     "execution_count": 83,
     "metadata": {},
     "output_type": "execute_result"
    }
   ],
   "source": [
    "x"
   ]
  },
  {
   "cell_type": "code",
   "execution_count": 84,
   "id": "2600f7f8-6862-4556-91fc-3b0bb3306693",
   "metadata": {},
   "outputs": [
    {
     "data": {
      "text/plain": [
       "2"
      ]
     },
     "execution_count": 84,
     "metadata": {},
     "output_type": "execute_result"
    }
   ],
   "source": [
    "x.count(\"ss\")"
   ]
  },
  {
   "cell_type": "code",
   "execution_count": 85,
   "id": "fc7ea666-fe93-4d4f-bb66-b50042c8e430",
   "metadata": {},
   "outputs": [
    {
     "data": {
      "text/plain": [
       "4"
      ]
     },
     "execution_count": 85,
     "metadata": {},
     "output_type": "execute_result"
    }
   ],
   "source": [
    "x.count(\"s\")"
   ]
  },
  {
   "cell_type": "code",
   "execution_count": 86,
   "id": "9bb4b195-f7e3-4af9-8764-7d3e5da2ebdc",
   "metadata": {},
   "outputs": [
    {
     "data": {
      "text/plain": [
       "'Mississippi'"
      ]
     },
     "execution_count": 86,
     "metadata": {},
     "output_type": "execute_result"
    }
   ],
   "source": [
    "x"
   ]
  },
  {
   "cell_type": "code",
   "execution_count": 89,
   "id": "2ad705fe-6981-4ac4-8aa8-6eddd15e9449",
   "metadata": {},
   "outputs": [
    {
     "data": {
      "text/plain": [
       "True"
      ]
     },
     "execution_count": 89,
     "metadata": {},
     "output_type": "execute_result"
    }
   ],
   "source": [
    "x.startswith(\"Mis\")"
   ]
  },
  {
   "cell_type": "code",
   "execution_count": 90,
   "id": "73edac8a-a635-47c3-81ac-2322cfa63a5b",
   "metadata": {},
   "outputs": [
    {
     "data": {
      "text/plain": [
       "False"
      ]
     },
     "execution_count": 90,
     "metadata": {},
     "output_type": "execute_result"
    }
   ],
   "source": [
    "x.startswith(\"mis\")"
   ]
  },
  {
   "cell_type": "code",
   "execution_count": 91,
   "id": "510eb9c8-e543-4c69-a734-f3e2cad3737b",
   "metadata": {},
   "outputs": [
    {
     "data": {
      "text/plain": [
       "True"
      ]
     },
     "execution_count": 91,
     "metadata": {},
     "output_type": "execute_result"
    }
   ],
   "source": [
    "x.startswith(\"Missi\")"
   ]
  },
  {
   "cell_type": "code",
   "execution_count": 92,
   "id": "613416a9-f2b9-4c93-b9f7-87841a4b2c27",
   "metadata": {},
   "outputs": [
    {
     "data": {
      "text/plain": [
       "'Mississippi'"
      ]
     },
     "execution_count": 92,
     "metadata": {},
     "output_type": "execute_result"
    }
   ],
   "source": [
    "x"
   ]
  },
  {
   "cell_type": "code",
   "execution_count": 93,
   "id": "ff96be70-7876-40f9-95c0-a0c55ded874f",
   "metadata": {},
   "outputs": [
    {
     "data": {
      "text/plain": [
       "True"
      ]
     },
     "execution_count": 93,
     "metadata": {},
     "output_type": "execute_result"
    }
   ],
   "source": [
    "x.endswith(\"pi\")"
   ]
  },
  {
   "cell_type": "code",
   "execution_count": 94,
   "id": "c010b1d5-776c-412b-b404-db9e436ea812",
   "metadata": {},
   "outputs": [
    {
     "data": {
      "text/plain": [
       "False"
      ]
     },
     "execution_count": 94,
     "metadata": {},
     "output_type": "execute_result"
    }
   ],
   "source": [
    "x.endswith(\"ipi\")"
   ]
  },
  {
   "cell_type": "code",
   "execution_count": 95,
   "id": "cca5b9dd-da2d-48a2-8a50-d58841faeb7d",
   "metadata": {},
   "outputs": [
    {
     "data": {
      "text/plain": [
       "True"
      ]
     },
     "execution_count": 95,
     "metadata": {},
     "output_type": "execute_result"
    }
   ],
   "source": [
    "x.endswith((\"i\",\"u\"))"
   ]
  },
  {
   "cell_type": "code",
   "execution_count": 96,
   "id": "6f3039bf-7c67-4cd9-b4e0-8d4a7608b2af",
   "metadata": {},
   "outputs": [
    {
     "data": {
      "text/plain": [
       "'Mississippi'"
      ]
     },
     "execution_count": 96,
     "metadata": {},
     "output_type": "execute_result"
    }
   ],
   "source": [
    "x"
   ]
  },
  {
   "cell_type": "code",
   "execution_count": 97,
   "id": "a3e017c6-a04e-4834-ae0a-1ad0185e381d",
   "metadata": {},
   "outputs": [
    {
     "data": {
      "text/plain": [
       "'Mi+++i+++ippi'"
      ]
     },
     "execution_count": 97,
     "metadata": {},
     "output_type": "execute_result"
    }
   ],
   "source": [
    "x.replace(\"ss\",\"+++\")"
   ]
  },
  {
   "cell_type": "code",
   "execution_count": 105,
   "id": "48d2f4c8-36db-4dbd-8a6a-87edf603ffd6",
   "metadata": {},
   "outputs": [],
   "source": [
    "x = \"~x ^ (y % z)A\""
   ]
  },
  {
   "cell_type": "code",
   "execution_count": 106,
   "id": "6634481f-d9ab-4af4-9b87-4ddf554afb79",
   "metadata": {},
   "outputs": [],
   "source": [
    "table = str.maketrans(\"~^()A\", \"!&[]1\")"
   ]
  },
  {
   "cell_type": "code",
   "execution_count": 107,
   "id": "10191bcb-046a-4b9d-9173-7eab384bed0e",
   "metadata": {},
   "outputs": [
    {
     "data": {
      "text/plain": [
       "'!x & [y % z]1'"
      ]
     },
     "execution_count": 107,
     "metadata": {},
     "output_type": "execute_result"
    }
   ],
   "source": [
    "x.translate(table)"
   ]
  },
  {
   "cell_type": "code",
   "execution_count": 108,
   "id": "ac089eed-1341-4ad9-8fa0-46076349e042",
   "metadata": {},
   "outputs": [
    {
     "data": {
      "text/plain": [
       "{126: 33, 94: 38, 40: 91, 41: 93, 65: 49}"
      ]
     },
     "execution_count": 108,
     "metadata": {},
     "output_type": "execute_result"
    }
   ],
   "source": [
    "x.maketrans(\"~^()A\", \"!&[]1\")"
   ]
  },
  {
   "cell_type": "code",
   "execution_count": 109,
   "id": "76596ae9-6e0c-4883-a3fd-69613d6967ca",
   "metadata": {},
   "outputs": [
    {
     "data": {
      "text/plain": [
       "'hello'"
      ]
     },
     "execution_count": 109,
     "metadata": {},
     "output_type": "execute_result"
    }
   ],
   "source": [
    "\"HELLO\".lower()"
   ]
  },
  {
   "cell_type": "code",
   "execution_count": 110,
   "id": "72604af0-b048-48f7-a0d8-4f871c7fbc13",
   "metadata": {},
   "outputs": [
    {
     "data": {
      "text/plain": [
       "'HI'"
      ]
     },
     "execution_count": 110,
     "metadata": {},
     "output_type": "execute_result"
    }
   ],
   "source": [
    "\"hi\".upper()"
   ]
  },
  {
   "cell_type": "code",
   "execution_count": 2,
   "id": "f7c05022-ac54-48e0-bf1b-e1b7cacfa137",
   "metadata": {},
   "outputs": [
    {
     "data": {
      "text/plain": [
       "'pYthON'"
      ]
     },
     "execution_count": 2,
     "metadata": {},
     "output_type": "execute_result"
    }
   ],
   "source": [
    "\"PyTHon\".swapcase()"
   ]
  },
  {
   "cell_type": "code",
   "execution_count": 3,
   "id": "29507e2b-1cfc-4bdc-acb3-96a09a323350",
   "metadata": {},
   "outputs": [],
   "source": [
    "text = \"Hello, World\""
   ]
  },
  {
   "cell_type": "code",
   "execution_count": 4,
   "id": "a88cc4d6-519f-4ab7-bc48-a30a5575b44a",
   "metadata": {},
   "outputs": [
    {
     "ename": "TypeError",
     "evalue": "'str' object does not support item assignment",
     "output_type": "error",
     "traceback": [
      "\u001b[31m---------------------------------------------------------------------------\u001b[39m",
      "\u001b[31mTypeError\u001b[39m                                 Traceback (most recent call last)",
      "\u001b[36mCell\u001b[39m\u001b[36m \u001b[39m\u001b[32mIn[4]\u001b[39m\u001b[32m, line 1\u001b[39m\n\u001b[32m----> \u001b[39m\u001b[32m1\u001b[39m \u001b[43mtext\u001b[49m\u001b[43m[\u001b[49m\u001b[32;43m0\u001b[39;49m\u001b[43m]\u001b[49m = \u001b[33m\"\u001b[39m\u001b[33mM\u001b[39m\u001b[33m\"\u001b[39m\n",
      "\u001b[31mTypeError\u001b[39m: 'str' object does not support item assignment"
     ]
    }
   ],
   "source": [
    "text[0] = \"M\""
   ]
  },
  {
   "cell_type": "code",
   "execution_count": 5,
   "id": "7239638b-4182-4dec-9778-d3eec535e6c9",
   "metadata": {},
   "outputs": [],
   "source": [
    "wordlist = list(text)"
   ]
  },
  {
   "cell_type": "code",
   "execution_count": 6,
   "id": "088e4ca8-711a-45a4-9347-f089844988e5",
   "metadata": {},
   "outputs": [
    {
     "data": {
      "text/plain": [
       "['H', 'e', 'l', 'l', 'o', ',', ' ', 'W', 'o', 'r', 'l', 'd']"
      ]
     },
     "execution_count": 6,
     "metadata": {},
     "output_type": "execute_result"
    }
   ],
   "source": [
    "wordlist"
   ]
  },
  {
   "cell_type": "code",
   "execution_count": 7,
   "id": "24201c35-d0a3-4b9c-8f91-d7ae8895d129",
   "metadata": {},
   "outputs": [],
   "source": [
    "wordlist[6:] = []"
   ]
  },
  {
   "cell_type": "code",
   "execution_count": 8,
   "id": "e83cec25-9f1c-4a56-9906-c4ddd3508cb3",
   "metadata": {},
   "outputs": [
    {
     "data": {
      "text/plain": [
       "['H', 'e', 'l', 'l', 'o', ',']"
      ]
     },
     "execution_count": 8,
     "metadata": {},
     "output_type": "execute_result"
    }
   ],
   "source": [
    "wordlist"
   ]
  },
  {
   "cell_type": "code",
   "execution_count": 9,
   "id": "ceccd13a-2f12-4740-80be-ffdaad2234e3",
   "metadata": {},
   "outputs": [],
   "source": [
    "wordlist.reverse()"
   ]
  },
  {
   "cell_type": "code",
   "execution_count": 10,
   "id": "4caba1bb-f3f0-4016-bda1-8f1fd60a8fe8",
   "metadata": {},
   "outputs": [
    {
     "data": {
      "text/plain": [
       "[',', 'o', 'l', 'l', 'e', 'H']"
      ]
     },
     "execution_count": 10,
     "metadata": {},
     "output_type": "execute_result"
    }
   ],
   "source": [
    "wordlist"
   ]
  },
  {
   "cell_type": "code",
   "execution_count": 11,
   "id": "9cf27bae-b965-4ab6-9e69-7e15b8c83ba7",
   "metadata": {},
   "outputs": [],
   "source": [
    "text = \"\".join(wordlist)"
   ]
  },
  {
   "cell_type": "code",
   "execution_count": 12,
   "id": "ad6c9551-4fb5-47b4-938a-653cfc456ffa",
   "metadata": {},
   "outputs": [
    {
     "data": {
      "text/plain": [
       "',olleH'"
      ]
     },
     "execution_count": 12,
     "metadata": {},
     "output_type": "execute_result"
    }
   ],
   "source": [
    "text"
   ]
  },
  {
   "cell_type": "code",
   "execution_count": 13,
   "id": "3d6f42de-b66e-4544-9d42-29218cd2a0e9",
   "metadata": {},
   "outputs": [
    {
     "data": {
      "text/plain": [
       "True"
      ]
     },
     "execution_count": 13,
     "metadata": {},
     "output_type": "execute_result"
    }
   ],
   "source": [
    "\"123\".isdigit()"
   ]
  },
  {
   "cell_type": "code",
   "execution_count": 14,
   "id": "d164bdc7-c017-4134-b541-c936214ed2cb",
   "metadata": {},
   "outputs": [
    {
     "data": {
      "text/plain": [
       "True"
      ]
     },
     "execution_count": 14,
     "metadata": {},
     "output_type": "execute_result"
    }
   ],
   "source": [
    "\"abc\".isalpha()"
   ]
  },
  {
   "cell_type": "code",
   "execution_count": 15,
   "id": "fd61074e-9cbf-4468-825f-578ce436f8e9",
   "metadata": {},
   "outputs": [
    {
     "data": {
      "text/plain": [
       "False"
      ]
     },
     "execution_count": 15,
     "metadata": {},
     "output_type": "execute_result"
    }
   ],
   "source": [
    "\"Abc\".islower()"
   ]
  },
  {
   "cell_type": "code",
   "execution_count": 16,
   "id": "c8fee0ff-b43c-4498-942d-581b76ca52a6",
   "metadata": {},
   "outputs": [
    {
     "data": {
      "text/plain": [
       "True"
      ]
     },
     "execution_count": 16,
     "metadata": {},
     "output_type": "execute_result"
    }
   ],
   "source": [
    "\"ABC\".isupper()"
   ]
  },
  {
   "cell_type": "markdown",
   "id": "aa9ea201-bc51-40dc-adb7-2f0c942f2a39",
   "metadata": {},
   "source": [
    ".format()\n",
    "f-string\n",
    "% operatör"
   ]
  },
  {
   "cell_type": "code",
   "execution_count": 17,
   "id": "3ae834db-48ed-4877-a3f0-8814d1bb628a",
   "metadata": {},
   "outputs": [
    {
     "data": {
      "text/plain": [
       "'30 yaşında bir mühendis tanıyorum.'"
      ]
     },
     "execution_count": 17,
     "metadata": {},
     "output_type": "execute_result"
    }
   ],
   "source": [
    "\"{0} yaşında bir {1} tanıyorum.\".format(30, \"mühendis\")"
   ]
  },
  {
   "cell_type": "code",
   "execution_count": 18,
   "id": "c850417e-0eab-4a74-b8b9-f51685d01d71",
   "metadata": {},
   "outputs": [
    {
     "data": {
      "text/plain": [
       "'Merhaba Ali'"
      ]
     },
     "execution_count": 18,
     "metadata": {},
     "output_type": "execute_result"
    }
   ],
   "source": [
    "name = \"Ali\"\n",
    "\n",
    "f\"Merhaba {name}\""
   ]
  },
  {
   "cell_type": "code",
   "execution_count": 19,
   "id": "54afd075-6b83-49d2-adeb-0db02a9083fc",
   "metadata": {},
   "outputs": [
    {
     "data": {
      "text/plain": [
       "'Toplam: 3'"
      ]
     },
     "execution_count": 19,
     "metadata": {},
     "output_type": "execute_result"
    }
   ],
   "source": [
    "f\"Toplam: {1+2}\""
   ]
  },
  {
   "cell_type": "code",
   "execution_count": 20,
   "id": "7bd5df88-f560-4846-8ca7-58a3db13573c",
   "metadata": {},
   "outputs": [],
   "source": [
    "pi = 3.14159"
   ]
  },
  {
   "cell_type": "code",
   "execution_count": 21,
   "id": "1ea47ef4-68da-4b80-a2e4-59ca7272e66a",
   "metadata": {},
   "outputs": [
    {
     "data": {
      "text/plain": [
       "'PI is       3.14'"
      ]
     },
     "execution_count": 21,
     "metadata": {},
     "output_type": "execute_result"
    }
   ],
   "source": [
    "f\"PI is {pi:>10.2f}\""
   ]
  },
  {
   "cell_type": "code",
   "execution_count": 22,
   "id": "010f7cea-bda4-4119-9e4a-6bf55b780e4a",
   "metadata": {},
   "outputs": [
    {
     "data": {
      "text/plain": [
       "'30 yaşında bir doktor tanıyorum.'"
      ]
     },
     "execution_count": 22,
     "metadata": {},
     "output_type": "execute_result"
    }
   ],
   "source": [
    "\"%s yaşında bir %s tanıyorum.\" % (30, \"doktor\")"
   ]
  },
  {
   "cell_type": "code",
   "execution_count": null,
   "id": "b7e9dbd3-e968-4f0d-8d66-d21e488b772c",
   "metadata": {},
   "outputs": [],
   "source": [
    "f\"...\"\n",
    ".format\n",
    "\"%...\""
   ]
  }
 ],
 "metadata": {
  "kernelspec": {
   "display_name": "Python 3 (ipykernel)",
   "language": "python",
   "name": "python3"
  },
  "language_info": {
   "codemirror_mode": {
    "name": "ipython",
    "version": 3
   },
   "file_extension": ".py",
   "mimetype": "text/x-python",
   "name": "python",
   "nbconvert_exporter": "python",
   "pygments_lexer": "ipython3",
   "version": "3.12.2"
  }
 },
 "nbformat": 4,
 "nbformat_minor": 5
}
