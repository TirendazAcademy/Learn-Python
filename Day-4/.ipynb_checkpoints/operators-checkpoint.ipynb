{
 "cells": [
  {
   "cell_type": "markdown",
   "id": "ebc2bf89-827c-40fd-b932-539fa71821bd",
   "metadata": {},
   "source": [
    "# Operatorler "
   ]
  },
  {
   "cell_type": "code",
   "execution_count": 1,
   "id": "eecb2907-af52-42d6-a269-980621fc028d",
   "metadata": {},
   "outputs": [
    {
     "data": {
      "text/plain": [
       "8"
      ]
     },
     "execution_count": 1,
     "metadata": {},
     "output_type": "execute_result"
    }
   ],
   "source": [
    "3 + 5"
   ]
  },
  {
   "cell_type": "markdown",
   "id": "a452d574-df50-4e43-aa18-7c66aaa14104",
   "metadata": {},
   "source": [
    "expression (ifade)"
   ]
  },
  {
   "cell_type": "code",
   "execution_count": 2,
   "id": "0a81e9ca-5858-4aaf-9d9c-701dbd772f9e",
   "metadata": {},
   "outputs": [
    {
     "data": {
      "text/plain": [
       "'merhabadünya!'"
      ]
     },
     "execution_count": 2,
     "metadata": {},
     "output_type": "execute_result"
    }
   ],
   "source": [
    "\"merhaba\" + \"dünya!\""
   ]
  },
  {
   "cell_type": "code",
   "execution_count": 3,
   "id": "1a6d8735-8712-450d-a9b2-601c8e657332",
   "metadata": {},
   "outputs": [],
   "source": [
    "x = 5 # komut"
   ]
  },
  {
   "cell_type": "code",
   "execution_count": 4,
   "id": "599d0450-795c-42b4-a3d8-6ab4af7dd2fc",
   "metadata": {},
   "outputs": [
    {
     "data": {
      "text/plain": [
       "False"
      ]
     },
     "execution_count": 4,
     "metadata": {},
     "output_type": "execute_result"
    }
   ],
   "source": [
    "x % 2 == 0 and x < 100 # Expression"
   ]
  },
  {
   "cell_type": "code",
   "execution_count": 5,
   "id": "37b53f82-a49f-4f33-a729-47ccb923cf65",
   "metadata": {},
   "outputs": [
    {
     "data": {
      "text/plain": [
       "7"
      ]
     },
     "execution_count": 5,
     "metadata": {},
     "output_type": "execute_result"
    }
   ],
   "source": [
    "abs(-7)"
   ]
  },
  {
   "cell_type": "code",
   "execution_count": 6,
   "id": "b927cef5-a7ea-4a73-a765-5dd5f39c3520",
   "metadata": {},
   "outputs": [
    {
     "data": {
      "text/plain": [
       "256"
      ]
     },
     "execution_count": 6,
     "metadata": {},
     "output_type": "execute_result"
    }
   ],
   "source": [
    "pow(2, 8)"
   ]
  },
  {
   "cell_type": "code",
   "execution_count": 7,
   "id": "7c8be1e9-5456-4a7f-bb9d-25a7d15ce4ee",
   "metadata": {},
   "outputs": [
    {
     "name": "stdout",
     "output_type": "stream",
     "text": [
      "\n"
     ]
    }
   ],
   "source": [
    "print()"
   ]
  },
  {
   "cell_type": "code",
   "execution_count": 8,
   "id": "83cdd954-ac31-4098-8461-0a1fb35a911b",
   "metadata": {},
   "outputs": [
    {
     "name": "stdout",
     "output_type": "stream",
     "text": [
      "\n",
      "None\n"
     ]
    }
   ],
   "source": [
    "print(print())"
   ]
  },
  {
   "cell_type": "markdown",
   "id": "4106c869-b84d-448b-bb44-8e2d7af32947",
   "metadata": {},
   "source": [
    "# Matematiksel Operatörler"
   ]
  },
  {
   "cell_type": "code",
   "execution_count": 9,
   "id": "61452697-6394-4d0e-b112-f0af994c1fa0",
   "metadata": {},
   "outputs": [],
   "source": [
    "a = 5\n",
    "b = 3"
   ]
  },
  {
   "cell_type": "code",
   "execution_count": 10,
   "id": "3a2f7f2b-0f12-448e-b06c-e63d1cc27be8",
   "metadata": {},
   "outputs": [
    {
     "data": {
      "text/plain": [
       "5"
      ]
     },
     "execution_count": 10,
     "metadata": {},
     "output_type": "execute_result"
    }
   ],
   "source": [
    "+a"
   ]
  },
  {
   "cell_type": "code",
   "execution_count": 11,
   "id": "f16f0a9d-d1a8-4d8a-8a81-8a1ebb83ee92",
   "metadata": {},
   "outputs": [
    {
     "data": {
      "text/plain": [
       "8"
      ]
     },
     "execution_count": 11,
     "metadata": {},
     "output_type": "execute_result"
    }
   ],
   "source": [
    "a + b"
   ]
  },
  {
   "cell_type": "code",
   "execution_count": 12,
   "id": "53f4e0c2-ab98-4edc-92bc-67e17b1ab720",
   "metadata": {},
   "outputs": [
    {
     "data": {
      "text/plain": [
       "2"
      ]
     },
     "execution_count": 12,
     "metadata": {},
     "output_type": "execute_result"
    }
   ],
   "source": [
    "a-b"
   ]
  },
  {
   "cell_type": "code",
   "execution_count": 13,
   "id": "c7ce0786-44ae-405d-8d94-9807680bf734",
   "metadata": {},
   "outputs": [
    {
     "data": {
      "text/plain": [
       "1.6666666666666667"
      ]
     },
     "execution_count": 13,
     "metadata": {},
     "output_type": "execute_result"
    }
   ],
   "source": [
    "a/b"
   ]
  },
  {
   "cell_type": "code",
   "execution_count": 14,
   "id": "c97b9210-59d6-4449-836d-56ce0b55f7a8",
   "metadata": {},
   "outputs": [
    {
     "data": {
      "text/plain": [
       "2.0"
      ]
     },
     "execution_count": 14,
     "metadata": {},
     "output_type": "execute_result"
    }
   ],
   "source": [
    "10 / 5"
   ]
  },
  {
   "cell_type": "code",
   "execution_count": 15,
   "id": "c3026803-568e-496b-8e96-1a682048a2f0",
   "metadata": {},
   "outputs": [
    {
     "data": {
      "text/plain": [
       "1"
      ]
     },
     "execution_count": 15,
     "metadata": {},
     "output_type": "execute_result"
    }
   ],
   "source": [
    "a // b"
   ]
  },
  {
   "cell_type": "code",
   "execution_count": 16,
   "id": "c9516089-fb73-4f66-9eeb-3efd7cca526b",
   "metadata": {},
   "outputs": [
    {
     "data": {
      "text/plain": [
       "2"
      ]
     },
     "execution_count": 16,
     "metadata": {},
     "output_type": "execute_result"
    }
   ],
   "source": [
    "5//2"
   ]
  },
  {
   "cell_type": "code",
   "execution_count": 17,
   "id": "6e240431-b81c-4c1e-bc52-22eadfb40791",
   "metadata": {},
   "outputs": [
    {
     "data": {
      "text/plain": [
       "-3"
      ]
     },
     "execution_count": 17,
     "metadata": {},
     "output_type": "execute_result"
    }
   ],
   "source": [
    "-5//2"
   ]
  },
  {
   "cell_type": "code",
   "execution_count": 18,
   "id": "7456891c-ffee-40f2-8ebf-5f4d88639fb1",
   "metadata": {},
   "outputs": [
    {
     "data": {
      "text/plain": [
       "-2.5"
      ]
     },
     "execution_count": 18,
     "metadata": {},
     "output_type": "execute_result"
    }
   ],
   "source": [
    "-5/2"
   ]
  },
  {
   "cell_type": "code",
   "execution_count": 19,
   "id": "67bfe2ef-619d-4b1c-af66-446a34d64bf4",
   "metadata": {},
   "outputs": [
    {
     "data": {
      "text/plain": [
       "(1+0j)"
      ]
     },
     "execution_count": 19,
     "metadata": {},
     "output_type": "execute_result"
    }
   ],
   "source": [
    "(1+5j) / (1+5j)"
   ]
  },
  {
   "cell_type": "code",
   "execution_count": 20,
   "id": "ed9ba0a7-5380-4637-b5aa-82409e96bd31",
   "metadata": {},
   "outputs": [
    {
     "data": {
      "text/plain": [
       "complex"
      ]
     },
     "execution_count": 20,
     "metadata": {},
     "output_type": "execute_result"
    }
   ],
   "source": [
    "type((1+5j) / (1+5j))"
   ]
  },
  {
   "cell_type": "code",
   "execution_count": 21,
   "id": "ba490e71-1997-4163-941e-eaf4597e874a",
   "metadata": {},
   "outputs": [
    {
     "data": {
      "text/plain": [
       "5"
      ]
     },
     "execution_count": 21,
     "metadata": {},
     "output_type": "execute_result"
    }
   ],
   "source": [
    "a "
   ]
  },
  {
   "cell_type": "code",
   "execution_count": 22,
   "id": "8923dac5-5d49-46ba-ad79-35b002709467",
   "metadata": {},
   "outputs": [
    {
     "data": {
      "text/plain": [
       "3"
      ]
     },
     "execution_count": 22,
     "metadata": {},
     "output_type": "execute_result"
    }
   ],
   "source": [
    "b"
   ]
  },
  {
   "cell_type": "code",
   "execution_count": 23,
   "id": "5efa8afc-ea08-4dcc-9e14-083fc33c3146",
   "metadata": {},
   "outputs": [
    {
     "data": {
      "text/plain": [
       "2"
      ]
     },
     "execution_count": 23,
     "metadata": {},
     "output_type": "execute_result"
    }
   ],
   "source": [
    "a % b"
   ]
  },
  {
   "cell_type": "code",
   "execution_count": 24,
   "id": "e678679a-35e0-482b-a4f4-011dbac61475",
   "metadata": {},
   "outputs": [
    {
     "data": {
      "text/plain": [
       "1"
      ]
     },
     "execution_count": 24,
     "metadata": {},
     "output_type": "execute_result"
    }
   ],
   "source": [
    "5 % 2 "
   ]
  },
  {
   "cell_type": "code",
   "execution_count": 25,
   "id": "b1327631-8a18-416d-a485-33315331ad39",
   "metadata": {},
   "outputs": [
    {
     "data": {
      "text/plain": [
       "125"
      ]
     },
     "execution_count": 25,
     "metadata": {},
     "output_type": "execute_result"
    }
   ],
   "source": [
    "a ** b "
   ]
  },
  {
   "cell_type": "markdown",
   "id": "528238e4-e649-4234-95d0-235338091a0d",
   "metadata": {},
   "source": [
    "# Karşılaştırma Operatörleri "
   ]
  },
  {
   "cell_type": "code",
   "execution_count": 26,
   "id": "a8805cec-aad4-4b8f-965d-4b8a21adfbe6",
   "metadata": {},
   "outputs": [
    {
     "data": {
      "text/plain": [
       "'\\n==\\tEşittir\\t\\n!=\\tEşit değildir\\t\\n<\\tKüçüktür\\t\\n<=\\tKüçük veya eşittir\\t\\n>\\tBüyüktür\\t\\n>=\\tBüyük veya eşittir\\n\\nTrue False\\n'"
      ]
     },
     "execution_count": 26,
     "metadata": {},
     "output_type": "execute_result"
    }
   ],
   "source": [
    "\"\"\"\n",
    "==\tEşittir\t\n",
    "!=\tEşit değildir\t\n",
    "<\tKüçüktür\t\n",
    "<=\tKüçük veya eşittir\t\n",
    ">\tBüyüktür\t\n",
    ">=\tBüyük veya eşittir\n",
    "\n",
    "True False\n",
    "\"\"\""
   ]
  },
  {
   "cell_type": "code",
   "execution_count": 27,
   "id": "c34a6be8-bb7c-4449-964c-55d58c2a816c",
   "metadata": {},
   "outputs": [
    {
     "data": {
      "text/plain": [
       "True"
      ]
     },
     "execution_count": 27,
     "metadata": {},
     "output_type": "execute_result"
    }
   ],
   "source": [
    "3 == 3"
   ]
  },
  {
   "cell_type": "code",
   "execution_count": 28,
   "id": "1326b4ea-8df4-4e83-8825-50e2fffe047f",
   "metadata": {},
   "outputs": [
    {
     "data": {
      "text/plain": [
       "True"
      ]
     },
     "execution_count": 28,
     "metadata": {},
     "output_type": "execute_result"
    }
   ],
   "source": [
    "3 != 5"
   ]
  },
  {
   "cell_type": "code",
   "execution_count": 29,
   "id": "8e58dfec-53d5-4182-9935-a47d8de2aafd",
   "metadata": {},
   "outputs": [
    {
     "data": {
      "text/plain": [
       "True"
      ]
     },
     "execution_count": 29,
     "metadata": {},
     "output_type": "execute_result"
    }
   ],
   "source": [
    "2 < 5"
   ]
  },
  {
   "cell_type": "code",
   "execution_count": 30,
   "id": "97c33641-c152-4d6e-b38b-2732e9983bdb",
   "metadata": {},
   "outputs": [
    {
     "data": {
      "text/plain": [
       "True"
      ]
     },
     "execution_count": 30,
     "metadata": {},
     "output_type": "execute_result"
    }
   ],
   "source": [
    "5 >= 5"
   ]
  },
  {
   "cell_type": "code",
   "execution_count": 31,
   "id": "a9ae51fd-fb8e-4043-8f7f-89b0eac4cb79",
   "metadata": {},
   "outputs": [
    {
     "data": {
      "text/plain": [
       "False"
      ]
     },
     "execution_count": 31,
     "metadata": {},
     "output_type": "execute_result"
    }
   ],
   "source": [
    "2 == \"2\""
   ]
  },
  {
   "cell_type": "code",
   "execution_count": 32,
   "id": "ac028979-968f-496f-b1bf-4cef594c81f4",
   "metadata": {},
   "outputs": [
    {
     "ename": "TypeError",
     "evalue": "'<' not supported between instances of 'int' and 'str'",
     "output_type": "error",
     "traceback": [
      "\u001b[31m---------------------------------------------------------------------------\u001b[39m",
      "\u001b[31mTypeError\u001b[39m                                 Traceback (most recent call last)",
      "\u001b[36mCell\u001b[39m\u001b[36m \u001b[39m\u001b[32mIn[32]\u001b[39m\u001b[32m, line 1\u001b[39m\n\u001b[32m----> \u001b[39m\u001b[32m1\u001b[39m \u001b[32;43m5\u001b[39;49m\u001b[43m \u001b[49m\u001b[43m<\u001b[49m\u001b[43m \u001b[49m\u001b[33;43m\"\u001b[39;49m\u001b[33;43m7\u001b[39;49m\u001b[33;43m\"\u001b[39;49m\n",
      "\u001b[31mTypeError\u001b[39m: '<' not supported between instances of 'int' and 'str'"
     ]
    }
   ],
   "source": [
    "5 < \"7\""
   ]
  },
  {
   "cell_type": "code",
   "execution_count": 33,
   "id": "c44d86d7-95cc-4bcd-8286-975f4ee1e608",
   "metadata": {},
   "outputs": [
    {
     "data": {
      "text/plain": [
       "True"
      ]
     },
     "execution_count": 33,
     "metadata": {},
     "output_type": "execute_result"
    }
   ],
   "source": [
    "5 < 7.0"
   ]
  },
  {
   "cell_type": "code",
   "execution_count": 34,
   "id": "40e1bd37-7550-4829-a858-d7b198f8cc56",
   "metadata": {},
   "outputs": [
    {
     "data": {
      "text/plain": [
       "False"
      ]
     },
     "execution_count": 34,
     "metadata": {},
     "output_type": "execute_result"
    }
   ],
   "source": [
    "5 < 2"
   ]
  },
  {
   "cell_type": "code",
   "execution_count": 35,
   "id": "1c96236e-9e6a-48c1-8c46-ac128f3018e2",
   "metadata": {},
   "outputs": [
    {
     "data": {
      "text/plain": [
       "0.3333333333333333"
      ]
     },
     "execution_count": 35,
     "metadata": {},
     "output_type": "execute_result"
    }
   ],
   "source": [
    "1/3"
   ]
  },
  {
   "cell_type": "code",
   "execution_count": 36,
   "id": "05e23b1c-30f9-461a-be14-6251305e82f6",
   "metadata": {},
   "outputs": [
    {
     "ename": "SyntaxError",
     "evalue": "cannot assign to literal here. Maybe you meant '==' instead of '='? (3087143871.py, line 1)",
     "output_type": "error",
     "traceback": [
      "  \u001b[36mCell\u001b[39m\u001b[36m \u001b[39m\u001b[32mIn[36]\u001b[39m\u001b[32m, line 1\u001b[39m\n\u001b[31m    \u001b[39m\u001b[31m0.1 = 0.000110011001100...\u001b[39m\n    ^\n\u001b[31mSyntaxError\u001b[39m\u001b[31m:\u001b[39m cannot assign to literal here. Maybe you meant '==' instead of '='?\n"
     ]
    }
   ],
   "source": [
    "0.1 = 0.000110011001100..."
   ]
  },
  {
   "cell_type": "code",
   "execution_count": null,
   "id": "3e374210-afcd-4b48-8034-65dbb8c79374",
   "metadata": {},
   "outputs": [],
   "source": [
    "x = 1.1 + 2.2"
   ]
  },
  {
   "cell_type": "code",
   "execution_count": null,
   "id": "05cfeb88-b83e-42ef-9538-146c090a8dd6",
   "metadata": {},
   "outputs": [],
   "source": [
    "print(x == 3.3)"
   ]
  },
  {
   "cell_type": "code",
   "execution_count": null,
   "id": "4e96f23c-90b0-4d2c-83c9-232b1216402b",
   "metadata": {},
   "outputs": [],
   "source": [
    "x"
   ]
  },
  {
   "cell_type": "code",
   "execution_count": null,
   "id": "99e17278-6326-44a1-b154-3c8caa073d89",
   "metadata": {},
   "outputs": [],
   "source": [
    "import math \n",
    "\n",
    "math.isclose(x, 3.3)"
   ]
  },
  {
   "cell_type": "code",
   "execution_count": null,
   "id": "88a5e15f-f4ba-43a2-9d7b-69a41817de93",
   "metadata": {},
   "outputs": [],
   "source": [
    "from math import isclose\n",
    "\n",
    "isclose(x, 3.3)"
   ]
  },
  {
   "cell_type": "code",
   "execution_count": null,
   "id": "6feaa542-811a-4416-a69c-be45d8a94e10",
   "metadata": {},
   "outputs": [],
   "source": [
    "x"
   ]
  },
  {
   "cell_type": "code",
   "execution_count": null,
   "id": "23948cdd-011a-4773-91f5-c3c2424b99da",
   "metadata": {},
   "outputs": [],
   "source": [
    "x < 3.3"
   ]
  },
  {
   "cell_type": "code",
   "execution_count": null,
   "id": "94a8a031-8b27-480a-b3f3-07d286333d9c",
   "metadata": {},
   "outputs": [],
   "source": [
    "\"A\" == \"a\""
   ]
  },
  {
   "cell_type": "code",
   "execution_count": null,
   "id": "42efaba0-ae04-49b0-8911-fe41d6e6b801",
   "metadata": {},
   "outputs": [],
   "source": [
    "ord(\"A\")"
   ]
  },
  {
   "cell_type": "code",
   "execution_count": null,
   "id": "78aaf30b-f4e2-4526-8bae-f419511222f4",
   "metadata": {},
   "outputs": [],
   "source": [
    "ord(\"a\")"
   ]
  },
  {
   "cell_type": "code",
   "execution_count": null,
   "id": "fadbaa15-fb69-415f-8429-5aacbfde2cb4",
   "metadata": {},
   "outputs": [],
   "source": [
    "\"A\" < \"a\""
   ]
  },
  {
   "cell_type": "code",
   "execution_count": null,
   "id": "4b32cf01-3bc4-45c0-8da1-a569e87102b3",
   "metadata": {},
   "outputs": [],
   "source": [
    "\"ahmet\" < \"mehmet\""
   ]
  },
  {
   "cell_type": "code",
   "execution_count": null,
   "id": "25225598-319e-48ce-bf34-414c195c3700",
   "metadata": {},
   "outputs": [],
   "source": [
    "ord(\"a\")"
   ]
  },
  {
   "cell_type": "code",
   "execution_count": null,
   "id": "27a02f7e-e39d-4175-affe-b4bece8f3c72",
   "metadata": {},
   "outputs": [],
   "source": [
    "ord(\"m\")"
   ]
  },
  {
   "cell_type": "code",
   "execution_count": null,
   "id": "ae1bd805-6fe3-4422-a76f-499b95e0a612",
   "metadata": {},
   "outputs": [],
   "source": [
    "\"Hello\" > \"Hell0\""
   ]
  },
  {
   "cell_type": "code",
   "execution_count": null,
   "id": "eee86818-75a9-41ee-8223-769ab0e62f47",
   "metadata": {},
   "outputs": [],
   "source": [
    "ord(\"o\")"
   ]
  },
  {
   "cell_type": "code",
   "execution_count": null,
   "id": "03ce0452-750f-4c1f-9e09-8756d2535c0c",
   "metadata": {},
   "outputs": [],
   "source": [
    "ord(\"0\")"
   ]
  },
  {
   "cell_type": "code",
   "execution_count": null,
   "id": "16f614cf-0364-48c2-b8b0-97adb7a94620",
   "metadata": {},
   "outputs": [],
   "source": [
    "\"Hello\" > \"Hello World\""
   ]
  },
  {
   "cell_type": "code",
   "execution_count": null,
   "id": "3f0e1b2a-d7bf-47d7-9385-b6f9bb6d3456",
   "metadata": {},
   "outputs": [],
   "source": [
    "\"Zebra\" > \"Apple\""
   ]
  },
  {
   "cell_type": "markdown",
   "id": "b951b1a6-ca30-458c-8307-109b420c618f",
   "metadata": {},
   "source": [
    "# Listeler ve Demetlerin Karşılaştırılması"
   ]
  },
  {
   "cell_type": "code",
   "execution_count": null,
   "id": "5e4228a4-b35b-4b24-b588-4736f7d22f8a",
   "metadata": {},
   "outputs": [],
   "source": [
    "[2,3] == [2,3]"
   ]
  },
  {
   "cell_type": "code",
   "execution_count": null,
   "id": "03bbcced-8626-4cbf-918b-107ccb4722be",
   "metadata": {},
   "outputs": [],
   "source": [
    "(4,5) == (4,5)"
   ]
  },
  {
   "cell_type": "code",
   "execution_count": null,
   "id": "50a3dc8f-941e-4f3b-bbf9-4ed869f5e37e",
   "metadata": {},
   "outputs": [],
   "source": [
    "(4,5) == (4,6)"
   ]
  },
  {
   "cell_type": "code",
   "execution_count": null,
   "id": "5374ec5c-aab9-4fed-a777-aa2a606d558f",
   "metadata": {},
   "outputs": [],
   "source": [
    "[5,6,7] < [6, 4, 8]"
   ]
  },
  {
   "cell_type": "code",
   "execution_count": null,
   "id": "fa93aad3-e9f0-472f-942d-34b0319cccf3",
   "metadata": {},
   "outputs": [],
   "source": [
    "[5,6] == (5,6)"
   ]
  },
  {
   "cell_type": "code",
   "execution_count": null,
   "id": "57b858ad-490a-4140-9a7a-83adf746fc77",
   "metadata": {},
   "outputs": [],
   "source": [
    "[5,6,7] < [5]"
   ]
  },
  {
   "cell_type": "code",
   "execution_count": null,
   "id": "05ca5317-5fce-434e-8813-340ebc2034ed",
   "metadata": {},
   "outputs": [],
   "source": [
    "(5,6,7) > (6,)"
   ]
  },
  {
   "cell_type": "code",
   "execution_count": null,
   "id": "d096618b-e6bf-48c5-84a4-82b0cbe0981d",
   "metadata": {},
   "outputs": [],
   "source": [
    "[5,6,7] == [5]"
   ]
  },
  {
   "cell_type": "markdown",
   "id": "526b7832-1ab6-445f-a90f-0a9c946f4e92",
   "metadata": {},
   "source": [
    "# Boolean (Mantıksal) Karşılaştırılması"
   ]
  },
  {
   "cell_type": "code",
   "execution_count": null,
   "id": "a0ea7fa0-7849-43da-9f5e-b530cee63ef4",
   "metadata": {},
   "outputs": [],
   "source": [
    "bool(1)"
   ]
  },
  {
   "cell_type": "code",
   "execution_count": null,
   "id": "335062f1-3101-46a3-9bf9-c0a789a80e8c",
   "metadata": {},
   "outputs": [],
   "source": [
    "bool(0)"
   ]
  },
  {
   "cell_type": "code",
   "execution_count": null,
   "id": "a4617f30-7ab9-4199-95a8-602badf8045f",
   "metadata": {},
   "outputs": [],
   "source": [
    "age = 20 "
   ]
  },
  {
   "cell_type": "code",
   "execution_count": null,
   "id": "aafce5d8-d2c1-4bc9-988e-56ae09204251",
   "metadata": {},
   "outputs": [],
   "source": [
    "age"
   ]
  },
  {
   "cell_type": "code",
   "execution_count": null,
   "id": "3feb74de-0854-4804-a6af-d5906e2fd2ac",
   "metadata": {},
   "outputs": [],
   "source": [
    "is_adult = age > 18"
   ]
  },
  {
   "cell_type": "code",
   "execution_count": null,
   "id": "67e57a21-d6a5-4f03-b850-a7b0c8ce5da4",
   "metadata": {},
   "outputs": [],
   "source": [
    "print(is_adult)"
   ]
  },
  {
   "cell_type": "code",
   "execution_count": null,
   "id": "4523215e-ff11-43f9-8776-184904454917",
   "metadata": {},
   "outputs": [],
   "source": [
    "x = True"
   ]
  },
  {
   "cell_type": "code",
   "execution_count": null,
   "id": "f9742b7f-4c90-4310-b218-4df4c9916dce",
   "metadata": {},
   "outputs": [],
   "source": [
    "type(x)"
   ]
  },
  {
   "cell_type": "code",
   "execution_count": null,
   "id": "bc1fe602-a027-43f7-beee-945c2313d0ae",
   "metadata": {},
   "outputs": [],
   "source": [
    "print(isclose(1.1+2.2, 3.3))"
   ]
  },
  {
   "cell_type": "code",
   "execution_count": null,
   "id": "06b183ec-4b73-4a76-b863-a4a788b79e12",
   "metadata": {},
   "outputs": [],
   "source": [
    "isinstance(42, int)"
   ]
  },
  {
   "cell_type": "code",
   "execution_count": null,
   "id": "a6ebd54d-0fb5-4a82-8f4a-d296697c8da7",
   "metadata": {},
   "outputs": [],
   "source": [
    "isinstance(5.5, int)"
   ]
  },
  {
   "cell_type": "code",
   "execution_count": null,
   "id": "287d7de7-6e87-421c-b287-a377c4dfaac7",
   "metadata": {},
   "outputs": [],
   "source": [
    "print(callable(print))"
   ]
  },
  {
   "cell_type": "code",
   "execution_count": null,
   "id": "53ac2130-f4b9-4716-a21a-19665a356eca",
   "metadata": {},
   "outputs": [],
   "source": [
    "print(callable(42))"
   ]
  },
  {
   "cell_type": "code",
   "execution_count": null,
   "id": "b5f9fbfa-f412-4aae-89d5-bece9c1191c4",
   "metadata": {},
   "outputs": [],
   "source": [
    "bool(0)"
   ]
  },
  {
   "cell_type": "code",
   "execution_count": null,
   "id": "7d0fb14c-90c9-4776-a789-c12603224be7",
   "metadata": {},
   "outputs": [],
   "source": [
    "bool(\"\")"
   ]
  },
  {
   "cell_type": "code",
   "execution_count": null,
   "id": "2d81de55-e73f-4a88-a6c9-001fe35015b6",
   "metadata": {},
   "outputs": [],
   "source": [
    "bool([])"
   ]
  },
  {
   "cell_type": "code",
   "execution_count": null,
   "id": "fa56671a-9c35-483d-8530-d764e31e107c",
   "metadata": {},
   "outputs": [],
   "source": [
    "bool(\"Python\")"
   ]
  },
  {
   "cell_type": "markdown",
   "id": "5408631a-3872-4d9e-9443-ecd57bedf5bf",
   "metadata": {},
   "source": [
    "\"and\" operatörü ikiside doğruysa ikinciyi döndür"
   ]
  },
  {
   "cell_type": "code",
   "execution_count": null,
   "id": "33f9e0d3-f340-4520-a7d1-add24f1c422c",
   "metadata": {},
   "outputs": [],
   "source": [
    "3 and 4"
   ]
  },
  {
   "cell_type": "code",
   "execution_count": null,
   "id": "0832db56-f2f9-48b7-b4f6-c6425708572b",
   "metadata": {},
   "outputs": [],
   "source": [
    "0 and 4 "
   ]
  },
  {
   "cell_type": "code",
   "execution_count": null,
   "id": "fb1c1e05-ede5-45e6-81e2-024a398b1af7",
   "metadata": {},
   "outputs": [],
   "source": [
    "3 and 0"
   ]
  },
  {
   "cell_type": "markdown",
   "id": "916f0437-2510-4299-a394-21a82297d875",
   "metadata": {},
   "source": [
    "\"or\" operatörü ilk doğru değeri bulduğunda işlemi durdurur"
   ]
  },
  {
   "cell_type": "code",
   "execution_count": null,
   "id": "7e8a4cae-56ee-431f-a787-cfb7cc9a872c",
   "metadata": {},
   "outputs": [],
   "source": [
    "3 or 4 "
   ]
  },
  {
   "cell_type": "code",
   "execution_count": null,
   "id": "4e8c165f-7ea0-4d07-bc72-1eb551aa053e",
   "metadata": {},
   "outputs": [],
   "source": [
    "0 or 4"
   ]
  },
  {
   "cell_type": "code",
   "execution_count": null,
   "id": "36512306-6d56-418a-8424-b35e8b289021",
   "metadata": {},
   "outputs": [],
   "source": [
    "3 or 0"
   ]
  },
  {
   "cell_type": "code",
   "execution_count": null,
   "id": "49188264-4895-449b-9c7e-1f911ceec69f",
   "metadata": {},
   "outputs": [],
   "source": [
    "0 or []"
   ]
  },
  {
   "cell_type": "code",
   "execution_count": null,
   "id": "261c7b96-13aa-4854-9430-c5144b5c6d39",
   "metadata": {},
   "outputs": [],
   "source": [
    "\"\" or 0"
   ]
  },
  {
   "cell_type": "code",
   "execution_count": null,
   "id": "56f475f5-8978-4aea-b22d-8083ad82f33d",
   "metadata": {},
   "outputs": [],
   "source": [
    "[] or {}"
   ]
  },
  {
   "cell_type": "code",
   "execution_count": null,
   "id": "211cf553-e590-4373-910d-8bb943c91af4",
   "metadata": {},
   "outputs": [],
   "source": [
    "x1 or x2 or x3 or ... or xn\n",
    "x1 and x2 and x3 and ... and xn"
   ]
  },
  {
   "cell_type": "code",
   "execution_count": null,
   "id": "11ea2411-695f-433a-b6a0-4d3367dd8957",
   "metadata": {},
   "outputs": [],
   "source": [
    "0 or \"\" or [] or \"Python\" or 123"
   ]
  },
  {
   "cell_type": "code",
   "execution_count": null,
   "id": "27a40d5f-ec14-4dbc-bf7b-bd653d53e1d8",
   "metadata": {},
   "outputs": [],
   "source": [
    "3 and 0 and 5"
   ]
  },
  {
   "cell_type": "code",
   "execution_count": null,
   "id": "c511539a-59a8-4017-8b2e-ce84eb3906e2",
   "metadata": {},
   "outputs": [],
   "source": [
    "3 and 5 and 7"
   ]
  },
  {
   "cell_type": "code",
   "execution_count": null,
   "id": "5b238843-22f2-4ac1-afae-e306be19ae3b",
   "metadata": {},
   "outputs": [],
   "source": [
    "a = 0\n",
    "b = 1"
   ]
  },
  {
   "cell_type": "code",
   "execution_count": null,
   "id": "08154e8f-2d96-4fd5-ae1c-f754798f2430",
   "metadata": {},
   "outputs": [],
   "source": [
    "(b/a) > 0"
   ]
  },
  {
   "cell_type": "code",
   "execution_count": null,
   "id": "4611c65e-7ce9-4f77-bfc1-e3166e170d27",
   "metadata": {},
   "outputs": [],
   "source": [
    "a != 0"
   ]
  },
  {
   "cell_type": "code",
   "execution_count": null,
   "id": "ce6ad1a7-de15-44d3-a63d-c3d8f8625662",
   "metadata": {},
   "outputs": [],
   "source": [
    "a != 0 and (b/a)>0"
   ]
  },
  {
   "cell_type": "code",
   "execution_count": null,
   "id": "02c73045-74a4-4ae4-86c4-8c74a344a647",
   "metadata": {},
   "outputs": [],
   "source": [
    "username = input(\"Kullanıcı ismi gir: \") or \"Misafir\"\n",
    "print(username)"
   ]
  },
  {
   "cell_type": "code",
   "execution_count": null,
   "id": "5ef12ca5-b008-4854-bee8-5bca973dfbb2",
   "metadata": {},
   "outputs": [],
   "source": [
    "username = input(\"Kullanıcı ismi gir: \") or \"Misafir\"\n",
    "print(username)"
   ]
  },
  {
   "cell_type": "code",
   "execution_count": null,
   "id": "4633d5d0-267a-45b6-b0dd-36a79c2436ea",
   "metadata": {},
   "outputs": [],
   "source": [
    "number = 5\n",
    "\n",
    "number >= 0 and number<=10"
   ]
  },
  {
   "cell_type": "code",
   "execution_count": null,
   "id": "4671f2a7-32ef-4350-a4ba-8a123e413b20",
   "metadata": {},
   "outputs": [],
   "source": [
    "number = 11\n",
    "\n",
    "number >= 0 and number<=10"
   ]
  },
  {
   "cell_type": "code",
   "execution_count": null,
   "id": "51d120c4-5312-4a1b-838c-7e23ccb441e1",
   "metadata": {},
   "outputs": [],
   "source": [
    "number"
   ]
  },
  {
   "cell_type": "code",
   "execution_count": null,
   "id": "a2e18a56-eafe-4c20-b43a-cee7f3c43fa4",
   "metadata": {},
   "outputs": [],
   "source": [
    "0 <= number <= 10 # zincirli gösterim"
   ]
  },
  {
   "cell_type": "markdown",
   "id": "2e727668-7656-44c4-ae2b-35da1d5f1aa4",
   "metadata": {},
   "source": [
    "# Kimlik (Identity) Operatörler: is ve is not"
   ]
  },
  {
   "cell_type": "code",
   "execution_count": null,
   "id": "dbf89958-588f-45ed-b86e-d4c8ab023f66",
   "metadata": {},
   "outputs": [],
   "source": [
    "# is -> aynı nesne mi\n",
    "# is not -> farklı nesne mi\n",
    "\n",
    "x = 1001 \n",
    "y = 1001"
   ]
  },
  {
   "cell_type": "code",
   "execution_count": null,
   "id": "7760d777-9d87-4b8a-b1b9-7fc6bee8e56f",
   "metadata": {},
   "outputs": [],
   "source": [
    "print(x == y)"
   ]
  },
  {
   "cell_type": "code",
   "execution_count": null,
   "id": "b956e2dc-3cb6-4785-9b61-730baf6e232b",
   "metadata": {},
   "outputs": [],
   "source": [
    "print(x is y)"
   ]
  },
  {
   "cell_type": "code",
   "execution_count": null,
   "id": "a795d7b7-8bce-4d7f-998e-1b9624f3ef6d",
   "metadata": {},
   "outputs": [],
   "source": [
    "print(\"x'in adresi: \", id(x))\n",
    "print(\"y'nin adresi: \", id(y))"
   ]
  },
  {
   "cell_type": "code",
   "execution_count": null,
   "id": "a6d7959f-bba3-46b8-85ac-90f50859f32d",
   "metadata": {},
   "outputs": [],
   "source": [
    "a = \"Merhaba Python!\"\n",
    "\n",
    "b = a "
   ]
  },
  {
   "cell_type": "code",
   "execution_count": null,
   "id": "2d859c9c-ba40-4eee-864f-86cb0791a209",
   "metadata": {},
   "outputs": [],
   "source": [
    "a"
   ]
  },
  {
   "cell_type": "code",
   "execution_count": null,
   "id": "1b71ec5e-d133-4ec2-8bb8-10e863b9414f",
   "metadata": {},
   "outputs": [],
   "source": [
    "b"
   ]
  },
  {
   "cell_type": "code",
   "execution_count": null,
   "id": "2d47dd4e-71bd-4e57-850f-7056165dac35",
   "metadata": {},
   "outputs": [],
   "source": [
    "a == b"
   ]
  },
  {
   "cell_type": "code",
   "execution_count": null,
   "id": "382dc9d4-8dfa-4ab9-b268-3b67796df1fe",
   "metadata": {},
   "outputs": [],
   "source": [
    "a is b"
   ]
  },
  {
   "cell_type": "code",
   "execution_count": null,
   "id": "0628f1c1-8b79-4b8a-87a2-5fdf98a6b14f",
   "metadata": {},
   "outputs": [],
   "source": [
    "print(\"a'ın adresi: \", id(a))\n",
    "print(\"b'nin adresi: \", id(b))"
   ]
  },
  {
   "cell_type": "markdown",
   "id": "3c658e8c-e73b-418b-a370-a7d99480424a",
   "metadata": {},
   "source": [
    "== vs is"
   ]
  },
  {
   "cell_type": "markdown",
   "id": "9615c634-fba2-4457-ac22-99c766c0771a",
   "metadata": {},
   "source": [
    "# Üyelik Operatörleri: in ve not in"
   ]
  },
  {
   "cell_type": "code",
   "execution_count": null,
   "id": "d4fc2632-c9af-48f3-a402-4e661feb57de",
   "metadata": {},
   "outputs": [],
   "source": [
    "5 in [2,3,4,5,6]"
   ]
  },
  {
   "cell_type": "code",
   "execution_count": 37,
   "id": "08d12fe4-41b0-478e-8cd4-59d0f218bb9e",
   "metadata": {},
   "outputs": [
    {
     "data": {
      "text/plain": [
       "False"
      ]
     },
     "execution_count": 37,
     "metadata": {},
     "output_type": "execute_result"
    }
   ],
   "source": [
    "8 in [2,3,4,5,6]"
   ]
  },
  {
   "cell_type": "code",
   "execution_count": 38,
   "id": "818b5158-c1dc-4484-b72d-35bc50d3929c",
   "metadata": {},
   "outputs": [
    {
     "data": {
      "text/plain": [
       "False"
      ]
     },
     "execution_count": 38,
     "metadata": {},
     "output_type": "execute_result"
    }
   ],
   "source": [
    "\"a\" in \"Python\""
   ]
  },
  {
   "cell_type": "code",
   "execution_count": 39,
   "id": "adcc3603-6a98-499b-8ef5-39dc2125b569",
   "metadata": {},
   "outputs": [
    {
     "data": {
      "text/plain": [
       "True"
      ]
     },
     "execution_count": 39,
     "metadata": {},
     "output_type": "execute_result"
    }
   ],
   "source": [
    "\"t\" in \"Python\""
   ]
  },
  {
   "cell_type": "code",
   "execution_count": 40,
   "id": "c4d8ef2d-f270-4492-b515-b2843a5d7142",
   "metadata": {},
   "outputs": [
    {
     "data": {
      "text/plain": [
       "False"
      ]
     },
     "execution_count": 40,
     "metadata": {},
     "output_type": "execute_result"
    }
   ],
   "source": [
    "\"T\" in \"Python\""
   ]
  },
  {
   "cell_type": "code",
   "execution_count": 41,
   "id": "e4050a4c-8958-4c8e-8ba3-c68ea7eb6f64",
   "metadata": {},
   "outputs": [
    {
     "data": {
      "text/plain": [
       "True"
      ]
     },
     "execution_count": 41,
     "metadata": {},
     "output_type": "execute_result"
    }
   ],
   "source": [
    "\"T\" in \"PYTHON\""
   ]
  },
  {
   "cell_type": "code",
   "execution_count": 42,
   "id": "5dffe9fd-5536-4805-ae36-997e7c2ce102",
   "metadata": {},
   "outputs": [
    {
     "data": {
      "text/plain": [
       "False"
      ]
     },
     "execution_count": 42,
     "metadata": {},
     "output_type": "execute_result"
    }
   ],
   "source": [
    "5 not in [1,2,3,4,5]"
   ]
  },
  {
   "cell_type": "code",
   "execution_count": 43,
   "id": "23b2138c-6873-4b41-b542-f823ea5f1ea9",
   "metadata": {},
   "outputs": [
    {
     "data": {
      "text/plain": [
       "True"
      ]
     },
     "execution_count": 43,
     "metadata": {},
     "output_type": "execute_result"
    }
   ],
   "source": [
    "7 not in [1,2,3,4,5]"
   ]
  },
  {
   "cell_type": "markdown",
   "id": "903980e4-e222-4e74-9eed-072731148f93",
   "metadata": {},
   "source": [
    "# Birleştirme ve Tekrarlama Operatörleri "
   ]
  },
  {
   "cell_type": "code",
   "execution_count": 44,
   "id": "fb88a24f-95a5-43c4-891c-c8af60e6f8db",
   "metadata": {},
   "outputs": [
    {
     "data": {
      "text/plain": [
       "'Hello, World!'"
      ]
     },
     "execution_count": 44,
     "metadata": {},
     "output_type": "execute_result"
    }
   ],
   "source": [
    "\"Hello, \" + \"World!\""
   ]
  },
  {
   "cell_type": "code",
   "execution_count": 45,
   "id": "bc289605-1763-4088-86e0-cef59f1b08ef",
   "metadata": {},
   "outputs": [
    {
     "data": {
      "text/plain": [
       "[1, 2, 3, 4]"
      ]
     },
     "execution_count": 45,
     "metadata": {},
     "output_type": "execute_result"
    }
   ],
   "source": [
    "[1,2]+[3,4]"
   ]
  },
  {
   "cell_type": "code",
   "execution_count": 46,
   "id": "64f66785-f6d4-4a46-9cc6-8de0d256e6e3",
   "metadata": {},
   "outputs": [
    {
     "data": {
      "text/plain": [
       "('A', 'B', 'C', 'D')"
      ]
     },
     "execution_count": 46,
     "metadata": {},
     "output_type": "execute_result"
    }
   ],
   "source": [
    "(\"A\",\"B\") + (\"C\",\"D\")"
   ]
  },
  {
   "cell_type": "code",
   "execution_count": 47,
   "id": "9895e08e-e2e8-4316-858d-7c8fdc9f5797",
   "metadata": {},
   "outputs": [
    {
     "ename": "TypeError",
     "evalue": "can only concatenate str (not \"int\") to str",
     "output_type": "error",
     "traceback": [
      "\u001b[31m---------------------------------------------------------------------------\u001b[39m",
      "\u001b[31mTypeError\u001b[39m                                 Traceback (most recent call last)",
      "\u001b[36mCell\u001b[39m\u001b[36m \u001b[39m\u001b[32mIn[47]\u001b[39m\u001b[32m, line 1\u001b[39m\n\u001b[32m----> \u001b[39m\u001b[32m1\u001b[39m \u001b[33;43m\"\u001b[39;49m\u001b[33;43mMerhaba\u001b[39;49m\u001b[33;43m\"\u001b[39;49m\u001b[43m \u001b[49m\u001b[43m+\u001b[49m\u001b[43m \u001b[49m\u001b[32;43m5\u001b[39;49m\n",
      "\u001b[31mTypeError\u001b[39m: can only concatenate str (not \"int\") to str"
     ]
    }
   ],
   "source": [
    "\"Merhaba\" + 5"
   ]
  },
  {
   "cell_type": "code",
   "execution_count": 48,
   "id": "ba0af93c-5180-458d-8093-da94fe8f8534",
   "metadata": {},
   "outputs": [
    {
     "data": {
      "text/plain": [
       "'HeyHeyHey'"
      ]
     },
     "execution_count": 48,
     "metadata": {},
     "output_type": "execute_result"
    }
   ],
   "source": [
    "\"Hey\" * 3"
   ]
  },
  {
   "cell_type": "code",
   "execution_count": 49,
   "id": "215a6dc4-1ff6-4057-81af-5e2c4c4695f4",
   "metadata": {},
   "outputs": [
    {
     "data": {
      "text/plain": [
       "'Bye Bye Bye '"
      ]
     },
     "execution_count": 49,
     "metadata": {},
     "output_type": "execute_result"
    }
   ],
   "source": [
    "3 * \"Bye \""
   ]
  },
  {
   "cell_type": "code",
   "execution_count": 50,
   "id": "8eadbee0-750e-4c51-bd42-7afe0b41d8a9",
   "metadata": {},
   "outputs": [
    {
     "data": {
      "text/plain": [
       "[1, 2, 1, 2, 1, 2]"
      ]
     },
     "execution_count": 50,
     "metadata": {},
     "output_type": "execute_result"
    }
   ],
   "source": [
    "[1,2] * 3"
   ]
  },
  {
   "cell_type": "code",
   "execution_count": 51,
   "id": "b43f24fc-4ae6-4502-a319-98e1d6803ac0",
   "metadata": {},
   "outputs": [
    {
     "data": {
      "text/plain": [
       "('X', 'Y', 'X', 'Y', 'X', 'Y')"
      ]
     },
     "execution_count": 51,
     "metadata": {},
     "output_type": "execute_result"
    }
   ],
   "source": [
    "(\"X\", \"Y\") * 3"
   ]
  },
  {
   "cell_type": "code",
   "execution_count": 53,
   "id": "19fd3033-abe2-4eac-b993-23709d326fa2",
   "metadata": {},
   "outputs": [
    {
     "ename": "TypeError",
     "evalue": "'>' not supported between instances of 'int' and 'str'",
     "output_type": "error",
     "traceback": [
      "\u001b[31m---------------------------------------------------------------------------\u001b[39m",
      "\u001b[31mTypeError\u001b[39m                                 Traceback (most recent call last)",
      "\u001b[36mCell\u001b[39m\u001b[36m \u001b[39m\u001b[32mIn[53]\u001b[39m\u001b[32m, line 1\u001b[39m\n\u001b[32m----> \u001b[39m\u001b[32m1\u001b[39m \u001b[43m[\u001b[49m\u001b[32;43m1\u001b[39;49m\u001b[43m,\u001b[49m\u001b[32;43m2\u001b[39;49m\u001b[43m]\u001b[49m\u001b[43m \u001b[49m\u001b[43m>\u001b[49m\u001b[43m \u001b[49m\u001b[43m[\u001b[49m\u001b[33;43m\"\u001b[39;49m\u001b[33;43mayşe\u001b[39;49m\u001b[33;43m\"\u001b[39;49m\u001b[43m,\u001b[49m\u001b[33;43m\"\u001b[39;49m\u001b[33;43mmehmet\u001b[39;49m\u001b[33;43m\"\u001b[39;49m\u001b[43m]\u001b[49m\n",
      "\u001b[31mTypeError\u001b[39m: '>' not supported between instances of 'int' and 'str'"
     ]
    }
   ],
   "source": [
    "[1,2] > [\"ayşe\",\"mehmet\"]"
   ]
  },
  {
   "cell_type": "markdown",
   "id": "7a3534ef-cdc5-4555-adba-56ecf0a689e0",
   "metadata": {},
   "source": [
    "# Walrus Operatörü (:=)"
   ]
  },
  {
   "cell_type": "code",
   "execution_count": 54,
   "id": "e3272abb-72f4-46e3-9af3-09aaecac6fbb",
   "metadata": {},
   "outputs": [
    {
     "name": "stdout",
     "output_type": "stream",
     "text": [
      "21\n"
     ]
    }
   ],
   "source": [
    "print(result :=  3 * 7)"
   ]
  },
  {
   "cell_type": "code",
   "execution_count": 55,
   "id": "4023144d-915a-4296-a41d-9e3318edcab8",
   "metadata": {},
   "outputs": [],
   "source": [
    "numbers = [3,9,2,8]"
   ]
  },
  {
   "cell_type": "code",
   "execution_count": 56,
   "id": "a281027b-2a71-4443-9f38-d2bd51d83c02",
   "metadata": {},
   "outputs": [],
   "source": [
    "max_number = (m := max(numbers))"
   ]
  },
  {
   "cell_type": "code",
   "execution_count": 57,
   "id": "0145915a-62f2-40e1-b81e-f5f1649db41a",
   "metadata": {},
   "outputs": [
    {
     "data": {
      "text/plain": [
       "9"
      ]
     },
     "execution_count": 57,
     "metadata": {},
     "output_type": "execute_result"
    }
   ],
   "source": [
    "max_number"
   ]
  },
  {
   "cell_type": "code",
   "execution_count": 58,
   "id": "6eb618a7-6e07-494c-a617-3be52d29b58b",
   "metadata": {},
   "outputs": [],
   "source": [
    "max_number = max(numbers)"
   ]
  },
  {
   "cell_type": "code",
   "execution_count": 59,
   "id": "b07972b4-ad74-49a9-b2b2-372cfe5a8a09",
   "metadata": {},
   "outputs": [
    {
     "data": {
      "text/plain": [
       "9"
      ]
     },
     "execution_count": 59,
     "metadata": {},
     "output_type": "execute_result"
    }
   ],
   "source": [
    "max_number"
   ]
  },
  {
   "cell_type": "code",
   "execution_count": 60,
   "id": "a85294b6-021d-4de1-b7f5-e41d6e59978c",
   "metadata": {},
   "outputs": [
    {
     "data": {
      "text/plain": [
       "9"
      ]
     },
     "execution_count": 60,
     "metadata": {},
     "output_type": "execute_result"
    }
   ],
   "source": [
    "m"
   ]
  },
  {
   "cell_type": "code",
   "execution_count": 61,
   "id": "75950470-eaff-430a-a6cc-62f7cfe7578d",
   "metadata": {},
   "outputs": [],
   "source": [
    "person = {\"name\": \"Ali\", \"age\":30}"
   ]
  },
  {
   "cell_type": "code",
   "execution_count": 62,
   "id": "781d864a-28ab-4db1-b533-3d2486af3791",
   "metadata": {},
   "outputs": [
    {
     "name": "stdout",
     "output_type": "stream",
     "text": [
      "Ali\n"
     ]
    }
   ],
   "source": [
    "print(name := person[\"name\"])"
   ]
  },
  {
   "cell_type": "markdown",
   "id": "57ac5eef-8770-47e7-a6cc-3def3f2fd7a0",
   "metadata": {},
   "source": [
    "# BitWise Operatörü"
   ]
  },
  {
   "cell_type": "code",
   "execution_count": 63,
   "id": "bcfce119-4d87-484b-bf9f-25ef3910bd22",
   "metadata": {},
   "outputs": [
    {
     "data": {
      "text/plain": [
       "8"
      ]
     },
     "execution_count": 63,
     "metadata": {},
     "output_type": "execute_result"
    }
   ],
   "source": [
    "12 & 10"
   ]
  },
  {
   "cell_type": "code",
   "execution_count": 64,
   "id": "a9b613c4-4522-43a8-bd9d-11e82f4fb403",
   "metadata": {},
   "outputs": [
    {
     "data": {
      "text/plain": [
       "'0b1100'"
      ]
     },
     "execution_count": 64,
     "metadata": {},
     "output_type": "execute_result"
    }
   ],
   "source": [
    "bin(12)"
   ]
  },
  {
   "cell_type": "code",
   "execution_count": 65,
   "id": "42158075-ff65-4b7f-b2b2-9422cd4d61d8",
   "metadata": {},
   "outputs": [
    {
     "data": {
      "text/plain": [
       "'0b1010'"
      ]
     },
     "execution_count": 65,
     "metadata": {},
     "output_type": "execute_result"
    }
   ],
   "source": [
    "bin(10)"
   ]
  },
  {
   "cell_type": "code",
   "execution_count": 66,
   "id": "0aba4483-4ccb-49cd-976c-99e395f6012e",
   "metadata": {},
   "outputs": [
    {
     "name": "stdout",
     "output_type": "stream",
     "text": [
      "0b1100\n",
      "0b1010\n"
     ]
    }
   ],
   "source": [
    "print(bin(12))\n",
    "print(bin(10))"
   ]
  },
  {
   "cell_type": "code",
   "execution_count": 68,
   "id": "8bc87fd7-8ec5-4ee4-add7-0133e691b219",
   "metadata": {},
   "outputs": [
    {
     "data": {
      "text/plain": [
       "14"
      ]
     },
     "execution_count": 68,
     "metadata": {},
     "output_type": "execute_result"
    }
   ],
   "source": [
    "12 | 10"
   ]
  },
  {
   "cell_type": "code",
   "execution_count": 69,
   "id": "276ab770-ed02-4969-982b-553273766b3f",
   "metadata": {},
   "outputs": [
    {
     "name": "stdout",
     "output_type": "stream",
     "text": [
      "0b1100\n",
      "0b1010\n"
     ]
    }
   ],
   "source": [
    "print(bin(12))\n",
    "print(bin(10))"
   ]
  },
  {
   "cell_type": "code",
   "execution_count": 70,
   "id": "ee4ddfb9-4d37-4139-a126-31d14a346070",
   "metadata": {},
   "outputs": [],
   "source": [
    "# 1110 = 0 + 2 + 4 + 8 = 14"
   ]
  },
  {
   "cell_type": "code",
   "execution_count": 71,
   "id": "89f712fa-eaa3-4ba4-ab18-b557aa5b315c",
   "metadata": {},
   "outputs": [
    {
     "data": {
      "text/plain": [
       "4"
      ]
     },
     "execution_count": 71,
     "metadata": {},
     "output_type": "execute_result"
    }
   ],
   "source": [
    "8 >> 1"
   ]
  },
  {
   "cell_type": "code",
   "execution_count": 72,
   "id": "bce1f2cb-13bc-44b8-bf76-b6fd7250e1a1",
   "metadata": {},
   "outputs": [
    {
     "name": "stdout",
     "output_type": "stream",
     "text": [
      "0b1000\n"
     ]
    }
   ],
   "source": [
    "print(bin(8))"
   ]
  },
  {
   "cell_type": "code",
   "execution_count": 74,
   "id": "46977b4d-a350-4147-95e9-06c1ea669c54",
   "metadata": {},
   "outputs": [
    {
     "data": {
      "text/plain": [
       "2"
      ]
     },
     "execution_count": 74,
     "metadata": {},
     "output_type": "execute_result"
    }
   ],
   "source": [
    "8 >> 2"
   ]
  },
  {
   "cell_type": "code",
   "execution_count": 75,
   "id": "61dbc95f-25c3-4b77-96af-cb6eabca0723",
   "metadata": {},
   "outputs": [
    {
     "name": "stdout",
     "output_type": "stream",
     "text": [
      "0b1000\n"
     ]
    }
   ],
   "source": [
    "print(bin(8))"
   ]
  },
  {
   "cell_type": "code",
   "execution_count": 77,
   "id": "71870634-e142-442b-b974-6ec4dc3b88f1",
   "metadata": {},
   "outputs": [
    {
     "data": {
      "text/plain": [
       "12"
      ]
     },
     "execution_count": 77,
     "metadata": {},
     "output_type": "execute_result"
    }
   ],
   "source": [
    "3 << 2"
   ]
  },
  {
   "cell_type": "code",
   "execution_count": 78,
   "id": "aa12fadc-749c-4fb6-8cac-228af5bff8d5",
   "metadata": {
    "scrolled": true
   },
   "outputs": [
    {
     "data": {
      "text/plain": [
       "'0b11'"
      ]
     },
     "execution_count": 78,
     "metadata": {},
     "output_type": "execute_result"
    }
   ],
   "source": [
    "bin(3)"
   ]
  },
  {
   "cell_type": "code",
   "execution_count": 79,
   "id": "8c54f69c-4b3b-428b-ac19-6774bcac8c48",
   "metadata": {},
   "outputs": [
    {
     "data": {
      "text/plain": [
       "24"
      ]
     },
     "execution_count": 79,
     "metadata": {},
     "output_type": "execute_result"
    }
   ],
   "source": [
    "3 << 3"
   ]
  },
  {
   "cell_type": "code",
   "execution_count": 80,
   "id": "56a22572-bfa7-4ff4-a792-fa5df59891c2",
   "metadata": {},
   "outputs": [
    {
     "data": {
      "text/plain": [
       "'0b11'"
      ]
     },
     "execution_count": 80,
     "metadata": {},
     "output_type": "execute_result"
    }
   ],
   "source": [
    "bin(3)"
   ]
  },
  {
   "cell_type": "code",
   "execution_count": 83,
   "id": "e582b8e9-dc67-4e55-a959-a40ef9e8c965",
   "metadata": {},
   "outputs": [
    {
     "data": {
      "text/plain": [
       "72"
      ]
     },
     "execution_count": 83,
     "metadata": {},
     "output_type": "execute_result"
    }
   ],
   "source": [
    "(20+4)*3"
   ]
  },
  {
   "cell_type": "code",
   "execution_count": 84,
   "id": "073d82ac-6a63-4d13-b6fa-8c657943aeed",
   "metadata": {},
   "outputs": [
    {
     "data": {
      "text/plain": [
       "810"
      ]
     },
     "execution_count": 84,
     "metadata": {},
     "output_type": "execute_result"
    }
   ],
   "source": [
    "2 * (3 ** 4) * 5 "
   ]
  },
  {
   "cell_type": "markdown",
   "id": "cc7276bd-c3f1-42e6-bf1e-bcf5270c10d7",
   "metadata": {},
   "source": [
    "# Kısaltılmış Atama Operatörlerine "
   ]
  },
  {
   "cell_type": "code",
   "execution_count": 85,
   "id": "774568f0-deb9-4e82-8887-9748f6273205",
   "metadata": {},
   "outputs": [],
   "source": [
    "x = 10"
   ]
  },
  {
   "cell_type": "code",
   "execution_count": 86,
   "id": "be5c5ef6-ffcf-4fa9-b443-3164782e6dc1",
   "metadata": {},
   "outputs": [
    {
     "data": {
      "text/plain": [
       "15"
      ]
     },
     "execution_count": 86,
     "metadata": {},
     "output_type": "execute_result"
    }
   ],
   "source": [
    "x = x + 5\n",
    "x"
   ]
  },
  {
   "cell_type": "code",
   "execution_count": 87,
   "id": "571fd8db-827b-447e-869a-1d41729c0956",
   "metadata": {},
   "outputs": [],
   "source": [
    "x += 5"
   ]
  },
  {
   "cell_type": "code",
   "execution_count": 88,
   "id": "7c52db54-f133-4093-9434-6147f47c48d6",
   "metadata": {},
   "outputs": [
    {
     "data": {
      "text/plain": [
       "20"
      ]
     },
     "execution_count": 88,
     "metadata": {},
     "output_type": "execute_result"
    }
   ],
   "source": [
    "x "
   ]
  },
  {
   "cell_type": "code",
   "execution_count": 89,
   "id": "3315f20b-2491-4ede-aa89-030306777f44",
   "metadata": {},
   "outputs": [],
   "source": [
    "my_list = [1,2]\n",
    "my_list += [3,4]"
   ]
  },
  {
   "cell_type": "code",
   "execution_count": 90,
   "id": "3c38b53b-b2ef-46b1-b467-5eba54219e28",
   "metadata": {},
   "outputs": [
    {
     "data": {
      "text/plain": [
       "[1, 2, 3, 4]"
      ]
     },
     "execution_count": 90,
     "metadata": {},
     "output_type": "execute_result"
    }
   ],
   "source": [
    "my_list"
   ]
  },
  {
   "cell_type": "code",
   "execution_count": 91,
   "id": "5ac39a60-ac92-425d-a71e-ceb151b09916",
   "metadata": {},
   "outputs": [],
   "source": [
    "kelime = \"Hey\"\n",
    "kelime *= 3"
   ]
  },
  {
   "cell_type": "code",
   "execution_count": 92,
   "id": "8e2a3014-5e8f-4d05-887f-cf139a1733cc",
   "metadata": {},
   "outputs": [
    {
     "data": {
      "text/plain": [
       "'HeyHeyHey'"
      ]
     },
     "execution_count": 92,
     "metadata": {},
     "output_type": "execute_result"
    }
   ],
   "source": [
    "kelime "
   ]
  },
  {
   "cell_type": "code",
   "execution_count": 93,
   "id": "5c1bb5ba-d77c-4b1d-9378-1431857aa6c5",
   "metadata": {},
   "outputs": [],
   "source": [
    "liste = [1,2]\n",
    "liste *= 2"
   ]
  },
  {
   "cell_type": "code",
   "execution_count": 94,
   "id": "d7c0dc14-088a-4de0-90ef-7eb9016db403",
   "metadata": {},
   "outputs": [
    {
     "data": {
      "text/plain": [
       "[1, 2, 1, 2]"
      ]
     },
     "execution_count": 94,
     "metadata": {},
     "output_type": "execute_result"
    }
   ],
   "source": [
    "liste"
   ]
  },
  {
   "cell_type": "code",
   "execution_count": 95,
   "id": "285ea9e9-ec0e-45e4-a14e-a5e43d6f840f",
   "metadata": {},
   "outputs": [],
   "source": [
    "t = (1,2)\n",
    "t *= 2"
   ]
  },
  {
   "cell_type": "code",
   "execution_count": 96,
   "id": "85f1e92d-c0b2-4e2b-b4b3-2a7a18b27c47",
   "metadata": {},
   "outputs": [
    {
     "data": {
      "text/plain": [
       "(1, 2, 1, 2)"
      ]
     },
     "execution_count": 96,
     "metadata": {},
     "output_type": "execute_result"
    }
   ],
   "source": [
    "t"
   ]
  },
  {
   "cell_type": "code",
   "execution_count": null,
   "id": "558dc4eb-08b1-4ab5-b6c9-eaf082d78ac4",
   "metadata": {},
   "outputs": [],
   "source": []
  }
 ],
 "metadata": {
  "kernelspec": {
   "display_name": "Python 3 (ipykernel)",
   "language": "python",
   "name": "python3"
  },
  "language_info": {
   "codemirror_mode": {
    "name": "ipython",
    "version": 3
   },
   "file_extension": ".py",
   "mimetype": "text/x-python",
   "name": "python",
   "nbconvert_exporter": "python",
   "pygments_lexer": "ipython3",
   "version": "3.12.2"
  }
 },
 "nbformat": 4,
 "nbformat_minor": 5
}
