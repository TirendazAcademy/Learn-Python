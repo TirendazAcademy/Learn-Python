{
 "cells": [
  {
   "cell_type": "code",
   "execution_count": 1,
   "id": "9b5535a9-ee83-467c-9a9e-8282e493ac26",
   "metadata": {},
   "outputs": [
    {
     "data": {
      "text/plain": [
       "{'armut', 'elma', 'çilek'}"
      ]
     },
     "execution_count": 1,
     "metadata": {},
     "output_type": "execute_result"
    }
   ],
   "source": [
    "{\"elma\", \"armut\", \"çilek\"}"
   ]
  },
  {
   "cell_type": "code",
   "execution_count": 2,
   "id": "e10c2435-0f1e-407a-909e-fa5c4705fb7b",
   "metadata": {},
   "outputs": [],
   "source": [
    "meyveler = {\"elma\", \"armut\", \"çilek\"}"
   ]
  },
  {
   "cell_type": "code",
   "execution_count": 3,
   "id": "23aca1ed-a200-4937-be1f-a75ea8385c1f",
   "metadata": {},
   "outputs": [
    {
     "data": {
      "text/plain": [
       "set"
      ]
     },
     "execution_count": 3,
     "metadata": {},
     "output_type": "execute_result"
    }
   ],
   "source": [
    "type(meyveler)"
   ]
  },
  {
   "cell_type": "code",
   "execution_count": null,
   "id": "41df8efa-c9b3-4053-a57c-c1d706f3ceca",
   "metadata": {},
   "outputs": [],
   "source": [
    "meyveler"
   ]
  },
  {
   "cell_type": "code",
   "execution_count": 4,
   "id": "6f478f71-abb0-4477-962e-963e46b09963",
   "metadata": {},
   "outputs": [
    {
     "data": {
      "text/plain": [
       "{'armut', 'elma', 'çilek'}"
      ]
     },
     "execution_count": 4,
     "metadata": {},
     "output_type": "execute_result"
    }
   ],
   "source": [
    "meyveler"
   ]
  },
  {
   "cell_type": "code",
   "execution_count": 5,
   "id": "2499d13c-c0de-4279-a927-f08a2ffd9196",
   "metadata": {},
   "outputs": [],
   "source": [
    "sayilar = [1,2,2,3,4,4,5]"
   ]
  },
  {
   "cell_type": "code",
   "execution_count": 6,
   "id": "fd9ca6fb-d4af-4866-bdba-6426a5de3595",
   "metadata": {},
   "outputs": [
    {
     "data": {
      "text/plain": [
       "{1, 2, 3, 4, 5}"
      ]
     },
     "execution_count": 6,
     "metadata": {},
     "output_type": "execute_result"
    }
   ],
   "source": [
    "set(sayilar)"
   ]
  },
  {
   "cell_type": "code",
   "execution_count": 103,
   "id": "21a91797-f8fa-421b-bebe-40f48b44b898",
   "metadata": {},
   "outputs": [
    {
     "ename": "TypeError",
     "evalue": "unhashable type: 'set'",
     "output_type": "error",
     "traceback": [
      "\u001b[31m---------------------------------------------------------------------------\u001b[39m",
      "\u001b[31mTypeError\u001b[39m                                 Traceback (most recent call last)",
      "\u001b[36mCell\u001b[39m\u001b[36m \u001b[39m\u001b[32mIn[103]\u001b[39m\u001b[32m, line 1\u001b[39m\n\u001b[32m----> \u001b[39m\u001b[32m1\u001b[39m kume = {\u001b[33m\"\u001b[39m\u001b[33mkırmızı\u001b[39m\u001b[33m\"\u001b[39m, \u001b[32m1\u001b[39m, \u001b[32m3.14\u001b[39m, \u001b[38;5;28;01mNone\u001b[39;00m, {\u001b[32m1\u001b[39m,\u001b[32m2\u001b[39m}}\n",
      "\u001b[31mTypeError\u001b[39m: unhashable type: 'set'"
     ]
    }
   ],
   "source": [
    "kume = {\"kırmızı\", 1, 3.14, None}"
   ]
  },
  {
   "cell_type": "code",
   "execution_count": 8,
   "id": "adb73646-3f4f-4f13-b149-c6b6fc22a736",
   "metadata": {},
   "outputs": [
    {
     "data": {
      "text/plain": [
       "{1, 3.14, None, 'kırmızı'}"
      ]
     },
     "execution_count": 8,
     "metadata": {},
     "output_type": "execute_result"
    }
   ],
   "source": [
    "kume"
   ]
  },
  {
   "cell_type": "code",
   "execution_count": 9,
   "id": "a03d3be1-6ec6-49df-ac15-867315ee4057",
   "metadata": {},
   "outputs": [
    {
     "data": {
      "text/plain": [
       "set"
      ]
     },
     "execution_count": 9,
     "metadata": {},
     "output_type": "execute_result"
    }
   ],
   "source": [
    "type(kume)"
   ]
  },
  {
   "cell_type": "code",
   "execution_count": 10,
   "id": "02f9e894-65be-4b80-9ace-7a64a7cc8e18",
   "metadata": {},
   "outputs": [
    {
     "ename": "TypeError",
     "evalue": "unhashable type: 'list'",
     "output_type": "error",
     "traceback": [
      "\u001b[31m---------------------------------------------------------------------------\u001b[39m",
      "\u001b[31mTypeError\u001b[39m                                 Traceback (most recent call last)",
      "\u001b[36mCell\u001b[39m\u001b[36m \u001b[39m\u001b[32mIn[10]\u001b[39m\u001b[32m, line 1\u001b[39m\n\u001b[32m----> \u001b[39m\u001b[32m1\u001b[39m kume1 = {\u001b[32m1\u001b[39m,\u001b[32m2\u001b[39m,\u001b[32m3\u001b[39m,[\u001b[32m4\u001b[39m,\u001b[32m5\u001b[39m,\u001b[32m6\u001b[39m]}\n",
      "\u001b[31mTypeError\u001b[39m: unhashable type: 'list'"
     ]
    }
   ],
   "source": [
    "kume1 = {1,2,3,[4,5,6]}"
   ]
  },
  {
   "cell_type": "code",
   "execution_count": 11,
   "id": "0115dcb3-4fb4-4954-bbb2-f9e1211e48bf",
   "metadata": {},
   "outputs": [],
   "source": [
    "kume2 = {1,2,3,(4,5,6)}"
   ]
  },
  {
   "cell_type": "code",
   "execution_count": 12,
   "id": "ca70735c-f7f1-4cc3-9f92-9d1a359b6413",
   "metadata": {},
   "outputs": [
    {
     "data": {
      "text/plain": [
       "{(4, 5, 6), 1, 2, 3}"
      ]
     },
     "execution_count": 12,
     "metadata": {},
     "output_type": "execute_result"
    }
   ],
   "source": [
    "kume2"
   ]
  },
  {
   "cell_type": "code",
   "execution_count": 13,
   "id": "c76d5498-1d56-4cf4-9686-ea5f39773abb",
   "metadata": {},
   "outputs": [],
   "source": [
    "# {} | set()"
   ]
  },
  {
   "cell_type": "code",
   "execution_count": 14,
   "id": "ae796383-d17a-45e4-8174-0b51be15d6f3",
   "metadata": {},
   "outputs": [
    {
     "data": {
      "text/plain": [
       "{1, 2, 3, 4, 5}"
      ]
     },
     "execution_count": 14,
     "metadata": {},
     "output_type": "execute_result"
    }
   ],
   "source": [
    "sayilar = [1,2,3,4,5]\n",
    "set(sayilar)"
   ]
  },
  {
   "cell_type": "code",
   "execution_count": 15,
   "id": "2e5721a8-8fec-4691-b637-b9c12f2caa86",
   "metadata": {},
   "outputs": [
    {
     "data": {
      "text/plain": [
       "{'P', 'h', 'n', 'o', 't', 'y'}"
      ]
     },
     "execution_count": 15,
     "metadata": {},
     "output_type": "execute_result"
    }
   ],
   "source": [
    "S = \"Python\"\n",
    "set(S)"
   ]
  },
  {
   "cell_type": "code",
   "execution_count": 16,
   "id": "42086767-4ae9-49a4-87f0-83a3b525aec2",
   "metadata": {},
   "outputs": [],
   "source": [
    "kareler = {x**2 for x in range(6)}"
   ]
  },
  {
   "cell_type": "code",
   "execution_count": 17,
   "id": "20ec9266-d4cd-4f79-98cb-dccec30517f0",
   "metadata": {},
   "outputs": [
    {
     "data": {
      "text/plain": [
       "{0, 1, 4, 9, 16, 25}"
      ]
     },
     "execution_count": 17,
     "metadata": {},
     "output_type": "execute_result"
    }
   ],
   "source": [
    "kareler"
   ]
  },
  {
   "cell_type": "code",
   "execution_count": 35,
   "id": "cc13408d-ad76-4076-bc5c-43da7b50b41b",
   "metadata": {},
   "outputs": [],
   "source": [
    "kullanici_adlari = [\n",
    "    \" Ahmet\",\n",
    "    \"mehmet \",\n",
    "    \"AHMET\",\n",
    "    \"Mehmet\",\n",
    "    \"Ayşe\",\n",
    "    \"FATMA\",\n",
    "    \"osmanli\",\n",
    "    \"OSMANLI\"\n",
    "]"
   ]
  },
  {
   "cell_type": "code",
   "execution_count": 36,
   "id": "e494d0ca-a800-473e-b07c-0d69b6c74bae",
   "metadata": {},
   "outputs": [
    {
     "data": {
      "text/plain": [
       "[' Ahmet', 'mehmet ', 'AHMET', 'Mehmet', 'Ayşe', 'FATMA', 'osmanli', 'OSMANLI']"
      ]
     },
     "execution_count": 36,
     "metadata": {},
     "output_type": "execute_result"
    }
   ],
   "source": [
    "kullanici_adlari"
   ]
  },
  {
   "cell_type": "code",
   "execution_count": 37,
   "id": "dd9ecade-df81-4279-8db3-ea2c98a3671e",
   "metadata": {},
   "outputs": [
    {
     "data": {
      "text/plain": [
       "{' Ahmet', 'AHMET', 'Ayşe', 'FATMA', 'Mehmet', 'OSMANLI', 'mehmet ', 'osmanli'}"
      ]
     },
     "execution_count": 37,
     "metadata": {},
     "output_type": "execute_result"
    }
   ],
   "source": [
    "{isim for isim in kullanici_adlari}"
   ]
  },
  {
   "cell_type": "code",
   "execution_count": 39,
   "id": "dd6e8cbf-c8fa-4ea1-bef4-1d57064da2f0",
   "metadata": {},
   "outputs": [
    {
     "data": {
      "text/plain": [
       "{'ahmet', 'ayşe', 'fatma', 'mehmet', 'osmanli'}"
      ]
     },
     "execution_count": 39,
     "metadata": {},
     "output_type": "execute_result"
    }
   ],
   "source": [
    "{isim.lower().strip() for isim in kullanici_adlari}"
   ]
  },
  {
   "cell_type": "code",
   "execution_count": 40,
   "id": "2706671b-50d8-466c-8148-986627a1ea86",
   "metadata": {},
   "outputs": [],
   "source": [
    "A = {\"kedi\", \"köpek\", \"kuş\"}\n",
    "B = {\"inek\", \"tavuk\", \"köpek\", \"kedi\"}"
   ]
  },
  {
   "cell_type": "code",
   "execution_count": 41,
   "id": "7c326cc1-3343-43fb-ac39-b5aba54f024e",
   "metadata": {},
   "outputs": [
    {
     "data": {
      "text/plain": [
       "{'inek', 'kedi', 'kuş', 'köpek', 'tavuk'}"
      ]
     },
     "execution_count": 41,
     "metadata": {},
     "output_type": "execute_result"
    }
   ],
   "source": [
    "A | B"
   ]
  },
  {
   "cell_type": "code",
   "execution_count": 42,
   "id": "4d81c9c0-b8eb-4cb8-b932-04eca6b610c9",
   "metadata": {},
   "outputs": [
    {
     "data": {
      "text/plain": [
       "{'inek', 'kedi', 'kuş', 'köpek', 'tavuk'}"
      ]
     },
     "execution_count": 42,
     "metadata": {},
     "output_type": "execute_result"
    }
   ],
   "source": [
    "A.union(B)"
   ]
  },
  {
   "cell_type": "code",
   "execution_count": 43,
   "id": "fa1fed2b-00f8-4591-a8da-73488639cf9c",
   "metadata": {},
   "outputs": [
    {
     "data": {
      "text/plain": [
       "{'kedi', 'köpek'}"
      ]
     },
     "execution_count": 43,
     "metadata": {},
     "output_type": "execute_result"
    }
   ],
   "source": [
    "A & B"
   ]
  },
  {
   "cell_type": "code",
   "execution_count": 44,
   "id": "9cad8edc-3fd3-453a-9a6b-6153d0266501",
   "metadata": {},
   "outputs": [
    {
     "data": {
      "text/plain": [
       "{'kedi', 'köpek'}"
      ]
     },
     "execution_count": 44,
     "metadata": {},
     "output_type": "execute_result"
    }
   ],
   "source": [
    "A.intersection(B)"
   ]
  },
  {
   "cell_type": "code",
   "execution_count": 45,
   "id": "3f977eb5-d87b-4ddb-a637-a201581dba39",
   "metadata": {},
   "outputs": [
    {
     "data": {
      "text/plain": [
       "{'kuş'}"
      ]
     },
     "execution_count": 45,
     "metadata": {},
     "output_type": "execute_result"
    }
   ],
   "source": [
    "A - B"
   ]
  },
  {
   "cell_type": "code",
   "execution_count": 46,
   "id": "1f4483a7-0963-4a38-8fe7-f3d7160d0582",
   "metadata": {},
   "outputs": [
    {
     "data": {
      "text/plain": [
       "{'inek', 'tavuk'}"
      ]
     },
     "execution_count": 46,
     "metadata": {},
     "output_type": "execute_result"
    }
   ],
   "source": [
    "B-A"
   ]
  },
  {
   "cell_type": "code",
   "execution_count": 47,
   "id": "413284c0-05a0-4d06-889b-0e721a904676",
   "metadata": {},
   "outputs": [
    {
     "data": {
      "text/plain": [
       "{'kuş'}"
      ]
     },
     "execution_count": 47,
     "metadata": {},
     "output_type": "execute_result"
    }
   ],
   "source": [
    "A.difference(B)"
   ]
  },
  {
   "cell_type": "code",
   "execution_count": 48,
   "id": "fdcc8826-1a58-45b5-85cd-74bbcec9b53c",
   "metadata": {},
   "outputs": [
    {
     "data": {
      "text/plain": [
       "{'inek', 'kuş', 'tavuk'}"
      ]
     },
     "execution_count": 48,
     "metadata": {},
     "output_type": "execute_result"
    }
   ],
   "source": [
    "A ^ B"
   ]
  },
  {
   "cell_type": "code",
   "execution_count": 49,
   "id": "ad18bc68-ede0-4bb8-a5cf-de0763028ac6",
   "metadata": {},
   "outputs": [
    {
     "data": {
      "text/plain": [
       "{'inek', 'kuş', 'tavuk'}"
      ]
     },
     "execution_count": 49,
     "metadata": {},
     "output_type": "execute_result"
    }
   ],
   "source": [
    "A.symmetric_difference(B)"
   ]
  },
  {
   "cell_type": "code",
   "execution_count": 89,
   "id": "db10f602-9def-4899-a374-a2ef914664c4",
   "metadata": {},
   "outputs": [],
   "source": [
    "katilanlar = set()"
   ]
  },
  {
   "cell_type": "code",
   "execution_count": 90,
   "id": "a8aa0aee-c8d4-46af-bf4d-9a6a7bc0b2ef",
   "metadata": {},
   "outputs": [
    {
     "data": {
      "text/plain": [
       "1901868426720"
      ]
     },
     "execution_count": 90,
     "metadata": {},
     "output_type": "execute_result"
    }
   ],
   "source": [
    "id(katilanlar)"
   ]
  },
  {
   "cell_type": "code",
   "execution_count": 91,
   "id": "1012f5e7-7e72-4cee-bfe4-989addd9e74c",
   "metadata": {},
   "outputs": [],
   "source": [
    "katilanlar = katilanlar | {\"Ali\", \"Veli\"}"
   ]
  },
  {
   "cell_type": "code",
   "execution_count": 92,
   "id": "236d3d38-a6f1-4524-bcca-d4a5989d2db5",
   "metadata": {},
   "outputs": [
    {
     "data": {
      "text/plain": [
       "{'Ali', 'Veli'}"
      ]
     },
     "execution_count": 92,
     "metadata": {},
     "output_type": "execute_result"
    }
   ],
   "source": [
    "katilanlar"
   ]
  },
  {
   "cell_type": "code",
   "execution_count": 93,
   "id": "593e738f-c4fe-4bfc-883f-2cbb2ba27835",
   "metadata": {},
   "outputs": [
    {
     "data": {
      "text/plain": [
       "1901863046048"
      ]
     },
     "execution_count": 93,
     "metadata": {},
     "output_type": "execute_result"
    }
   ],
   "source": [
    "id(katilanlar)"
   ]
  },
  {
   "cell_type": "code",
   "execution_count": 94,
   "id": "172da2c2-f905-492e-918a-1fe74a134b16",
   "metadata": {},
   "outputs": [],
   "source": [
    "katilanlar |= {\"Efe\", \"Eda\"}"
   ]
  },
  {
   "cell_type": "code",
   "execution_count": 95,
   "id": "170661f4-0b61-4b0c-933e-eb1e64746e1a",
   "metadata": {},
   "outputs": [
    {
     "data": {
      "text/plain": [
       "{'Ali', 'Eda', 'Efe', 'Veli'}"
      ]
     },
     "execution_count": 95,
     "metadata": {},
     "output_type": "execute_result"
    }
   ],
   "source": [
    "katilanlar"
   ]
  },
  {
   "cell_type": "code",
   "execution_count": 96,
   "id": "7d9bb4f5-6b0f-46b8-9906-e4568653aadb",
   "metadata": {},
   "outputs": [
    {
     "data": {
      "text/plain": [
       "1901863046048"
      ]
     },
     "execution_count": 96,
     "metadata": {},
     "output_type": "execute_result"
    }
   ],
   "source": [
    "id(katilanlar)"
   ]
  },
  {
   "cell_type": "code",
   "execution_count": 97,
   "id": "400d0b61-1137-4f0d-8899-2402b4505b84",
   "metadata": {},
   "outputs": [],
   "source": [
    "katilanlar |= {\"Deniz\", \"Kemal\"}"
   ]
  },
  {
   "cell_type": "code",
   "execution_count": 98,
   "id": "87c858fa-1c1b-4088-8e86-fc689b6ca74d",
   "metadata": {},
   "outputs": [
    {
     "data": {
      "text/plain": [
       "{'Ali', 'Deniz', 'Eda', 'Efe', 'Kemal', 'Veli'}"
      ]
     },
     "execution_count": 98,
     "metadata": {},
     "output_type": "execute_result"
    }
   ],
   "source": [
    "katilanlar"
   ]
  },
  {
   "cell_type": "code",
   "execution_count": 99,
   "id": "23a8aa86-1d70-4e15-afd7-7171042ae95d",
   "metadata": {},
   "outputs": [
    {
     "data": {
      "text/plain": [
       "1901863046048"
      ]
     },
     "execution_count": 99,
     "metadata": {},
     "output_type": "execute_result"
    }
   ],
   "source": [
    "id(katilanlar)"
   ]
  },
  {
   "cell_type": "code",
   "execution_count": 57,
   "id": "a46b27e8-9e13-43e0-8030-2876227b5a9c",
   "metadata": {},
   "outputs": [
    {
     "data": {
      "text/plain": [
       "1901860892544"
      ]
     },
     "execution_count": 57,
     "metadata": {},
     "output_type": "execute_result"
    }
   ],
   "source": [
    "id(katilanlar)"
   ]
  },
  {
   "cell_type": "code",
   "execution_count": 58,
   "id": "03884ebe-fd8d-4557-acf6-b8a45a5b83ba",
   "metadata": {},
   "outputs": [],
   "source": [
    "hedef_musteriler = {\"Ahmet\", \"Mehmet\", \"Ayşe\", \"Zeynep\"}"
   ]
  },
  {
   "cell_type": "code",
   "execution_count": 59,
   "id": "97d7b3c1-3b07-46d8-babc-8e67b66708f6",
   "metadata": {},
   "outputs": [],
   "source": [
    "izinli_kisiler = {\"Mehmet\", \"Ayşe\"}"
   ]
  },
  {
   "cell_type": "code",
   "execution_count": 60,
   "id": "6c4a0ff2-1385-4a3a-80fc-b48fac3e9042",
   "metadata": {},
   "outputs": [],
   "source": [
    "hedef_musteriler &= izinli_kisiler"
   ]
  },
  {
   "cell_type": "code",
   "execution_count": 61,
   "id": "62f09a2f-cf9e-476e-8f35-1689e6114068",
   "metadata": {},
   "outputs": [
    {
     "data": {
      "text/plain": [
       "{'Ayşe', 'Mehmet'}"
      ]
     },
     "execution_count": 61,
     "metadata": {},
     "output_type": "execute_result"
    }
   ],
   "source": [
    "hedef_musteriler"
   ]
  },
  {
   "cell_type": "code",
   "execution_count": 70,
   "id": "e035d060-77eb-447f-be7a-33571db917c6",
   "metadata": {},
   "outputs": [],
   "source": [
    "hedef_musteriler = {\"Ahmet\", \"Mehmet\", \"Ayşe\", \"Zeynep\"}\n",
    "izinli_kisiler = {\"Mehmet\", \"Ayşe\"}"
   ]
  },
  {
   "cell_type": "code",
   "execution_count": 71,
   "id": "8dfbc860-d44b-4583-b994-33ad86bcb519",
   "metadata": {},
   "outputs": [
    {
     "data": {
      "text/plain": [
       "1901868417984"
      ]
     },
     "execution_count": 71,
     "metadata": {},
     "output_type": "execute_result"
    }
   ],
   "source": [
    "id(hedef_musteriler)"
   ]
  },
  {
   "cell_type": "code",
   "execution_count": 72,
   "id": "af0363a3-d091-438a-bbd0-a34b9f34899b",
   "metadata": {},
   "outputs": [],
   "source": [
    "hedef_musteriler.intersection_update(izinli_kisiler)"
   ]
  },
  {
   "cell_type": "code",
   "execution_count": 73,
   "id": "5d879c43-64b3-4508-a509-5b0b33d3863b",
   "metadata": {},
   "outputs": [
    {
     "data": {
      "text/plain": [
       "{'Ayşe', 'Mehmet'}"
      ]
     },
     "execution_count": 73,
     "metadata": {},
     "output_type": "execute_result"
    }
   ],
   "source": [
    "hedef_musteriler"
   ]
  },
  {
   "cell_type": "code",
   "execution_count": 74,
   "id": "b6715c20-e111-4f81-af44-2014f57deaa8",
   "metadata": {},
   "outputs": [
    {
     "data": {
      "text/plain": [
       "1901868417984"
      ]
     },
     "execution_count": 74,
     "metadata": {},
     "output_type": "execute_result"
    }
   ],
   "source": [
    "id(hedef_musteriler)"
   ]
  },
  {
   "cell_type": "code",
   "execution_count": 75,
   "id": "3bea03e4-a848-473e-a290-7b36e84508a5",
   "metadata": {},
   "outputs": [],
   "source": [
    "gorevler = {\n",
    "\t\t\"Kullanıcı girişi yap\",\n",
    "\t\t\"Performans iyileştir\",\n",
    "\t\t\"Birim testlerini yaz\",\n",
    "\t\t\"Hata #123'ü düzelt\"\n",
    "}"
   ]
  },
  {
   "cell_type": "code",
   "execution_count": 76,
   "id": "5397b7fe-bc6c-4a44-bf9a-86219559a2f5",
   "metadata": {},
   "outputs": [],
   "source": [
    "tamamlananlar = {\n",
    "\t\t\"Hata #123'ü düzelt\",\n",
    "\t\t\"Performans iyileştir\"\n",
    "}"
   ]
  },
  {
   "cell_type": "code",
   "execution_count": 77,
   "id": "72cf9ac2-58eb-4ae5-a3c0-466db66ef21e",
   "metadata": {},
   "outputs": [
    {
     "data": {
      "text/plain": [
       "1901868427168"
      ]
     },
     "execution_count": 77,
     "metadata": {},
     "output_type": "execute_result"
    }
   ],
   "source": [
    "id(gorevler)"
   ]
  },
  {
   "cell_type": "code",
   "execution_count": 78,
   "id": "dfac5589-cdb4-4304-a1ea-479fff6336b1",
   "metadata": {},
   "outputs": [],
   "source": [
    "gorevler -= tamamlananlar"
   ]
  },
  {
   "cell_type": "code",
   "execution_count": null,
   "id": "476cf1ad-d4f0-40e5-9b4f-052d3f51f145",
   "metadata": {},
   "outputs": [],
   "source": [
    "gorevler = gorevler - tamamlananlar"
   ]
  },
  {
   "cell_type": "code",
   "execution_count": 79,
   "id": "18cf81f5-f759-44ad-bfbc-caa8ccf18bbb",
   "metadata": {},
   "outputs": [
    {
     "data": {
      "text/plain": [
       "{'Birim testlerini yaz', 'Kullanıcı girişi yap'}"
      ]
     },
     "execution_count": 79,
     "metadata": {},
     "output_type": "execute_result"
    }
   ],
   "source": [
    "gorevler"
   ]
  },
  {
   "cell_type": "code",
   "execution_count": 80,
   "id": "ff6d2674-2f4c-453c-9e8d-dad886c1b182",
   "metadata": {},
   "outputs": [
    {
     "data": {
      "text/plain": [
       "1901868427168"
      ]
     },
     "execution_count": 80,
     "metadata": {},
     "output_type": "execute_result"
    }
   ],
   "source": [
    "id(gorevler)"
   ]
  },
  {
   "cell_type": "code",
   "execution_count": 100,
   "id": "d8d39255-fe26-4438-9025-c27a1cf0cc5a",
   "metadata": {},
   "outputs": [],
   "source": [
    "f = frozenset([1,2,3])"
   ]
  },
  {
   "cell_type": "code",
   "execution_count": 101,
   "id": "bf4999d3-9b91-4353-affa-f297ca9612f7",
   "metadata": {},
   "outputs": [
    {
     "data": {
      "text/plain": [
       "frozenset({1, 2, 3})"
      ]
     },
     "execution_count": 101,
     "metadata": {},
     "output_type": "execute_result"
    }
   ],
   "source": [
    "f"
   ]
  },
  {
   "cell_type": "code",
   "execution_count": 102,
   "id": "99ad1861-610a-4650-8570-de0351d8ee87",
   "metadata": {},
   "outputs": [
    {
     "data": {
      "text/plain": [
       "frozenset"
      ]
     },
     "execution_count": 102,
     "metadata": {},
     "output_type": "execute_result"
    }
   ],
   "source": [
    "type(f)"
   ]
  },
  {
   "cell_type": "code",
   "execution_count": 104,
   "id": "47c3e513-ea26-4c32-979c-65673aecf30f",
   "metadata": {},
   "outputs": [
    {
     "data": {
      "text/plain": [
       "{1, 3.14, None, 'kırmızı'}"
      ]
     },
     "execution_count": 104,
     "metadata": {},
     "output_type": "execute_result"
    }
   ],
   "source": [
    "kume "
   ]
  },
  {
   "cell_type": "code",
   "execution_count": 128,
   "id": "e9e3d75a-beeb-485c-b98b-471bd686a10a",
   "metadata": {},
   "outputs": [],
   "source": [
    "kume = {2,3,6,1, 3.14,\"veli\",\"ali\"}"
   ]
  },
  {
   "cell_type": "code",
   "execution_count": 129,
   "id": "af6dcd5c-6d2f-4dd0-bafc-7f3cd02c32da",
   "metadata": {},
   "outputs": [
    {
     "data": {
      "text/plain": [
       "{1, 2, 3, 3.14, 6, 'ali', 'veli'}"
      ]
     },
     "execution_count": 129,
     "metadata": {},
     "output_type": "execute_result"
    }
   ],
   "source": [
    "kume"
   ]
  },
  {
   "cell_type": "code",
   "execution_count": 114,
   "id": "6bae0d6a-b9ba-4175-ad41-ac74d652f0ad",
   "metadata": {},
   "outputs": [
    {
     "data": {
      "text/plain": [
       "{1, 2, 3, 6}"
      ]
     },
     "execution_count": 114,
     "metadata": {},
     "output_type": "execute_result"
    }
   ],
   "source": [
    "set(sorted(kume))"
   ]
  },
  {
   "cell_type": "code",
   "execution_count": 130,
   "id": "1e923540-8473-441d-9222-1518edec2a5d",
   "metadata": {},
   "outputs": [],
   "source": [
    "kume = {1,2,5,4}"
   ]
  },
  {
   "cell_type": "code",
   "execution_count": 131,
   "id": "fa5c91fd-12e5-43da-961d-c347b9b32e3c",
   "metadata": {},
   "outputs": [],
   "source": [
    "kume.add(\"Deniz\")"
   ]
  },
  {
   "cell_type": "code",
   "execution_count": 132,
   "id": "f91d1646-188d-493f-96bd-5caa97e857e2",
   "metadata": {},
   "outputs": [
    {
     "data": {
      "text/plain": [
       "{1, 2, 4, 5, 'Deniz'}"
      ]
     },
     "execution_count": 132,
     "metadata": {},
     "output_type": "execute_result"
    }
   ],
   "source": [
    "kume"
   ]
  },
  {
   "cell_type": "code",
   "execution_count": 115,
   "id": "6cbf5c85-4aa3-4c33-9509-3f49b9ecb1c6",
   "metadata": {},
   "outputs": [
    {
     "ename": "TypeError",
     "evalue": "'set' object is not reversible",
     "output_type": "error",
     "traceback": [
      "\u001b[31m---------------------------------------------------------------------------\u001b[39m",
      "\u001b[31mTypeError\u001b[39m                                 Traceback (most recent call last)",
      "\u001b[36mCell\u001b[39m\u001b[36m \u001b[39m\u001b[32mIn[115]\u001b[39m\u001b[32m, line 1\u001b[39m\n\u001b[32m----> \u001b[39m\u001b[32m1\u001b[39m \u001b[38;5;28;43mreversed\u001b[39;49m\u001b[43m(\u001b[49m\u001b[43mkume\u001b[49m\u001b[43m)\u001b[49m\n",
      "\u001b[31mTypeError\u001b[39m: 'set' object is not reversible"
     ]
    }
   ],
   "source": [
    "reversed(kume)"
   ]
  },
  {
   "cell_type": "code",
   "execution_count": null,
   "id": "391b142a-a70d-47a3-84d8-1cd607d308c5",
   "metadata": {},
   "outputs": [],
   "source": [
    "set(sorted(kume))"
   ]
  },
  {
   "cell_type": "code",
   "execution_count": 133,
   "id": "50b9a103-d1b5-48ac-a2b4-3500d870d30a",
   "metadata": {},
   "outputs": [],
   "source": [
    "calisanlar = {\"Ali\", \"Zeynep\"}"
   ]
  },
  {
   "cell_type": "code",
   "execution_count": 134,
   "id": "8646952a-9bc1-421b-a4aa-b9e94044ce68",
   "metadata": {},
   "outputs": [],
   "source": [
    "calisanlar.remove(\"Ali\")"
   ]
  },
  {
   "cell_type": "code",
   "execution_count": 135,
   "id": "54712c00-6814-4087-bf69-8954944e2f2e",
   "metadata": {},
   "outputs": [
    {
     "data": {
      "text/plain": [
       "{'Zeynep'}"
      ]
     },
     "execution_count": 135,
     "metadata": {},
     "output_type": "execute_result"
    }
   ],
   "source": [
    "calisanlar"
   ]
  },
  {
   "cell_type": "code",
   "execution_count": 136,
   "id": "6534db34-3831-4813-98c0-0bee83bdf4ed",
   "metadata": {},
   "outputs": [
    {
     "ename": "KeyError",
     "evalue": "'Veli'",
     "output_type": "error",
     "traceback": [
      "\u001b[31m---------------------------------------------------------------------------\u001b[39m",
      "\u001b[31mKeyError\u001b[39m                                  Traceback (most recent call last)",
      "\u001b[36mCell\u001b[39m\u001b[36m \u001b[39m\u001b[32mIn[136]\u001b[39m\u001b[32m, line 1\u001b[39m\n\u001b[32m----> \u001b[39m\u001b[32m1\u001b[39m \u001b[43mcalisanlar\u001b[49m\u001b[43m.\u001b[49m\u001b[43mremove\u001b[49m\u001b[43m(\u001b[49m\u001b[33;43m\"\u001b[39;49m\u001b[33;43mVeli\u001b[39;49m\u001b[33;43m\"\u001b[39;49m\u001b[43m)\u001b[49m\n",
      "\u001b[31mKeyError\u001b[39m: 'Veli'"
     ]
    }
   ],
   "source": [
    "calisanlar.remove(\"Veli\")"
   ]
  },
  {
   "cell_type": "code",
   "execution_count": 138,
   "id": "2e069f76-d1a1-4fae-9cbf-d61fe35c5d7c",
   "metadata": {},
   "outputs": [],
   "source": [
    "calisanlar.add(\"Ela\")"
   ]
  },
  {
   "cell_type": "code",
   "execution_count": 139,
   "id": "5fde8cad-00de-4420-aea8-13f370894cc7",
   "metadata": {},
   "outputs": [
    {
     "data": {
      "text/plain": [
       "{'Ela', 'Zeynep'}"
      ]
     },
     "execution_count": 139,
     "metadata": {},
     "output_type": "execute_result"
    }
   ],
   "source": [
    "calisanlar"
   ]
  },
  {
   "cell_type": "code",
   "execution_count": 140,
   "id": "21e9a358-5f6a-40ae-bf68-6e60f8917475",
   "metadata": {},
   "outputs": [],
   "source": [
    "calisanlar.discard(\"Ela\")"
   ]
  },
  {
   "cell_type": "code",
   "execution_count": 141,
   "id": "cc34e47f-dcc6-4a84-a495-6eb5df52454b",
   "metadata": {},
   "outputs": [
    {
     "data": {
      "text/plain": [
       "{'Zeynep'}"
      ]
     },
     "execution_count": 141,
     "metadata": {},
     "output_type": "execute_result"
    }
   ],
   "source": [
    "calisanlar"
   ]
  },
  {
   "cell_type": "code",
   "execution_count": 142,
   "id": "a54e7548-4875-4c62-b277-830cce81ac6f",
   "metadata": {},
   "outputs": [],
   "source": [
    "calisanlar.discard(\"Ahmet\")"
   ]
  },
  {
   "cell_type": "code",
   "execution_count": 176,
   "id": "6d872901-b5ae-4dbe-bf52-760be3631b3a",
   "metadata": {},
   "outputs": [],
   "source": [
    "calisanlar = {\"Ali\", \"Mehmet\", \"Ayşe\", \"Kemal\"}"
   ]
  },
  {
   "cell_type": "code",
   "execution_count": null,
   "id": "2d3e17bd-601f-410e-b5d9-8396f77afe7e",
   "metadata": {},
   "outputs": [],
   "source": [
    "kisi = calisanlar.pop()"
   ]
  },
  {
   "cell_type": "code",
   "execution_count": null,
   "id": "486ab7f7-bb9e-4d89-babd-b42dda9ced28",
   "metadata": {},
   "outputs": [],
   "source": [
    "kisi"
   ]
  },
  {
   "cell_type": "code",
   "execution_count": 179,
   "id": "20b7b4d0-981f-4f33-b400-0f4793d75b9f",
   "metadata": {},
   "outputs": [
    {
     "data": {
      "text/plain": [
       "{'Ali', 'Ayşe', 'Kemal'}"
      ]
     },
     "execution_count": 179,
     "metadata": {},
     "output_type": "execute_result"
    }
   ],
   "source": [
    "calisanlar"
   ]
  },
  {
   "cell_type": "code",
   "execution_count": 147,
   "id": "ad0ebf06-05d3-435d-bac4-242633647ec5",
   "metadata": {},
   "outputs": [],
   "source": [
    "calisanlar.clear()"
   ]
  },
  {
   "cell_type": "code",
   "execution_count": 148,
   "id": "eb4041cd-407b-4719-b16c-476f5cd8c48c",
   "metadata": {},
   "outputs": [
    {
     "data": {
      "text/plain": [
       "set()"
      ]
     },
     "execution_count": 148,
     "metadata": {},
     "output_type": "execute_result"
    }
   ],
   "source": [
    "calisanlar"
   ]
  },
  {
   "cell_type": "code",
   "execution_count": 149,
   "id": "e0bee986-e128-4146-b8bf-015724408585",
   "metadata": {},
   "outputs": [],
   "source": [
    "orijinal = {\"Ali\", \"Ayşe\"}"
   ]
  },
  {
   "cell_type": "code",
   "execution_count": 150,
   "id": "acfbcfb4-fabd-495e-af3c-e41f56e82ab6",
   "metadata": {},
   "outputs": [],
   "source": [
    "kopya = orijinal.copy()"
   ]
  },
  {
   "cell_type": "code",
   "execution_count": 151,
   "id": "f7f05326-1b74-46bb-87d1-2f3654c0f437",
   "metadata": {},
   "outputs": [
    {
     "data": {
      "text/plain": [
       "{'Ali', 'Ayşe'}"
      ]
     },
     "execution_count": 151,
     "metadata": {},
     "output_type": "execute_result"
    }
   ],
   "source": [
    "kopya"
   ]
  },
  {
   "cell_type": "code",
   "execution_count": 152,
   "id": "d6550219-89f5-48ac-9e37-35af9308c052",
   "metadata": {},
   "outputs": [],
   "source": [
    "orijinal.remove(\"Ayşe\")"
   ]
  },
  {
   "cell_type": "code",
   "execution_count": 153,
   "id": "69ca3b0f-ef9c-42c3-ad1d-a086ea134210",
   "metadata": {},
   "outputs": [
    {
     "data": {
      "text/plain": [
       "{'Ali'}"
      ]
     },
     "execution_count": 153,
     "metadata": {},
     "output_type": "execute_result"
    }
   ],
   "source": [
    "orijinal"
   ]
  },
  {
   "cell_type": "code",
   "execution_count": 154,
   "id": "7b91eb27-310f-4dba-a7d0-442d22d528ae",
   "metadata": {},
   "outputs": [
    {
     "data": {
      "text/plain": [
       "{'Ali', 'Ayşe'}"
      ]
     },
     "execution_count": 154,
     "metadata": {},
     "output_type": "execute_result"
    }
   ],
   "source": [
    "kopya"
   ]
  },
  {
   "cell_type": "code",
   "execution_count": null,
   "id": "8ff60e20-be4d-41e9-9d93-b6ebb1c37499",
   "metadata": {},
   "outputs": [],
   "source": []
  }
 ],
 "metadata": {
  "kernelspec": {
   "display_name": "Python 3 (ipykernel)",
   "language": "python",
   "name": "python3"
  },
  "language_info": {
   "codemirror_mode": {
    "name": "ipython",
    "version": 3
   },
   "file_extension": ".py",
   "mimetype": "text/x-python",
   "name": "python",
   "nbconvert_exporter": "python",
   "pygments_lexer": "ipython3",
   "version": "3.12.2"
  }
 },
 "nbformat": 4,
 "nbformat_minor": 5
}
