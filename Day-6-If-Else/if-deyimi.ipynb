{
 "cells": [
  {
   "cell_type": "code",
   "execution_count": 1,
   "id": "ae41b7db-f574-4f9c-b05f-eea7bdbd7226",
   "metadata": {},
   "outputs": [],
   "source": [
    "x = 0 \n",
    "y = 5"
   ]
  },
  {
   "cell_type": "code",
   "execution_count": 2,
   "id": "3e7d1a22-c251-4461-8dcd-8d32c1deccf9",
   "metadata": {},
   "outputs": [
    {
     "name": "stdout",
     "output_type": "stream",
     "text": [
      "evet\n"
     ]
    }
   ],
   "source": [
    "if x<y:\n",
    "    print(\"evet\")"
   ]
  },
  {
   "cell_type": "code",
   "execution_count": 3,
   "id": "2936969f-5e4d-4e2c-8650-e74038a8120c",
   "metadata": {},
   "outputs": [
    {
     "data": {
      "text/plain": [
       "True"
      ]
     },
     "execution_count": 3,
     "metadata": {},
     "output_type": "execute_result"
    }
   ],
   "source": [
    "x<y"
   ]
  },
  {
   "cell_type": "code",
   "execution_count": 4,
   "id": "c20f0a22-93ec-4154-b1f8-2391a7e44937",
   "metadata": {},
   "outputs": [],
   "source": [
    "if x>y:\n",
    "    print(\"evet\")"
   ]
  },
  {
   "cell_type": "code",
   "execution_count": 5,
   "id": "836be0c1-3e22-43b9-94a4-6ae6f741cfce",
   "metadata": {},
   "outputs": [
    {
     "data": {
      "text/plain": [
       "False"
      ]
     },
     "execution_count": 5,
     "metadata": {},
     "output_type": "execute_result"
    }
   ],
   "source": [
    "x>y"
   ]
  },
  {
   "cell_type": "code",
   "execution_count": 6,
   "id": "cf130e9e-4078-41dc-adc3-10632635d11e",
   "metadata": {},
   "outputs": [],
   "source": [
    "if x:\n",
    "    print(\"evet\")"
   ]
  },
  {
   "cell_type": "code",
   "execution_count": 7,
   "id": "9c857766-af97-4450-bb37-2425c9aef62c",
   "metadata": {},
   "outputs": [
    {
     "data": {
      "text/plain": [
       "False"
      ]
     },
     "execution_count": 7,
     "metadata": {},
     "output_type": "execute_result"
    }
   ],
   "source": [
    "bool(x)"
   ]
  },
  {
   "cell_type": "code",
   "execution_count": 8,
   "id": "544bb02c-7162-4c69-b33c-b5a2c440c6aa",
   "metadata": {},
   "outputs": [
    {
     "name": "stdout",
     "output_type": "stream",
     "text": [
      "evet\n"
     ]
    }
   ],
   "source": [
    "if y:\n",
    "    print(\"evet\")"
   ]
  },
  {
   "cell_type": "code",
   "execution_count": 9,
   "id": "cd233aae-42ac-4ff2-8581-df50abe38a51",
   "metadata": {},
   "outputs": [
    {
     "data": {
      "text/plain": [
       "True"
      ]
     },
     "execution_count": 9,
     "metadata": {},
     "output_type": "execute_result"
    }
   ],
   "source": [
    "bool(y)"
   ]
  },
  {
   "cell_type": "code",
   "execution_count": 10,
   "id": "8b7af81e-1c34-4385-b951-1888890da769",
   "metadata": {},
   "outputs": [
    {
     "name": "stdout",
     "output_type": "stream",
     "text": [
      "evet\n"
     ]
    }
   ],
   "source": [
    "if x or y:\n",
    "    print(\"evet\")"
   ]
  },
  {
   "cell_type": "code",
   "execution_count": 11,
   "id": "551a0e9e-30d3-4407-b2cc-7f6a2b27469b",
   "metadata": {},
   "outputs": [],
   "source": [
    "if x and y:\n",
    "    print(\"evet\")"
   ]
  },
  {
   "cell_type": "code",
   "execution_count": 14,
   "id": "68c62741-8417-467b-b869-1279a18ad4b4",
   "metadata": {},
   "outputs": [
    {
     "ename": "IndentationError",
     "evalue": "unexpected indent (1971891737.py, line 3)",
     "output_type": "error",
     "traceback": [
      "  \u001b[36mCell\u001b[39m\u001b[36m \u001b[39m\u001b[32mIn[14]\u001b[39m\u001b[32m, line 3\u001b[39m\n\u001b[31m    \u001b[39m\u001b[31mprint(\"tamam\")\u001b[39m\n    ^\n\u001b[31mIndentationError\u001b[39m\u001b[31m:\u001b[39m unexpected indent\n"
     ]
    }
   ],
   "source": [
    "if x or y:\n",
    "    print(\"evet\")\n",
    "    print(\"tamam\")"
   ]
  },
  {
   "cell_type": "code",
   "execution_count": 15,
   "id": "f3562e4a-9a80-47a2-ae85-fddcb7991479",
   "metadata": {},
   "outputs": [
    {
     "name": "stdout",
     "output_type": "stream",
     "text": [
      "koşul doğru\n",
      "Blok içinde satır\n",
      "...\n",
      "Bitti.\n",
      "koşuldan sonra gelen satır\n"
     ]
    }
   ],
   "source": [
    "if \"erik\" in [\"elma\", \"erik\", \"kivi\"]:\n",
    "    print(\"koşul doğru\")\n",
    "    print(\"Blok içinde satır\")\n",
    "    print(\"...\")\n",
    "    print(\"Bitti.\")\n",
    "\n",
    "print(\"koşuldan sonra gelen satır\")"
   ]
  },
  {
   "cell_type": "code",
   "execution_count": 16,
   "id": "57591caa-8e91-487b-9898-84aaad2e503f",
   "metadata": {},
   "outputs": [
    {
     "name": "stdout",
     "output_type": "stream",
     "text": [
      "koşuldan sonra gelen satır\n"
     ]
    }
   ],
   "source": [
    "if \"armut\" in [\"elma\", \"erik\", \"kivi\"]:\n",
    "    print(\"koşul doğru\")\n",
    "    print(\"Blok içinde satır\")\n",
    "    print(\"...\")\n",
    "    print(\"Bitti.\")\n",
    "\n",
    "print(\"koşuldan sonra gelen satır\")"
   ]
  },
  {
   "cell_type": "code",
   "execution_count": 17,
   "id": "86436942-53f6-4cfe-a76a-f344995d73dd",
   "metadata": {},
   "outputs": [
    {
     "name": "stdout",
     "output_type": "stream",
     "text": [
      "Dış koşul doğru\n",
      "iki iç koşul arasında\n",
      "İç koşul 2\n",
      "Program bitti\n"
     ]
    }
   ],
   "source": [
    "if \"Ali\" in ['Ela', 'Ali', 'Efe']:\n",
    "    print(\"Dış koşul doğru\")\n",
    "\n",
    "    if 10>20:\n",
    "        print(\"İç koşul 1\")\n",
    "    \n",
    "    print(\"iki iç koşul arasında\")\n",
    "\n",
    "    if 10 < 20:\n",
    "        print(\"İç koşul 2\")\n",
    "\n",
    "print(\"Program bitti\")"
   ]
  },
  {
   "cell_type": "code",
   "execution_count": null,
   "id": "e13a43d2-8d41-4e2f-942c-a1195a18f471",
   "metadata": {},
   "outputs": [],
   "source": [
    "# Java'da if deyimi kullanımı\n",
    "if (koşul) {\n",
    "    işlem1;\n",
    "    işlem2;\n",
    "}"
   ]
  },
  {
   "cell_type": "code",
   "execution_count": null,
   "id": "0bcade4a-faec-4d6b-8dfb-98ffc5b6177b",
   "metadata": {},
   "outputs": [],
   "source": [
    "if koşul:\n",
    "    işlem1\n",
    "    işlem2"
   ]
  },
  {
   "cell_type": "code",
   "execution_count": null,
   "id": "7da4aab5-672d-4596-a1a6-f3adbe854d68",
   "metadata": {},
   "outputs": [],
   "source": [
    "if koşul:\n",
    "    işlem1\n",
    "    işlem2\n",
    "else:\n",
    "    işlem3"
   ]
  },
  {
   "cell_type": "code",
   "execution_count": 19,
   "id": "1ca209c4-71f7-4861-8476-b215f4445179",
   "metadata": {},
   "outputs": [
    {
     "name": "stdout",
     "output_type": "stream",
     "text": [
      "İkinci blok\n",
      "x büyük\n"
     ]
    }
   ],
   "source": [
    "x = 70\n",
    "\n",
    "if x<50:\n",
    "    print(\"Birinci blok\")\n",
    "    print(\"x küçük\")\n",
    "else:\n",
    "    print(\"İkinci blok\")\n",
    "    print(\"x büyük\")"
   ]
  },
  {
   "cell_type": "code",
   "execution_count": null,
   "id": "77eab007-74fc-4fc6-8cf3-a3c858d379b3",
   "metadata": {},
   "outputs": [],
   "source": [
    "if <kosul1>:\n",
    "    işlem1\n",
    "elif <kosul2>:\n",
    "    işlem2\n",
    "elif <kosul3>:\n",
    "    işlem3\n",
    "else:\n",
    "    işlem4"
   ]
  },
  {
   "cell_type": "code",
   "execution_count": 21,
   "id": "4e78f274-6997-47c1-a9b7-ecc6ca58c1be",
   "metadata": {},
   "outputs": [
    {
     "name": "stdout",
     "output_type": "stream",
     "text": [
      "Merhaba Ada\n"
     ]
    }
   ],
   "source": [
    "name = \"Ada\"\n",
    "\n",
    "if name == \"Ela\":\n",
    "    print('Merhaba Ela')\n",
    "elif name ==\"Deniz\":\n",
    "    print(\"Merhaba Deniz\")\n",
    "elif name == \"Ada\":\n",
    "    print(\"Merhaba Ada\")\n",
    "else: \n",
    "    print(\"Seni tanımıyorum\")"
   ]
  },
  {
   "cell_type": "code",
   "execution_count": 26,
   "id": "9900131c-2527-47fa-9587-301a8421fd21",
   "metadata": {},
   "outputs": [
    {
     "name": "stdout",
     "output_type": "stream",
     "text": [
      "Koşul 1 doğru\n"
     ]
    }
   ],
   "source": [
    "if \"a\" in \"bar\":\n",
    "    print(\"Koşul 1 doğru\")\n",
    "elif 1/0:\n",
    "    print(\"Bu kod ne olur?\")  "
   ]
  },
  {
   "cell_type": "code",
   "execution_count": 22,
   "id": "d14183ec-cdd3-4498-b1b3-fd3a11510b86",
   "metadata": {},
   "outputs": [
    {
     "ename": "ZeroDivisionError",
     "evalue": "division by zero",
     "output_type": "error",
     "traceback": [
      "\u001b[31m---------------------------------------------------------------------------\u001b[39m",
      "\u001b[31mZeroDivisionError\u001b[39m                         Traceback (most recent call last)",
      "\u001b[36mCell\u001b[39m\u001b[36m \u001b[39m\u001b[32mIn[22]\u001b[39m\u001b[32m, line 1\u001b[39m\n\u001b[32m----> \u001b[39m\u001b[32m1\u001b[39m \u001b[32;43m1\u001b[39;49m\u001b[43m/\u001b[49m\u001b[32;43m0\u001b[39;49m\n",
      "\u001b[31mZeroDivisionError\u001b[39m: division by zero"
     ]
    }
   ],
   "source": [
    "1/0"
   ]
  },
  {
   "cell_type": "code",
   "execution_count": null,
   "id": "8815b5d8-0b7f-441d-b4d0-167dc5198d5f",
   "metadata": {},
   "outputs": [],
   "source": [
    "if kosul:\n",
    "    islem"
   ]
  },
  {
   "cell_type": "code",
   "execution_count": null,
   "id": "ed20287a-f9cd-475d-9934-81a7380026b0",
   "metadata": {},
   "outputs": [],
   "source": [
    "if kosul: islem1; islem2; islem3"
   ]
  },
  {
   "cell_type": "code",
   "execution_count": 28,
   "id": "3b2a9a4c-7313-492e-a283-767bb4ae3466",
   "metadata": {},
   "outputs": [
    {
     "name": "stdout",
     "output_type": "stream",
     "text": [
      "1\n",
      "2\n",
      "3\n"
     ]
    }
   ],
   "source": [
    "if \"e\" in \"eda\": print(\"1\"); print(\"2\"); print(\"3\")"
   ]
  },
  {
   "cell_type": "code",
   "execution_count": 29,
   "id": "6c87f86c-345c-4dbe-9fc3-7e670414311e",
   "metadata": {},
   "outputs": [
    {
     "name": "stdout",
     "output_type": "stream",
     "text": [
      "iki\n",
      "devam\n"
     ]
    }
   ],
   "source": [
    "x = 2\n",
    "\n",
    "if x==1: \n",
    "    print(\"bir\"); print(\"devam\")\n",
    "elif x ==2: \n",
    "    print(\"iki\"); print(\"devam\")\n",
    "else: \n",
    "    print(\"bilimiyor\"); print(\"devam\")"
   ]
  },
  {
   "cell_type": "code",
   "execution_count": null,
   "id": "d96fda41-1886-4190-9ed6-9af0a6469ec7",
   "metadata": {},
   "outputs": [],
   "source": [
    "# Ternary (Üçlü operatör)\n",
    "<deger1> if <kosul> else <deger2>"
   ]
  },
  {
   "cell_type": "code",
   "execution_count": 30,
   "id": "112c9a63-e273-49c4-a900-e1173b8de9d4",
   "metadata": {},
   "outputs": [
    {
     "name": "stdout",
     "output_type": "stream",
     "text": [
      "Hadi plaja\n"
     ]
    }
   ],
   "source": [
    "yagmur = False \n",
    "\n",
    "print(\"Hadi\", \"plaja\" if not yagmur else \"kutuphaneye\")"
   ]
  },
  {
   "cell_type": "code",
   "execution_count": 31,
   "id": "4aa4c63c-266f-490e-b4bb-111e54d09b78",
   "metadata": {},
   "outputs": [],
   "source": [
    "yas = 12 \n",
    "\n",
    "s = \"küçük\" if yas < 21 else \"yetişkin\""
   ]
  },
  {
   "cell_type": "code",
   "execution_count": 32,
   "id": "5218c9e6-c987-423a-beb7-ff1248333498",
   "metadata": {},
   "outputs": [
    {
     "data": {
      "text/plain": [
       "'küçük'"
      ]
     },
     "execution_count": 32,
     "metadata": {},
     "output_type": "execute_result"
    }
   ],
   "source": [
    "s"
   ]
  },
  {
   "cell_type": "code",
   "execution_count": 33,
   "id": "c792a158-8e63-4a87-b30d-054a43008d2d",
   "metadata": {},
   "outputs": [],
   "source": [
    "x = y = 40 \n",
    "\n",
    "z = 1 + x if x>y else y +2"
   ]
  },
  {
   "cell_type": "code",
   "execution_count": 35,
   "id": "5a25a87b-923f-4509-8c54-bb0cdec8927f",
   "metadata": {},
   "outputs": [],
   "source": [
    "x = y = 40 \n",
    "\n",
    "z = (1 + x) if x>y else (y +2)"
   ]
  },
  {
   "cell_type": "code",
   "execution_count": 36,
   "id": "e334c57f-4f36-42b1-aa70-5a2e5c6ca1fd",
   "metadata": {},
   "outputs": [
    {
     "data": {
      "text/plain": [
       "42"
      ]
     },
     "execution_count": 36,
     "metadata": {},
     "output_type": "execute_result"
    }
   ],
   "source": [
    "z"
   ]
  },
  {
   "cell_type": "code",
   "execution_count": 37,
   "id": "5a99ccd1-2538-4560-b1eb-77c745a5d720",
   "metadata": {},
   "outputs": [
    {
     "data": {
      "text/plain": [
       "'foo'"
      ]
     },
     "execution_count": 37,
     "metadata": {},
     "output_type": "execute_result"
    }
   ],
   "source": [
    "\"foo\" if True else 1 / 0"
   ]
  },
  {
   "cell_type": "code",
   "execution_count": 38,
   "id": "f3092488-e738-49bf-ae89-8ea47e0beff7",
   "metadata": {},
   "outputs": [
    {
     "data": {
      "text/plain": [
       "'bar'"
      ]
     },
     "execution_count": 38,
     "metadata": {},
     "output_type": "execute_result"
    }
   ],
   "source": [
    "1 / 0 if False else \"bar\""
   ]
  },
  {
   "cell_type": "code",
   "execution_count": 39,
   "id": "016319b3-d4c7-4fb3-9611-cb08a1a88b3e",
   "metadata": {},
   "outputs": [],
   "source": [
    "x = 2"
   ]
  },
  {
   "cell_type": "code",
   "execution_count": 40,
   "id": "44331269-5469-4550-9d21-e2e2566bccbb",
   "metadata": {},
   "outputs": [],
   "source": [
    "# Zincirleme koşullu ifadesi\n",
    "s = (\n",
    "    \"bir\" if x == 1 else\n",
    "    \"iki\" if x == 2 else \n",
    "    \"üç\" if x == 3 else\n",
    "    \"dört\" if x == 4 else\n",
    "    \"bilinmiyor\"\n",
    ")"
   ]
  },
  {
   "cell_type": "code",
   "execution_count": 41,
   "id": "55ee9bdf-303b-4abb-aac5-a232081022e0",
   "metadata": {},
   "outputs": [
    {
     "data": {
      "text/plain": [
       "'iki'"
      ]
     },
     "execution_count": 41,
     "metadata": {},
     "output_type": "execute_result"
    }
   ],
   "source": [
    "s"
   ]
  },
  {
   "cell_type": "code",
   "execution_count": null,
   "id": "9d925b8e-3e77-4099-bdce-5379907f6f38",
   "metadata": {},
   "outputs": [],
   "source": [
    "# C dilinde\n",
    "if (x) {\n",
    "    // boş blok\n",
    "}"
   ]
  },
  {
   "cell_type": "code",
   "execution_count": 43,
   "id": "3e91e029-bb00-4580-8d51-4f7c2cde32c3",
   "metadata": {},
   "outputs": [
    {
     "name": "stdout",
     "output_type": "stream",
     "text": [
      "Merhaba!\n"
     ]
    }
   ],
   "source": [
    "if True:\n",
    "    pass\n",
    "print(\"Merhaba!\")"
   ]
  },
  {
   "cell_type": "code",
   "execution_count": 44,
   "id": "ea29e4b1-0930-4a0b-b332-a0b058cf158b",
   "metadata": {},
   "outputs": [],
   "source": [
    "if 10 > 5:\n",
    "    pass \n",
    "else:\n",
    "    print(\"Bu kısmı yazdık\")"
   ]
  },
  {
   "cell_type": "markdown",
   "id": "cd576f34-5dea-44b8-801e-cb3506ef3b6e",
   "metadata": {},
   "source": [
    "# Harf değerlerini note çevirme"
   ]
  },
  {
   "cell_type": "code",
   "execution_count": 51,
   "id": "0ae49927-6833-451e-b493-d50dd7aa8816",
   "metadata": {},
   "outputs": [
    {
     "name": "stdin",
     "output_type": "stream",
     "text": [
      "Notunuzu girin(0-100): 110\n"
     ]
    },
    {
     "name": "stdout",
     "output_type": "stream",
     "text": [
      "Geçersiz not! Lütfen 0 ile 100 arasında bir sayı girin.\n"
     ]
    }
   ],
   "source": [
    "notu = int(input(\"Notunuzu girin(0-100):\"))\n",
    "\n",
    "if notu<0 or notu>100:\n",
    "    print(\"Geçersiz not! Lütfen 0 ile 100 arasında bir sayı girin.\")\n",
    "elif notu >= 90:\n",
    "    print(f\"Not: {notu} -> Harf Notu: AA\")\n",
    "\n",
    "elif notu>=80:\n",
    "    print(f\"Not: {notu} -> Harf Notu: BA\")\n",
    "\n",
    "elif notu>=70:\n",
    "    print(f\"Not: {notu} -> Harf Notu: BB\")\n",
    "\n",
    "elif notu>=60:\n",
    "    print(f\"Not: {notu} -> Harf Notu: CB\")\n",
    "\n",
    "elif notu>=50:\n",
    "    print(f\"Not: {notu} -> Harf Notu: CC\")\n",
    "else: \n",
    "    print(f\"Not: {notu} → Harf Notu: FF\")"
   ]
  },
  {
   "cell_type": "markdown",
   "id": "876104e8-936e-4a59-96ad-1a49974d68d5",
   "metadata": {},
   "source": [
    "## Sayı Bulmaca Uygulaması"
   ]
  },
  {
   "cell_type": "code",
   "execution_count": 59,
   "id": "2cf74321-7375-4af6-822a-10c1641a792b",
   "metadata": {
    "scrolled": true
   },
   "outputs": [
    {
     "name": "stdin",
     "output_type": "stream",
     "text": [
      "1 ile 20 arasında değer girin, çıkmak için 0'a basın:  15\n"
     ]
    },
    {
     "name": "stdout",
     "output_type": "stream",
     "text": [
      "Yanlış bildin.\n"
     ]
    },
    {
     "name": "stdin",
     "output_type": "stream",
     "text": [
      "1 ile 20 arasında değer girin, çıkmak için 0'a basın:  11\n"
     ]
    },
    {
     "name": "stdout",
     "output_type": "stream",
     "text": [
      "Yanlış bildin.\n"
     ]
    },
    {
     "name": "stdin",
     "output_type": "stream",
     "text": [
      "1 ile 20 arasında değer girin, çıkmak için 0'a basın:  8\n"
     ]
    },
    {
     "name": "stdout",
     "output_type": "stream",
     "text": [
      "Yanlış bildin.\n"
     ]
    },
    {
     "name": "stdin",
     "output_type": "stream",
     "text": [
      "1 ile 20 arasında değer girin, çıkmak için 0'a basın:  9\n"
     ]
    },
    {
     "name": "stdout",
     "output_type": "stream",
     "text": [
      "Yanlış bildin.\n"
     ]
    },
    {
     "name": "stdin",
     "output_type": "stream",
     "text": [
      "1 ile 20 arasında değer girin, çıkmak için 0'a basın:  13\n"
     ]
    },
    {
     "name": "stdout",
     "output_type": "stream",
     "text": [
      "Yanlış bildin.\n"
     ]
    },
    {
     "name": "stdin",
     "output_type": "stream",
     "text": [
      "1 ile 20 arasında değer girin, çıkmak için 0'a basın:  19\n"
     ]
    },
    {
     "name": "stdout",
     "output_type": "stream",
     "text": [
      "Yanlış bildin.\n",
      "6 kez yanlış tahmin yaptın. Oyun bitti.\n",
      "Tutulan sayı: 7\n"
     ]
    }
   ],
   "source": [
    "import random\n",
    "\n",
    "rand = random.randint(0,20)\n",
    "yanlis = 0\n",
    "\n",
    "while True:\n",
    "    sayi = int(input(\"1 ile 20 arasında değer girin, çıkmak için 0'a basın: \"))\n",
    "\n",
    "    if sayi == 0:\n",
    "        print(\"Oyundan çıkıyor.\")\n",
    "        break\n",
    "\n",
    "    if sayi == rand:\n",
    "        print(\"Tebrikler... Doğru bildin!\")\n",
    "        print(f\"Toplam yanlış tahmin sayısı: {yanlis}\")\n",
    "        break \n",
    "\n",
    "    else:\n",
    "        print(\"Yanlış bildin.\")\n",
    "        yanlis += 1\n",
    "\n",
    "    if yanlis == 6:\n",
    "        print(\"6 kez yanlış tahmin yaptın. Oyun bitti.\")\n",
    "        print(f\"Tutulan sayı: {rand}\")\n",
    "        break"
   ]
  },
  {
   "cell_type": "code",
   "execution_count": null,
   "id": "fe48e586-5e82-4bda-8c2a-ae4fb7bc85cb",
   "metadata": {},
   "outputs": [],
   "source": [
    "match değişken: \n",
    "    case değer1:\n",
    "        işlem1\n",
    "    case değer2:\n",
    "        işlem2\n",
    "    case değer3:\n",
    "        işlem3"
   ]
  },
  {
   "cell_type": "code",
   "execution_count": 62,
   "id": "69ab3217-e647-4c63-a14f-a35c91e0fc1f",
   "metadata": {},
   "outputs": [
    {
     "name": "stdin",
     "output_type": "stream",
     "text": [
      "Trafik ışığı rengi gir:  mor\n"
     ]
    },
    {
     "name": "stdout",
     "output_type": "stream",
     "text": [
      "Renk tanınmadı.\n"
     ]
    }
   ],
   "source": [
    "renk = input(\"Trafik ışığı rengi gir: \")\n",
    "\n",
    "match renk: \n",
    "    case \"kırmızı\":\n",
    "        print(\"Dur!\")\n",
    "    case \"yeşil\":\n",
    "        print(\"Geç\")\n",
    "    case \"sarı\":\n",
    "        print(\"Hazır ol!\")\n",
    "    case _:\n",
    "        print(\"Renk tanınmadı.\")"
   ]
  },
  {
   "cell_type": "code",
   "execution_count": 63,
   "id": "a646a44f-49f8-442c-a8c5-709ac7b5ebce",
   "metadata": {},
   "outputs": [
    {
     "name": "stdout",
     "output_type": "stream",
     "text": [
      "mantıksal yapı\n",
      "döngü while\n",
      "belirsiz: try\n"
     ]
    }
   ],
   "source": [
    "for komut in [\"if\", \"while\", \"try\"]:\n",
    "    match komut:\n",
    "        case \"if\" | \"match\":\n",
    "            print(\"mantıksal yapı\")\n",
    "        case \"for\" | \"while\" as dongu:\n",
    "            print(\"döngü\", dongu)\n",
    "        case _ as diger:\n",
    "            print(\"belirsiz:\", diger)        "
   ]
  },
  {
   "cell_type": "code",
   "execution_count": 64,
   "id": "39cb3af2-f92c-4a1a-bed8-3f04b29f9906",
   "metadata": {},
   "outputs": [
    {
     "name": "stdout",
     "output_type": "stream",
     "text": [
      "mantıksal yapı\n",
      "döngü while\n",
      "belirsiz: try\n"
     ]
    }
   ],
   "source": [
    "for komut in [\"if\", \"while\", \"try\"]:\n",
    "    match komut:\n",
    "        case \"if\" | \"match\":\n",
    "            print(\"mantıksal yapı\")\n",
    "        case \"for\" | \"while\" as dongu:\n",
    "            print(\"döngü\", dongu)\n",
    "        case _ as diger:\n",
    "            print(\"belirsiz:\", diger)      "
   ]
  },
  {
   "cell_type": "code",
   "execution_count": 65,
   "id": "27bdb637-8149-4529-9c97-dea41b261fed",
   "metadata": {},
   "outputs": [],
   "source": [
    "x = 5 # bu bir yorum"
   ]
  },
  {
   "cell_type": "code",
   "execution_count": 66,
   "id": "1064b183-74a2-4e03-8963-225a8f4595c9",
   "metadata": {},
   "outputs": [],
   "source": [
    "def topla(a,b):\n",
    "    \"\"\"iki sayının toplamını döndürür\"\"\"\n",
    "    return a+b"
   ]
  },
  {
   "cell_type": "code",
   "execution_count": 67,
   "id": "e3679da6-941c-49b7-b530-c7f63194cd64",
   "metadata": {},
   "outputs": [
    {
     "name": "stdout",
     "output_type": "stream",
     "text": [
      "Help on function topla in module __main__:\n",
      "\n",
      "topla(a, b)\n",
      "    iki sayının toplamını döndürür\n",
      "\n",
      "None\n"
     ]
    }
   ],
   "source": [
    "print(help(topla))"
   ]
  },
  {
   "cell_type": "code",
   "execution_count": 68,
   "id": "df7ad56e-e740-432e-8b17-41d69f7c57c1",
   "metadata": {},
   "outputs": [],
   "source": [
    "toplam = (\n",
    "    1+2+\n",
    "    3+4\n",
    ")"
   ]
  },
  {
   "cell_type": "code",
   "execution_count": 69,
   "id": "499041e0-42e8-4024-a283-ef24a75690ff",
   "metadata": {},
   "outputs": [
    {
     "data": {
      "text/plain": [
       "10"
      ]
     },
     "execution_count": 69,
     "metadata": {},
     "output_type": "execute_result"
    }
   ],
   "source": [
    "toplam "
   ]
  },
  {
   "cell_type": "code",
   "execution_count": 70,
   "id": "dbb19079-428b-48b8-8b41-316f072a1540",
   "metadata": {},
   "outputs": [],
   "source": [
    "toplam = 1+2+\\\n",
    "    3+4"
   ]
  },
  {
   "cell_type": "code",
   "execution_count": 71,
   "id": "0af7ce4e-dce0-48a7-beba-b269f8973007",
   "metadata": {},
   "outputs": [
    {
     "data": {
      "text/plain": [
       "10"
      ]
     },
     "execution_count": 71,
     "metadata": {},
     "output_type": "execute_result"
    }
   ],
   "source": [
    "toplam"
   ]
  },
  {
   "cell_type": "code",
   "execution_count": 72,
   "id": "3a05bb5c-2a5b-4328-bb1d-111db0d521c5",
   "metadata": {},
   "outputs": [],
   "source": [
    "S = \"\"\"\n",
    "    aaaa\n",
    "    bbbb\n",
    "    cccc\n",
    "\"\"\""
   ]
  },
  {
   "cell_type": "code",
   "execution_count": 74,
   "id": "0e0fcf60-dcf9-4da1-b4e5-b2cecad4f284",
   "metadata": {},
   "outputs": [
    {
     "name": "stdout",
     "output_type": "stream",
     "text": [
      "\n",
      "    aaaa\n",
      "    bbbb\n",
      "    cccc\n",
      "\n"
     ]
    }
   ],
   "source": [
    "print(S)"
   ]
  },
  {
   "cell_type": "code",
   "execution_count": null,
   "id": "5507c89c-b58f-4e0a-8065-8de108075fcf",
   "metadata": {},
   "outputs": [],
   "source": []
  }
 ],
 "metadata": {
  "kernelspec": {
   "display_name": "Python 3 (ipykernel)",
   "language": "python",
   "name": "python3"
  },
  "language_info": {
   "codemirror_mode": {
    "name": "ipython",
    "version": 3
   },
   "file_extension": ".py",
   "mimetype": "text/x-python",
   "name": "python",
   "nbconvert_exporter": "python",
   "pygments_lexer": "ipython3",
   "version": "3.12.2"
  }
 },
 "nbformat": 4,
 "nbformat_minor": 5
}
