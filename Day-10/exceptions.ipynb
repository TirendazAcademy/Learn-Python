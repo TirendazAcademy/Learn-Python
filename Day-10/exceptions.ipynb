{
 "cells": [
  {
   "cell_type": "code",
   "execution_count": 1,
   "id": "e15f8f54-5b81-419b-9433-9ba7532ebd0c",
   "metadata": {},
   "outputs": [
    {
     "ename": "SyntaxError",
     "evalue": "cannot assign to function call here. Maybe you meant '==' instead of '='? (2628714482.py, line 1)",
     "output_type": "error",
     "traceback": [
      "  \u001b[36mCell\u001b[39m\u001b[36m \u001b[39m\u001b[32mIn[1]\u001b[39m\u001b[32m, line 1\u001b[39m\n\u001b[31m    \u001b[39m\u001b[31mlen(\"Python\") = 6\u001b[39m\n    ^\n\u001b[31mSyntaxError\u001b[39m\u001b[31m:\u001b[39m cannot assign to function call here. Maybe you meant '==' instead of '='?\n"
     ]
    }
   ],
   "source": [
    "len(\"Python\") = 6"
   ]
  },
  {
   "cell_type": "code",
   "execution_count": 2,
   "id": "0c2cfa8e-5b41-4ef6-b5c4-c4263de748f2",
   "metadata": {},
   "outputs": [
    {
     "data": {
      "text/plain": [
       "True"
      ]
     },
     "execution_count": 2,
     "metadata": {},
     "output_type": "execute_result"
    }
   ],
   "source": [
    "len(\"Python\") == 6"
   ]
  },
  {
   "cell_type": "code",
   "execution_count": 3,
   "id": "0752c16a-62df-4a7b-bb4b-50ff147ee3ee",
   "metadata": {},
   "outputs": [
    {
     "name": "stdout",
     "output_type": "stream",
     "text": [
      "Python 3.12.2\n"
     ]
    }
   ],
   "source": [
    "!python --version"
   ]
  },
  {
   "cell_type": "code",
   "execution_count": 4,
   "id": "dcb56e76-750f-4bda-8c82-ac0ebba91922",
   "metadata": {},
   "outputs": [
    {
     "ename": "SyntaxError",
     "evalue": "incomplete input (2564786609.py, line 1)",
     "output_type": "error",
     "traceback": [
      "  \u001b[36mCell\u001b[39m\u001b[36m \u001b[39m\u001b[32mIn[4]\u001b[39m\u001b[32m, line 1\u001b[39m\n\u001b[31m    \u001b[39m\u001b[31mprint(\"Merhaba\"\u001b[39m\n                   ^\n\u001b[31mSyntaxError\u001b[39m\u001b[31m:\u001b[39m incomplete input\n"
     ]
    }
   ],
   "source": [
    "print(\"Merhaba\""
   ]
  },
  {
   "cell_type": "code",
   "execution_count": 5,
   "id": "70c71490-e7b3-4ba1-bbb0-02a525d68620",
   "metadata": {},
   "outputs": [
    {
     "name": "stdin",
     "output_type": "stream",
     "text": [
      "Bir sayı gir:  5\n"
     ]
    },
    {
     "name": "stdout",
     "output_type": "stream",
     "text": [
      "20.0\n"
     ]
    }
   ],
   "source": [
    "sayi = int(input(\"Bir sayı gir: \"))\n",
    "print(100 / sayi)"
   ]
  },
  {
   "cell_type": "code",
   "execution_count": 6,
   "id": "d444287e-fefc-43f7-9c3d-1f668d41fc34",
   "metadata": {},
   "outputs": [
    {
     "name": "stdin",
     "output_type": "stream",
     "text": [
      "Bir sayı gir:  beş\n"
     ]
    },
    {
     "ename": "ValueError",
     "evalue": "invalid literal for int() with base 10: 'beş'",
     "output_type": "error",
     "traceback": [
      "\u001b[31m---------------------------------------------------------------------------\u001b[39m",
      "\u001b[31mValueError\u001b[39m                                Traceback (most recent call last)",
      "\u001b[36mCell\u001b[39m\u001b[36m \u001b[39m\u001b[32mIn[6]\u001b[39m\u001b[32m, line 1\u001b[39m\n\u001b[32m----> \u001b[39m\u001b[32m1\u001b[39m sayi = \u001b[38;5;28;43mint\u001b[39;49m\u001b[43m(\u001b[49m\u001b[38;5;28;43minput\u001b[39;49m\u001b[43m(\u001b[49m\u001b[33;43m\"\u001b[39;49m\u001b[33;43mBir sayı gir: \u001b[39;49m\u001b[33;43m\"\u001b[39;49m\u001b[43m)\u001b[49m\u001b[43m)\u001b[49m\n\u001b[32m      2\u001b[39m \u001b[38;5;28mprint\u001b[39m(\u001b[32m100\u001b[39m / sayi)\n",
      "\u001b[31mValueError\u001b[39m: invalid literal for int() with base 10: 'beş'"
     ]
    }
   ],
   "source": [
    "sayi = int(input(\"Bir sayı gir: \"))\n",
    "print(100 / sayi)"
   ]
  },
  {
   "cell_type": "code",
   "execution_count": 7,
   "id": "fa638478-2195-444a-8909-fcc19fb32f38",
   "metadata": {},
   "outputs": [
    {
     "name": "stdin",
     "output_type": "stream",
     "text": [
      "Bir sayı gir:  5\n"
     ]
    },
    {
     "name": "stdout",
     "output_type": "stream",
     "text": [
      "20.0\n"
     ]
    }
   ],
   "source": [
    "try:\n",
    "    sayi = int(input(\"Bir sayı gir: \"))\n",
    "    print(100 / sayi)\n",
    "except ValueError:\n",
    "    print(\"Hata: sayı giriniz!\")"
   ]
  },
  {
   "cell_type": "code",
   "execution_count": 8,
   "id": "75a55234-e793-4324-af6f-0f95b9c39006",
   "metadata": {},
   "outputs": [
    {
     "name": "stdin",
     "output_type": "stream",
     "text": [
      "Bir sayı gir:  beş\n"
     ]
    },
    {
     "name": "stdout",
     "output_type": "stream",
     "text": [
      "Hata: sayı giriniz!\n"
     ]
    }
   ],
   "source": [
    "try:\n",
    "    sayi = int(input(\"Bir sayı gir: \"))\n",
    "    print(100 / sayi)\n",
    "except ValueError:\n",
    "    print(\"Hata: sayı giriniz!\")"
   ]
  },
  {
   "cell_type": "code",
   "execution_count": 9,
   "id": "7715eb0c-2872-4e58-8d68-94a4835e1bc9",
   "metadata": {},
   "outputs": [
    {
     "name": "stdout",
     "output_type": "stream",
     "text": [
      "adım 1\n"
     ]
    },
    {
     "name": "stdin",
     "output_type": "stream",
     "text": [
      "Bir sayı gir:  bes\n"
     ]
    },
    {
     "ename": "ValueError",
     "evalue": "invalid literal for int() with base 10: 'bes'",
     "output_type": "error",
     "traceback": [
      "\u001b[31m---------------------------------------------------------------------------\u001b[39m",
      "\u001b[31mValueError\u001b[39m                                Traceback (most recent call last)",
      "\u001b[36mCell\u001b[39m\u001b[36m \u001b[39m\u001b[32mIn[9]\u001b[39m\u001b[32m, line 4\u001b[39m\n\u001b[32m      1\u001b[39m \u001b[38;5;28mprint\u001b[39m(\u001b[33m\"\u001b[39m\u001b[33madım 1\u001b[39m\u001b[33m\"\u001b[39m)\n\u001b[32m----> \u001b[39m\u001b[32m4\u001b[39m sayi = \u001b[38;5;28;43mint\u001b[39;49m\u001b[43m(\u001b[49m\u001b[38;5;28;43minput\u001b[39;49m\u001b[43m(\u001b[49m\u001b[33;43m\"\u001b[39;49m\u001b[33;43mBir sayı gir: \u001b[39;49m\u001b[33;43m\"\u001b[39;49m\u001b[43m)\u001b[49m\u001b[43m)\u001b[49m\n\u001b[32m      5\u001b[39m \u001b[38;5;28mprint\u001b[39m(\u001b[32m100\u001b[39m / sayi)\n\u001b[32m      8\u001b[39m \u001b[38;5;28mprint\u001b[39m(\u001b[33m\"\u001b[39m\u001b[33madım 2\u001b[39m\u001b[33m\"\u001b[39m)\n",
      "\u001b[31mValueError\u001b[39m: invalid literal for int() with base 10: 'bes'"
     ]
    }
   ],
   "source": [
    "print(\"adım 1\")\n",
    "\n",
    "\n",
    "sayi = int(input(\"Bir sayı gir: \"))\n",
    "print(100 / sayi)\n",
    "\n",
    "\n",
    "print(\"adım 2\")"
   ]
  },
  {
   "cell_type": "code",
   "execution_count": 10,
   "id": "da3dbc7e-d5c4-446d-b43f-7d57b1216b31",
   "metadata": {},
   "outputs": [
    {
     "name": "stdout",
     "output_type": "stream",
     "text": [
      "adım 1\n"
     ]
    },
    {
     "name": "stdin",
     "output_type": "stream",
     "text": [
      "Bir sayı gir:  5\n"
     ]
    },
    {
     "name": "stdout",
     "output_type": "stream",
     "text": [
      "20.0\n",
      "adım 2\n"
     ]
    }
   ],
   "source": [
    "print(\"adım 1\")\n",
    "\n",
    "try:\n",
    "    sayi = int(input(\"Bir sayı gir: \"))\n",
    "    print(100 / sayi)\n",
    "except ValueError:\n",
    "    print(\"Hata: sayı giriniz!\")\n",
    "\n",
    "print(\"adım 2\")"
   ]
  },
  {
   "cell_type": "code",
   "execution_count": 11,
   "id": "27c6ae13-482d-4df8-b4b8-35138442458d",
   "metadata": {},
   "outputs": [
    {
     "name": "stdout",
     "output_type": "stream",
     "text": [
      "adım 1\n"
     ]
    },
    {
     "name": "stdin",
     "output_type": "stream",
     "text": [
      "Bir sayı gir:  beş\n"
     ]
    },
    {
     "name": "stdout",
     "output_type": "stream",
     "text": [
      "Hata: sayı giriniz!\n",
      "adım 2\n"
     ]
    }
   ],
   "source": [
    "print(\"adım 1\")\n",
    "\n",
    "try:\n",
    "    sayi = int(input(\"Bir sayı gir: \"))\n",
    "    print(100 / sayi)\n",
    "except ValueError:\n",
    "    print(\"Hata: sayı giriniz!\")\n",
    "\n",
    "print(\"adım 2\")"
   ]
  },
  {
   "cell_type": "code",
   "execution_count": 13,
   "id": "c4e19ca6-4d80-44f3-836b-c0618da30210",
   "metadata": {},
   "outputs": [
    {
     "name": "stdout",
     "output_type": "stream",
     "text": [
      "Python\n"
     ]
    }
   ],
   "source": [
    "print(\"Python\")"
   ]
  },
  {
   "cell_type": "code",
   "execution_count": 14,
   "id": "e524b8a7-9454-4a75-847b-96cffa15cbaf",
   "metadata": {},
   "outputs": [
    {
     "name": "stdin",
     "output_type": "stream",
     "text": [
      "Yaşınızı girin:  5\n"
     ]
    },
    {
     "name": "stdout",
     "output_type": "stream",
     "text": [
      "Gelecek yıl yaşınız:  6\n"
     ]
    }
   ],
   "source": [
    "yas = int(input(\"Yaşınızı girin: \"))\n",
    "print(\"Gelecek yıl yaşınız: \", yas+1)"
   ]
  },
  {
   "cell_type": "code",
   "execution_count": 15,
   "id": "5be27dfe-9924-4265-be3e-bc190c3507fc",
   "metadata": {},
   "outputs": [
    {
     "name": "stdin",
     "output_type": "stream",
     "text": [
      "Yaşınızı girin:  yirmi\n"
     ]
    },
    {
     "ename": "ValueError",
     "evalue": "invalid literal for int() with base 10: 'yirmi'",
     "output_type": "error",
     "traceback": [
      "\u001b[31m---------------------------------------------------------------------------\u001b[39m",
      "\u001b[31mValueError\u001b[39m                                Traceback (most recent call last)",
      "\u001b[36mCell\u001b[39m\u001b[36m \u001b[39m\u001b[32mIn[15]\u001b[39m\u001b[32m, line 1\u001b[39m\n\u001b[32m----> \u001b[39m\u001b[32m1\u001b[39m yas = \u001b[38;5;28;43mint\u001b[39;49m\u001b[43m(\u001b[49m\u001b[38;5;28;43minput\u001b[39;49m\u001b[43m(\u001b[49m\u001b[33;43m\"\u001b[39;49m\u001b[33;43mYaşınızı girin: \u001b[39;49m\u001b[33;43m\"\u001b[39;49m\u001b[43m)\u001b[49m\u001b[43m)\u001b[49m\n\u001b[32m      2\u001b[39m \u001b[38;5;28mprint\u001b[39m(\u001b[33m\"\u001b[39m\u001b[33mGelecek yıl yaşınız: \u001b[39m\u001b[33m\"\u001b[39m, yas+\u001b[32m1\u001b[39m)\n",
      "\u001b[31mValueError\u001b[39m: invalid literal for int() with base 10: 'yirmi'"
     ]
    }
   ],
   "source": [
    "yas = int(input(\"Yaşınızı girin: \"))\n",
    "print(\"Gelecek yıl yaşınız: \", yas+1)"
   ]
  },
  {
   "cell_type": "code",
   "execution_count": 16,
   "id": "d5c95263-66c0-4a1a-8b7a-a6549ba2d9b0",
   "metadata": {},
   "outputs": [
    {
     "name": "stdin",
     "output_type": "stream",
     "text": [
      "Yaşınızı girin:  5\n"
     ]
    },
    {
     "name": "stdout",
     "output_type": "stream",
     "text": [
      "Gelecek yıl yaşınız:  6\n"
     ]
    }
   ],
   "source": [
    "try: \n",
    "    yas = int(input(\"Yaşınızı girin: \"))\n",
    "    print(\"Gelecek yıl yaşınız: \", yas+1)\n",
    "except ValueError:\n",
    "    print(\"Lütfen sadece sayı girin!\")"
   ]
  },
  {
   "cell_type": "code",
   "execution_count": 17,
   "id": "5bb5d1ff-fa7e-46b7-b289-28b784a33b63",
   "metadata": {},
   "outputs": [
    {
     "name": "stdin",
     "output_type": "stream",
     "text": [
      "Yaşınızı girin:  beş\n"
     ]
    },
    {
     "name": "stdout",
     "output_type": "stream",
     "text": [
      "Lütfen sadece sayı girin!\n"
     ]
    }
   ],
   "source": [
    "try: \n",
    "    yas = int(input(\"Yaşınızı girin: \"))\n",
    "    print(\"Gelecek yıl yaşınız: \", yas+1)\n",
    "except ValueError:\n",
    "    print(\"Lütfen sadece sayı girin!\")"
   ]
  },
  {
   "cell_type": "markdown",
   "id": "5021f1c4-daa7-446f-91d8-26205973dbe8",
   "metadata": {},
   "source": [
    "## Runtime Hata Türleri"
   ]
  },
  {
   "cell_type": "code",
   "execution_count": 18,
   "id": "c317a365-1d4e-439b-8334-3397fa6ac4d5",
   "metadata": {},
   "outputs": [
    {
     "ename": "ZeroDivisionError",
     "evalue": "division by zero",
     "output_type": "error",
     "traceback": [
      "\u001b[31m---------------------------------------------------------------------------\u001b[39m",
      "\u001b[31mZeroDivisionError\u001b[39m                         Traceback (most recent call last)",
      "\u001b[36mCell\u001b[39m\u001b[36m \u001b[39m\u001b[32mIn[18]\u001b[39m\u001b[32m, line 1\u001b[39m\n\u001b[32m----> \u001b[39m\u001b[32m1\u001b[39m \u001b[38;5;28mprint\u001b[39m(\u001b[32;43m10\u001b[39;49m\u001b[43m/\u001b[49m\u001b[32;43m0\u001b[39;49m)\n",
      "\u001b[31mZeroDivisionError\u001b[39m: division by zero"
     ]
    }
   ],
   "source": [
    "print(10/0)"
   ]
  },
  {
   "cell_type": "code",
   "execution_count": 19,
   "id": "54f6b865-2390-413c-8433-80406a453d23",
   "metadata": {},
   "outputs": [
    {
     "ename": "ValueError",
     "evalue": "invalid literal for int() with base 10: 'abc'",
     "output_type": "error",
     "traceback": [
      "\u001b[31m---------------------------------------------------------------------------\u001b[39m",
      "\u001b[31mValueError\u001b[39m                                Traceback (most recent call last)",
      "\u001b[36mCell\u001b[39m\u001b[36m \u001b[39m\u001b[32mIn[19]\u001b[39m\u001b[32m, line 1\u001b[39m\n\u001b[32m----> \u001b[39m\u001b[32m1\u001b[39m \u001b[38;5;28;43mint\u001b[39;49m\u001b[43m(\u001b[49m\u001b[33;43m\"\u001b[39;49m\u001b[33;43mabc\u001b[39;49m\u001b[33;43m\"\u001b[39;49m\u001b[43m)\u001b[49m\n",
      "\u001b[31mValueError\u001b[39m: invalid literal for int() with base 10: 'abc'"
     ]
    }
   ],
   "source": [
    "int(\"abc\")"
   ]
  },
  {
   "cell_type": "code",
   "execution_count": 20,
   "id": "fc549771-68de-44a7-84ad-9f17ea038cd1",
   "metadata": {},
   "outputs": [
    {
     "ename": "TypeError",
     "evalue": "can only concatenate str (not \"int\") to str",
     "output_type": "error",
     "traceback": [
      "\u001b[31m---------------------------------------------------------------------------\u001b[39m",
      "\u001b[31mTypeError\u001b[39m                                 Traceback (most recent call last)",
      "\u001b[36mCell\u001b[39m\u001b[36m \u001b[39m\u001b[32mIn[20]\u001b[39m\u001b[32m, line 1\u001b[39m\n\u001b[32m----> \u001b[39m\u001b[32m1\u001b[39m \u001b[38;5;28mprint\u001b[39m(\u001b[33;43m\"\u001b[39;49m\u001b[33;43mYaş: \u001b[39;49m\u001b[33;43m\"\u001b[39;49m\u001b[43m+\u001b[49m\u001b[43m \u001b[49m\u001b[32;43m25\u001b[39;49m)\n",
      "\u001b[31mTypeError\u001b[39m: can only concatenate str (not \"int\") to str"
     ]
    }
   ],
   "source": [
    "print(\"Yaş: \"+ 25)"
   ]
  },
  {
   "cell_type": "code",
   "execution_count": 22,
   "id": "cd3b2ace-22fa-4326-ae40-e9d6705990a1",
   "metadata": {},
   "outputs": [
    {
     "ename": "NameError",
     "evalue": "name 'spor' is not defined",
     "output_type": "error",
     "traceback": [
      "\u001b[31m---------------------------------------------------------------------------\u001b[39m",
      "\u001b[31mNameError\u001b[39m                                 Traceback (most recent call last)",
      "\u001b[36mCell\u001b[39m\u001b[36m \u001b[39m\u001b[32mIn[22]\u001b[39m\u001b[32m, line 1\u001b[39m\n\u001b[32m----> \u001b[39m\u001b[32m1\u001b[39m \u001b[43mspor\u001b[49m\n",
      "\u001b[31mNameError\u001b[39m: name 'spor' is not defined"
     ]
    }
   ],
   "source": [
    "spor"
   ]
  },
  {
   "cell_type": "code",
   "execution_count": 24,
   "id": "50322f58-a484-4fbc-8f6d-8e429a5671ec",
   "metadata": {},
   "outputs": [
    {
     "ename": "IndexError",
     "evalue": "list index out of range",
     "output_type": "error",
     "traceback": [
      "\u001b[31m---------------------------------------------------------------------------\u001b[39m",
      "\u001b[31mIndexError\u001b[39m                                Traceback (most recent call last)",
      "\u001b[36mCell\u001b[39m\u001b[36m \u001b[39m\u001b[32mIn[24]\u001b[39m\u001b[32m, line 2\u001b[39m\n\u001b[32m      1\u001b[39m liste = [\u001b[32m1\u001b[39m,\u001b[32m2\u001b[39m,\u001b[32m3\u001b[39m]\n\u001b[32m----> \u001b[39m\u001b[32m2\u001b[39m \u001b[43mliste\u001b[49m\u001b[43m[\u001b[49m\u001b[32;43m5\u001b[39;49m\u001b[43m]\u001b[49m\n",
      "\u001b[31mIndexError\u001b[39m: list index out of range"
     ]
    }
   ],
   "source": [
    "liste = [1,2,3]\n",
    "liste[5]"
   ]
  },
  {
   "cell_type": "code",
   "execution_count": 26,
   "id": "c75a7975-bc2c-4c89-8e8e-306929f3819f",
   "metadata": {},
   "outputs": [
    {
     "ename": "KeyError",
     "evalue": "'Ayşe'",
     "output_type": "error",
     "traceback": [
      "\u001b[31m---------------------------------------------------------------------------\u001b[39m",
      "\u001b[31mKeyError\u001b[39m                                  Traceback (most recent call last)",
      "\u001b[36mCell\u001b[39m\u001b[36m \u001b[39m\u001b[32mIn[26]\u001b[39m\u001b[32m, line 2\u001b[39m\n\u001b[32m      1\u001b[39m notlar = {\u001b[33m\"\u001b[39m\u001b[33mAli\u001b[39m\u001b[33m\"\u001b[39m: \u001b[32m80\u001b[39m}\n\u001b[32m----> \u001b[39m\u001b[32m2\u001b[39m \u001b[43mnotlar\u001b[49m\u001b[43m[\u001b[49m\u001b[33;43m\"\u001b[39;49m\u001b[33;43mAyşe\u001b[39;49m\u001b[33;43m\"\u001b[39;49m\u001b[43m]\u001b[49m\n",
      "\u001b[31mKeyError\u001b[39m: 'Ayşe'"
     ]
    }
   ],
   "source": [
    "notlar = {\"Ali\": 80}\n",
    "notlar[\"Ayşe\"]"
   ]
  },
  {
   "cell_type": "code",
   "execution_count": 27,
   "id": "46874698-28f2-47bb-9a89-ccee6dacd8b6",
   "metadata": {},
   "outputs": [
    {
     "ename": "FileNotFoundError",
     "evalue": "[Errno 2] No such file or directory: 'olmayan_dosya.txt'",
     "output_type": "error",
     "traceback": [
      "\u001b[31m---------------------------------------------------------------------------\u001b[39m",
      "\u001b[31mFileNotFoundError\u001b[39m                         Traceback (most recent call last)",
      "\u001b[36mCell\u001b[39m\u001b[36m \u001b[39m\u001b[32mIn[27]\u001b[39m\u001b[32m, line 1\u001b[39m\n\u001b[32m----> \u001b[39m\u001b[32m1\u001b[39m \u001b[38;5;28;43mopen\u001b[39;49m\u001b[43m(\u001b[49m\u001b[33;43m\"\u001b[39;49m\u001b[33;43molmayan_dosya.txt\u001b[39;49m\u001b[33;43m\"\u001b[39;49m\u001b[43m)\u001b[49m\n",
      "\u001b[36mFile \u001b[39m\u001b[32m~\\AppData\\Local\\Programs\\Python\\Python312\\Lib\\site-packages\\IPython\\core\\interactiveshell.py:327\u001b[39m, in \u001b[36m_modified_open\u001b[39m\u001b[34m(file, *args, **kwargs)\u001b[39m\n\u001b[32m    320\u001b[39m \u001b[38;5;28;01mif\u001b[39;00m file \u001b[38;5;129;01min\u001b[39;00m {\u001b[32m0\u001b[39m, \u001b[32m1\u001b[39m, \u001b[32m2\u001b[39m}:\n\u001b[32m    321\u001b[39m     \u001b[38;5;28;01mraise\u001b[39;00m \u001b[38;5;167;01mValueError\u001b[39;00m(\n\u001b[32m    322\u001b[39m         \u001b[33mf\u001b[39m\u001b[33m\"\u001b[39m\u001b[33mIPython won\u001b[39m\u001b[33m'\u001b[39m\u001b[33mt let you open fd=\u001b[39m\u001b[38;5;132;01m{\u001b[39;00mfile\u001b[38;5;132;01m}\u001b[39;00m\u001b[33m by default \u001b[39m\u001b[33m\"\u001b[39m\n\u001b[32m    323\u001b[39m         \u001b[33m\"\u001b[39m\u001b[33mas it is likely to crash IPython. If you know what you are doing, \u001b[39m\u001b[33m\"\u001b[39m\n\u001b[32m    324\u001b[39m         \u001b[33m\"\u001b[39m\u001b[33myou can use builtins\u001b[39m\u001b[33m'\u001b[39m\u001b[33m open.\u001b[39m\u001b[33m\"\u001b[39m\n\u001b[32m    325\u001b[39m     )\n\u001b[32m--> \u001b[39m\u001b[32m327\u001b[39m \u001b[38;5;28;01mreturn\u001b[39;00m \u001b[43mio_open\u001b[49m\u001b[43m(\u001b[49m\u001b[43mfile\u001b[49m\u001b[43m,\u001b[49m\u001b[43m \u001b[49m\u001b[43m*\u001b[49m\u001b[43margs\u001b[49m\u001b[43m,\u001b[49m\u001b[43m \u001b[49m\u001b[43m*\u001b[49m\u001b[43m*\u001b[49m\u001b[43mkwargs\u001b[49m\u001b[43m)\u001b[49m\n",
      "\u001b[31mFileNotFoundError\u001b[39m: [Errno 2] No such file or directory: 'olmayan_dosya.txt'"
     ]
    }
   ],
   "source": [
    "open(\"olmayan_dosya.txt\")"
   ]
  },
  {
   "cell_type": "code",
   "execution_count": 28,
   "id": "3c78d718-7137-4df1-80f1-144b0f1257f1",
   "metadata": {},
   "outputs": [
    {
     "ename": "SyntaxError",
     "evalue": "'(' was never closed (1716938767.py, line 2)",
     "output_type": "error",
     "traceback": [
      "  \u001b[36mCell\u001b[39m\u001b[36m \u001b[39m\u001b[32mIn[28]\u001b[39m\u001b[32m, line 2\u001b[39m\n\u001b[31m    \u001b[39m\u001b[31mprint(\"Merhaba\"\u001b[39m\n         ^\n\u001b[31mSyntaxError\u001b[39m\u001b[31m:\u001b[39m '(' was never closed\n"
     ]
    }
   ],
   "source": [
    "try:\n",
    "    print(\"Merhaba\"\n",
    "except:\n",
    "    print(\"Hata oluştur\")"
   ]
  },
  {
   "cell_type": "code",
   "execution_count": 29,
   "id": "6e5909d0-dafc-47a1-b902-b7fabe4abbde",
   "metadata": {},
   "outputs": [
    {
     "name": "stdin",
     "output_type": "stream",
     "text": [
      "Bir sayı girin:  2\n"
     ]
    },
    {
     "name": "stdout",
     "output_type": "stream",
     "text": [
      "5.0\n"
     ]
    }
   ],
   "source": [
    "sayi = int(input(\"Bir sayı girin: \"))\n",
    "print(10/sayi)"
   ]
  },
  {
   "cell_type": "code",
   "execution_count": 30,
   "id": "6fea904b-90ab-41b5-8452-e6cda806ea3b",
   "metadata": {},
   "outputs": [
    {
     "name": "stdin",
     "output_type": "stream",
     "text": [
      "Bir sayı girin:  0\n"
     ]
    },
    {
     "ename": "ZeroDivisionError",
     "evalue": "division by zero",
     "output_type": "error",
     "traceback": [
      "\u001b[31m---------------------------------------------------------------------------\u001b[39m",
      "\u001b[31mZeroDivisionError\u001b[39m                         Traceback (most recent call last)",
      "\u001b[36mCell\u001b[39m\u001b[36m \u001b[39m\u001b[32mIn[30]\u001b[39m\u001b[32m, line 2\u001b[39m\n\u001b[32m      1\u001b[39m sayi = \u001b[38;5;28mint\u001b[39m(\u001b[38;5;28minput\u001b[39m(\u001b[33m\"\u001b[39m\u001b[33mBir sayı girin: \u001b[39m\u001b[33m\"\u001b[39m))\n\u001b[32m----> \u001b[39m\u001b[32m2\u001b[39m \u001b[38;5;28mprint\u001b[39m(\u001b[32;43m10\u001b[39;49m\u001b[43m/\u001b[49m\u001b[43msayi\u001b[49m)\n",
      "\u001b[31mZeroDivisionError\u001b[39m: division by zero"
     ]
    }
   ],
   "source": [
    "sayi = int(input(\"Bir sayı girin: \"))\n",
    "print(10/sayi)"
   ]
  },
  {
   "cell_type": "code",
   "execution_count": 31,
   "id": "d6d4a388-e6be-4bd8-ac55-58ded5aef35c",
   "metadata": {},
   "outputs": [
    {
     "name": "stdin",
     "output_type": "stream",
     "text": [
      "Bir sayı girin:  0\n"
     ]
    },
    {
     "name": "stdout",
     "output_type": "stream",
     "text": [
      "Sıfıra bölme yapılamaz!\n"
     ]
    }
   ],
   "source": [
    "try:\n",
    "    sayi = int(input(\"Bir sayı girin: \"))\n",
    "    print(10/sayi)\n",
    "except ZeroDivisionError:\n",
    "    print(\"Sıfıra bölme yapılamaz!\")"
   ]
  },
  {
   "cell_type": "code",
   "execution_count": 32,
   "id": "3f70a0f5-c741-46f5-8471-fdcc273adc36",
   "metadata": {},
   "outputs": [
    {
     "name": "stdin",
     "output_type": "stream",
     "text": [
      "Bir sayı girin:  0\n"
     ]
    },
    {
     "ename": "ZeroDivisionError",
     "evalue": "division by zero",
     "output_type": "error",
     "traceback": [
      "\u001b[31m---------------------------------------------------------------------------\u001b[39m",
      "\u001b[31mZeroDivisionError\u001b[39m                         Traceback (most recent call last)",
      "\u001b[36mCell\u001b[39m\u001b[36m \u001b[39m\u001b[32mIn[32]\u001b[39m\u001b[32m, line 2\u001b[39m\n\u001b[32m      1\u001b[39m sayi = \u001b[38;5;28mint\u001b[39m(\u001b[38;5;28minput\u001b[39m(\u001b[33m\"\u001b[39m\u001b[33mBir sayı girin: \u001b[39m\u001b[33m\"\u001b[39m))\n\u001b[32m----> \u001b[39m\u001b[32m2\u001b[39m \u001b[38;5;28mprint\u001b[39m(\u001b[32;43m10\u001b[39;49m\u001b[43m/\u001b[49m\u001b[43msayi\u001b[49m)\n",
      "\u001b[31mZeroDivisionError\u001b[39m: division by zero"
     ]
    }
   ],
   "source": [
    "sayi = int(input(\"Bir sayı girin: \"))\n",
    "print(10/sayi)"
   ]
  },
  {
   "cell_type": "code",
   "execution_count": 33,
   "id": "43e9c460-4dde-4fc1-a2ea-29862feb2b0f",
   "metadata": {},
   "outputs": [
    {
     "name": "stdin",
     "output_type": "stream",
     "text": [
      "Bir sayı girin:  iki\n"
     ]
    },
    {
     "ename": "ValueError",
     "evalue": "invalid literal for int() with base 10: 'iki'",
     "output_type": "error",
     "traceback": [
      "\u001b[31m---------------------------------------------------------------------------\u001b[39m",
      "\u001b[31mValueError\u001b[39m                                Traceback (most recent call last)",
      "\u001b[36mCell\u001b[39m\u001b[36m \u001b[39m\u001b[32mIn[33]\u001b[39m\u001b[32m, line 1\u001b[39m\n\u001b[32m----> \u001b[39m\u001b[32m1\u001b[39m sayi = \u001b[38;5;28;43mint\u001b[39;49m\u001b[43m(\u001b[49m\u001b[38;5;28;43minput\u001b[39;49m\u001b[43m(\u001b[49m\u001b[33;43m\"\u001b[39;49m\u001b[33;43mBir sayı girin: \u001b[39;49m\u001b[33;43m\"\u001b[39;49m\u001b[43m)\u001b[49m\u001b[43m)\u001b[49m\n\u001b[32m      2\u001b[39m \u001b[38;5;28mprint\u001b[39m(\u001b[32m10\u001b[39m/sayi)\n",
      "\u001b[31mValueError\u001b[39m: invalid literal for int() with base 10: 'iki'"
     ]
    }
   ],
   "source": [
    "sayi = int(input(\"Bir sayı girin: \"))\n",
    "print(10/sayi)"
   ]
  },
  {
   "cell_type": "code",
   "execution_count": 34,
   "id": "3dc9388f-4916-4da0-99ea-7d2f67724ef7",
   "metadata": {},
   "outputs": [
    {
     "name": "stdin",
     "output_type": "stream",
     "text": [
      "Bir sayı girin:  5\n"
     ]
    },
    {
     "name": "stdout",
     "output_type": "stream",
     "text": [
      "2.0\n"
     ]
    }
   ],
   "source": [
    "try:\n",
    "    sayi = int(input(\"Bir sayı girin: \"))\n",
    "    print(10/sayi)\n",
    "except ZeroDivisionError:\n",
    "    print(\"Sıfıra bölme yapılamaz!\")\n",
    "except ValueError:\n",
    "    print(\"Lütfen bir sayı giriniz!\")"
   ]
  },
  {
   "cell_type": "code",
   "execution_count": 35,
   "id": "ffc0aaea-9339-41cd-9c7a-cbf0a48f78c2",
   "metadata": {},
   "outputs": [
    {
     "name": "stdin",
     "output_type": "stream",
     "text": [
      "Bir sayı girin:  0\n"
     ]
    },
    {
     "name": "stdout",
     "output_type": "stream",
     "text": [
      "Sıfıra bölme yapılamaz!\n"
     ]
    }
   ],
   "source": [
    "try:\n",
    "    sayi = int(input(\"Bir sayı girin: \"))\n",
    "    print(10/sayi)\n",
    "except ZeroDivisionError:\n",
    "    print(\"Sıfıra bölme yapılamaz!\")\n",
    "except ValueError:\n",
    "    print(\"Lütfen bir sayı giriniz!\")"
   ]
  },
  {
   "cell_type": "code",
   "execution_count": 36,
   "id": "00111f3e-609e-4515-a3ea-e6232ca37c95",
   "metadata": {},
   "outputs": [
    {
     "name": "stdin",
     "output_type": "stream",
     "text": [
      "Bir sayı girin:  iki\n"
     ]
    },
    {
     "name": "stdout",
     "output_type": "stream",
     "text": [
      "Lütfen bir sayı giriniz!\n"
     ]
    }
   ],
   "source": [
    "try:\n",
    "    sayi = int(input(\"Bir sayı girin: \"))\n",
    "    print(10/sayi)\n",
    "except ZeroDivisionError:\n",
    "    print(\"Sıfıra bölme yapılamaz!\")\n",
    "except ValueError:\n",
    "    print(\"Lütfen bir sayı giriniz!\")"
   ]
  },
  {
   "cell_type": "code",
   "execution_count": 37,
   "id": "b5cb1d8c-003d-421f-93dc-e8b199a8a922",
   "metadata": {},
   "outputs": [
    {
     "name": "stdin",
     "output_type": "stream",
     "text": [
      "Kaçıncı meyveyi görmek istersiniz? (0-3): 1\n"
     ]
    },
    {
     "name": "stdout",
     "output_type": "stream",
     "text": [
      "Seçtiğiiz meyve:  armut\n"
     ]
    }
   ],
   "source": [
    "meyveler = [\"elma\", \"armut\", \"muz\", \"çilek\"]\n",
    "\n",
    "secim = int(input(\"Kaçıncı meyveyi görmek istersiniz? (0-3):\"))\n",
    "\n",
    "print(\"Seçtiğiiz meyve: \", meyveler[secim])"
   ]
  },
  {
   "cell_type": "code",
   "execution_count": 38,
   "id": "4552b5c4-d0de-4ff0-9495-2d0a8d25d73d",
   "metadata": {},
   "outputs": [
    {
     "name": "stdin",
     "output_type": "stream",
     "text": [
      "Kaçıncı meyveyi görmek istersiniz? (0-3): 5\n"
     ]
    },
    {
     "ename": "IndexError",
     "evalue": "list index out of range",
     "output_type": "error",
     "traceback": [
      "\u001b[31m---------------------------------------------------------------------------\u001b[39m",
      "\u001b[31mIndexError\u001b[39m                                Traceback (most recent call last)",
      "\u001b[36mCell\u001b[39m\u001b[36m \u001b[39m\u001b[32mIn[38]\u001b[39m\u001b[32m, line 5\u001b[39m\n\u001b[32m      1\u001b[39m meyveler = [\u001b[33m\"\u001b[39m\u001b[33melma\u001b[39m\u001b[33m\"\u001b[39m, \u001b[33m\"\u001b[39m\u001b[33marmut\u001b[39m\u001b[33m\"\u001b[39m, \u001b[33m\"\u001b[39m\u001b[33mmuz\u001b[39m\u001b[33m\"\u001b[39m, \u001b[33m\"\u001b[39m\u001b[33mçilek\u001b[39m\u001b[33m\"\u001b[39m]\n\u001b[32m      3\u001b[39m secim = \u001b[38;5;28mint\u001b[39m(\u001b[38;5;28minput\u001b[39m(\u001b[33m\"\u001b[39m\u001b[33mKaçıncı meyveyi görmek istersiniz? (0-3):\u001b[39m\u001b[33m\"\u001b[39m))\n\u001b[32m----> \u001b[39m\u001b[32m5\u001b[39m \u001b[38;5;28mprint\u001b[39m(\u001b[33m\"\u001b[39m\u001b[33mSeçtiğiiz meyve: \u001b[39m\u001b[33m\"\u001b[39m, \u001b[43mmeyveler\u001b[49m\u001b[43m[\u001b[49m\u001b[43msecim\u001b[49m\u001b[43m]\u001b[49m)\n",
      "\u001b[31mIndexError\u001b[39m: list index out of range"
     ]
    }
   ],
   "source": [
    "meyveler = [\"elma\", \"armut\", \"muz\", \"çilek\"]\n",
    "\n",
    "secim = int(input(\"Kaçıncı meyveyi görmek istersiniz? (0-3):\"))\n",
    "\n",
    "print(\"Seçtiğiiz meyve: \", meyveler[secim])"
   ]
  },
  {
   "cell_type": "code",
   "execution_count": 39,
   "id": "8be2038c-1982-40a1-b3e1-4325d31654b0",
   "metadata": {},
   "outputs": [
    {
     "name": "stdin",
     "output_type": "stream",
     "text": [
      "Kaçıncı meyveyi görmek istersiniz? (0-3): 0\n"
     ]
    },
    {
     "name": "stdout",
     "output_type": "stream",
     "text": [
      "Seçtiğiiz meyve:  elma\n"
     ]
    }
   ],
   "source": [
    "meyveler = [\"elma\", \"armut\", \"muz\", \"çilek\"]\n",
    "\n",
    "try: \n",
    "    secim = int(input(\"Kaçıncı meyveyi görmek istersiniz? (0-3):\"))\n",
    "    print(\"Seçtiğiiz meyve: \", meyveler[secim])\n",
    "\n",
    "except IndexError:\n",
    "    print(\"Hata: Girdiğiniz index geçerli bir indeks değil.\")"
   ]
  },
  {
   "cell_type": "code",
   "execution_count": 40,
   "id": "96c73c1b-9988-4d50-938d-66e5ef7b8d17",
   "metadata": {},
   "outputs": [
    {
     "name": "stdin",
     "output_type": "stream",
     "text": [
      "Kaçıncı meyveyi görmek istersiniz? (0-3): 5\n"
     ]
    },
    {
     "name": "stdout",
     "output_type": "stream",
     "text": [
      "Hata: Girdiğiniz index geçerli bir indeks değil.\n"
     ]
    }
   ],
   "source": [
    "meyveler = [\"elma\", \"armut\", \"muz\", \"çilek\"]\n",
    "\n",
    "try: \n",
    "    secim = int(input(\"Kaçıncı meyveyi görmek istersiniz? (0-3):\"))\n",
    "    print(\"Seçtiğiiz meyve: \", meyveler[secim])\n",
    "\n",
    "except IndexError:\n",
    "    print(\"Hata: Girdiğiniz index geçerli bir indeks değil.\")"
   ]
  },
  {
   "cell_type": "code",
   "execution_count": 41,
   "id": "a2a3327e-7f82-4294-b0c8-1f71ab71897f",
   "metadata": {},
   "outputs": [
    {
     "name": "stdin",
     "output_type": "stream",
     "text": [
      "Kaçıncı meyveyi görmek istersiniz? (0-3): bir\n"
     ]
    },
    {
     "ename": "ValueError",
     "evalue": "invalid literal for int() with base 10: 'bir'",
     "output_type": "error",
     "traceback": [
      "\u001b[31m---------------------------------------------------------------------------\u001b[39m",
      "\u001b[31mValueError\u001b[39m                                Traceback (most recent call last)",
      "\u001b[36mCell\u001b[39m\u001b[36m \u001b[39m\u001b[32mIn[41]\u001b[39m\u001b[32m, line 4\u001b[39m\n\u001b[32m      1\u001b[39m meyveler = [\u001b[33m\"\u001b[39m\u001b[33melma\u001b[39m\u001b[33m\"\u001b[39m, \u001b[33m\"\u001b[39m\u001b[33marmut\u001b[39m\u001b[33m\"\u001b[39m, \u001b[33m\"\u001b[39m\u001b[33mmuz\u001b[39m\u001b[33m\"\u001b[39m, \u001b[33m\"\u001b[39m\u001b[33mçilek\u001b[39m\u001b[33m\"\u001b[39m]\n\u001b[32m      3\u001b[39m \u001b[38;5;28;01mtry\u001b[39;00m: \n\u001b[32m----> \u001b[39m\u001b[32m4\u001b[39m     secim = \u001b[38;5;28;43mint\u001b[39;49m\u001b[43m(\u001b[49m\u001b[38;5;28;43minput\u001b[39;49m\u001b[43m(\u001b[49m\u001b[33;43m\"\u001b[39;49m\u001b[33;43mKaçıncı meyveyi görmek istersiniz? (0-3):\u001b[39;49m\u001b[33;43m\"\u001b[39;49m\u001b[43m)\u001b[49m\u001b[43m)\u001b[49m\n\u001b[32m      5\u001b[39m     \u001b[38;5;28mprint\u001b[39m(\u001b[33m\"\u001b[39m\u001b[33mSeçtiğiiz meyve: \u001b[39m\u001b[33m\"\u001b[39m, meyveler[secim])\n\u001b[32m      7\u001b[39m \u001b[38;5;28;01mexcept\u001b[39;00m \u001b[38;5;167;01mIndexError\u001b[39;00m:\n",
      "\u001b[31mValueError\u001b[39m: invalid literal for int() with base 10: 'bir'"
     ]
    }
   ],
   "source": [
    "meyveler = [\"elma\", \"armut\", \"muz\", \"çilek\"]\n",
    "\n",
    "try: \n",
    "    secim = int(input(\"Kaçıncı meyveyi görmek istersiniz? (0-3):\"))\n",
    "    print(\"Seçtiğiiz meyve: \", meyveler[secim])\n",
    "\n",
    "except IndexError:\n",
    "    print(\"Hata: Girdiğiniz index geçerli bir indeks değil.\")"
   ]
  },
  {
   "cell_type": "code",
   "execution_count": 42,
   "id": "5c2ae375-4fa2-4836-88ce-6d8f2b4e574e",
   "metadata": {},
   "outputs": [
    {
     "name": "stdin",
     "output_type": "stream",
     "text": [
      "Kaçıncı meyveyi görmek istersiniz? (0-3): bir\n"
     ]
    },
    {
     "name": "stdout",
     "output_type": "stream",
     "text": [
      "Geçersiz giriş!\n"
     ]
    }
   ],
   "source": [
    "try: \n",
    "    secim = int(input(\"Kaçıncı meyveyi görmek istersiniz? (0-3):\"))\n",
    "    print(\"Seçtiğiiz meyve: \", meyveler[secim])\n",
    "\n",
    "except IndexError:\n",
    "    print(\"Hata: Girdiğiniz index geçerli bir indeks değil.\")\n",
    "\n",
    "except ValueError:\n",
    "    print(\"Geçersiz giriş!\")"
   ]
  },
  {
   "cell_type": "code",
   "execution_count": 43,
   "id": "fe173f37-5d4a-4f5f-8039-36232074f897",
   "metadata": {},
   "outputs": [
    {
     "name": "stdin",
     "output_type": "stream",
     "text": [
      "Kaçıncı meyveyi görmek istersiniz? (0-3): 6\n"
     ]
    },
    {
     "name": "stdout",
     "output_type": "stream",
     "text": [
      "Geçersiz giriş!\n"
     ]
    }
   ],
   "source": [
    "try: \n",
    "    secim = int(input(\"Kaçıncı meyveyi görmek istersiniz? (0-3):\"))\n",
    "    print(\"Seçtiğiiz meyve: \", meyveler[secim])\n",
    "    \n",
    "except (ValueError, IndexError):\n",
    "    print(\"Geçersiz giriş!\")"
   ]
  },
  {
   "cell_type": "code",
   "execution_count": 44,
   "id": "ce215ae6-6e87-45dd-8fc4-a0cb2b52c112",
   "metadata": {},
   "outputs": [
    {
     "name": "stdin",
     "output_type": "stream",
     "text": [
      "Kaçıncı meyveyi görmek istersiniz? (0-3): bir\n"
     ]
    },
    {
     "name": "stdout",
     "output_type": "stream",
     "text": [
      "Geçersiz giriş!\n"
     ]
    }
   ],
   "source": [
    "try: \n",
    "    secim = int(input(\"Kaçıncı meyveyi görmek istersiniz? (0-3):\"))\n",
    "    print(\"Seçtiğiiz meyve: \", meyveler[secim])\n",
    "    \n",
    "except (ValueError, IndexError):\n",
    "    print(\"Geçersiz giriş!\")"
   ]
  },
  {
   "cell_type": "markdown",
   "id": "94c4d311-05ea-41b1-b7d3-35432e27ced9",
   "metadata": {},
   "source": [
    "## Else Kullanımı"
   ]
  },
  {
   "cell_type": "code",
   "execution_count": 45,
   "id": "2e976864-eea4-4759-a9b8-bd16dd88f286",
   "metadata": {},
   "outputs": [
    {
     "name": "stdin",
     "output_type": "stream",
     "text": [
      "Bir sayı girin:  5\n"
     ]
    },
    {
     "name": "stdout",
     "output_type": "stream",
     "text": [
      "Tebrikler! Girdiğiniz sayı:  5\n"
     ]
    }
   ],
   "source": [
    "try:\n",
    "    sayi = int(input(\"Bir sayı girin: \"))\n",
    "\n",
    "except ValueError:\n",
    "    print(\"Hatalı giriş\")\n",
    "\n",
    "else:\n",
    "     print(\"Tebrikler! Girdiğiniz sayı: \", sayi)"
   ]
  },
  {
   "cell_type": "code",
   "execution_count": null,
   "id": "5fc976b7-2c5e-4ff3-8407-d287cf4eb1db",
   "metadata": {},
   "outputs": [],
   "source": [
    "try:\n",
    "    sayi = int(input(\"Bir sayı girin: \"))\n",
    "\n",
    "except ValueError:\n",
    "    print(\"Hatalı giriş\")\n",
    "\n",
    "else:\n",
    "     print(\"Tebrikler! Girdiğiniz sayı: \", sayi)"
   ]
  },
  {
   "cell_type": "code",
   "execution_count": 46,
   "id": "2df632a2-681f-4b9d-b530-815ddb96ba74",
   "metadata": {},
   "outputs": [
    {
     "name": "stdin",
     "output_type": "stream",
     "text": [
      "Bir sayı girin:  5\n"
     ]
    },
    {
     "name": "stdout",
     "output_type": "stream",
     "text": [
      "Tebrikler! Girdiğiniz sayı:  5\n"
     ]
    }
   ],
   "source": [
    "try:\n",
    "    sayi = int(input(\"Bir sayı girin: \"))\n",
    "    print(\"Tebrikler! Girdiğiniz sayı: \", sayi)\n",
    "except ValueError:\n",
    "    print(\"Hatalı giriş\")     "
   ]
  },
  {
   "cell_type": "code",
   "execution_count": 47,
   "id": "a93633b7-2453-4dd1-a725-9f33d2e145e6",
   "metadata": {},
   "outputs": [
    {
     "name": "stdin",
     "output_type": "stream",
     "text": [
      "Bir sayı girin:  iki\n"
     ]
    },
    {
     "name": "stdout",
     "output_type": "stream",
     "text": [
      "Hatalı giriş\n"
     ]
    }
   ],
   "source": [
    "try:\n",
    "    sayi = int(input(\"Bir sayı girin: \"))\n",
    "\n",
    "except ValueError:\n",
    "    print(\"Hatalı giriş\")\n",
    "\n",
    "else:\n",
    "     print(\"Tebrikler! Girdiğiniz sayı: \", sayi)"
   ]
  },
  {
   "cell_type": "code",
   "execution_count": 48,
   "id": "56745595-c183-42f8-b47c-92cc4d9edde9",
   "metadata": {},
   "outputs": [
    {
     "name": "stdin",
     "output_type": "stream",
     "text": [
      "Bir sayı girin:  5\n"
     ]
    },
    {
     "name": "stdout",
     "output_type": "stream",
     "text": [
      "2.0\n",
      "İşlem başarılı\n",
      "Program sona erdi\n"
     ]
    }
   ],
   "source": [
    "try:\n",
    "    sayi = int(input(\"Bir sayı girin: \"))\n",
    "    print(10/sayi)\n",
    "except ValueError:\n",
    "    print(\"Hatalı giriş\")\n",
    "except ZeroDivisionError:\n",
    "    print(\"Sıfıra bölme olmaz.\")\n",
    "else:\n",
    "    print(\"İşlem başarılı\")\n",
    "finally:\n",
    "    print(\"Program sona erdi\")"
   ]
  },
  {
   "cell_type": "code",
   "execution_count": 49,
   "id": "ef7a7a9e-e93d-4784-b8f6-7dbab28ed9cd",
   "metadata": {},
   "outputs": [
    {
     "name": "stdin",
     "output_type": "stream",
     "text": [
      "Bir sayı girin:  0\n"
     ]
    },
    {
     "name": "stdout",
     "output_type": "stream",
     "text": [
      "Sıfıra bölme olmaz.\n",
      "Program sona erdi\n"
     ]
    }
   ],
   "source": [
    "try:\n",
    "    sayi = int(input(\"Bir sayı girin: \"))\n",
    "    print(10/sayi)\n",
    "except ValueError:\n",
    "    print(\"Hatalı giriş\")\n",
    "except ZeroDivisionError:\n",
    "    print(\"Sıfıra bölme olmaz.\")\n",
    "else:\n",
    "    print(\"İşlem başarılı\")\n",
    "finally:\n",
    "    print(\"Program sona erdi\")"
   ]
  },
  {
   "cell_type": "code",
   "execution_count": 50,
   "id": "edd404e5-4a3c-4b40-8200-a732085b9c31",
   "metadata": {},
   "outputs": [],
   "source": [
    "def test():\n",
    "    try:\n",
    "        print(\"try bloğu\")\n",
    "        return \"return ifadesi\"\n",
    "    finally:\n",
    "        print(\"finally bloğu\")"
   ]
  },
  {
   "cell_type": "code",
   "execution_count": 51,
   "id": "03e1eaa0-08e6-4270-979d-7d81bf7d6f86",
   "metadata": {},
   "outputs": [
    {
     "name": "stdout",
     "output_type": "stream",
     "text": [
      "try bloğu\n",
      "finally bloğu\n",
      "Fonksiyonu sonucu:  return ifadesi\n"
     ]
    }
   ],
   "source": [
    "sonuc = test()\n",
    "print(\"Fonksiyonu sonucu: \", sonuc)"
   ]
  },
  {
   "cell_type": "code",
   "execution_count": 52,
   "id": "34de3a22-c752-45a6-b6ab-dbbdf589f994",
   "metadata": {},
   "outputs": [
    {
     "name": "stdin",
     "output_type": "stream",
     "text": [
      "Yaşınızı girin:  15\n"
     ]
    }
   ],
   "source": [
    "yas = int(input(\"Yaşınızı girin: \"))\n",
    "\n",
    "if yas<0:\n",
    "    raise ValueError(\"Yaş negatif olamaz!\")"
   ]
  },
  {
   "cell_type": "code",
   "execution_count": 53,
   "id": "06175653-b7f1-4e19-8cc1-209bf05def59",
   "metadata": {},
   "outputs": [
    {
     "name": "stdin",
     "output_type": "stream",
     "text": [
      "Yaşınızı girin:  -5\n"
     ]
    },
    {
     "ename": "ValueError",
     "evalue": "Yaş negatif olamaz!",
     "output_type": "error",
     "traceback": [
      "\u001b[31m---------------------------------------------------------------------------\u001b[39m",
      "\u001b[31mValueError\u001b[39m                                Traceback (most recent call last)",
      "\u001b[36mCell\u001b[39m\u001b[36m \u001b[39m\u001b[32mIn[53]\u001b[39m\u001b[32m, line 4\u001b[39m\n\u001b[32m      1\u001b[39m yas = \u001b[38;5;28mint\u001b[39m(\u001b[38;5;28minput\u001b[39m(\u001b[33m\"\u001b[39m\u001b[33mYaşınızı girin: \u001b[39m\u001b[33m\"\u001b[39m))\n\u001b[32m      3\u001b[39m \u001b[38;5;28;01mif\u001b[39;00m yas<\u001b[32m0\u001b[39m:\n\u001b[32m----> \u001b[39m\u001b[32m4\u001b[39m     \u001b[38;5;28;01mraise\u001b[39;00m \u001b[38;5;167;01mValueError\u001b[39;00m(\u001b[33m\"\u001b[39m\u001b[33mYaş negatif olamaz!\u001b[39m\u001b[33m\"\u001b[39m)\n",
      "\u001b[31mValueError\u001b[39m: Yaş negatif olamaz!"
     ]
    }
   ],
   "source": [
    "yas = int(input(\"Yaşınızı girin: \"))\n",
    "\n",
    "if yas<0:\n",
    "    raise ValueError(\"Yaş negatif olamaz!\")"
   ]
  },
  {
   "cell_type": "code",
   "execution_count": 54,
   "id": "5aa612e0-3c71-4927-86b2-c4fc3915b5fc",
   "metadata": {},
   "outputs": [
    {
     "name": "stdin",
     "output_type": "stream",
     "text": [
      "Yaşınızı girin:  -5\n"
     ]
    },
    {
     "name": "stdout",
     "output_type": "stream",
     "text": [
      "Hata oluştu:  Yaş negatif olamaz!\n"
     ]
    }
   ],
   "source": [
    "try:\n",
    "    yas = int(input(\"Yaşınızı girin: \"))\n",
    "\n",
    "    if yas<0:\n",
    "        raise ValueError(\"Yaş negatif olamaz!\")\n",
    "except ValueError as hata:\n",
    "    print(\"Hata oluştu: \", hata)"
   ]
  },
  {
   "cell_type": "code",
   "execution_count": 55,
   "id": "d391d2fa-715f-43a2-ba2d-20c5f3912608",
   "metadata": {},
   "outputs": [
    {
     "name": "stdout",
     "output_type": "stream",
     "text": [
      "Hata türü:  <class 'ValueError'>\n",
      "Hata mesajı:  invalid literal for int() with base 10: 'abc'\n"
     ]
    }
   ],
   "source": [
    "try:\n",
    "    x = int(\"abc\") \n",
    "except Exception as e:\n",
    "    print(\"Hata türü: \", type(e))\n",
    "    print(\"Hata mesajı: \", e)"
   ]
  },
  {
   "cell_type": "code",
   "execution_count": 56,
   "id": "aa999af1-285b-4489-a3c9-fde69bb78169",
   "metadata": {},
   "outputs": [],
   "source": [
    "class NegatifYasHatasi(Exception):\n",
    "    pass"
   ]
  },
  {
   "cell_type": "code",
   "execution_count": 57,
   "id": "8610251e-c81e-4aed-8558-152fa6408674",
   "metadata": {},
   "outputs": [
    {
     "name": "stdin",
     "output_type": "stream",
     "text": [
      "Yaşınızı girin:  -5\n"
     ]
    },
    {
     "ename": "NegatifYasHatasi",
     "evalue": "Negatif yaş girilmez!",
     "output_type": "error",
     "traceback": [
      "\u001b[31m---------------------------------------------------------------------------\u001b[39m",
      "\u001b[31mNegatifYasHatasi\u001b[39m                          Traceback (most recent call last)",
      "\u001b[36mCell\u001b[39m\u001b[36m \u001b[39m\u001b[32mIn[57]\u001b[39m\u001b[32m, line 3\u001b[39m\n\u001b[32m      1\u001b[39m yas = \u001b[38;5;28mint\u001b[39m(\u001b[38;5;28minput\u001b[39m(\u001b[33m\"\u001b[39m\u001b[33mYaşınızı girin: \u001b[39m\u001b[33m\"\u001b[39m))\n\u001b[32m      2\u001b[39m \u001b[38;5;28;01mif\u001b[39;00m yas < \u001b[32m0\u001b[39m:\n\u001b[32m----> \u001b[39m\u001b[32m3\u001b[39m     \u001b[38;5;28;01mraise\u001b[39;00m NegatifYasHatasi(\u001b[33m\"\u001b[39m\u001b[33mNegatif yaş girilmez!\u001b[39m\u001b[33m\"\u001b[39m)\n",
      "\u001b[31mNegatifYasHatasi\u001b[39m: Negatif yaş girilmez!"
     ]
    }
   ],
   "source": [
    "yas = int(input(\"Yaşınızı girin: \"))\n",
    "if yas < 0:\n",
    "    raise NegatifYasHatasi(\"Negatif yaş girilmez!\")"
   ]
  },
  {
   "cell_type": "code",
   "execution_count": 58,
   "id": "9ae2e333-791b-4a20-8aaf-f575f255dc45",
   "metadata": {},
   "outputs": [],
   "source": [
    "class NegatifYasHatasi(Exception):\n",
    "    pass"
   ]
  },
  {
   "cell_type": "code",
   "execution_count": 59,
   "id": "13703198-2f6f-4490-a51c-f583efd68615",
   "metadata": {},
   "outputs": [
    {
     "name": "stdin",
     "output_type": "stream",
     "text": [
      "Yaşınızı girin:  -5\n"
     ]
    },
    {
     "ename": "NegatifYasHatasi",
     "evalue": "Negatif yaş girilmez!",
     "output_type": "error",
     "traceback": [
      "\u001b[31m---------------------------------------------------------------------------\u001b[39m",
      "\u001b[31mNegatifYasHatasi\u001b[39m                          Traceback (most recent call last)",
      "\u001b[36mCell\u001b[39m\u001b[36m \u001b[39m\u001b[32mIn[59]\u001b[39m\u001b[32m, line 3\u001b[39m\n\u001b[32m      1\u001b[39m yas = \u001b[38;5;28mint\u001b[39m(\u001b[38;5;28minput\u001b[39m(\u001b[33m\"\u001b[39m\u001b[33mYaşınızı girin: \u001b[39m\u001b[33m\"\u001b[39m))\n\u001b[32m      2\u001b[39m \u001b[38;5;28;01mif\u001b[39;00m yas < \u001b[32m0\u001b[39m:\n\u001b[32m----> \u001b[39m\u001b[32m3\u001b[39m     \u001b[38;5;28;01mraise\u001b[39;00m NegatifYasHatasi(\u001b[33m\"\u001b[39m\u001b[33mNegatif yaş girilmez!\u001b[39m\u001b[33m\"\u001b[39m)\n",
      "\u001b[31mNegatifYasHatasi\u001b[39m: Negatif yaş girilmez!"
     ]
    }
   ],
   "source": [
    "yas = int(input(\"Yaşınızı girin: \"))\n",
    "if yas < 0:\n",
    "    raise NegatifYasHatasi(\"Negatif yaş girilmez!\")"
   ]
  },
  {
   "cell_type": "markdown",
   "id": "5b101f1a-386f-4846-8c61-24e9d36a4b2e",
   "metadata": {},
   "source": [
    "## Zincir İstisnalar"
   ]
  },
  {
   "cell_type": "raw",
   "id": "6c4736f3-159c-4a7d-ab52-8288d53f6112",
   "metadata": {},
   "source": [
    "Kullanım yapısı: raise ... from ..."
   ]
  },
  {
   "cell_type": "code",
   "execution_count": 60,
   "id": "15d1e2e9-64eb-445d-9796-1fcb27d9f9bb",
   "metadata": {},
   "outputs": [
    {
     "ename": "RuntimeError",
     "evalue": "Veri işlenemedi",
     "output_type": "error",
     "traceback": [
      "\u001b[31m---------------------------------------------------------------------------\u001b[39m",
      "\u001b[31mValueError\u001b[39m                                Traceback (most recent call last)",
      "\u001b[36mCell\u001b[39m\u001b[36m \u001b[39m\u001b[32mIn[60]\u001b[39m\u001b[32m, line 2\u001b[39m\n\u001b[32m      1\u001b[39m \u001b[38;5;28;01mtry\u001b[39;00m: \n\u001b[32m----> \u001b[39m\u001b[32m2\u001b[39m     sayi = \u001b[38;5;28;43mint\u001b[39;49m\u001b[43m(\u001b[49m\u001b[33;43m\"\u001b[39;49m\u001b[33;43mabc\u001b[39;49m\u001b[33;43m\"\u001b[39;49m\u001b[43m)\u001b[49m \n\u001b[32m      3\u001b[39m \u001b[38;5;28;01mexcept\u001b[39;00m \u001b[38;5;167;01mValueError\u001b[39;00m \u001b[38;5;28;01mas\u001b[39;00m hata:\n",
      "\u001b[31mValueError\u001b[39m: invalid literal for int() with base 10: 'abc'",
      "\nThe above exception was the direct cause of the following exception:\n",
      "\u001b[31mRuntimeError\u001b[39m                              Traceback (most recent call last)",
      "\u001b[36mCell\u001b[39m\u001b[36m \u001b[39m\u001b[32mIn[60]\u001b[39m\u001b[32m, line 4\u001b[39m\n\u001b[32m      2\u001b[39m     sayi = \u001b[38;5;28mint\u001b[39m(\u001b[33m\"\u001b[39m\u001b[33mabc\u001b[39m\u001b[33m\"\u001b[39m) \n\u001b[32m      3\u001b[39m \u001b[38;5;28;01mexcept\u001b[39;00m \u001b[38;5;167;01mValueError\u001b[39;00m \u001b[38;5;28;01mas\u001b[39;00m hata:\n\u001b[32m----> \u001b[39m\u001b[32m4\u001b[39m     \u001b[38;5;28;01mraise\u001b[39;00m \u001b[38;5;167;01mRuntimeError\u001b[39;00m(\u001b[33m\"\u001b[39m\u001b[33mVeri işlenemedi\u001b[39m\u001b[33m\"\u001b[39m) \u001b[38;5;28;01mfrom\u001b[39;00m \u001b[34;01mhata\u001b[39;00m\n",
      "\u001b[31mRuntimeError\u001b[39m: Veri işlenemedi"
     ]
    }
   ],
   "source": [
    "try: \n",
    "    sayi = int(\"abc\") \n",
    "except ValueError as hata:\n",
    "    raise RuntimeError(\"Veri işlenemedi\") from hata"
   ]
  },
  {
   "cell_type": "code",
   "execution_count": null,
   "id": "5e85fa39-2e16-4824-8375-ff929ad8b5f4",
   "metadata": {},
   "outputs": [],
   "source": []
  },
  {
   "cell_type": "code",
   "execution_count": null,
   "id": "1a032b3d-35ab-471d-a9db-c0a86bd4be46",
   "metadata": {},
   "outputs": [],
   "source": []
  },
  {
   "cell_type": "code",
   "execution_count": null,
   "id": "ccf894c4-fb64-4fef-8fd8-83d384860bd8",
   "metadata": {},
   "outputs": [],
   "source": []
  },
  {
   "cell_type": "code",
   "execution_count": null,
   "id": "3d90eb01-384e-46ef-a218-c7608441ea99",
   "metadata": {},
   "outputs": [],
   "source": []
  },
  {
   "cell_type": "code",
   "execution_count": null,
   "id": "e7780115-1316-4eb6-891b-a79e385b013c",
   "metadata": {},
   "outputs": [],
   "source": []
  },
  {
   "cell_type": "code",
   "execution_count": null,
   "id": "d6ac54c5-5fc0-4769-9161-c1bb2cf9b87f",
   "metadata": {},
   "outputs": [],
   "source": []
  }
 ],
 "metadata": {
  "kernelspec": {
   "display_name": "Python 3 (ipykernel)",
   "language": "python",
   "name": "python3"
  },
  "language_info": {
   "codemirror_mode": {
    "name": "ipython",
    "version": 3
   },
   "file_extension": ".py",
   "mimetype": "text/x-python",
   "name": "python",
   "nbconvert_exporter": "python",
   "pygments_lexer": "ipython3",
   "version": "3.12.2"
  }
 },
 "nbformat": 4,
 "nbformat_minor": 5
}
