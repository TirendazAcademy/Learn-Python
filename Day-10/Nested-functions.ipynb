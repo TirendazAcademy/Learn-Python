{
 "cells": [
  {
   "cell_type": "code",
   "execution_count": 1,
   "id": "d964bd9c-ead8-4f81-97fc-34c7e0b68dab",
   "metadata": {},
   "outputs": [],
   "source": [
    "def kullanıcı_karsila():\n",
    "    isim = \"Zeynep\"\n",
    "\n",
    "    def mesaj_yaz():\n",
    "        print(f\"Hoş geldin {isim}!\")\n",
    "    \n",
    "    mesaj_yaz()"
   ]
  },
  {
   "cell_type": "code",
   "execution_count": 2,
   "id": "efdeada7-3044-4ae6-aa87-235b76d4a171",
   "metadata": {},
   "outputs": [
    {
     "name": "stdout",
     "output_type": "stream",
     "text": [
      "Hoş geldin Zeynep!\n"
     ]
    }
   ],
   "source": [
    "kullanıcı_karsila()"
   ]
  },
  {
   "cell_type": "code",
   "execution_count": 3,
   "id": "988fb4bc-fd01-432a-91ca-c18d07a04f39",
   "metadata": {},
   "outputs": [
    {
     "ename": "NameError",
     "evalue": "name 'mesaj_yaz' is not defined",
     "output_type": "error",
     "traceback": [
      "\u001b[31m---------------------------------------------------------------------------\u001b[39m",
      "\u001b[31mNameError\u001b[39m                                 Traceback (most recent call last)",
      "\u001b[36mCell\u001b[39m\u001b[36m \u001b[39m\u001b[32mIn[3]\u001b[39m\u001b[32m, line 1\u001b[39m\n\u001b[32m----> \u001b[39m\u001b[32m1\u001b[39m \u001b[43mmesaj_yaz\u001b[49m()\n",
      "\u001b[31mNameError\u001b[39m: name 'mesaj_yaz' is not defined"
     ]
    }
   ],
   "source": [
    "mesaj_yaz()"
   ]
  },
  {
   "cell_type": "code",
   "execution_count": null,
   "id": "be6cb1e6-d738-4271-b72b-333559f7ab42",
   "metadata": {},
   "outputs": [],
   "source": [
    "def kullanıcı_karsila():\n",
    "    isim = \"Zeynep\"\n",
    "\n",
    "    def mesaj_yaz():\n",
    "        print(f\"Hoş geldin {isim}!\")\n",
    "    \n",
    "    return mesaj_yaz"
   ]
  },
  {
   "cell_type": "code",
   "execution_count": 10,
   "id": "d58e5b6c-1abd-4270-b454-673f5ea7f62e",
   "metadata": {},
   "outputs": [],
   "source": [
    "fonk = kullanıcı_karsila()"
   ]
  },
  {
   "cell_type": "code",
   "execution_count": 11,
   "id": "c693dbf0-a151-4519-8f80-14c0e5c3b294",
   "metadata": {},
   "outputs": [
    {
     "name": "stdout",
     "output_type": "stream",
     "text": [
      "Hoş geldin Zeynep!\n"
     ]
    }
   ],
   "source": [
    "fonk()"
   ]
  },
  {
   "cell_type": "raw",
   "id": "3f687442-cbb7-42dc-92cf-779649035ecc",
   "metadata": {},
   "source": [
    "Closure Özelliği (Bellek özelliği kazandırıyor.)"
   ]
  },
  {
   "cell_type": "code",
   "execution_count": 12,
   "id": "82cc6a3b-4e98-41a6-b58c-4867617b5c97",
   "metadata": {},
   "outputs": [],
   "source": [
    "def ses_olustur(hayvan):\n",
    "    def konus():\n",
    "        return f\"{hayvan} ses çıkarıyor!\"\n",
    "\n",
    "    return konus"
   ]
  },
  {
   "cell_type": "code",
   "execution_count": 14,
   "id": "baae315c-4d4e-46b5-990d-fcc84e016657",
   "metadata": {},
   "outputs": [],
   "source": [
    "kedi_sesi = ses_olustur(\"Kedi\")"
   ]
  },
  {
   "cell_type": "code",
   "execution_count": 15,
   "id": "b530c470-c4b8-4f70-8ac1-b09d0f674416",
   "metadata": {},
   "outputs": [
    {
     "data": {
      "text/plain": [
       "'Kedi ses çıkarıyor!'"
      ]
     },
     "execution_count": 15,
     "metadata": {},
     "output_type": "execute_result"
    }
   ],
   "source": [
    "kedi_sesi()"
   ]
  },
  {
   "cell_type": "code",
   "execution_count": 16,
   "id": "8c253a82-7ee9-415b-a65f-da970ce33f2a",
   "metadata": {},
   "outputs": [],
   "source": [
    "kopek_sesi = ses_olustur(\"Köpek\")"
   ]
  },
  {
   "cell_type": "code",
   "execution_count": 17,
   "id": "ede00c66-6f64-4a61-80c0-a97572d4514c",
   "metadata": {},
   "outputs": [
    {
     "data": {
      "text/plain": [
       "'Köpek ses çıkarıyor!'"
      ]
     },
     "execution_count": 17,
     "metadata": {},
     "output_type": "execute_result"
    }
   ],
   "source": [
    "kopek_sesi()"
   ]
  },
  {
   "cell_type": "code",
   "execution_count": 18,
   "id": "ef469927-bb75-453c-8f6a-0dd6319310fe",
   "metadata": {},
   "outputs": [],
   "source": [
    "def sayac_olustur():\n",
    "    sayi=0\n",
    "\n",
    "    def arttir():\n",
    "        sayi += 1\n",
    "        print(sayi)\n",
    "    \n",
    "    return arttir"
   ]
  },
  {
   "cell_type": "code",
   "execution_count": 19,
   "id": "d7c1cc4c-c60d-47a4-8606-41b237bcb188",
   "metadata": {},
   "outputs": [],
   "source": [
    "sayac = sayac_olustur()"
   ]
  },
  {
   "cell_type": "code",
   "execution_count": 21,
   "id": "ba4a1c42-fa57-4abd-9d8a-41eb9c185cb0",
   "metadata": {},
   "outputs": [
    {
     "ename": "UnboundLocalError",
     "evalue": "cannot access local variable 'sayi' where it is not associated with a value",
     "output_type": "error",
     "traceback": [
      "\u001b[31m---------------------------------------------------------------------------\u001b[39m",
      "\u001b[31mUnboundLocalError\u001b[39m                         Traceback (most recent call last)",
      "\u001b[36mCell\u001b[39m\u001b[36m \u001b[39m\u001b[32mIn[21]\u001b[39m\u001b[32m, line 1\u001b[39m\n\u001b[32m----> \u001b[39m\u001b[32m1\u001b[39m \u001b[43msayac\u001b[49m\u001b[43m(\u001b[49m\u001b[43m)\u001b[49m\n",
      "\u001b[36mCell\u001b[39m\u001b[36m \u001b[39m\u001b[32mIn[18]\u001b[39m\u001b[32m, line 5\u001b[39m, in \u001b[36msayac_olustur.<locals>.arttir\u001b[39m\u001b[34m()\u001b[39m\n\u001b[32m      4\u001b[39m \u001b[38;5;28;01mdef\u001b[39;00m \u001b[34marttir\u001b[39m():\n\u001b[32m----> \u001b[39m\u001b[32m5\u001b[39m     \u001b[43msayi\u001b[49m += \u001b[32m1\u001b[39m\n\u001b[32m      6\u001b[39m     \u001b[38;5;28mprint\u001b[39m(sayi)\n",
      "\u001b[31mUnboundLocalError\u001b[39m: cannot access local variable 'sayi' where it is not associated with a value"
     ]
    }
   ],
   "source": [
    "sayac()"
   ]
  },
  {
   "cell_type": "code",
   "execution_count": 22,
   "id": "c9018fcd-1015-4680-bb52-0d46b3136afc",
   "metadata": {},
   "outputs": [],
   "source": [
    "def sayac_olustur():\n",
    "    sayi=0\n",
    "\n",
    "    def arttir():\n",
    "        nonlocal sayi\n",
    "        sayi += 1\n",
    "        print(sayi)\n",
    "    \n",
    "    return arttir"
   ]
  },
  {
   "cell_type": "code",
   "execution_count": 23,
   "id": "bbd7a920-f00b-41d4-b600-9fcf2806bb0d",
   "metadata": {},
   "outputs": [],
   "source": [
    "sayac = sayac_olustur()"
   ]
  },
  {
   "cell_type": "raw",
   "id": "af3da0aa-eff7-453d-a30d-de06cb1788f2",
   "metadata": {},
   "source": [
    "Fonksiyonu çağırabilmem için () parantesi kullanmam gerekiyor. Örneğin sayac_olustur()"
   ]
  },
  {
   "cell_type": "code",
   "execution_count": 24,
   "id": "d4ab947c-89c5-41ce-84dd-6aefe6b39a16",
   "metadata": {},
   "outputs": [
    {
     "name": "stdout",
     "output_type": "stream",
     "text": [
      "1\n"
     ]
    }
   ],
   "source": [
    "sayac()"
   ]
  },
  {
   "cell_type": "code",
   "execution_count": 25,
   "id": "5bdd2f9f-99a4-488b-8e85-2e4aa712d4f1",
   "metadata": {},
   "outputs": [
    {
     "name": "stdout",
     "output_type": "stream",
     "text": [
      "2\n"
     ]
    }
   ],
   "source": [
    "sayac()"
   ]
  },
  {
   "cell_type": "code",
   "execution_count": 26,
   "id": "553c3fd3-9e07-4ac5-b35f-1aa804957542",
   "metadata": {},
   "outputs": [
    {
     "name": "stdout",
     "output_type": "stream",
     "text": [
      "3\n"
     ]
    }
   ],
   "source": [
    "sayac()"
   ]
  },
  {
   "cell_type": "code",
   "execution_count": 27,
   "id": "2b2408ee-f986-4433-955e-b693904db8d3",
   "metadata": {},
   "outputs": [],
   "source": [
    "def metni_isle(metin):\n",
    "    \n",
    "    def temizle(m):\n",
    "        return m.strip().lower()\n",
    "\n",
    "    return temizle(metin)"
   ]
  },
  {
   "cell_type": "code",
   "execution_count": 28,
   "id": "fa70c890-9e2b-478f-bb02-7626f8910f50",
   "metadata": {},
   "outputs": [
    {
     "data": {
      "text/plain": [
       "'merhaba python'"
      ]
     },
     "execution_count": 28,
     "metadata": {},
     "output_type": "execute_result"
    }
   ],
   "source": [
    "metni_isle(\" Merhaba PYTHON \")"
   ]
  },
  {
   "cell_type": "code",
   "execution_count": 29,
   "id": "c85457e3-9df9-4dfa-9b32-e6e99408acae",
   "metadata": {},
   "outputs": [],
   "source": [
    "def veri_isleme(sayi_listesi):\n",
    "\n",
    "    def kareleri_al(liste):\n",
    "        return [x**2 for x in liste]\n",
    "\n",
    "    def filtrele(liste):\n",
    "        return [x for x in liste if x < 100]\n",
    "\n",
    "    kareler = kareleri_al(sayi_listesi)\n",
    "    sonuc = filtrele(kareler)\n",
    "\n",
    "    return sonuc"
   ]
  },
  {
   "cell_type": "code",
   "execution_count": 30,
   "id": "1ba262b7-fb39-43f2-898a-1e2bf4c1651a",
   "metadata": {},
   "outputs": [],
   "source": [
    "sayilar = [1,3,5,7,9,11,13]"
   ]
  },
  {
   "cell_type": "code",
   "execution_count": 31,
   "id": "4cffb44e-ce73-4a9a-bb12-4c70b7ef74e8",
   "metadata": {},
   "outputs": [
    {
     "data": {
      "text/plain": [
       "[1, 9, 25, 49, 81]"
      ]
     },
     "execution_count": 31,
     "metadata": {},
     "output_type": "execute_result"
    }
   ],
   "source": [
    "veri_isleme(sayilar)"
   ]
  },
  {
   "cell_type": "markdown",
   "id": "04715f4f-fa32-446a-8217-b64f39dd01a1",
   "metadata": {},
   "source": [
    "# Global ve Lokal Değişkenler "
   ]
  },
  {
   "cell_type": "code",
   "execution_count": 32,
   "id": "51be0977-0238-43ee-b4cb-73ebbcddfb4d",
   "metadata": {},
   "outputs": [],
   "source": [
    "x = 10 # Global değişken"
   ]
  },
  {
   "cell_type": "code",
   "execution_count": 33,
   "id": "fa7ac235-5737-44c5-b97f-def5fb973eb4",
   "metadata": {},
   "outputs": [
    {
     "data": {
      "text/plain": [
       "10"
      ]
     },
     "execution_count": 33,
     "metadata": {},
     "output_type": "execute_result"
    }
   ],
   "source": [
    "x "
   ]
  },
  {
   "cell_type": "code",
   "execution_count": 34,
   "id": "fc9c116d-6ed4-40de-b715-27f05a8e7947",
   "metadata": {},
   "outputs": [],
   "source": [
    "def fonksiyon():\n",
    "    y = 15 \n",
    "    print(\"Fonksiyon içi: \", x, y)"
   ]
  },
  {
   "cell_type": "code",
   "execution_count": 35,
   "id": "ef43a79a-f448-4d65-85cb-4dee8181b2b2",
   "metadata": {},
   "outputs": [
    {
     "name": "stdout",
     "output_type": "stream",
     "text": [
      "Fonksiyon içi:  10 15\n"
     ]
    }
   ],
   "source": [
    "fonksiyon()"
   ]
  },
  {
   "cell_type": "code",
   "execution_count": 36,
   "id": "c33fbeb6-254b-47eb-85ac-769b3bb7cd26",
   "metadata": {},
   "outputs": [
    {
     "name": "stdout",
     "output_type": "stream",
     "text": [
      "Fonksiyon dışı:  10\n"
     ]
    }
   ],
   "source": [
    "print(\"Fonksiyon dışı: \", x)"
   ]
  },
  {
   "cell_type": "code",
   "execution_count": 37,
   "id": "2755eefb-ccf0-4ae8-a98b-4a387905c7dd",
   "metadata": {},
   "outputs": [
    {
     "ename": "NameError",
     "evalue": "name 'y' is not defined",
     "output_type": "error",
     "traceback": [
      "\u001b[31m---------------------------------------------------------------------------\u001b[39m",
      "\u001b[31mNameError\u001b[39m                                 Traceback (most recent call last)",
      "\u001b[36mCell\u001b[39m\u001b[36m \u001b[39m\u001b[32mIn[37]\u001b[39m\u001b[32m, line 1\u001b[39m\n\u001b[32m----> \u001b[39m\u001b[32m1\u001b[39m \u001b[38;5;28mprint\u001b[39m(\u001b[43my\u001b[49m)\n",
      "\u001b[31mNameError\u001b[39m: name 'y' is not defined"
     ]
    }
   ],
   "source": [
    "print(y)"
   ]
  },
  {
   "cell_type": "code",
   "execution_count": 38,
   "id": "dad04ac3-884f-48f8-b929-1dc10088baf3",
   "metadata": {},
   "outputs": [],
   "source": [
    "def selam_ver():\n",
    "    isim=\"Ayşe\" # Lokal değişken\n",
    "    print(f\"Merhaba, {isim}!\")"
   ]
  },
  {
   "cell_type": "code",
   "execution_count": 39,
   "id": "2e316785-5fa8-4667-bd9c-d072157e486c",
   "metadata": {},
   "outputs": [
    {
     "name": "stdout",
     "output_type": "stream",
     "text": [
      "Merhaba, Ayşe!\n"
     ]
    }
   ],
   "source": [
    "selam_ver()"
   ]
  },
  {
   "cell_type": "code",
   "execution_count": 40,
   "id": "a934e4fe-a0a9-4ed5-9a03-221994b9eb7e",
   "metadata": {},
   "outputs": [
    {
     "ename": "NameError",
     "evalue": "name 'isim' is not defined",
     "output_type": "error",
     "traceback": [
      "\u001b[31m---------------------------------------------------------------------------\u001b[39m",
      "\u001b[31mNameError\u001b[39m                                 Traceback (most recent call last)",
      "\u001b[36mCell\u001b[39m\u001b[36m \u001b[39m\u001b[32mIn[40]\u001b[39m\u001b[32m, line 1\u001b[39m\n\u001b[32m----> \u001b[39m\u001b[32m1\u001b[39m \u001b[38;5;28mprint\u001b[39m(\u001b[43misim\u001b[49m)\n",
      "\u001b[31mNameError\u001b[39m: name 'isim' is not defined"
     ]
    }
   ],
   "source": [
    "print(isim) "
   ]
  },
  {
   "cell_type": "code",
   "execution_count": 41,
   "id": "5107d4bf-2a0e-4c6d-adfc-76f858220052",
   "metadata": {},
   "outputs": [],
   "source": [
    "def sayac():\n",
    "    sayi=1\n",
    "    print(\"Sayı:\", sayi)\n",
    "    sayi += 1"
   ]
  },
  {
   "cell_type": "code",
   "execution_count": 42,
   "id": "e312bdb4-7161-4429-b17e-847bf2027330",
   "metadata": {},
   "outputs": [
    {
     "name": "stdout",
     "output_type": "stream",
     "text": [
      "Sayı: 1\n"
     ]
    }
   ],
   "source": [
    "sayac()"
   ]
  },
  {
   "cell_type": "code",
   "execution_count": 43,
   "id": "979410ff-ab17-4d22-b2a2-cad73eabc49e",
   "metadata": {},
   "outputs": [
    {
     "name": "stdout",
     "output_type": "stream",
     "text": [
      "Sayı: 1\n"
     ]
    }
   ],
   "source": [
    "sayac()"
   ]
  },
  {
   "cell_type": "code",
   "execution_count": 44,
   "id": "c630558b-ffb0-4460-8953-bbb4ceb8e557",
   "metadata": {},
   "outputs": [],
   "source": [
    "mesaj = \"Merhaba Dünya\""
   ]
  },
  {
   "cell_type": "code",
   "execution_count": 45,
   "id": "3fa625f3-6db5-48ed-b0ac-630495749ab7",
   "metadata": {},
   "outputs": [],
   "source": [
    "def yazdir():\n",
    "    print(mesaj)"
   ]
  },
  {
   "cell_type": "code",
   "execution_count": 47,
   "id": "e1d398d5-0201-4066-964e-b42487262f6d",
   "metadata": {},
   "outputs": [
    {
     "name": "stdout",
     "output_type": "stream",
     "text": [
      "Merhaba Dünya\n"
     ]
    }
   ],
   "source": [
    "yazdir()"
   ]
  },
  {
   "cell_type": "code",
   "execution_count": 48,
   "id": "5deb6a77-0143-49d9-9c37-9aa423703ef7",
   "metadata": {},
   "outputs": [],
   "source": [
    "renk = \"mavi\""
   ]
  },
  {
   "cell_type": "code",
   "execution_count": 49,
   "id": "a5aadd0c-ed1c-43b5-916f-2f4ba4501425",
   "metadata": {},
   "outputs": [],
   "source": [
    "def boya():\n",
    "    renk = \"kırmızı\"\n",
    "    print(\"İçerdeki renk: \", renk)"
   ]
  },
  {
   "cell_type": "code",
   "execution_count": 50,
   "id": "aab1f018-3fb0-47f2-ac21-16586dc1ec02",
   "metadata": {},
   "outputs": [
    {
     "name": "stdout",
     "output_type": "stream",
     "text": [
      "İçerdeki renk:  kırmızı\n"
     ]
    }
   ],
   "source": [
    "boya()"
   ]
  },
  {
   "cell_type": "code",
   "execution_count": 51,
   "id": "954017fb-530c-4473-88a7-308d36df0058",
   "metadata": {},
   "outputs": [
    {
     "name": "stdout",
     "output_type": "stream",
     "text": [
      "Dışardaki renk:  mavi\n"
     ]
    }
   ],
   "source": [
    "print(\"Dışardaki renk: \", renk)"
   ]
  },
  {
   "cell_type": "code",
   "execution_count": 52,
   "id": "aca9e267-15c2-424f-b11e-6dbd6a06abcc",
   "metadata": {},
   "outputs": [],
   "source": [
    "puan = 50"
   ]
  },
  {
   "cell_type": "code",
   "execution_count": 53,
   "id": "3bad3964-8c91-4116-943a-015bf4d97f10",
   "metadata": {},
   "outputs": [],
   "source": [
    "def yazdir():\n",
    "    print(\"Puan: \", puan)"
   ]
  },
  {
   "cell_type": "code",
   "execution_count": 54,
   "id": "50497269-8c05-4d90-99f3-d2a20b059bcc",
   "metadata": {},
   "outputs": [
    {
     "name": "stdout",
     "output_type": "stream",
     "text": [
      "Puan:  50\n"
     ]
    }
   ],
   "source": [
    "yazdir()"
   ]
  },
  {
   "cell_type": "code",
   "execution_count": 55,
   "id": "ddef5310-0a7b-423e-bd7e-993c9cf58218",
   "metadata": {},
   "outputs": [],
   "source": [
    "def guncelle():\n",
    "    puan += 10\n",
    "    print(\"Yeni puan: \", puan)"
   ]
  },
  {
   "cell_type": "code",
   "execution_count": 56,
   "id": "16a63b7f-c642-4770-9f93-d3a0fe54a638",
   "metadata": {},
   "outputs": [
    {
     "ename": "UnboundLocalError",
     "evalue": "cannot access local variable 'puan' where it is not associated with a value",
     "output_type": "error",
     "traceback": [
      "\u001b[31m---------------------------------------------------------------------------\u001b[39m",
      "\u001b[31mUnboundLocalError\u001b[39m                         Traceback (most recent call last)",
      "\u001b[36mCell\u001b[39m\u001b[36m \u001b[39m\u001b[32mIn[56]\u001b[39m\u001b[32m, line 1\u001b[39m\n\u001b[32m----> \u001b[39m\u001b[32m1\u001b[39m \u001b[43mguncelle\u001b[49m\u001b[43m(\u001b[49m\u001b[43m)\u001b[49m\n",
      "\u001b[36mCell\u001b[39m\u001b[36m \u001b[39m\u001b[32mIn[55]\u001b[39m\u001b[32m, line 2\u001b[39m, in \u001b[36mguncelle\u001b[39m\u001b[34m()\u001b[39m\n\u001b[32m      1\u001b[39m \u001b[38;5;28;01mdef\u001b[39;00m \u001b[34mguncelle\u001b[39m():\n\u001b[32m----> \u001b[39m\u001b[32m2\u001b[39m     \u001b[43mpuan\u001b[49m += \u001b[32m10\u001b[39m\n\u001b[32m      3\u001b[39m     \u001b[38;5;28mprint\u001b[39m(\u001b[33m\"\u001b[39m\u001b[33mYeni puan: \u001b[39m\u001b[33m\"\u001b[39m, puan)\n",
      "\u001b[31mUnboundLocalError\u001b[39m: cannot access local variable 'puan' where it is not associated with a value"
     ]
    }
   ],
   "source": [
    "guncelle()"
   ]
  },
  {
   "cell_type": "code",
   "execution_count": 60,
   "id": "1da64ff4-6ed5-49dc-943a-742b07f6ba29",
   "metadata": {},
   "outputs": [],
   "source": [
    "puan = 50"
   ]
  },
  {
   "cell_type": "code",
   "execution_count": 61,
   "id": "602fb342-1b5c-4831-b532-ce522e245aaf",
   "metadata": {},
   "outputs": [
    {
     "data": {
      "text/plain": [
       "50"
      ]
     },
     "execution_count": 61,
     "metadata": {},
     "output_type": "execute_result"
    }
   ],
   "source": [
    "puan"
   ]
  },
  {
   "cell_type": "code",
   "execution_count": 62,
   "id": "64537635-66e5-49ea-b950-c1d9cdc2ef46",
   "metadata": {},
   "outputs": [],
   "source": [
    "def puan_ekle():\n",
    "    global puan\n",
    "    puan += 10"
   ]
  },
  {
   "cell_type": "code",
   "execution_count": 63,
   "id": "c760e903-3867-4047-bf44-fdd8fa10bc85",
   "metadata": {},
   "outputs": [],
   "source": [
    "puan_ekle()"
   ]
  },
  {
   "cell_type": "code",
   "execution_count": 64,
   "id": "7203d99c-c1f5-4a65-b470-543876bb0858",
   "metadata": {},
   "outputs": [
    {
     "data": {
      "text/plain": [
       "60"
      ]
     },
     "execution_count": 64,
     "metadata": {},
     "output_type": "execute_result"
    }
   ],
   "source": [
    "puan"
   ]
  },
  {
   "cell_type": "code",
   "execution_count": null,
   "id": "9d56e1ae-368c-439d-a0ce-a1e9eaf7974f",
   "metadata": {},
   "outputs": [],
   "source": [
    "yeni = 42"
   ]
  },
  {
   "cell_type": "code",
   "execution_count": 65,
   "id": "9d31e917-2d97-4795-b5db-bc067bb648f6",
   "metadata": {},
   "outputs": [],
   "source": [
    "def ayarla():\n",
    "    global yeni\n",
    "    yeni = 42"
   ]
  },
  {
   "cell_type": "code",
   "execution_count": 66,
   "id": "a8e443d6-3558-4ffa-90c5-d026a5053287",
   "metadata": {},
   "outputs": [],
   "source": [
    "ayarla()"
   ]
  },
  {
   "cell_type": "code",
   "execution_count": 67,
   "id": "f1adb475-389e-4b42-ab14-c26b7a36f1ae",
   "metadata": {},
   "outputs": [
    {
     "name": "stdout",
     "output_type": "stream",
     "text": [
      "42\n"
     ]
    }
   ],
   "source": [
    "print(yeni)"
   ]
  },
  {
   "cell_type": "code",
   "execution_count": 69,
   "id": "68a1f0c1-7a9c-448e-9e4d-6c135bb0cf7c",
   "metadata": {},
   "outputs": [],
   "source": [
    "import ayarlar"
   ]
  },
  {
   "cell_type": "code",
   "execution_count": 70,
   "id": "be8a4120-2371-4cf0-96a6-2ad3937590c0",
   "metadata": {},
   "outputs": [
    {
     "data": {
      "text/plain": [
       "'aktif'"
      ]
     },
     "execution_count": 70,
     "metadata": {},
     "output_type": "execute_result"
    }
   ],
   "source": [
    "ayarlar.durum"
   ]
  },
  {
   "cell_type": "code",
   "execution_count": 71,
   "id": "d3e2fdf4-1aee-4627-a575-3285dab493bd",
   "metadata": {},
   "outputs": [
    {
     "name": "stdout",
     "output_type": "stream",
     "text": [
      "Durum: aktif\n"
     ]
    }
   ],
   "source": [
    "ayarlar.goster()"
   ]
  },
  {
   "cell_type": "code",
   "execution_count": 72,
   "id": "e353b4b7-797b-4938-8837-dedc77793812",
   "metadata": {},
   "outputs": [],
   "source": [
    "ayarlar.durum = \"pasif\""
   ]
  },
  {
   "cell_type": "code",
   "execution_count": 73,
   "id": "5931d969-6421-4bc3-a8c0-d77aafcf0732",
   "metadata": {},
   "outputs": [
    {
     "data": {
      "text/plain": [
       "'pasif'"
      ]
     },
     "execution_count": 73,
     "metadata": {},
     "output_type": "execute_result"
    }
   ],
   "source": [
    "ayarlar.durum "
   ]
  },
  {
   "cell_type": "code",
   "execution_count": null,
   "id": "8d910cd5-19a6-4d40-a256-77fce1675ad3",
   "metadata": {},
   "outputs": [],
   "source": []
  }
 ],
 "metadata": {
  "kernelspec": {
   "display_name": "Python 3 (ipykernel)",
   "language": "python",
   "name": "python3"
  },
  "language_info": {
   "codemirror_mode": {
    "name": "ipython",
    "version": 3
   },
   "file_extension": ".py",
   "mimetype": "text/x-python",
   "name": "python",
   "nbconvert_exporter": "python",
   "pygments_lexer": "ipython3",
   "version": "3.12.2"
  }
 },
 "nbformat": 4,
 "nbformat_minor": 5
}
