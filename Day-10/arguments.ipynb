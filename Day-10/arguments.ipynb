{
 "cells": [
  {
   "cell_type": "markdown",
   "id": "96be1dc5-3c07-4e04-9706-2ab6c0baf8fe",
   "metadata": {},
   "source": [
    "# Pozisyonel Argüman"
   ]
  },
  {
   "cell_type": "code",
   "execution_count": 1,
   "id": "52b79a25-c129-467a-9345-2b13f30f89bf",
   "metadata": {},
   "outputs": [],
   "source": [
    "def selamla(isim, sehir):\n",
    "    print(f\"Merhaba {isim}, {sehir}'den katıldığın için teşekkürler!\")"
   ]
  },
  {
   "cell_type": "code",
   "execution_count": 2,
   "id": "560de8a6-4387-4bfb-b9ac-d53b52b6ae72",
   "metadata": {},
   "outputs": [
    {
     "name": "stdout",
     "output_type": "stream",
     "text": [
      "Merhaba Ayşe, İstanbul'den katıldığın için teşekkürler!\n"
     ]
    }
   ],
   "source": [
    "selamla(\"Ayşe\", \"İstanbul\")"
   ]
  },
  {
   "cell_type": "markdown",
   "id": "ced00282-66a7-44e2-aa0e-ee1aa2727fc1",
   "metadata": {},
   "source": [
    "# Anahtar Kelime Argümanları"
   ]
  },
  {
   "cell_type": "code",
   "execution_count": 3,
   "id": "0f5c0562-cb42-44b0-85a8-e891c084278d",
   "metadata": {},
   "outputs": [],
   "source": [
    "def selamla(isim, sehir):\n",
    "    print(f\"Merhaba {isim}, {sehir}'den katıldığın için teşekkürler!\")"
   ]
  },
  {
   "cell_type": "code",
   "execution_count": 4,
   "id": "db7df685-0d5b-4616-a6cf-faa71e7c4daa",
   "metadata": {},
   "outputs": [
    {
     "name": "stdout",
     "output_type": "stream",
     "text": [
      "Merhaba Ali, İzmir'den katıldığın için teşekkürler!\n"
     ]
    }
   ],
   "source": [
    "selamla(isim=\"Ali\", sehir=\"İzmir\")"
   ]
  },
  {
   "cell_type": "code",
   "execution_count": 6,
   "id": "c9a62865-8b26-4e01-87b4-90ec3738dfdc",
   "metadata": {},
   "outputs": [
    {
     "name": "stdout",
     "output_type": "stream",
     "text": [
      "Merhaba Ali, İzmir'den katıldığın için teşekkürler!\n"
     ]
    }
   ],
   "source": [
    "selamla(\"Ali\", sehir=\"İzmir\")"
   ]
  },
  {
   "cell_type": "code",
   "execution_count": 9,
   "id": "03cf4b42-1ba1-4cd9-85f6-1a294cd7de73",
   "metadata": {},
   "outputs": [],
   "source": [
    "def selamla(isim = \"Ali\", sehir=\"İzmir\"):\n",
    "    print(f\"Merhaba {isim}, {sehir}'den katıldığın için teşekkürler!\")"
   ]
  },
  {
   "cell_type": "code",
   "execution_count": 10,
   "id": "95845731-4404-41c5-9c98-07852135d21d",
   "metadata": {},
   "outputs": [
    {
     "name": "stdout",
     "output_type": "stream",
     "text": [
      "Merhaba Ali, İzmir'den katıldığın için teşekkürler!\n"
     ]
    }
   ],
   "source": [
    "selamla()"
   ]
  },
  {
   "cell_type": "code",
   "execution_count": 11,
   "id": "4be41fcd-4901-464d-ac31-eba286f27536",
   "metadata": {},
   "outputs": [
    {
     "name": "stdout",
     "output_type": "stream",
     "text": [
      "Merhaba Ayşe, Ankara'den katıldığın için teşekkürler!\n"
     ]
    }
   ],
   "source": [
    "selamla(\"Ayşe\", \"Ankara\")"
   ]
  },
  {
   "cell_type": "markdown",
   "id": "b9f39aca-9f5e-47e1-a250-d37bc35addac",
   "metadata": {},
   "source": [
    "## *Args Kullanımı"
   ]
  },
  {
   "cell_type": "code",
   "execution_count": 13,
   "id": "8e21c4e4-04d5-4a43-9b43-a8dffe68e940",
   "metadata": {},
   "outputs": [],
   "source": [
    "def topla(*sayilar):\n",
    "    toplam = 0\n",
    "    for s in sayilar:\n",
    "        toplam += s\n",
    "    print(f\"Toplam: {toplam}\")"
   ]
  },
  {
   "cell_type": "code",
   "execution_count": 14,
   "id": "2d3f1718-1cf2-4ddf-82a5-432f927c9ccb",
   "metadata": {},
   "outputs": [
    {
     "name": "stdout",
     "output_type": "stream",
     "text": [
      "Toplam: 5\n"
     ]
    }
   ],
   "source": [
    "topla(2,3)"
   ]
  },
  {
   "cell_type": "code",
   "execution_count": 15,
   "id": "cf1a56bb-c5bf-405a-adfe-69952200d45d",
   "metadata": {},
   "outputs": [
    {
     "name": "stdout",
     "output_type": "stream",
     "text": [
      "Toplam: 14\n"
     ]
    }
   ],
   "source": [
    "topla(2,3,4,5)"
   ]
  },
  {
   "cell_type": "code",
   "execution_count": 16,
   "id": "8a2846d1-4d70-4935-8006-6dd43169d3e2",
   "metadata": {},
   "outputs": [],
   "source": [
    "def yazdir(*args):\n",
    "    print(args)"
   ]
  },
  {
   "cell_type": "code",
   "execution_count": 17,
   "id": "7d8466ad-df85-46cb-a209-203201c888ec",
   "metadata": {},
   "outputs": [
    {
     "name": "stdout",
     "output_type": "stream",
     "text": [
      "('Python', 'Veri Bilimi', 2025)\n"
     ]
    }
   ],
   "source": [
    "yazdir(\"Python\", \"Veri Bilimi\", 2025)"
   ]
  },
  {
   "cell_type": "markdown",
   "id": "c50e6752-9483-4f74-8ca2-55a2db796062",
   "metadata": {},
   "source": [
    "## **kwargs"
   ]
  },
  {
   "cell_type": "code",
   "execution_count": 19,
   "id": "117baa7b-1c5c-4e26-9df3-6e382751241c",
   "metadata": {},
   "outputs": [],
   "source": [
    "def kullanici_bilgileri(**kwargs):\n",
    "    for anahtar, deger in kwargs.items():\n",
    "        print(f\"{anahtar}: {deger}\")"
   ]
  },
  {
   "cell_type": "code",
   "execution_count": 20,
   "id": "35124077-0491-4bdc-9f27-78c488b536b9",
   "metadata": {},
   "outputs": [
    {
     "name": "stdout",
     "output_type": "stream",
     "text": [
      "isim: Ahmet\n"
     ]
    }
   ],
   "source": [
    "kullanici_bilgileri(isim=\"Ahmet\")"
   ]
  },
  {
   "cell_type": "code",
   "execution_count": 21,
   "id": "5ee67230-046a-4a39-b010-048658ec398f",
   "metadata": {},
   "outputs": [
    {
     "name": "stdout",
     "output_type": "stream",
     "text": [
      "isim: Ahmet\n",
      "sehir: Ankara\n"
     ]
    }
   ],
   "source": [
    "kullanici_bilgileri(isim=\"Ahmet\", sehir=\"Ankara\")"
   ]
  },
  {
   "cell_type": "code",
   "execution_count": 22,
   "id": "73d86a5a-af82-4525-aa9c-9af36d1c6eca",
   "metadata": {},
   "outputs": [
    {
     "name": "stdout",
     "output_type": "stream",
     "text": [
      "isim: Ahmet\n",
      "sehir: Ankara\n",
      "yas: 28\n"
     ]
    }
   ],
   "source": [
    "kullanici_bilgileri(isim=\"Ahmet\", sehir=\"Ankara\", yas=28)"
   ]
  },
  {
   "cell_type": "raw",
   "id": "2ed640c6-7189-42f5-be37-463a2dbfa68a",
   "metadata": {},
   "source": [
    "(pozisyonel_argumanlar, *args, **kwargs)"
   ]
  },
  {
   "cell_type": "code",
   "execution_count": 23,
   "id": "3d75f63c-8c65-4284-baa0-cee5ca7f5961",
   "metadata": {},
   "outputs": [],
   "source": [
    "def bilgi(isim, *hobiler, **ozellikler):\n",
    "    print(\"isim: \", isim)\n",
    "    print(\"Hobiler: \", hobiler)\n",
    "    print(\"Özellikler: \", ozellikler)"
   ]
  },
  {
   "cell_type": "code",
   "execution_count": 26,
   "id": "212b3cc6-cdc4-41b7-a1ba-d14b9e3a8f4c",
   "metadata": {},
   "outputs": [
    {
     "ename": "SyntaxError",
     "evalue": "positional argument follows keyword argument (2292986741.py, line 1)",
     "output_type": "error",
     "traceback": [
      "  \u001b[36mCell\u001b[39m\u001b[36m \u001b[39m\u001b[32mIn[26]\u001b[39m\u001b[32m, line 1\u001b[39m\n\u001b[31m    \u001b[39m\u001b[31mbilgi(sehir=\"Antalya\", \"Ayşe\", \"kitap\", \"kod yazma\", \"yüzme\", meslek=\"Veri Bilimci\")\u001b[39m\n                                                                                       ^\n\u001b[31mSyntaxError\u001b[39m\u001b[31m:\u001b[39m positional argument follows keyword argument\n"
     ]
    }
   ],
   "source": [
    "bilgi(\"Ayşe\", \"kitap\", \"kod yazma\", \"yüzme\", sehir=\"Antalya\", meslek=\"Veri Bilimci\")"
   ]
  },
  {
   "cell_type": "code",
   "execution_count": 27,
   "id": "cb800c9f-f968-4b04-8cc4-dea2bfba89b0",
   "metadata": {},
   "outputs": [
    {
     "name": "stdout",
     "output_type": "stream",
     "text": [
      "isim:  Ahmet\n",
      "Hobiler:  ('müzik', 'analiz', 'yüzme')\n",
      "Özellikler:  {'sehir': 'Mersin', 'meslek': 'Veri Bilimci'}\n"
     ]
    }
   ],
   "source": [
    "bilgi(\"Ahmet\", \"müzik\", \"analiz\", \"yüzme\", sehir=\"Mersin\", meslek=\"Veri Bilimci\")"
   ]
  },
  {
   "cell_type": "raw",
   "id": "08c60207-3814-4a52-8754-e843b1fc3ec2",
   "metadata": {},
   "source": [
    "Listeleri açmak için -> * \n",
    "Sözlükleri açmak için -> **"
   ]
  },
  {
   "cell_type": "code",
   "execution_count": 28,
   "id": "22155be2-4695-42a4-bca8-6674e9319381",
   "metadata": {},
   "outputs": [],
   "source": [
    "def carp(a,b,c):\n",
    "    print(a*b*c)"
   ]
  },
  {
   "cell_type": "code",
   "execution_count": 29,
   "id": "aef30514-d39d-4a75-a883-6d4908ccf04d",
   "metadata": {},
   "outputs": [],
   "source": [
    "sayılar = [2,3,4]"
   ]
  },
  {
   "cell_type": "code",
   "execution_count": 31,
   "id": "ca0e00ad-73f1-4d33-bef9-a9e72bab3bf9",
   "metadata": {},
   "outputs": [
    {
     "name": "stdout",
     "output_type": "stream",
     "text": [
      "24\n"
     ]
    }
   ],
   "source": [
    "carp(*sayılar)"
   ]
  },
  {
   "cell_type": "code",
   "execution_count": 32,
   "id": "8c158b88-4f99-4bfe-a854-d61ebcd17baf",
   "metadata": {},
   "outputs": [],
   "source": [
    "def karsilama(isim, mesaj):\n",
    "    print(f\"{mesaj}, {isim}!\")"
   ]
  },
  {
   "cell_type": "code",
   "execution_count": 33,
   "id": "22e62fb4-e3d8-4732-b7c4-5440a3501832",
   "metadata": {},
   "outputs": [],
   "source": [
    "veri = {\"isim\": \"Zeynep\", \"mesaj\":\"Selam\"}"
   ]
  },
  {
   "cell_type": "code",
   "execution_count": 35,
   "id": "ebd7c653-fb53-44af-b74a-8a003d2861b3",
   "metadata": {},
   "outputs": [
    {
     "name": "stdout",
     "output_type": "stream",
     "text": [
      "Selam, Zeynep!\n"
     ]
    }
   ],
   "source": [
    "karsilama(**veri)"
   ]
  },
  {
   "cell_type": "raw",
   "id": "f59b6fa3-37e4-4cea-8656-b87e5bf57e2d",
   "metadata": {},
   "source": [
    "/ -> Bundan öncekiler pozisyonel argüman olmalı\n",
    "* -> Bundan sonrakiler keyword argüman olmalı"
   ]
  },
  {
   "cell_type": "code",
   "execution_count": 36,
   "id": "d6f20e7f-63a0-4cf8-883f-87ce3b2e2cae",
   "metadata": {},
   "outputs": [],
   "source": [
    "def bilgi(ad, /, mesaj):\n",
    "    print(f\"{mesaj}, {ad}\")"
   ]
  },
  {
   "cell_type": "code",
   "execution_count": 37,
   "id": "8de4b857-8cfd-44f9-be89-a15db1f0d657",
   "metadata": {},
   "outputs": [
    {
     "name": "stdout",
     "output_type": "stream",
     "text": [
      "Merhaba, Zeynep\n"
     ]
    }
   ],
   "source": [
    "bilgi(\"Zeynep\", \"Merhaba\")"
   ]
  },
  {
   "cell_type": "code",
   "execution_count": 39,
   "id": "002563d1-1d3d-4745-ae1e-e042e4737b02",
   "metadata": {},
   "outputs": [
    {
     "name": "stdout",
     "output_type": "stream",
     "text": [
      "Merhaba, Zeynep\n"
     ]
    }
   ],
   "source": [
    "bilgi(\"Zeynep\", mesaj = \"Merhaba\")"
   ]
  },
  {
   "cell_type": "code",
   "execution_count": 40,
   "id": "3db93224-b9c7-43ad-ac7a-fe654bcde00f",
   "metadata": {},
   "outputs": [],
   "source": [
    "def bilgi(ad, *, mesaj):\n",
    "    print(f\"{mesaj}, {ad}\")"
   ]
  },
  {
   "cell_type": "code",
   "execution_count": 42,
   "id": "d7d626dd-e37a-4821-9a64-8b677db207ea",
   "metadata": {},
   "outputs": [
    {
     "name": "stdout",
     "output_type": "stream",
     "text": [
      "Merhaba, Zeynep\n"
     ]
    }
   ],
   "source": [
    "bilgi(\"Zeynep\", mesaj = \"Merhaba\")"
   ]
  },
  {
   "cell_type": "code",
   "execution_count": 43,
   "id": "ae1bd5ac-5593-48e3-8967-cccd9936d3d9",
   "metadata": {},
   "outputs": [],
   "source": [
    "def siparis_olustur(urun_adi, adet, /, fiyat, *, kargo_ucretsiz):\n",
    "    print(f\"{adet} adet {urun_adi} - {fiyat}₺\")\n",
    "    if kargo_ucretsiz:\n",
    "        print(\"Kargo ücretsiz!\")\n",
    "    else:\n",
    "        print(\"Kargo ücreti alıcıya aittir.\")"
   ]
  },
  {
   "cell_type": "code",
   "execution_count": 44,
   "id": "2e724af2-23cd-4acf-98c0-21b16b003cf9",
   "metadata": {},
   "outputs": [
    {
     "name": "stdout",
     "output_type": "stream",
     "text": [
      "2 adet Kulaklık - 500₺\n",
      "Kargo ücretsiz!\n"
     ]
    }
   ],
   "source": [
    "siparis_olustur(\"Kulaklık\", 2, 500, kargo_ucretsiz = True)"
   ]
  },
  {
   "cell_type": "code",
   "execution_count": null,
   "id": "34c8e0bb-5cb7-40d0-a5fb-4f93dbcda7a1",
   "metadata": {},
   "outputs": [],
   "source": []
  }
 ],
 "metadata": {
  "kernelspec": {
   "display_name": "Python 3 (ipykernel)",
   "language": "python",
   "name": "python3"
  },
  "language_info": {
   "codemirror_mode": {
    "name": "ipython",
    "version": 3
   },
   "file_extension": ".py",
   "mimetype": "text/x-python",
   "name": "python",
   "nbconvert_exporter": "python",
   "pygments_lexer": "ipython3",
   "version": "3.12.2"
  }
 },
 "nbformat": 4,
 "nbformat_minor": 5
}
