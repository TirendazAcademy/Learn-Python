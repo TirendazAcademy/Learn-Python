{
 "cells": [
  {
   "cell_type": "raw",
   "id": "27e5e225-ca6e-4339-8524-436afc256fb9",
   "metadata": {},
   "source": [
    "write modu - > dosya yoksa oluşturur ve içeriği siler metni yazar\n",
    "append modu -> dosya yoksa oluşturur ve ekleme yapar.\n",
    "r+ modu -> hem dosya okur hem de dosya yazıyor."
   ]
  },
  {
   "cell_type": "code",
   "execution_count": 1,
   "id": "c4cdd666-ad0f-4c2a-b3e6-d93712d01d20",
   "metadata": {},
   "outputs": [],
   "source": [
    "with open(\"deneme.txt\", \"w\", encoding=\"utf-8\") as f:\n",
    "    f.write(\"Python öğrenmek çok eğlenceli!\\n\")\n",
    "    f.write(\"Dosya işlemleri konusundayız.\\n\")"
   ]
  },
  {
   "cell_type": "code",
   "execution_count": 2,
   "id": "21cd8a40-8bb0-474c-afad-89c245259f79",
   "metadata": {},
   "outputs": [
    {
     "name": "stdout",
     "output_type": "stream",
     "text": [
      "Python öğrenmek çok eğlenceli!\n",
      "Dosya işlemleri konusundayız.\n",
      "\n"
     ]
    }
   ],
   "source": [
    "with open(\"deneme.txt\", \"r\", encoding=\"utf-8\") as f:\n",
    "    print(f.read())"
   ]
  },
  {
   "cell_type": "code",
   "execution_count": 3,
   "id": "c33c4573-6254-4fd8-8e85-56ed3e7ca597",
   "metadata": {},
   "outputs": [],
   "source": [
    "with open(\"liste.txt\", \"w\", encoding=\"utf-8\") as f:\n",
    "    f.write(\"1. Satır\\n2. Satır\\n3. Satır\\n\")"
   ]
  },
  {
   "cell_type": "code",
   "execution_count": 4,
   "id": "69a53b90-f9b4-4807-9dc8-3bc3f2743462",
   "metadata": {},
   "outputs": [
    {
     "name": "stdout",
     "output_type": "stream",
     "text": [
      "1. Satır\n",
      "2. Satır\n",
      "3. Satır\n",
      "\n"
     ]
    }
   ],
   "source": [
    "with open(\"liste.txt\", \"r\", encoding=\"utf-8\") as f:\n",
    "    print(f.read())"
   ]
  },
  {
   "cell_type": "code",
   "execution_count": 6,
   "id": "844f6846-27ec-419d-a562-b2cd08a02fb3",
   "metadata": {},
   "outputs": [],
   "source": [
    "with open(\"sayilar.txt\", \"w\") as f:\n",
    "    f.write(str(12345))"
   ]
  },
  {
   "cell_type": "code",
   "execution_count": 7,
   "id": "d1ebdeee-240d-494f-bb35-a3cd3dbc400d",
   "metadata": {},
   "outputs": [
    {
     "name": "stdout",
     "output_type": "stream",
     "text": [
      "12345\n"
     ]
    }
   ],
   "source": [
    "with open(\"sayilar.txt\", \"r\", encoding=\"utf-8\") as f:\n",
    "    print(f.read())"
   ]
  },
  {
   "cell_type": "code",
   "execution_count": 8,
   "id": "bcd60200-88b0-463d-a89b-2c1be5658842",
   "metadata": {},
   "outputs": [],
   "source": [
    "with open(\"notlar.txt\", \"a\", encoding=\"utf-8\") as f:\n",
    "    f.write(\"Yeni not: Python çok güzel bir dil!\\n\")"
   ]
  },
  {
   "cell_type": "code",
   "execution_count": 9,
   "id": "2ae8a512-74ab-40b0-ab78-c09966955a96",
   "metadata": {},
   "outputs": [],
   "source": [
    "with open(\"notlar.txt\", \"a\", encoding=\"utf-8\") as f:\n",
    "    f.write(\"Bugün dosya işlemlerini öğrendim.\\n\")"
   ]
  },
  {
   "cell_type": "code",
   "execution_count": 10,
   "id": "4df6eedd-d0ce-4c40-9ddb-9544b0572953",
   "metadata": {},
   "outputs": [
    {
     "name": "stdout",
     "output_type": "stream",
     "text": [
      "Yeni not: Python çok güzel bir dil!\n",
      "Bugün dosya işlemlerini öğrendim.\n",
      "\n"
     ]
    }
   ],
   "source": [
    "with open(\"notlar.txt\", \"r\", encoding=\"utf-8\") as f:\n",
    "    print(f.read())"
   ]
  },
  {
   "cell_type": "raw",
   "id": "f9870533-e219-4535-b534-3bebf1df1f56",
   "metadata": {},
   "source": [
    "writelines() metodu birden fazla satırı tek seferde dosyaya yazmamıza yardımcı olur."
   ]
  },
  {
   "cell_type": "code",
   "execution_count": 11,
   "id": "0ba357e4-6fbc-47ea-9129-6f2d1a38d0f9",
   "metadata": {},
   "outputs": [],
   "source": [
    "satirlar = [\n",
    "    \"Python öğrenmek eğlenceli!\\n\",\n",
    "    \"Dosya işlemleri konusundayız.\\n\",\n",
    "    \"Bugün writelines metodunu öğreniyoruz.\\n\"\n",
    "]"
   ]
  },
  {
   "cell_type": "code",
   "execution_count": 12,
   "id": "94655550-5dad-4384-8e3b-7497ebf98b85",
   "metadata": {},
   "outputs": [],
   "source": [
    "with open(\"ders.txt\", \"w\", encoding=\"utf-8\") as f:\n",
    "    f.writelines(satirlar)"
   ]
  },
  {
   "cell_type": "code",
   "execution_count": 13,
   "id": "20665760-348c-4508-a67b-dd0c67939896",
   "metadata": {},
   "outputs": [
    {
     "name": "stdout",
     "output_type": "stream",
     "text": [
      "Python öğrenmek eğlenceli!\n",
      "Dosya işlemleri konusundayız.\n",
      "Bugün writelines metodunu öğreniyoruz.\n",
      "\n"
     ]
    }
   ],
   "source": [
    "with open(\"ders.txt\", \"r\", encoding=\"utf-8\") as f:\n",
    "    print(f.read())"
   ]
  },
  {
   "cell_type": "code",
   "execution_count": 14,
   "id": "a330bd1d-866d-471c-addf-64f488ea222c",
   "metadata": {},
   "outputs": [],
   "source": [
    "diller = (\"Python\\n\", \"Java\\n\", \"C++\\n\")"
   ]
  },
  {
   "cell_type": "code",
   "execution_count": 15,
   "id": "93570830-7b92-408e-9289-1a8fa9d195be",
   "metadata": {},
   "outputs": [],
   "source": [
    "with open(\"tuple.txt\", \"w\", encoding=\"utf-8\") as f:\n",
    "    f.writelines(diller)"
   ]
  },
  {
   "cell_type": "code",
   "execution_count": 16,
   "id": "365137cc-1019-4076-80f8-b6bd09150c16",
   "metadata": {},
   "outputs": [
    {
     "name": "stdout",
     "output_type": "stream",
     "text": [
      "Python\n",
      "Java\n",
      "C++\n",
      "\n"
     ]
    }
   ],
   "source": [
    "with open(\"tuple.txt\", \"r\", encoding=\"utf-8\") as f:\n",
    "    print(f.read())"
   ]
  },
  {
   "cell_type": "raw",
   "id": "692e4eed-3ee9-4fc4-b40b-c1441e325285",
   "metadata": {},
   "source": [
    "r+ modunda hem dosyayı okuyabiliyoruz hem de yazabiliyoruz."
   ]
  },
  {
   "cell_type": "code",
   "execution_count": 17,
   "id": "f98fee71-a2c6-405e-9502-6fc3ccf9af5c",
   "metadata": {},
   "outputs": [],
   "source": [
    "with open(\"notlar.txt\", \"w\", encoding=\"utf-8\") as f:\n",
    "\tf.write(\"Python çok eğlenceli!\\n\")  \n",
    "\tf.write(\"Dosya işlemlerini öğreniyoruz.\\n\")"
   ]
  },
  {
   "cell_type": "code",
   "execution_count": 18,
   "id": "bfefb052-b8d3-431a-99b7-e036ddea3dae",
   "metadata": {},
   "outputs": [
    {
     "name": "stdout",
     "output_type": "stream",
     "text": [
      "İlk içerik:\n",
      "Python çok eğlenceli!\n",
      "Dosya işlemlerini öğreniyoruz.\n",
      "\n"
     ]
    }
   ],
   "source": [
    "with open(\"notlar.txt\", \"r+\", encoding=\"utf-8\") as f:\n",
    "    print(\"İlk içerik:\")\n",
    "    print(f.read())\n",
    "    # İmleci başa alalımç\n",
    "    f.seek(0)\n",
    "    f.write(\"Güncellendi: Python öğreniyoruz.\\n\")"
   ]
  },
  {
   "cell_type": "code",
   "execution_count": 19,
   "id": "72a7d386-dc4f-4809-b2c0-76a080dc076c",
   "metadata": {},
   "outputs": [
    {
     "name": "stdout",
     "output_type": "stream",
     "text": [
      "Güncellendi: Python öğreniyoruz.\n",
      "lerini öğreniyoruz.\n",
      "\n"
     ]
    }
   ],
   "source": [
    "with open(\"notlar.txt\", \"r\", encoding=\"utf-8\") as f:\n",
    "    print(f.read())"
   ]
  },
  {
   "cell_type": "raw",
   "id": "0154e373-dab5-4253-8411-07478623ea75",
   "metadata": {},
   "source": [
    "f.seek(5,0) -> Baştan 5 byte ilerle\n",
    "f.seek(3,1)  -> Bulunduğun yerden 3 byte ilerle\n",
    "f.seek(-3,2) -> Dosya sonundan 3 byte geriye git"
   ]
  },
  {
   "cell_type": "code",
   "execution_count": 20,
   "id": "db4f5f88-2394-4858-9f87-a5dc79e00057",
   "metadata": {},
   "outputs": [
    {
     "name": "stdout",
     "output_type": "stream",
     "text": [
      "0\n",
      "6\n",
      "19\n"
     ]
    }
   ],
   "source": [
    "with open(\"test.txt\", \"w+\") as f:\n",
    "    f.write(\"Hello Python World!\")\n",
    "    f.seek(0)\n",
    "    print(f.tell())   \n",
    "    f.read(6)\n",
    "    print(f.tell())  \n",
    "    f.seek(0, 2) # En sona git demek\n",
    "    print(f.tell())"
   ]
  },
  {
   "cell_type": "code",
   "execution_count": null,
   "id": "dcc06d26-999e-4d3e-a1df-92cded2603a9",
   "metadata": {},
   "outputs": [],
   "source": []
  }
 ],
 "metadata": {
  "kernelspec": {
   "display_name": "Python 3 (ipykernel)",
   "language": "python",
   "name": "python3"
  },
  "language_info": {
   "codemirror_mode": {
    "name": "ipython",
    "version": 3
   },
   "file_extension": ".py",
   "mimetype": "text/x-python",
   "name": "python",
   "nbconvert_exporter": "python",
   "pygments_lexer": "ipython3",
   "version": "3.12.2"
  }
 },
 "nbformat": 4,
 "nbformat_minor": 5
}
