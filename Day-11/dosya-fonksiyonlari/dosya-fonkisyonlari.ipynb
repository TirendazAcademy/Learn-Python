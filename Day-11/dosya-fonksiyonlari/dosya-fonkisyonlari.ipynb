{
 "cells": [
  {
   "cell_type": "code",
   "execution_count": 1,
   "id": "382c834b-28fd-4b0e-8729-31ae6575f684",
   "metadata": {},
   "outputs": [
    {
     "name": "stdout",
     "output_type": "stream",
     "text": [
      "26\n"
     ]
    }
   ],
   "source": [
    "with open(\"deneme.txt\", \"w+\") as f:\n",
    "    f.write(\"Python öğrenmek eğlenceli!\")\n",
    "    print(f.tell())"
   ]
  },
  {
   "cell_type": "code",
   "execution_count": 2,
   "id": "40ac7b99-3cc0-4275-96a5-2ba720628b46",
   "metadata": {},
   "outputs": [
    {
     "name": "stdout",
     "output_type": "stream",
     "text": [
      "7\n",
      "0\n"
     ]
    }
   ],
   "source": [
    "with open(\"ornek.txt\", \"w+\") as f:\n",
    "    f.write(\"Merhaba\")\n",
    "    print(f.tell())\n",
    "    f.seek(0)\n",
    "    print(f.tell())"
   ]
  },
  {
   "cell_type": "code",
   "execution_count": 3,
   "id": "28f77d26-7bd5-4f35-91fd-c73bd74f84e5",
   "metadata": {},
   "outputs": [
    {
     "name": "stdout",
     "output_type": "stream",
     "text": [
      "1. tell(): 41\n",
      "2. tell(): 0\n",
      "Okunana satır: Python Dosya Fonksiyonları\n",
      "3. tell(): 28\n",
      "4. tell(): 41\n",
      "5. tell(): 7\n",
      "Seçilen kısım: Dosya \n"
     ]
    }
   ],
   "source": [
    "with open(\"metin.txt\", \"w+\") as f:\n",
    "    f.write(\"Python Dosya Fonksiyonları\\nEğlencelidir!\")\n",
    "    print(\"1. tell():\", f.tell())\n",
    "    f.seek(0)\n",
    "    print(\"2. tell():\", f.tell())\n",
    "    satir = f.readline()\n",
    "    print(\"Okunana satır:\", satir.strip())\n",
    "    print(\"3. tell():\", f.tell())\n",
    "    f.seek(0,2)\n",
    "    print(\"4. tell():\", f.tell())\n",
    "    f.seek(7,0)\n",
    "    print(\"5. tell():\", f.tell())\n",
    "    print(\"Seçilen kısım:\", f.read(6))"
   ]
  },
  {
   "cell_type": "code",
   "execution_count": 4,
   "id": "91237254-c32d-4353-ae3e-23f8329b0fb4",
   "metadata": {},
   "outputs": [
    {
     "name": "stdout",
     "output_type": "stream",
     "text": [
      "11\n",
      " W\n"
     ]
    }
   ],
   "source": [
    "with open(\"deneme.txt\", \"w+\") as f:\n",
    "    f.write(\"Hello World\")\n",
    "    print(f.tell())\n",
    "    f.seek(5,0)\n",
    "    print(f.read(2))"
   ]
  },
  {
   "cell_type": "code",
   "execution_count": 5,
   "id": "9fc6de60-1b08-4da7-a8ea-c4703cf4ad0b",
   "metadata": {},
   "outputs": [
    {
     "name": "stdout",
     "output_type": "stream",
     "text": [
      "CD\n"
     ]
    }
   ],
   "source": [
    "with open(\"test.txt\", \"w+\") as f:\n",
    "    f.write(\"ABCDE\")\n",
    "    f.seek(2)\n",
    "    print(f.read(2))"
   ]
  },
  {
   "cell_type": "markdown",
   "id": "81267db4-4274-44f2-aa7c-76878ebb22ac",
   "metadata": {},
   "source": [
    "# truncate()"
   ]
  },
  {
   "cell_type": "code",
   "execution_count": 6,
   "id": "0d74a25f-52c9-4e22-a280-ef431ee67f69",
   "metadata": {},
   "outputs": [
    {
     "name": "stdout",
     "output_type": "stream",
     "text": [
      "Python\n"
     ]
    }
   ],
   "source": [
    "with open(\"deneme.txt\", \"w+\") as f:\n",
    "    f.write(\"Python Dosya Fonksiyonları\")\n",
    "    f.truncate(6)\n",
    "    f.seek(0)\n",
    "    print(f.read())"
   ]
  },
  {
   "cell_type": "code",
   "execution_count": 7,
   "id": "68f6c295-3049-41fa-90eb-f2cdd5fe994c",
   "metadata": {},
   "outputs": [
    {
     "name": "stdout",
     "output_type": "stream",
     "text": [
      "Merhaba\n"
     ]
    }
   ],
   "source": [
    "with open(\"deneme2.txt\", \"w+\") as f:\n",
    "    f.write(\"Merhaba Dünya\")\n",
    "    f.seek(7)\n",
    "    f.truncate()\n",
    "    f.seek(0)\n",
    "    print(f.read())"
   ]
  },
  {
   "cell_type": "code",
   "execution_count": 8,
   "id": "ddbcde10-aa78-4c49-a37f-b25652b51869",
   "metadata": {},
   "outputs": [
    {
     "name": "stdout",
     "output_type": "stream",
     "text": [
      "ABC\n"
     ]
    }
   ],
   "source": [
    "with open(\"ornek.txt\", \"w+\") as f:\n",
    "    f.write(\"ABCDEFG\")\n",
    "    f.truncate(3)\n",
    "    f.seek(0)\n",
    "    print(f.read())"
   ]
  },
  {
   "cell_type": "markdown",
   "id": "4300d76c-71f9-4367-bbf2-5f967e2b21b1",
   "metadata": {},
   "source": [
    "# Flush()"
   ]
  },
  {
   "cell_type": "code",
   "execution_count": 9,
   "id": "07e67305-4790-45bc-846b-93494a34286f",
   "metadata": {},
   "outputs": [],
   "source": [
    "with open(\"log.txt\", \"w\") as f:\n",
    "    f.write(\"Program başladı...\\n\")\n",
    "    f.flush() "
   ]
  },
  {
   "cell_type": "code",
   "execution_count": 11,
   "id": "30aeef5b-f818-4fc7-bcdb-7b0c3842378e",
   "metadata": {},
   "outputs": [],
   "source": [
    "import time\n",
    "\n",
    "with open(\"deneme.txt\", \"w\") as f:\n",
    "    f.write(\"Merhaba\")\n",
    "    f .flush() \n",
    "    time.sleep(5) "
   ]
  },
  {
   "cell_type": "code",
   "execution_count": 13,
   "id": "35b795f3-1968-4f75-aab5-561dec9721c4",
   "metadata": {},
   "outputs": [],
   "source": [
    "with open(\"log.txt\", \"w\") as f:\n",
    "    for i in range(5):\n",
    "        f.write(f\"Adım {i}\\n\")\n",
    "        time.sleep(2)\n",
    "        f.flush()"
   ]
  },
  {
   "cell_type": "code",
   "execution_count": 14,
   "id": "25ca796a-d180-4c60-8929-a180683b6c37",
   "metadata": {},
   "outputs": [],
   "source": [
    "a = 5 # Global namespace "
   ]
  },
  {
   "cell_type": "code",
   "execution_count": 15,
   "id": "e7cf7fc9-f2b0-4a26-a218-8b676d98718d",
   "metadata": {},
   "outputs": [],
   "source": [
    "def fonksiyon():\n",
    "    x = 10 # lokal namespace\n",
    "    print(x)"
   ]
  },
  {
   "cell_type": "code",
   "execution_count": 16,
   "id": "1b49f11c-8b34-4c61-ad9a-0e50d5ac2fbb",
   "metadata": {},
   "outputs": [
    {
     "name": "stdout",
     "output_type": "stream",
     "text": [
      "10\n"
     ]
    }
   ],
   "source": [
    "fonksiyon()"
   ]
  },
  {
   "cell_type": "code",
   "execution_count": 17,
   "id": "f8dd68a6-baa3-4326-b34b-235f72e69f76",
   "metadata": {},
   "outputs": [
    {
     "ename": "NameError",
     "evalue": "name 'x' is not defined",
     "output_type": "error",
     "traceback": [
      "\u001b[31m---------------------------------------------------------------------------\u001b[39m",
      "\u001b[31mNameError\u001b[39m                                 Traceback (most recent call last)",
      "\u001b[36mCell\u001b[39m\u001b[36m \u001b[39m\u001b[32mIn[17]\u001b[39m\u001b[32m, line 1\u001b[39m\n\u001b[32m----> \u001b[39m\u001b[32m1\u001b[39m \u001b[43mx\u001b[49m\n",
      "\u001b[31mNameError\u001b[39m: name 'x' is not defined"
     ]
    }
   ],
   "source": [
    "x # "
   ]
  },
  {
   "cell_type": "code",
   "execution_count": 18,
   "id": "4acf1595-9ba5-401d-8ae0-ec2b39e4489b",
   "metadata": {},
   "outputs": [],
   "source": [
    "def fonk():\n",
    "    print(a)"
   ]
  },
  {
   "cell_type": "code",
   "execution_count": 19,
   "id": "c17ffe63-9a47-465e-a47e-300d5add7816",
   "metadata": {},
   "outputs": [
    {
     "name": "stdout",
     "output_type": "stream",
     "text": [
      "5\n"
     ]
    }
   ],
   "source": [
    "fonk()"
   ]
  },
  {
   "cell_type": "code",
   "execution_count": 20,
   "id": "50fd0fdb-4fd1-4e8c-a6d2-c361015aaa6a",
   "metadata": {},
   "outputs": [
    {
     "name": "stdout",
     "output_type": "stream",
     "text": [
      "6\n"
     ]
    }
   ],
   "source": [
    "# Built-in namespace\n",
    "print(len(\"python\"))"
   ]
  },
  {
   "cell_type": "raw",
   "id": "535b4f81-88be-4c93-89b5-d57fa2b950e1",
   "metadata": {},
   "source": [
    "LEGB \n",
    "\n",
    "L (Lokal)\n",
    "E (Enclosing)\n",
    "G (Global)\n",
    "B (Built-in)"
   ]
  },
  {
   "cell_type": "code",
   "execution_count": 21,
   "id": "04f80205-9fb2-4f03-a50b-6a4c4942d78b",
   "metadata": {},
   "outputs": [],
   "source": [
    "x = \"Global\"\n",
    "\n",
    "def dis_fonksiyon():\n",
    "    x = \"Encoding\"\n",
    "\n",
    "    def ic_fonksiyon():\n",
    "        x = \"Lokal\"\n",
    "\n",
    "        print(x)\n",
    "\n",
    "    ic_fonksiyon()"
   ]
  },
  {
   "cell_type": "code",
   "execution_count": 22,
   "id": "ed267dec-daad-43f5-b005-ea659c669a68",
   "metadata": {},
   "outputs": [
    {
     "name": "stdout",
     "output_type": "stream",
     "text": [
      "Lokal\n"
     ]
    }
   ],
   "source": [
    "dis_fonksiyon()"
   ]
  },
  {
   "cell_type": "code",
   "execution_count": null,
   "id": "20ed5c29-182d-4bea-aa95-b407386775f2",
   "metadata": {},
   "outputs": [],
   "source": []
  }
 ],
 "metadata": {
  "kernelspec": {
   "display_name": "Python 3 (ipykernel)",
   "language": "python",
   "name": "python3"
  },
  "language_info": {
   "codemirror_mode": {
    "name": "ipython",
    "version": 3
   },
   "file_extension": ".py",
   "mimetype": "text/x-python",
   "name": "python",
   "nbconvert_exporter": "python",
   "pygments_lexer": "ipython3",
   "version": "3.12.2"
  }
 },
 "nbformat": 4,
 "nbformat_minor": 5
}
