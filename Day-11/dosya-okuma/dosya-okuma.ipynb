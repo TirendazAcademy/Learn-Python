{
 "cells": [
  {
   "cell_type": "code",
   "execution_count": 1,
   "id": "686f8c17-26f9-46f3-987f-e11c9d47dbfc",
   "metadata": {},
   "outputs": [
    {
     "name": "stdout",
     "output_type": "stream",
     "text": [
      "Python Ã¶ÄŸrenmek eÄŸlenceli.\n",
      "Dosya iÅŸlemleri konusundayÄ±z.\n"
     ]
    }
   ],
   "source": [
    "with open(\"notlar.txt\", \"r\") as f:\n",
    "    icerik = f.read()\n",
    "    print(icerik)"
   ]
  },
  {
   "cell_type": "code",
   "execution_count": 2,
   "id": "857d3239-7a09-485c-8bf5-377ef90d0d90",
   "metadata": {},
   "outputs": [
    {
     "name": "stdout",
     "output_type": "stream",
     "text": [
      "Python öğrenmek eğlenceli.\n",
      "Dosya işlemleri konusundayız.\n"
     ]
    }
   ],
   "source": [
    "with open(\"notlar.txt\", \"r\", encoding=\"utf-8\") as f:\n",
    "    icerik = f.read()\n",
    "    print(icerik)"
   ]
  },
  {
   "cell_type": "code",
   "execution_count": 3,
   "id": "88e2d4e4-cc81-44cd-9013-650ab58b22f0",
   "metadata": {},
   "outputs": [
    {
     "name": "stdout",
     "output_type": "stream",
     "text": [
      "Python öğr\n"
     ]
    }
   ],
   "source": [
    "with open(\"notlar.txt\", \"r\", encoding=\"utf-8\") as f:\n",
    "    icerik = f.read(10)\n",
    "    print(icerik)"
   ]
  },
  {
   "cell_type": "code",
   "execution_count": 4,
   "id": "6cfa844c-c2b8-42c3-8514-58002f8498cc",
   "metadata": {},
   "outputs": [
    {
     "name": "stdout",
     "output_type": "stream",
     "text": [
      "Python öğrenmek eğlenceli.\n",
      "Dosya işlemleri konusundayız.\n",
      "\n"
     ]
    }
   ],
   "source": [
    "with open(\"notlar.txt\", \"r\", encoding=\"utf-8\") as f:\n",
    "    print(f.read())\n",
    "    print(f.read())"
   ]
  },
  {
   "cell_type": "code",
   "execution_count": 5,
   "id": "6aa3cd64-a2f8-4092-b1b6-745a264e87d2",
   "metadata": {},
   "outputs": [
    {
     "name": "stdout",
     "output_type": "stream",
     "text": [
      "Python öğre\n",
      "nmek eğlenceli.\n",
      "Dosya işlemleri konusundayız.\n"
     ]
    }
   ],
   "source": [
    "with open(\"notlar.txt\", \"r\", encoding=\"utf-8\") as f:\n",
    "    print(f.read(11))\n",
    "    print(f.read())"
   ]
  },
  {
   "cell_type": "code",
   "execution_count": 6,
   "id": "ab0a3138-b4a0-47a3-96c0-308d6bdf97ef",
   "metadata": {},
   "outputs": [
    {
     "name": "stdout",
     "output_type": "stream",
     "text": [
      "Python ö\n",
      "ğrenm\n"
     ]
    }
   ],
   "source": [
    "with open(\"notlar.txt\", \"r\", encoding=\"utf-8\") as f:\n",
    "    print(f.read(8))\n",
    "    print(f.read(5))"
   ]
  },
  {
   "cell_type": "raw",
   "id": "b00c4945-c812-4684-8512-078c19bb5ad9",
   "metadata": {},
   "source": [
    "Dosyadaki satırları okumak için readline metodu kullanılır."
   ]
  },
  {
   "cell_type": "code",
   "execution_count": 10,
   "id": "2e75bad2-720b-4511-b209-7c35ed9faba2",
   "metadata": {},
   "outputs": [
    {
     "name": "stdout",
     "output_type": "stream",
     "text": [
      "Birinci satır\n",
      "\n",
      "İkinci satır\n",
      "\n",
      "Üçüncü satır\n"
     ]
    }
   ],
   "source": [
    "with open(\"ornek.txt\", \"r\", encoding=\"utf-8\") as f:\n",
    "    print(f.readline())\n",
    "    print(f.readline())\n",
    "    print(f.readline())"
   ]
  },
  {
   "cell_type": "code",
   "execution_count": 11,
   "id": "b716ca6f-0354-45c7-9c68-3ad7007e4ee7",
   "metadata": {},
   "outputs": [
    {
     "name": "stdout",
     "output_type": "stream",
     "text": [
      "Birinci satır\n",
      "\n",
      "'Birinci satır\\n'\n"
     ]
    }
   ],
   "source": [
    "with open(\"ornek.txt\", \"r\", encoding=\"utf-8\") as f:\n",
    "    satir = f.readline()\n",
    "    print(satir)\n",
    "    print(repr(satir))"
   ]
  },
  {
   "cell_type": "code",
   "execution_count": 12,
   "id": "b8008124-9e7b-41e8-9f46-80a8b8f24320",
   "metadata": {},
   "outputs": [
    {
     "name": "stdout",
     "output_type": "stream",
     "text": [
      "Python\n",
      "\n"
     ]
    }
   ],
   "source": [
    "yazi = \"Python\\n\"\n",
    "print(yazi)"
   ]
  },
  {
   "cell_type": "code",
   "execution_count": 13,
   "id": "bbd7ff7c-10fa-41ca-9a12-c8e3abb60791",
   "metadata": {},
   "outputs": [
    {
     "name": "stdout",
     "output_type": "stream",
     "text": [
      "'Python\\n'\n"
     ]
    }
   ],
   "source": [
    "print(repr(yazi))"
   ]
  },
  {
   "cell_type": "code",
   "execution_count": 15,
   "id": "389517ec-aedd-4ef9-a4ed-f2109ff8f678",
   "metadata": {},
   "outputs": [
    {
     "name": "stdout",
     "output_type": "stream",
     "text": [
      "Birinci satır\n",
      "İkinci satır\n",
      "Üçüncü satır"
     ]
    }
   ],
   "source": [
    "with open(\"ornek.txt\", \"r\", encoding=\"utf-8\") as f:\n",
    "    print(f.readline(), end=\"\")\n",
    "    print(f.readline(), end=\"\")\n",
    "    print(f.readline(), end=\"\")"
   ]
  },
  {
   "cell_type": "code",
   "execution_count": 16,
   "id": "f74892c2-1c30-45c7-8a11-59ea7394e857",
   "metadata": {},
   "outputs": [
    {
     "name": "stdout",
     "output_type": "stream",
     "text": [
      "Birin\n"
     ]
    }
   ],
   "source": [
    "with open(\"ornek.txt\", \"r\", encoding=\"utf-8\") as f:\n",
    "    print(f.readline(5))"
   ]
  },
  {
   "cell_type": "code",
   "execution_count": 17,
   "id": "d419590a-ec21-4005-bc40-4be6e33303ce",
   "metadata": {},
   "outputs": [
    {
     "name": "stdout",
     "output_type": "stream",
     "text": [
      "Birin\n",
      "ci s\n"
     ]
    }
   ],
   "source": [
    "with open(\"ornek.txt\", \"r\", encoding=\"utf-8\") as f:\n",
    "    print(f.readline(5))\n",
    "    print(f.readline(4))"
   ]
  },
  {
   "cell_type": "raw",
   "id": "b4cc219f-7d37-4069-a8ae-af83bb0c3e3e",
   "metadata": {},
   "source": [
    "Birinci satır"
   ]
  },
  {
   "cell_type": "code",
   "execution_count": 18,
   "id": "cf02ebb6-2f30-442e-b80c-e53ed89b729e",
   "metadata": {},
   "outputs": [
    {
     "name": "stdout",
     "output_type": "stream",
     "text": [
      "Birin\n",
      "ci satır\n",
      "\n"
     ]
    }
   ],
   "source": [
    "with open(\"ornek.txt\", \"r\", encoding=\"utf-8\") as f:\n",
    "    print(f.readline(5))\n",
    "    print(f.readline())"
   ]
  },
  {
   "cell_type": "code",
   "execution_count": 20,
   "id": "92479947-112b-44e7-94b8-09e775090f4b",
   "metadata": {},
   "outputs": [
    {
     "name": "stdout",
     "output_type": "stream",
     "text": [
      "Birin\n",
      "ci satır\n",
      "İkinci satır\n",
      "\n"
     ]
    }
   ],
   "source": [
    "with open(\"ornek.txt\", \"r\", encoding=\"utf-8\") as f:\n",
    "    print(f.readline(5))\n",
    "    print(f.readline(), end=\"\")\n",
    "    print(f.readline())"
   ]
  },
  {
   "cell_type": "code",
   "execution_count": 21,
   "id": "5dcb083c-c33c-472b-817c-565787cc91b8",
   "metadata": {},
   "outputs": [
    {
     "name": "stdout",
     "output_type": "stream",
     "text": [
      "Birin\n",
      "İkinci satır\n",
      "\n"
     ]
    }
   ],
   "source": [
    "with open(\"ornek.txt\", \"r\", encoding=\"utf-8\") as f:\n",
    "    print(f.readline(5))\n",
    "    f.readline()\n",
    "    print(f.readline())"
   ]
  },
  {
   "cell_type": "code",
   "execution_count": 22,
   "id": "db261b42-33a2-4f8f-8567-b196f9f9bf2c",
   "metadata": {},
   "outputs": [
    {
     "name": "stdout",
     "output_type": "stream",
     "text": [
      "Birinci satÄ±r\n",
      "\n"
     ]
    }
   ],
   "source": [
    "with open(\"ornek.txt\", \"r\") as f:\n",
    "    line = f.readline()\n",
    "    print(line)"
   ]
  },
  {
   "cell_type": "code",
   "execution_count": 23,
   "id": "b4ee7639-60dd-4d6a-99a6-9bbbe4c15cfe",
   "metadata": {},
   "outputs": [
    {
     "name": "stdout",
     "output_type": "stream",
     "text": [
      "i\n"
     ]
    }
   ],
   "source": [
    "with open(\"ornek.txt\", \"r\") as f:\n",
    "    line = f.readline()\n",
    "    print(line[1])"
   ]
  },
  {
   "cell_type": "raw",
   "id": "8db2608c-ee58-43ad-83d0-d8556cb8c582",
   "metadata": {},
   "source": [
    "readlines() metoud tüm satırları liste olarak döndürür."
   ]
  },
  {
   "cell_type": "code",
   "execution_count": 24,
   "id": "34c3757d-f334-4407-80c5-2e8bf4569f91",
   "metadata": {},
   "outputs": [
    {
     "name": "stdout",
     "output_type": "stream",
     "text": [
      "['Python öğrenmek eğlenceli.\\n', 'Dosya işlemleri konusundayız.\\n', 'Bugün readlines() öğreniyoruz.']\n"
     ]
    }
   ],
   "source": [
    "with open(\"ders.txt\", \"r\", encoding=\"utf-8\") as f:\n",
    "    satirlar = f.readlines()\n",
    "    print(satirlar)"
   ]
  },
  {
   "cell_type": "code",
   "execution_count": 25,
   "id": "4ab19011-837e-44ad-ae14-1208e21dffd2",
   "metadata": {},
   "outputs": [
    {
     "name": "stdout",
     "output_type": "stream",
     "text": [
      "Pytho\n",
      "Dosya işlemleri konusundayız.\n",
      "\n"
     ]
    }
   ],
   "source": [
    "with open(\"ders.txt\", \"r\", encoding=\"utf-8\") as f:\n",
    "    print(f.readline(5))\n",
    "    satirlar = f.readlines()\n",
    "    print(satirlar[1])"
   ]
  },
  {
   "cell_type": "code",
   "execution_count": 26,
   "id": "eb0abcc8-19bb-4518-8626-ca0210e5fa6d",
   "metadata": {},
   "outputs": [
    {
     "name": "stdout",
     "output_type": "stream",
     "text": [
      "Python öğrenmek eğlenceli.\n",
      "Dosya işlemleri konusundayız.\n",
      "Bugün readlines() öğreniyoruz."
     ]
    }
   ],
   "source": [
    "with open(\"ders.txt\", \"r\", encoding=\"utf-8\") as f:\n",
    "    for satir in f:\n",
    "        print(satir, end=\"\")"
   ]
  },
  {
   "cell_type": "code",
   "execution_count": 29,
   "id": "fd0c948d-58e6-4251-a2c6-dd162a00a1de",
   "metadata": {},
   "outputs": [
    {
     "name": "stdout",
     "output_type": "stream",
     "text": [
      "1. satır: Python öğrenmek eğlenceli.\n",
      "2. satır: Dosya işlemleri konusundayız.\n",
      "3. satır: Bugün readlines() öğreniyoruz."
     ]
    }
   ],
   "source": [
    "with open(\"ders.txt\", \"r\", encoding=\"utf-8\") as f:\n",
    "    for i, satir in enumerate(f, start=1):\n",
    "        print(f\"{i}. satır: {satir}\", end=\"\")"
   ]
  },
  {
   "cell_type": "markdown",
   "id": "31abd21c-12ce-4eac-b876-6cb1d6f409fb",
   "metadata": {},
   "source": [
    "seek() -> imleçi istediğimiz yere götürür.\n",
    "\n",
    "tell() -> imleçin konumunu söyler"
   ]
  },
  {
   "cell_type": "code",
   "execution_count": 30,
   "id": "ff18a6b5-4df1-4d44-b739-f59d217c2cfa",
   "metadata": {},
   "outputs": [
    {
     "name": "stdout",
     "output_type": "stream",
     "text": [
      "0\n",
      "5\n"
     ]
    }
   ],
   "source": [
    "with open(\"ders.txt\" ,\"r\", encoding=\"utf-8\") as f:\n",
    "\n",
    "    print(f.tell())\n",
    "\n",
    "    f.read(5)\n",
    "\n",
    "    print(f.tell())"
   ]
  },
  {
   "cell_type": "code",
   "execution_count": 32,
   "id": "47a496e5-c60f-4525-a10b-062adcdfe675",
   "metadata": {},
   "outputs": [
    {
     "name": "stdout",
     "output_type": "stream",
     "text": [
      "12\n",
      "Python öğrenmek eğlenceli.\n",
      "\n",
      "30\n"
     ]
    }
   ],
   "source": [
    "with open(\"ders.txt\" ,\"r\", encoding=\"utf-8\") as f:\n",
    "\n",
    "    f.read(10)\n",
    "    print(f.tell())\n",
    "\n",
    "    f.seek(0)\n",
    "    print(f.readline())\n",
    "    print(f.tell())"
   ]
  },
  {
   "cell_type": "code",
   "execution_count": 33,
   "id": "525cfc5d-4dbf-4163-8f4d-b0fb5236de4a",
   "metadata": {},
   "outputs": [
    {
     "name": "stdout",
     "output_type": "stream",
     "text": [
      "1\n"
     ]
    }
   ],
   "source": [
    "print(len(\"a\".encode(\"utf-8\"))) "
   ]
  },
  {
   "cell_type": "code",
   "execution_count": 34,
   "id": "3a8e3591-71a2-470e-a970-924695932db2",
   "metadata": {},
   "outputs": [
    {
     "name": "stdout",
     "output_type": "stream",
     "text": [
      "2\n"
     ]
    }
   ],
   "source": [
    "print(len(\"ş\".encode(\"utf-8\"))) "
   ]
  },
  {
   "cell_type": "code",
   "execution_count": 35,
   "id": "298fb8b3-4cdd-41be-bfb8-8ea21d0a95d1",
   "metadata": {},
   "outputs": [
    {
     "name": "stdout",
     "output_type": "stream",
     "text": [
      "4\n"
     ]
    }
   ],
   "source": [
    "print(len(\"😊\".encode(\"utf-8\"))) "
   ]
  },
  {
   "cell_type": "code",
   "execution_count": 36,
   "id": "c38df643-1007-4d53-9cc2-cd65919ea2c4",
   "metadata": {},
   "outputs": [
    {
     "ename": "FileNotFoundError",
     "evalue": "[Errno 2] No such file or directory: 'veri.txt'",
     "output_type": "error",
     "traceback": [
      "\u001b[31m---------------------------------------------------------------------------\u001b[39m",
      "\u001b[31mFileNotFoundError\u001b[39m                         Traceback (most recent call last)",
      "\u001b[36mCell\u001b[39m\u001b[36m \u001b[39m\u001b[32mIn[36]\u001b[39m\u001b[32m, line 1\u001b[39m\n\u001b[32m----> \u001b[39m\u001b[32m1\u001b[39m \u001b[38;5;28;01mwith\u001b[39;00m \u001b[38;5;28;43mopen\u001b[39;49m\u001b[43m(\u001b[49m\u001b[33;43m\"\u001b[39;49m\u001b[33;43mveri.txt\u001b[39;49m\u001b[33;43m\"\u001b[39;49m\u001b[43m,\u001b[49m\u001b[43m \u001b[49m\u001b[33;43m\"\u001b[39;49m\u001b[33;43mr\u001b[39;49m\u001b[33;43m\"\u001b[39;49m\u001b[43m,\u001b[49m\u001b[43m \u001b[49m\u001b[43mencoding\u001b[49m\u001b[43m=\u001b[49m\u001b[33;43m\"\u001b[39;49m\u001b[33;43mutf-8\u001b[39;49m\u001b[33;43m\"\u001b[39;49m\u001b[43m)\u001b[49m \u001b[38;5;28;01mas\u001b[39;00m f:\n\u001b[32m      2\u001b[39m     \u001b[38;5;28mprint\u001b[39m(f.read())\n",
      "\u001b[36mFile \u001b[39m\u001b[32m~\\AppData\\Local\\Programs\\Python\\Python312\\Lib\\site-packages\\IPython\\core\\interactiveshell.py:327\u001b[39m, in \u001b[36m_modified_open\u001b[39m\u001b[34m(file, *args, **kwargs)\u001b[39m\n\u001b[32m    320\u001b[39m \u001b[38;5;28;01mif\u001b[39;00m file \u001b[38;5;129;01min\u001b[39;00m {\u001b[32m0\u001b[39m, \u001b[32m1\u001b[39m, \u001b[32m2\u001b[39m}:\n\u001b[32m    321\u001b[39m     \u001b[38;5;28;01mraise\u001b[39;00m \u001b[38;5;167;01mValueError\u001b[39;00m(\n\u001b[32m    322\u001b[39m         \u001b[33mf\u001b[39m\u001b[33m\"\u001b[39m\u001b[33mIPython won\u001b[39m\u001b[33m'\u001b[39m\u001b[33mt let you open fd=\u001b[39m\u001b[38;5;132;01m{\u001b[39;00mfile\u001b[38;5;132;01m}\u001b[39;00m\u001b[33m by default \u001b[39m\u001b[33m\"\u001b[39m\n\u001b[32m    323\u001b[39m         \u001b[33m\"\u001b[39m\u001b[33mas it is likely to crash IPython. If you know what you are doing, \u001b[39m\u001b[33m\"\u001b[39m\n\u001b[32m    324\u001b[39m         \u001b[33m\"\u001b[39m\u001b[33myou can use builtins\u001b[39m\u001b[33m'\u001b[39m\u001b[33m open.\u001b[39m\u001b[33m\"\u001b[39m\n\u001b[32m    325\u001b[39m     )\n\u001b[32m--> \u001b[39m\u001b[32m327\u001b[39m \u001b[38;5;28;01mreturn\u001b[39;00m \u001b[43mio_open\u001b[49m\u001b[43m(\u001b[49m\u001b[43mfile\u001b[49m\u001b[43m,\u001b[49m\u001b[43m \u001b[49m\u001b[43m*\u001b[49m\u001b[43margs\u001b[49m\u001b[43m,\u001b[49m\u001b[43m \u001b[49m\u001b[43m*\u001b[49m\u001b[43m*\u001b[49m\u001b[43mkwargs\u001b[49m\u001b[43m)\u001b[49m\n",
      "\u001b[31mFileNotFoundError\u001b[39m: [Errno 2] No such file or directory: 'veri.txt'"
     ]
    }
   ],
   "source": [
    "with open(\"veri.txt\", \"r\", encoding=\"utf-8\") as f:\n",
    "    print(f.read())"
   ]
  },
  {
   "cell_type": "code",
   "execution_count": 38,
   "id": "a400e54d-de1e-4f15-a7b8-c6edc1e85894",
   "metadata": {},
   "outputs": [
    {
     "name": "stdout",
     "output_type": "stream",
     "text": [
      "Dosya bulunamadı! Lütfen dosya adını kontrol edin\n"
     ]
    }
   ],
   "source": [
    "try:\n",
    "    with open(\"veri.txt\", \"r\", encoding=\"utf-8\") as f:\n",
    "        print(f.read())\n",
    "except FileNotFoundError:\n",
    "    print(\"Dosya bulunamadı! Lütfen dosya adını kontrol edin\")"
   ]
  },
  {
   "cell_type": "code",
   "execution_count": 39,
   "id": "6debf34f-0aad-424e-a93e-2bb91de22fd4",
   "metadata": {},
   "outputs": [
    {
     "name": "stdout",
     "output_type": "stream",
     "text": [
      "Dosya yok, yeni dosya oluşturuluyor...\n",
      "30\n"
     ]
    }
   ],
   "source": [
    "try:\n",
    "    with open(\"veri.txt\", \"r\", encoding=\"utf-8\") as f:\n",
    "        print(f.read())\n",
    "except FileNotFoundError:\n",
    "    print(\"Dosya yok, yeni dosya oluşturuluyor...\")\n",
    "    \n",
    "    with open(\"veri.txt\", \"w\", encoding=\"utf-8\") as f:\n",
    "        print(f.write(\"Bu dosya otomatik oluşturuldu!\"))   "
   ]
  },
  {
   "cell_type": "code",
   "execution_count": null,
   "id": "8ede1373-a132-4bd6-bbba-74aae4d2064d",
   "metadata": {},
   "outputs": [],
   "source": []
  }
 ],
 "metadata": {
  "kernelspec": {
   "display_name": "Python 3 (ipykernel)",
   "language": "python",
   "name": "python3"
  },
  "language_info": {
   "codemirror_mode": {
    "name": "ipython",
    "version": 3
   },
   "file_extension": ".py",
   "mimetype": "text/x-python",
   "name": "python",
   "nbconvert_exporter": "python",
   "pygments_lexer": "ipython3",
   "version": "3.12.2"
  }
 },
 "nbformat": 4,
 "nbformat_minor": 5
}
