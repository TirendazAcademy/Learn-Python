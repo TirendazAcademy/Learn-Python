{
 "cells": [
  {
   "cell_type": "markdown",
   "id": "039b1150-0c0c-4f6c-af24-561906ac7701",
   "metadata": {},
   "source": [
    "# Read Modu"
   ]
  },
  {
   "cell_type": "code",
   "execution_count": 5,
   "id": "9d168033-a9c9-488a-8cdd-3915222d99bd",
   "metadata": {},
   "outputs": [],
   "source": [
    "dosya = open(\"deneme.txt\",\"r\")"
   ]
  },
  {
   "cell_type": "code",
   "execution_count": 6,
   "id": "0aaa0fc2-7df2-452e-97b6-c6dd7f625da0",
   "metadata": {},
   "outputs": [
    {
     "name": "stdout",
     "output_type": "stream",
     "text": [
      "Merhaba Pythonistan\n"
     ]
    }
   ],
   "source": [
    "print(dosya.read())"
   ]
  },
  {
   "cell_type": "code",
   "execution_count": 7,
   "id": "78bfe2c1-498b-4255-b057-0c859b3255d9",
   "metadata": {},
   "outputs": [
    {
     "data": {
      "text/plain": [
       "False"
      ]
     },
     "execution_count": 7,
     "metadata": {},
     "output_type": "execute_result"
    }
   ],
   "source": [
    "dosya.closed"
   ]
  },
  {
   "cell_type": "code",
   "execution_count": 8,
   "id": "dd724faa-9fc6-4742-b88a-2e1b071db559",
   "metadata": {},
   "outputs": [],
   "source": [
    "dosya.close()"
   ]
  },
  {
   "cell_type": "code",
   "execution_count": 9,
   "id": "99da35bb-61bd-43ec-8d16-a9fb87a3e30c",
   "metadata": {},
   "outputs": [
    {
     "data": {
      "text/plain": [
       "True"
      ]
     },
     "execution_count": 9,
     "metadata": {},
     "output_type": "execute_result"
    }
   ],
   "source": [
    "dosya.closed"
   ]
  },
  {
   "cell_type": "code",
   "execution_count": 10,
   "id": "23ba609a-7d75-463b-8c39-0063fb880afd",
   "metadata": {},
   "outputs": [
    {
     "name": "stdout",
     "output_type": "stream",
     "text": [
      "Merhaba Pythonistan\n"
     ]
    }
   ],
   "source": [
    "with open(\"deneme.txt\",\"r\") as f:\n",
    "    icerik = f.read()\n",
    "    print(icerik)"
   ]
  },
  {
   "cell_type": "code",
   "execution_count": 11,
   "id": "ffaddcbe-39e9-4d75-bd04-695710a86358",
   "metadata": {},
   "outputs": [
    {
     "data": {
      "text/plain": [
       "True"
      ]
     },
     "execution_count": 11,
     "metadata": {},
     "output_type": "execute_result"
    }
   ],
   "source": [
    "f.closed"
   ]
  },
  {
   "cell_type": "markdown",
   "id": "89c9896e-22b4-4dff-a64c-fc15304d4e32",
   "metadata": {},
   "source": [
    "# Write Modu"
   ]
  },
  {
   "cell_type": "code",
   "execution_count": 12,
   "id": "0b68c2c3-3679-4e91-9e82-c869a688fbab",
   "metadata": {},
   "outputs": [],
   "source": [
    "with open(\"ornek.txt\", \"w\") as f: \n",
    "    f.write(\"Merhaba Python Dünyası!\")"
   ]
  },
  {
   "cell_type": "code",
   "execution_count": 13,
   "id": "ef666529-bba3-49a3-9fdd-0225c9b5e6df",
   "metadata": {},
   "outputs": [
    {
     "name": "stdout",
     "output_type": "stream",
     "text": [
      "Merhaba Python Dünyası!\n"
     ]
    }
   ],
   "source": [
    "with open(\"ornek.txt\", \"r\") as f:\n",
    "    print(f.read())"
   ]
  },
  {
   "cell_type": "code",
   "execution_count": 14,
   "id": "2eb24dde-89e5-4848-ab36-994483733553",
   "metadata": {},
   "outputs": [],
   "source": [
    "with open(\"ornek.txt\", \"w\") as f: \n",
    "    f.write(\"Merhaba C Dünyası!\")"
   ]
  },
  {
   "cell_type": "code",
   "execution_count": 15,
   "id": "da6dede0-047f-4d0d-a46f-82c5c344c15f",
   "metadata": {},
   "outputs": [
    {
     "name": "stdout",
     "output_type": "stream",
     "text": [
      "Merhaba C Dünyası!\n"
     ]
    }
   ],
   "source": [
    "with open(\"ornek.txt\", \"r\") as f:\n",
    "    print(f.read())"
   ]
  },
  {
   "cell_type": "markdown",
   "id": "24d777f2-2cc3-4555-bdb8-30517b44501b",
   "metadata": {},
   "source": [
    "# Append Modu"
   ]
  },
  {
   "cell_type": "code",
   "execution_count": 18,
   "id": "5c24c010-6ac5-4496-98de-9fd0eafb965b",
   "metadata": {},
   "outputs": [],
   "source": [
    "with open(\"ornek.txt\", \"w\") as f: \n",
    "    f.write(\"Merhaba Python Dünyası!\")"
   ]
  },
  {
   "cell_type": "code",
   "execution_count": 19,
   "id": "d104f4d4-c967-4237-94d9-9a9880fe5fd1",
   "metadata": {},
   "outputs": [],
   "source": [
    "with open(\"ornek.txt\", \"a\") as f:\n",
    "    f.write(\"Hepiniz hoşgeldiniz.\")"
   ]
  },
  {
   "cell_type": "code",
   "execution_count": 20,
   "id": "7e676a39-2f1b-433c-b00d-99d59ddd6c89",
   "metadata": {},
   "outputs": [
    {
     "name": "stdout",
     "output_type": "stream",
     "text": [
      "Merhaba Python Dünyası!Hepiniz hoşgeldiniz.\n"
     ]
    }
   ],
   "source": [
    "with open(\"ornek.txt\", \"r\") as f:\n",
    "    print(f.read())"
   ]
  },
  {
   "cell_type": "code",
   "execution_count": 21,
   "id": "cc903065-7fef-4cd5-ab39-e06f7125bb5a",
   "metadata": {},
   "outputs": [],
   "source": [
    "with open(\"ekleme.txt\", \"a\") as f:\n",
    "    f.write(\"Python Candır!\")"
   ]
  },
  {
   "cell_type": "code",
   "execution_count": 22,
   "id": "6505ee0a-e125-4a19-b02b-499c7d612dc6",
   "metadata": {},
   "outputs": [
    {
     "name": "stdout",
     "output_type": "stream",
     "text": [
      "Python Candır!\n"
     ]
    }
   ],
   "source": [
    "with open(\"ekleme.txt\", \"r\") as f:\n",
    "    print(f.read())"
   ]
  },
  {
   "cell_type": "code",
   "execution_count": 23,
   "id": "3f5cd6d5-157d-4167-8dd9-a1af9bf65500",
   "metadata": {},
   "outputs": [],
   "source": [
    "with open(\"ekleme.txt\", \"a\") as f:\n",
    "    f.write(\"\\nGerisi heyecandır.\")"
   ]
  },
  {
   "cell_type": "code",
   "execution_count": 24,
   "id": "a2859aba-ef8f-4bf0-b8d5-14bdb1406849",
   "metadata": {},
   "outputs": [
    {
     "name": "stdout",
     "output_type": "stream",
     "text": [
      "Python Candır!\n",
      "Gerisi heyecandır.\n"
     ]
    }
   ],
   "source": [
    "with open(\"ekleme.txt\", \"r\") as f:\n",
    "    print(f.read())"
   ]
  },
  {
   "cell_type": "code",
   "execution_count": 25,
   "id": "d5be4b3a-e980-4b5a-bfbf-7e208a9d8263",
   "metadata": {},
   "outputs": [],
   "source": [
    "with open(\"ekleme.txt\", \"w\") as f:\n",
    "    f.write(\"Python Candır!\\n\")"
   ]
  },
  {
   "cell_type": "code",
   "execution_count": 26,
   "id": "2c9dee5a-79b9-4d6e-8cdb-615b4d2042bd",
   "metadata": {},
   "outputs": [
    {
     "name": "stdout",
     "output_type": "stream",
     "text": [
      "Python Candır!\n",
      "\n"
     ]
    }
   ],
   "source": [
    "with open(\"ekleme.txt\", \"r\") as f:\n",
    "    print(f.read())"
   ]
  },
  {
   "cell_type": "code",
   "execution_count": 27,
   "id": "6c949635-d2d5-4713-a286-707c3b71e08f",
   "metadata": {},
   "outputs": [],
   "source": [
    "with open(\"ekleme.txt\", \"a\") as f:\n",
    "    f.write(\"Gerisi heyecandır.\")"
   ]
  },
  {
   "cell_type": "code",
   "execution_count": 28,
   "id": "41e61af4-26c7-4c7d-8e67-429b05c27197",
   "metadata": {},
   "outputs": [
    {
     "name": "stdout",
     "output_type": "stream",
     "text": [
      "Python Candır!\n",
      "Gerisi heyecandır.\n"
     ]
    }
   ],
   "source": [
    "with open(\"ekleme.txt\", \"r\") as f:\n",
    "    print(f.read())"
   ]
  },
  {
   "cell_type": "code",
   "execution_count": 33,
   "id": "163509c1-ce4a-494f-bfec-074f4df72427",
   "metadata": {},
   "outputs": [
    {
     "name": "stdin",
     "output_type": "stream",
     "text": [
      "Alışveriş listene ne eklemek istersin? elma\n"
     ]
    }
   ],
   "source": [
    "with open(\"alisveris.txt\", \"a\") as f:\n",
    "    urun = input(\"Alışveriş listene ne eklemek istersin?\")\n",
    "    f.write(urun + \"\\n\")"
   ]
  },
  {
   "cell_type": "code",
   "execution_count": 34,
   "id": "61898dc5-8479-4d11-8b67-87d953806c38",
   "metadata": {},
   "outputs": [
    {
     "name": "stdout",
     "output_type": "stream",
     "text": [
      "elma\n",
      "\n"
     ]
    }
   ],
   "source": [
    "with open(\"alisveris.txt\", \"r\") as f:\n",
    "    print(f.read())"
   ]
  },
  {
   "cell_type": "code",
   "execution_count": 35,
   "id": "d94997ed-16a1-4426-bb91-2d3f7883f132",
   "metadata": {},
   "outputs": [
    {
     "name": "stdin",
     "output_type": "stream",
     "text": [
      "Alışveriş listene ne eklemek istersin? kavun\n"
     ]
    }
   ],
   "source": [
    "with open(\"alisveris.txt\", \"a\") as f:\n",
    "    urun = input(\"Alışveriş listene ne eklemek istersin?\")\n",
    "    f.write(urun + \"\\n\")"
   ]
  },
  {
   "cell_type": "code",
   "execution_count": 36,
   "id": "b69a7535-b2ac-4302-80da-7a716b346f35",
   "metadata": {},
   "outputs": [
    {
     "name": "stdout",
     "output_type": "stream",
     "text": [
      "elma\n",
      "kavun\n",
      "\n"
     ]
    }
   ],
   "source": [
    "with open(\"alisveris.txt\", \"r\") as f:\n",
    "    print(f.read())"
   ]
  },
  {
   "cell_type": "code",
   "execution_count": 37,
   "id": "889092dd-1668-4c86-b37d-6697a6becedf",
   "metadata": {},
   "outputs": [
    {
     "name": "stdin",
     "output_type": "stream",
     "text": [
      "Alışveriş listene ne eklemek istersin? süt\n"
     ]
    }
   ],
   "source": [
    "with open(\"alisveris.txt\", \"a\") as f:\n",
    "    urun = input(\"Alışveriş listene ne eklemek istersin?\")\n",
    "    f.write(urun + \"\\n\")"
   ]
  },
  {
   "cell_type": "code",
   "execution_count": 38,
   "id": "4f31bc0b-6f85-4ea9-8878-a731999aa81a",
   "metadata": {},
   "outputs": [
    {
     "name": "stdout",
     "output_type": "stream",
     "text": [
      "elma\n",
      "kavun\n",
      "süt\n",
      "\n"
     ]
    }
   ],
   "source": [
    "with open(\"alisveris.txt\", \"r\") as f:\n",
    "    print(f.read())"
   ]
  },
  {
   "cell_type": "code",
   "execution_count": 39,
   "id": "5a3f6588-bc65-4427-909a-5398823c70b7",
   "metadata": {},
   "outputs": [
    {
     "name": "stdin",
     "output_type": "stream",
     "text": [
      "Alışveriş listeni gir(virgül ile ayır) elma, armut, kavun, süt\n"
     ]
    }
   ],
   "source": [
    "liste = input(\"Alışveriş listeni gir(virgül ile ayır)\")\n",
    "\n",
    "with open(\"listem.txt\", \"a\") as f:\n",
    "    for urun in liste.split(\",\"):\n",
    "        f.write(urun.strip() + \"\\n\")"
   ]
  },
  {
   "cell_type": "code",
   "execution_count": 40,
   "id": "1361fe66-5c8a-4e18-9617-510db783d57d",
   "metadata": {},
   "outputs": [
    {
     "name": "stdout",
     "output_type": "stream",
     "text": [
      "elma\n",
      "armut\n",
      "kavun\n",
      "süt\n",
      "\n"
     ]
    }
   ],
   "source": [
    "with open(\"listem.txt\", \"r\") as f:\n",
    "    print(f.read())"
   ]
  },
  {
   "cell_type": "markdown",
   "id": "1303f936-a932-450a-be40-06cfce3c8426",
   "metadata": {},
   "source": [
    "# X Modu"
   ]
  },
  {
   "cell_type": "raw",
   "id": "7fbd389c-780d-44c6-8c73-192e0b29e85c",
   "metadata": {},
   "source": [
    "\"x\" modunu yeni dosya açmak için kullanırız."
   ]
  },
  {
   "cell_type": "code",
   "execution_count": 44,
   "id": "78c88ddd-4b0f-4976-8944-0977501a7d4f",
   "metadata": {},
   "outputs": [],
   "source": [
    "with open(\"yeni_dosya.txt\", \"x\") as f:\n",
    "    f.write(\"Bu dosya ilk defa oluşturuldu!\")"
   ]
  },
  {
   "cell_type": "code",
   "execution_count": null,
   "id": "85f4a7b3-f37e-4c50-b084-037526213695",
   "metadata": {},
   "outputs": [],
   "source": [
    "with open(\"yeni_dosya.txt\", \"r\") as f:\n",
    "    print(f.read())"
   ]
  },
  {
   "cell_type": "code",
   "execution_count": 46,
   "id": "d608dcf1-6d34-4459-bd16-fe891d6ae2f8",
   "metadata": {},
   "outputs": [
    {
     "ename": "FileExistsError",
     "evalue": "[Errno 17] File exists: 'yeni_dosya.txt'",
     "output_type": "error",
     "traceback": [
      "\u001b[31m---------------------------------------------------------------------------\u001b[39m",
      "\u001b[31mFileExistsError\u001b[39m                           Traceback (most recent call last)",
      "\u001b[36mCell\u001b[39m\u001b[36m \u001b[39m\u001b[32mIn[46]\u001b[39m\u001b[32m, line 1\u001b[39m\n\u001b[32m----> \u001b[39m\u001b[32m1\u001b[39m \u001b[38;5;28;01mwith\u001b[39;00m \u001b[38;5;28;43mopen\u001b[39;49m\u001b[43m(\u001b[49m\u001b[33;43m\"\u001b[39;49m\u001b[33;43myeni_dosya.txt\u001b[39;49m\u001b[33;43m\"\u001b[39;49m\u001b[43m,\u001b[49m\u001b[43m \u001b[49m\u001b[33;43m\"\u001b[39;49m\u001b[33;43mx\u001b[39;49m\u001b[33;43m\"\u001b[39;49m\u001b[43m)\u001b[49m \u001b[38;5;28;01mas\u001b[39;00m f:\n\u001b[32m      2\u001b[39m     f.write(\u001b[33m\"\u001b[39m\u001b[33mBu dosya ikinci defa oluşturuldu!\u001b[39m\u001b[33m\"\u001b[39m)\n",
      "\u001b[36mFile \u001b[39m\u001b[32m~\\AppData\\Local\\Programs\\Python\\Python312\\Lib\\site-packages\\IPython\\core\\interactiveshell.py:327\u001b[39m, in \u001b[36m_modified_open\u001b[39m\u001b[34m(file, *args, **kwargs)\u001b[39m\n\u001b[32m    320\u001b[39m \u001b[38;5;28;01mif\u001b[39;00m file \u001b[38;5;129;01min\u001b[39;00m {\u001b[32m0\u001b[39m, \u001b[32m1\u001b[39m, \u001b[32m2\u001b[39m}:\n\u001b[32m    321\u001b[39m     \u001b[38;5;28;01mraise\u001b[39;00m \u001b[38;5;167;01mValueError\u001b[39;00m(\n\u001b[32m    322\u001b[39m         \u001b[33mf\u001b[39m\u001b[33m\"\u001b[39m\u001b[33mIPython won\u001b[39m\u001b[33m'\u001b[39m\u001b[33mt let you open fd=\u001b[39m\u001b[38;5;132;01m{\u001b[39;00mfile\u001b[38;5;132;01m}\u001b[39;00m\u001b[33m by default \u001b[39m\u001b[33m\"\u001b[39m\n\u001b[32m    323\u001b[39m         \u001b[33m\"\u001b[39m\u001b[33mas it is likely to crash IPython. If you know what you are doing, \u001b[39m\u001b[33m\"\u001b[39m\n\u001b[32m    324\u001b[39m         \u001b[33m\"\u001b[39m\u001b[33myou can use builtins\u001b[39m\u001b[33m'\u001b[39m\u001b[33m open.\u001b[39m\u001b[33m\"\u001b[39m\n\u001b[32m    325\u001b[39m     )\n\u001b[32m--> \u001b[39m\u001b[32m327\u001b[39m \u001b[38;5;28;01mreturn\u001b[39;00m \u001b[43mio_open\u001b[49m\u001b[43m(\u001b[49m\u001b[43mfile\u001b[49m\u001b[43m,\u001b[49m\u001b[43m \u001b[49m\u001b[43m*\u001b[49m\u001b[43margs\u001b[49m\u001b[43m,\u001b[49m\u001b[43m \u001b[49m\u001b[43m*\u001b[49m\u001b[43m*\u001b[49m\u001b[43mkwargs\u001b[49m\u001b[43m)\u001b[49m\n",
      "\u001b[31mFileExistsError\u001b[39m: [Errno 17] File exists: 'yeni_dosya.txt'"
     ]
    }
   ],
   "source": [
    "with open(\"yeni_dosya.txt\", \"x\") as f:\n",
    "    f.write(\"Bu dosya ikinci defa oluşturuldu!\")"
   ]
  },
  {
   "cell_type": "markdown",
   "id": "108649d7-d3a1-4673-b44f-d8ee3a612105",
   "metadata": {},
   "source": [
    "# Read Binary (rb) Modu"
   ]
  },
  {
   "cell_type": "markdown",
   "id": "59bff003-825d-45c3-ab50-d4162cb67f9a",
   "metadata": {},
   "source": [
    "with open(\"resim.png\", \"rb\") as f:\n",
    "    data = f.read()\n",
    "    print(type(data))\n",
    "    print(len(data))"
   ]
  },
  {
   "cell_type": "markdown",
   "id": "903609d6-42a1-4e5f-9b21-299aa145e267",
   "metadata": {},
   "source": [
    "# \"wb\" Modu"
   ]
  },
  {
   "cell_type": "code",
   "execution_count": 51,
   "id": "a992e23f-ca06-443a-9661-e1fe74816b89",
   "metadata": {},
   "outputs": [],
   "source": [
    "s = \"Merhaba Python!\""
   ]
  },
  {
   "cell_type": "code",
   "execution_count": 52,
   "id": "b9cd997c-d623-4f6e-9402-ed4495f17637",
   "metadata": {},
   "outputs": [
    {
     "data": {
      "text/plain": [
       "str"
      ]
     },
     "execution_count": 52,
     "metadata": {},
     "output_type": "execute_result"
    }
   ],
   "source": [
    "type(s)"
   ]
  },
  {
   "cell_type": "code",
   "execution_count": 49,
   "id": "063db518-a064-4cb1-9ba1-dd4365a8643b",
   "metadata": {},
   "outputs": [],
   "source": [
    "veri = b\"Merhaba Python!\""
   ]
  },
  {
   "cell_type": "code",
   "execution_count": 50,
   "id": "3325653f-ae18-48c3-a742-fca969251a93",
   "metadata": {},
   "outputs": [
    {
     "data": {
      "text/plain": [
       "bytes"
      ]
     },
     "execution_count": 50,
     "metadata": {},
     "output_type": "execute_result"
    }
   ],
   "source": [
    "type(veri)"
   ]
  },
  {
   "cell_type": "code",
   "execution_count": 53,
   "id": "4ee7714a-49d2-437f-b09a-cf0480b11cdd",
   "metadata": {},
   "outputs": [
    {
     "data": {
      "text/plain": [
       "[77, 101, 114, 104, 97, 98, 97, 32, 80, 121, 116, 104, 111, 110, 33]"
      ]
     },
     "execution_count": 53,
     "metadata": {},
     "output_type": "execute_result"
    }
   ],
   "source": [
    "list(veri)"
   ]
  },
  {
   "cell_type": "code",
   "execution_count": 54,
   "id": "b3a9aaea-951f-4a3b-8161-b01c5e1029be",
   "metadata": {},
   "outputs": [
    {
     "name": "stdout",
     "output_type": "stream",
     "text": [
      "0b1001101\n",
      "0b1100101\n",
      "0b1110010\n",
      "0b1101000\n",
      "0b1100001\n",
      "0b1100010\n",
      "0b1100001\n",
      "0b100000\n",
      "0b1010000\n",
      "0b1111001\n",
      "0b1110100\n",
      "0b1101000\n",
      "0b1101111\n",
      "0b1101110\n",
      "0b100001\n"
     ]
    }
   ],
   "source": [
    "for b in veri:\n",
    "    print(bin(b))"
   ]
  },
  {
   "cell_type": "code",
   "execution_count": 55,
   "id": "263c57e8-32b0-4277-ab01-43305cdb4706",
   "metadata": {},
   "outputs": [],
   "source": [
    "with open(\"deneme.bin\", \"wb\") as f:\n",
    "    f.write(veri)"
   ]
  },
  {
   "cell_type": "code",
   "execution_count": 56,
   "id": "19657ff5-9460-4542-8644-37c69bd7f57b",
   "metadata": {},
   "outputs": [
    {
     "name": "stdout",
     "output_type": "stream",
     "text": [
      "Merhaba Python!\n"
     ]
    }
   ],
   "source": [
    "with open(\"deneme.bin\", \"r\") as f:\n",
    "    print(f.read())"
   ]
  },
  {
   "cell_type": "code",
   "execution_count": null,
   "id": "2a88a27b-34c1-487a-a095-8512b260241d",
   "metadata": {},
   "outputs": [],
   "source": []
  }
 ],
 "metadata": {
  "kernelspec": {
   "display_name": "Python 3 (ipykernel)",
   "language": "python",
   "name": "python3"
  },
  "language_info": {
   "codemirror_mode": {
    "name": "ipython",
    "version": 3
   },
   "file_extension": ".py",
   "mimetype": "text/x-python",
   "name": "python",
   "nbconvert_exporter": "python",
   "pygments_lexer": "ipython3",
   "version": "3.12.2"
  }
 },
 "nbformat": 4,
 "nbformat_minor": 5
}
