{
 "cells": [
  {
   "cell_type": "markdown",
   "id": "a7247eed-45eb-4737-9556-e1656b74f31e",
   "metadata": {},
   "source": [
    "# Math Module"
   ]
  },
  {
   "cell_type": "code",
   "execution_count": 1,
   "id": "73db17a5-9dbb-49c7-89f8-7b8ae31d320d",
   "metadata": {},
   "outputs": [],
   "source": [
    "import math"
   ]
  },
  {
   "cell_type": "code",
   "execution_count": 2,
   "id": "008bf846-ed3e-4917-9e8c-79f94b99f8fc",
   "metadata": {},
   "outputs": [
    {
     "data": {
      "text/plain": [
       "3.141592653589793"
      ]
     },
     "execution_count": 2,
     "metadata": {},
     "output_type": "execute_result"
    }
   ],
   "source": [
    "math.pi"
   ]
  },
  {
   "cell_type": "code",
   "execution_count": 3,
   "id": "13222fd1-8af7-4794-86a8-e727974f1191",
   "metadata": {},
   "outputs": [
    {
     "name": "stdout",
     "output_type": "stream",
     "text": [
      "18.84955592153876\n"
     ]
    }
   ],
   "source": [
    "r = 3\n",
    "cevre = 2 * math.pi * r\n",
    "print(cevre)"
   ]
  },
  {
   "cell_type": "code",
   "execution_count": 4,
   "id": "3ab5493b-35ae-451d-a0f5-ce609232ca27",
   "metadata": {},
   "outputs": [
    {
     "data": {
      "text/plain": [
       "2.718281828459045"
      ]
     },
     "execution_count": 4,
     "metadata": {},
     "output_type": "execute_result"
    }
   ],
   "source": [
    "math.e"
   ]
  },
  {
   "cell_type": "code",
   "execution_count": 5,
   "id": "daedf8d2-409a-4da5-829a-3ffd7139ba7c",
   "metadata": {},
   "outputs": [
    {
     "data": {
      "text/plain": [
       "inf"
      ]
     },
     "execution_count": 5,
     "metadata": {},
     "output_type": "execute_result"
    }
   ],
   "source": [
    "math.inf"
   ]
  },
  {
   "cell_type": "code",
   "execution_count": 6,
   "id": "c257b949-f842-45e6-a357-442e879c7229",
   "metadata": {},
   "outputs": [
    {
     "data": {
      "text/plain": [
       "-inf"
      ]
     },
     "execution_count": 6,
     "metadata": {},
     "output_type": "execute_result"
    }
   ],
   "source": [
    "-math.inf"
   ]
  },
  {
   "cell_type": "code",
   "execution_count": 7,
   "id": "183a18a1-1539-4ea3-b8c6-38de71cd92a7",
   "metadata": {},
   "outputs": [
    {
     "data": {
      "text/plain": [
       "True"
      ]
     },
     "execution_count": 7,
     "metadata": {},
     "output_type": "execute_result"
    }
   ],
   "source": [
    "math.inf > 1e308"
   ]
  },
  {
   "cell_type": "code",
   "execution_count": 9,
   "id": "28979dcd-b820-4ada-a02e-5dd1fc3c704a",
   "metadata": {},
   "outputs": [
    {
     "data": {
      "text/plain": [
       "True"
      ]
     },
     "execution_count": 9,
     "metadata": {},
     "output_type": "execute_result"
    }
   ],
   "source": [
    "-math.inf < -1e308"
   ]
  },
  {
   "cell_type": "code",
   "execution_count": 10,
   "id": "36811d2d-f517-4099-8c8f-302bb05a0bc4",
   "metadata": {},
   "outputs": [
    {
     "data": {
      "text/plain": [
       "inf"
      ]
     },
     "execution_count": 10,
     "metadata": {},
     "output_type": "execute_result"
    }
   ],
   "source": [
    "math.inf + 1000"
   ]
  },
  {
   "cell_type": "code",
   "execution_count": 11,
   "id": "bc3218f9-c65e-4837-a611-a625f75f9d10",
   "metadata": {},
   "outputs": [
    {
     "data": {
      "text/plain": [
       "inf"
      ]
     },
     "execution_count": 11,
     "metadata": {},
     "output_type": "execute_result"
    }
   ],
   "source": [
    "math.inf /2 "
   ]
  },
  {
   "cell_type": "markdown",
   "id": "a712206e-a02f-4be1-a89c-6c46c5f2f816",
   "metadata": {},
   "source": [
    "# Not a Number"
   ]
  },
  {
   "cell_type": "code",
   "execution_count": 12,
   "id": "73d21d64-2c95-4561-9a78-0f66196fd500",
   "metadata": {},
   "outputs": [
    {
     "data": {
      "text/plain": [
       "nan"
      ]
     },
     "execution_count": 12,
     "metadata": {},
     "output_type": "execute_result"
    }
   ],
   "source": [
    "math.nan"
   ]
  },
  {
   "cell_type": "code",
   "execution_count": 13,
   "id": "b0b3bafa-82a7-4c46-b032-15ccc94d1bc1",
   "metadata": {},
   "outputs": [
    {
     "data": {
      "text/plain": [
       "nan"
      ]
     },
     "execution_count": 13,
     "metadata": {},
     "output_type": "execute_result"
    }
   ],
   "source": [
    "float(\"nan\")"
   ]
  },
  {
   "cell_type": "code",
   "execution_count": 14,
   "id": "d51288c8-64de-47e2-b7a0-8958b96481e6",
   "metadata": {},
   "outputs": [
    {
     "data": {
      "text/plain": [
       "False"
      ]
     },
     "execution_count": 14,
     "metadata": {},
     "output_type": "execute_result"
    }
   ],
   "source": [
    "math.nan == float(\"nan\")"
   ]
  },
  {
   "cell_type": "code",
   "execution_count": 15,
   "id": "d32e8896-efaf-4659-b549-3bf3a874c554",
   "metadata": {},
   "outputs": [
    {
     "data": {
      "text/plain": [
       "False"
      ]
     },
     "execution_count": 15,
     "metadata": {},
     "output_type": "execute_result"
    }
   ],
   "source": [
    "math.nan == math.nan"
   ]
  },
  {
   "cell_type": "code",
   "execution_count": 16,
   "id": "f2b409c4-4965-4d42-bbd2-ff950fd3396f",
   "metadata": {},
   "outputs": [
    {
     "name": "stdout",
     "output_type": "stream",
     "text": [
      "Requirement already satisfied: pandas in c:\\users\\pc\\appdata\\local\\programs\\python\\python312\\lib\\site-packages (2.3.0)\n",
      "Requirement already satisfied: numpy>=1.26.0 in c:\\users\\pc\\appdata\\local\\programs\\python\\python312\\lib\\site-packages (from pandas) (1.26.4)\n",
      "Requirement already satisfied: python-dateutil>=2.8.2 in c:\\users\\pc\\appdata\\local\\programs\\python\\python312\\lib\\site-packages (from pandas) (2.9.0.post0)\n",
      "Requirement already satisfied: pytz>=2020.1 in c:\\users\\pc\\appdata\\local\\programs\\python\\python312\\lib\\site-packages (from pandas) (2025.2)\n",
      "Requirement already satisfied: tzdata>=2022.7 in c:\\users\\pc\\appdata\\local\\programs\\python\\python312\\lib\\site-packages (from pandas) (2025.2)\n",
      "Requirement already satisfied: six>=1.5 in c:\\users\\pc\\appdata\\local\\programs\\python\\python312\\lib\\site-packages (from python-dateutil>=2.8.2->pandas) (1.17.0)\n"
     ]
    },
    {
     "name": "stderr",
     "output_type": "stream",
     "text": [
      "\n",
      "[notice] A new release of pip is available: 25.0.1 -> 25.1.1\n",
      "[notice] To update, run: python.exe -m pip install --upgrade pip\n"
     ]
    }
   ],
   "source": [
    "!pip install pandas\n",
    "# python3 -m pip install pandas"
   ]
  },
  {
   "cell_type": "code",
   "execution_count": 17,
   "id": "069b260b-f20e-4a80-a368-e3bc5ba3cb6b",
   "metadata": {},
   "outputs": [],
   "source": [
    "import pandas as pd"
   ]
  },
  {
   "cell_type": "code",
   "execution_count": 18,
   "id": "3f4d7349-82d0-48dd-9c15-42ac472db466",
   "metadata": {},
   "outputs": [],
   "source": [
    "df = pd.read_csv(\"data.txt\")"
   ]
  },
  {
   "cell_type": "code",
   "execution_count": 19,
   "id": "66d3ed88-67c4-4dbf-8ef4-aabc6d9a44ad",
   "metadata": {},
   "outputs": [
    {
     "data": {
      "text/html": [
       "<div>\n",
       "<style scoped>\n",
       "    .dataframe tbody tr th:only-of-type {\n",
       "        vertical-align: middle;\n",
       "    }\n",
       "\n",
       "    .dataframe tbody tr th {\n",
       "        vertical-align: top;\n",
       "    }\n",
       "\n",
       "    .dataframe thead th {\n",
       "        text-align: right;\n",
       "    }\n",
       "</style>\n",
       "<table border=\"1\" class=\"dataframe\">\n",
       "  <thead>\n",
       "    <tr style=\"text-align: right;\">\n",
       "      <th></th>\n",
       "      <th>isim</th>\n",
       "      <th>yas</th>\n",
       "      <th>sehir</th>\n",
       "    </tr>\n",
       "  </thead>\n",
       "  <tbody>\n",
       "    <tr>\n",
       "      <th>0</th>\n",
       "      <td>Ali</td>\n",
       "      <td>25.0</td>\n",
       "      <td>İstanbul</td>\n",
       "    </tr>\n",
       "    <tr>\n",
       "      <th>1</th>\n",
       "      <td>Ayşe</td>\n",
       "      <td>NaN</td>\n",
       "      <td>Ankara</td>\n",
       "    </tr>\n",
       "    <tr>\n",
       "      <th>2</th>\n",
       "      <td>Can</td>\n",
       "      <td>30.0</td>\n",
       "      <td>NaN</td>\n",
       "    </tr>\n",
       "  </tbody>\n",
       "</table>\n",
       "</div>"
      ],
      "text/plain": [
       "   isim   yas     sehir\n",
       "0   Ali  25.0  İstanbul\n",
       "1  Ayşe   NaN    Ankara\n",
       "2   Can  30.0       NaN"
      ]
     },
     "execution_count": 19,
     "metadata": {},
     "output_type": "execute_result"
    }
   ],
   "source": [
    "df"
   ]
  },
  {
   "cell_type": "code",
   "execution_count": 20,
   "id": "eca04222-bf47-4b97-9767-1cfad7a57baf",
   "metadata": {},
   "outputs": [
    {
     "data": {
      "text/html": [
       "<div>\n",
       "<style scoped>\n",
       "    .dataframe tbody tr th:only-of-type {\n",
       "        vertical-align: middle;\n",
       "    }\n",
       "\n",
       "    .dataframe tbody tr th {\n",
       "        vertical-align: top;\n",
       "    }\n",
       "\n",
       "    .dataframe thead th {\n",
       "        text-align: right;\n",
       "    }\n",
       "</style>\n",
       "<table border=\"1\" class=\"dataframe\">\n",
       "  <thead>\n",
       "    <tr style=\"text-align: right;\">\n",
       "      <th></th>\n",
       "      <th>isim</th>\n",
       "      <th>yas</th>\n",
       "      <th>sehir</th>\n",
       "    </tr>\n",
       "  </thead>\n",
       "  <tbody>\n",
       "    <tr>\n",
       "      <th>0</th>\n",
       "      <td>False</td>\n",
       "      <td>False</td>\n",
       "      <td>False</td>\n",
       "    </tr>\n",
       "    <tr>\n",
       "      <th>1</th>\n",
       "      <td>False</td>\n",
       "      <td>True</td>\n",
       "      <td>False</td>\n",
       "    </tr>\n",
       "    <tr>\n",
       "      <th>2</th>\n",
       "      <td>False</td>\n",
       "      <td>False</td>\n",
       "      <td>True</td>\n",
       "    </tr>\n",
       "  </tbody>\n",
       "</table>\n",
       "</div>"
      ],
      "text/plain": [
       "    isim    yas  sehir\n",
       "0  False  False  False\n",
       "1  False   True  False\n",
       "2  False  False   True"
      ]
     },
     "execution_count": 20,
     "metadata": {},
     "output_type": "execute_result"
    }
   ],
   "source": [
    "df.isna()"
   ]
  },
  {
   "cell_type": "code",
   "execution_count": 21,
   "id": "2dca0bda-6bda-4c9e-b1c7-d49c86530f9c",
   "metadata": {},
   "outputs": [
    {
     "data": {
      "text/html": [
       "<div>\n",
       "<style scoped>\n",
       "    .dataframe tbody tr th:only-of-type {\n",
       "        vertical-align: middle;\n",
       "    }\n",
       "\n",
       "    .dataframe tbody tr th {\n",
       "        vertical-align: top;\n",
       "    }\n",
       "\n",
       "    .dataframe thead th {\n",
       "        text-align: right;\n",
       "    }\n",
       "</style>\n",
       "<table border=\"1\" class=\"dataframe\">\n",
       "  <thead>\n",
       "    <tr style=\"text-align: right;\">\n",
       "      <th></th>\n",
       "      <th>isim</th>\n",
       "      <th>yas</th>\n",
       "      <th>sehir</th>\n",
       "    </tr>\n",
       "  </thead>\n",
       "  <tbody>\n",
       "    <tr>\n",
       "      <th>0</th>\n",
       "      <td>Ali</td>\n",
       "      <td>25.0</td>\n",
       "      <td>İstanbul</td>\n",
       "    </tr>\n",
       "    <tr>\n",
       "      <th>1</th>\n",
       "      <td>Ayşe</td>\n",
       "      <td>0.0</td>\n",
       "      <td>Ankara</td>\n",
       "    </tr>\n",
       "    <tr>\n",
       "      <th>2</th>\n",
       "      <td>Can</td>\n",
       "      <td>30.0</td>\n",
       "      <td>0</td>\n",
       "    </tr>\n",
       "  </tbody>\n",
       "</table>\n",
       "</div>"
      ],
      "text/plain": [
       "   isim   yas     sehir\n",
       "0   Ali  25.0  İstanbul\n",
       "1  Ayşe   0.0    Ankara\n",
       "2   Can  30.0         0"
      ]
     },
     "execution_count": 21,
     "metadata": {},
     "output_type": "execute_result"
    }
   ],
   "source": [
    "df.fillna(0)"
   ]
  },
  {
   "cell_type": "code",
   "execution_count": 22,
   "id": "d98afb3a-dd9e-47e0-81fe-9192fa6e19e4",
   "metadata": {},
   "outputs": [],
   "source": [
    "x = float(\"nan\")"
   ]
  },
  {
   "cell_type": "code",
   "execution_count": 23,
   "id": "c4fd1c94-5d4d-42e4-bcf9-dfe240685b78",
   "metadata": {},
   "outputs": [
    {
     "name": "stdout",
     "output_type": "stream",
     "text": [
      "nan\n"
     ]
    }
   ],
   "source": [
    "print(x)"
   ]
  },
  {
   "cell_type": "code",
   "execution_count": 24,
   "id": "68fb866c-a9f8-4a93-bb1f-a41e34094ccb",
   "metadata": {},
   "outputs": [
    {
     "data": {
      "text/plain": [
       "True"
      ]
     },
     "execution_count": 24,
     "metadata": {},
     "output_type": "execute_result"
    }
   ],
   "source": [
    "math.isnan(x)"
   ]
  },
  {
   "cell_type": "code",
   "execution_count": 25,
   "id": "69b7dcb0-c1d9-4654-99fb-1fbbf2593533",
   "metadata": {},
   "outputs": [
    {
     "data": {
      "text/plain": [
       "6"
      ]
     },
     "execution_count": 25,
     "metadata": {},
     "output_type": "execute_result"
    }
   ],
   "source": [
    "math.ceil(5.43)"
   ]
  },
  {
   "cell_type": "code",
   "execution_count": 26,
   "id": "030567e1-1a5f-4b1c-ba82-c37847b41ca2",
   "metadata": {},
   "outputs": [
    {
     "data": {
      "text/plain": [
       "-5"
      ]
     },
     "execution_count": 26,
     "metadata": {},
     "output_type": "execute_result"
    }
   ],
   "source": [
    "math.ceil(-5.43)"
   ]
  },
  {
   "cell_type": "code",
   "execution_count": 27,
   "id": "3140838b-c644-4dd5-94bf-6fd52a0176ce",
   "metadata": {},
   "outputs": [
    {
     "data": {
      "text/plain": [
       "6"
      ]
     },
     "execution_count": 27,
     "metadata": {},
     "output_type": "execute_result"
    }
   ],
   "source": [
    "math.ceil(6)"
   ]
  },
  {
   "cell_type": "code",
   "execution_count": 28,
   "id": "874aa946-1ddc-4ef0-a533-69b53897320d",
   "metadata": {},
   "outputs": [
    {
     "data": {
      "text/plain": [
       "8"
      ]
     },
     "execution_count": 28,
     "metadata": {},
     "output_type": "execute_result"
    }
   ],
   "source": [
    "math.floor(8.72)"
   ]
  },
  {
   "cell_type": "code",
   "execution_count": 29,
   "id": "ce92d698-1b61-4628-a408-2c7a128207cc",
   "metadata": {},
   "outputs": [
    {
     "data": {
      "text/plain": [
       "-9"
      ]
     },
     "execution_count": 29,
     "metadata": {},
     "output_type": "execute_result"
    }
   ],
   "source": [
    "math.floor(-8.72)"
   ]
  },
  {
   "cell_type": "code",
   "execution_count": 31,
   "id": "972ebc05-ee6e-43ba-96c4-e8e577ac79fc",
   "metadata": {},
   "outputs": [
    {
     "data": {
      "text/plain": [
       "12"
      ]
     },
     "execution_count": 31,
     "metadata": {},
     "output_type": "execute_result"
    }
   ],
   "source": [
    "math.trunc(12.32)"
   ]
  },
  {
   "cell_type": "code",
   "execution_count": 32,
   "id": "29d5bf0d-e739-4f76-af47-57c39d23acae",
   "metadata": {},
   "outputs": [
    {
     "data": {
      "text/plain": [
       "-12"
      ]
     },
     "execution_count": 32,
     "metadata": {},
     "output_type": "execute_result"
    }
   ],
   "source": [
    "math.trunc(-12.32)"
   ]
  },
  {
   "cell_type": "code",
   "execution_count": 33,
   "id": "fa0da5f0-11d7-4506-8395-8d937e6d0807",
   "metadata": {},
   "outputs": [
    {
     "data": {
      "text/plain": [
       "False"
      ]
     },
     "execution_count": 33,
     "metadata": {},
     "output_type": "execute_result"
    }
   ],
   "source": [
    "math.isclose(6,7)"
   ]
  },
  {
   "cell_type": "code",
   "execution_count": 34,
   "id": "823b46db-b1c8-4654-957f-31e0a305f102",
   "metadata": {},
   "outputs": [
    {
     "data": {
      "text/plain": [
       "True"
      ]
     },
     "execution_count": 34,
     "metadata": {},
     "output_type": "execute_result"
    }
   ],
   "source": [
    "math.isclose(6.999999999,7)"
   ]
  },
  {
   "cell_type": "code",
   "execution_count": 36,
   "id": "bbb5d331-4f5a-41d7-89f7-673c02e24f21",
   "metadata": {},
   "outputs": [
    {
     "data": {
      "text/plain": [
       "True"
      ]
     },
     "execution_count": 36,
     "metadata": {},
     "output_type": "execute_result"
    }
   ],
   "source": [
    "math.isclose(6, 7, rel_tol=0.2)"
   ]
  },
  {
   "cell_type": "code",
   "execution_count": null,
   "id": "9d47142b-dc3a-4472-9d81-d9896f1da995",
   "metadata": {},
   "outputs": [],
   "source": [
    "max(6,7) = 7 * %20 = 1.4"
   ]
  },
  {
   "cell_type": "code",
   "execution_count": 37,
   "id": "50b6762e-0af2-44f2-a96e-c774a46beb80",
   "metadata": {
    "scrolled": true
   },
   "outputs": [
    {
     "data": {
      "text/plain": [
       "True"
      ]
     },
     "execution_count": 37,
     "metadata": {},
     "output_type": "execute_result"
    }
   ],
   "source": [
    "math.isclose(6,7, abs_tol=2)"
   ]
  },
  {
   "cell_type": "code",
   "execution_count": 38,
   "id": "ab81a592-3118-4a0e-ae6f-a3902ddbcf68",
   "metadata": {},
   "outputs": [
    {
     "data": {
      "text/plain": [
       "False"
      ]
     },
     "execution_count": 38,
     "metadata": {},
     "output_type": "execute_result"
    }
   ],
   "source": [
    "math.isclose(6, 10, abs_tol=2)"
   ]
  },
  {
   "cell_type": "markdown",
   "id": "3e7b381d-c47a-4655-a5a8-ecbdcebc069a",
   "metadata": {},
   "source": [
    "# Uygulama 1 - Üçgenin Hipotenüsünün Değerini Bulma"
   ]
  },
  {
   "cell_type": "code",
   "execution_count": 39,
   "id": "0f545aff-2d7e-4b85-8215-f4ec08769dad",
   "metadata": {},
   "outputs": [
    {
     "name": "stdin",
     "output_type": "stream",
     "text": [
      "1. kenarın uzunluğunu girin:  5\n",
      "2. kenarın uzunluğunu girin:  12\n"
     ]
    },
    {
     "name": "stdout",
     "output_type": "stream",
     "text": [
      "Hipotenüsün uzunluğu:  13.0\n"
     ]
    }
   ],
   "source": [
    "a = float(input(\"1. kenarın uzunluğunu girin: \"))\n",
    "b = float(input(\"2. kenarın uzunluğunu girin: \"))\n",
    "\n",
    "hipotenus = math.sqrt(math.pow(a, 2) + math.pow(b, 2))\n",
    "\n",
    "print(\"Hipotenüsün uzunluğu: \", hipotenus)"
   ]
  },
  {
   "cell_type": "code",
   "execution_count": 42,
   "id": "e1d0eccc-1c21-4ad4-aec3-32c14e9e15c5",
   "metadata": {},
   "outputs": [
    {
     "name": "stdin",
     "output_type": "stream",
     "text": [
      "1. kenarın uzunluğunu girin:  7\n",
      "2. kenarın uzunluğunu girin:  24\n"
     ]
    },
    {
     "name": "stdout",
     "output_type": "stream",
     "text": [
      "Hipotenüsün uzunluğu:  25.0\n"
     ]
    }
   ],
   "source": [
    "a = float(input(\"1. kenarın uzunluğunu girin: \"))\n",
    "b = float(input(\"2. kenarın uzunluğunu girin: \"))\n",
    "\n",
    "hipotenus = math.sqrt(a**2 + b**2)\n",
    "\n",
    "print(\"Hipotenüsün uzunluğu: \", hipotenus)"
   ]
  },
  {
   "cell_type": "code",
   "execution_count": 40,
   "id": "f69f0607-7927-44c6-be5d-1f2908f8c848",
   "metadata": {},
   "outputs": [
    {
     "name": "stdin",
     "output_type": "stream",
     "text": [
      "1. kenarın uzunluğunu girin:  15\n",
      "2. kenarın uzunluğunu girin:  17\n"
     ]
    },
    {
     "name": "stdout",
     "output_type": "stream",
     "text": [
      "Hipotenüsün uzunluğu:  22.67156809750927\n"
     ]
    }
   ],
   "source": [
    "a = float(input(\"1. kenarın uzunluğunu girin: \"))\n",
    "b = float(input(\"2. kenarın uzunluğunu girin: \"))\n",
    "\n",
    "hipotenus = math.sqrt(math.pow(a, 2) + math.pow(b, 2))\n",
    "\n",
    "print(\"Hipotenüsün uzunluğu: \", hipotenus)"
   ]
  },
  {
   "cell_type": "code",
   "execution_count": 43,
   "id": "2a8a887a-ce1d-4bab-89d6-eefdce596d12",
   "metadata": {},
   "outputs": [
    {
     "name": "stdin",
     "output_type": "stream",
     "text": [
      "1. kenarın uzunluğunu girin:  7\n",
      "2. kenarın uzunluğunu girin:  24\n"
     ]
    },
    {
     "name": "stdout",
     "output_type": "stream",
     "text": [
      "Hipotenüsün uzunluğu:  25\n"
     ]
    }
   ],
   "source": [
    "a = float(input(\"1. kenarın uzunluğunu girin: \"))\n",
    "b = float(input(\"2. kenarın uzunluğunu girin: \"))\n",
    "\n",
    "hipotenus = math.sqrt(math.pow(a, 2) + math.pow(b, 2))\n",
    "\n",
    "print(\"Hipotenüsün uzunluğu: \", int(hipotenus))"
   ]
  },
  {
   "cell_type": "markdown",
   "id": "b120dbd8-dd05-4c11-9657-f049aff7fe09",
   "metadata": {},
   "source": [
    "# Hesap Makinesi"
   ]
  },
  {
   "cell_type": "code",
   "execution_count": 45,
   "id": "1b941cd4-121f-444f-875e-56f9b9dcbc80",
   "metadata": {},
   "outputs": [
    {
     "name": "stdout",
     "output_type": "stream",
     "text": [
      "Basit bir hesap makinesi\n"
     ]
    },
    {
     "name": "stdin",
     "output_type": "stream",
     "text": [
      "Birinci sayıyı giriniz:  3\n",
      "İkinci sayıyı giriniz:  5\n"
     ]
    },
    {
     "name": "stdout",
     "output_type": "stream",
     "text": [
      "Toplam:  8.0\n",
      "Çıkarma:  -2.0\n",
      "Çarpma:  15.0\n",
      "Bölme:  0.6\n",
      "a üssü b:  243.0\n",
      "Birinci sayının karekökü:  2.6457513110645907\n"
     ]
    }
   ],
   "source": [
    "print(\"Basit bir hesap makinesi\")\n",
    "\n",
    "sayi1 = float(input(\"Birinci sayıyı giriniz: \"))\n",
    "sayi2 = float(input(\"İkinci sayıyı giriniz: \"))\n",
    "\n",
    "print(\"Toplam: \", sayi1 +sayi2)\n",
    "print(\"Çıkarma: \", sayi1 - sayi2)\n",
    "print(\"Çarpma: \", sayi1 * sayi2)\n",
    "print(\"Bölme: \", sayi1 / sayi2)\n",
    "print(\"a üssü b: \", math.pow(sayi1,sayi2))\n",
    "print(\"Birinci sayının karekökü: \", math.sqrt(a))"
   ]
  },
  {
   "cell_type": "code",
   "execution_count": null,
   "id": "61381ca3-35f6-4f63-9d54-2a354314b554",
   "metadata": {},
   "outputs": [],
   "source": []
  }
 ],
 "metadata": {
  "kernelspec": {
   "display_name": "Python 3 (ipykernel)",
   "language": "python",
   "name": "python3"
  },
  "language_info": {
   "codemirror_mode": {
    "name": "ipython",
    "version": 3
   },
   "file_extension": ".py",
   "mimetype": "text/x-python",
   "name": "python",
   "nbconvert_exporter": "python",
   "pygments_lexer": "ipython3",
   "version": "3.12.2"
  }
 },
 "nbformat": 4,
 "nbformat_minor": 5
}
