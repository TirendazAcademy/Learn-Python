{
 "cells": [
  {
   "cell_type": "raw",
   "id": "2d5b69b0-94b5-42b7-9a6e-f4ab0ccac2a9",
   "metadata": {},
   "source": [
    "print(); len(); input()"
   ]
  },
  {
   "cell_type": "raw",
   "id": "04e84077-a19f-4e7c-b3e4-fb9ab7dabbc9",
   "metadata": {},
   "source": [
    "y = f(x) \n",
    "\n",
    "x -> girdi \n",
    "y -> çıktı\n",
    "\n",
    "f(x) = x + 2\n",
    "f(3) = 3+2 =5"
   ]
  },
  {
   "cell_type": "code",
   "execution_count": 1,
   "id": "eaf297c8-6f08-4cba-8efe-34f9885c46d0",
   "metadata": {},
   "outputs": [],
   "source": [
    "def selam():\n",
    "    print(\"Merhaba, hoşgeldin!\")"
   ]
  },
  {
   "cell_type": "code",
   "execution_count": 3,
   "id": "0acb3383-753b-49a3-aca8-5abefe8fa126",
   "metadata": {},
   "outputs": [
    {
     "name": "stdout",
     "output_type": "stream",
     "text": [
      "Merhaba, hoşgeldin!\n"
     ]
    }
   ],
   "source": [
    "selam()"
   ]
  },
  {
   "cell_type": "code",
   "execution_count": 4,
   "id": "227dc839-35a6-45bf-b793-aacf78e04ca9",
   "metadata": {},
   "outputs": [
    {
     "name": "stdout",
     "output_type": "stream",
     "text": [
      "Merhaba, hoşgeldin!\n"
     ]
    }
   ],
   "source": [
    "selam()"
   ]
  },
  {
   "cell_type": "code",
   "execution_count": 5,
   "id": "712ec4d6-4965-4f87-93e1-c87099ab12f1",
   "metadata": {},
   "outputs": [
    {
     "name": "stdout",
     "output_type": "stream",
     "text": [
      "Merhaba, hoşgeldin!\n"
     ]
    }
   ],
   "source": [
    "selam()"
   ]
  },
  {
   "cell_type": "code",
   "execution_count": 6,
   "id": "f54f32dd-4f77-43b5-b4c4-f23e66c10c44",
   "metadata": {},
   "outputs": [],
   "source": [
    "def selamla(isim):\n",
    "    print(f\"Merhaba, {isim}\")"
   ]
  },
  {
   "cell_type": "code",
   "execution_count": 7,
   "id": "9cd06cb0-41ed-45a1-9628-8cc5bd60139c",
   "metadata": {},
   "outputs": [
    {
     "name": "stdout",
     "output_type": "stream",
     "text": [
      "Merhaba, Zeynep\n"
     ]
    }
   ],
   "source": [
    "selamla(\"Zeynep\")"
   ]
  },
  {
   "cell_type": "code",
   "execution_count": 8,
   "id": "bbc4134b-f478-4216-b8f2-d41a0a768b0e",
   "metadata": {},
   "outputs": [
    {
     "name": "stdout",
     "output_type": "stream",
     "text": [
      "Merhaba, Ali\n"
     ]
    }
   ],
   "source": [
    "selamla(\"Ali\")"
   ]
  },
  {
   "cell_type": "code",
   "execution_count": 9,
   "id": "344c0026-e5dc-4e4e-8bc2-526f486d0c0d",
   "metadata": {},
   "outputs": [],
   "source": [
    "def topla(a,b):\n",
    "    print(a+b)"
   ]
  },
  {
   "cell_type": "code",
   "execution_count": 10,
   "id": "d5cadf02-f056-47dc-9c2b-afe65e754a8a",
   "metadata": {},
   "outputs": [
    {
     "name": "stdout",
     "output_type": "stream",
     "text": [
      "8\n"
     ]
    }
   ],
   "source": [
    "topla(3,5)"
   ]
  },
  {
   "cell_type": "code",
   "execution_count": 11,
   "id": "425377fa-6220-4458-b199-8f489ec438fa",
   "metadata": {},
   "outputs": [
    {
     "name": "stdout",
     "output_type": "stream",
     "text": [
      "4\n"
     ]
    }
   ],
   "source": [
    "topla(7,-3)"
   ]
  },
  {
   "cell_type": "code",
   "execution_count": 12,
   "id": "84a87605-611d-4e90-8672-bee0a233c668",
   "metadata": {},
   "outputs": [
    {
     "name": "stdout",
     "output_type": "stream",
     "text": [
      "35\n"
     ]
    }
   ],
   "source": [
    "topla(\"3\",\"5\")"
   ]
  },
  {
   "cell_type": "code",
   "execution_count": 13,
   "id": "c031e5f8-3f0f-43be-930d-8ad61e0fee0d",
   "metadata": {},
   "outputs": [
    {
     "name": "stdout",
     "output_type": "stream",
     "text": [
      "elmamuz\n"
     ]
    }
   ],
   "source": [
    "topla(\"elma\",\"muz\")"
   ]
  },
  {
   "cell_type": "code",
   "execution_count": 14,
   "id": "94aa4a05-a240-4f31-89f0-2e57ab4ad59b",
   "metadata": {},
   "outputs": [],
   "source": [
    "def maliyet_hesapla(urun, adet, birim_fiyat):\n",
    "    print(f\"{adet} {urun} toplam maliyeti: ₺{adet*birim_fiyat}\")"
   ]
  },
  {
   "cell_type": "code",
   "execution_count": 15,
   "id": "628c2f63-e6b7-4a73-82f4-150dc7c52223",
   "metadata": {},
   "outputs": [
    {
     "name": "stdout",
     "output_type": "stream",
     "text": [
      "7 muz toplam maliyeti: ₺700\n"
     ]
    }
   ],
   "source": [
    "maliyet_hesapla(\"muz\", 7, 100)"
   ]
  },
  {
   "cell_type": "code",
   "execution_count": 16,
   "id": "45473be7-45d5-4a6c-b304-d8c0d0eca8e6",
   "metadata": {},
   "outputs": [
    {
     "name": "stdout",
     "output_type": "stream",
     "text": [
      "7 100 toplam maliyeti: ₺muzmuzmuzmuzmuzmuzmuz\n"
     ]
    }
   ],
   "source": [
    "maliyet_hesapla(100,7,\"muz\")"
   ]
  },
  {
   "cell_type": "code",
   "execution_count": 17,
   "id": "1d031ff0-b31b-454b-8330-f717d71d55aa",
   "metadata": {},
   "outputs": [
    {
     "ename": "TypeError",
     "evalue": "maliyet_hesapla() missing 1 required positional argument: 'birim_fiyat'",
     "output_type": "error",
     "traceback": [
      "\u001b[31m---------------------------------------------------------------------------\u001b[39m",
      "\u001b[31mTypeError\u001b[39m                                 Traceback (most recent call last)",
      "\u001b[36mCell\u001b[39m\u001b[36m \u001b[39m\u001b[32mIn[17]\u001b[39m\u001b[32m, line 1\u001b[39m\n\u001b[32m----> \u001b[39m\u001b[32m1\u001b[39m \u001b[43mmaliyet_hesapla\u001b[49m\u001b[43m(\u001b[49m\u001b[33;43m\"\u001b[39;49m\u001b[33;43mmuz\u001b[39;49m\u001b[33;43m\"\u001b[39;49m\u001b[43m,\u001b[49m\u001b[43m \u001b[49m\u001b[32;43m7\u001b[39;49m\u001b[43m)\u001b[49m\n",
      "\u001b[31mTypeError\u001b[39m: maliyet_hesapla() missing 1 required positional argument: 'birim_fiyat'"
     ]
    }
   ],
   "source": [
    "maliyet_hesapla(\"muz\", 7)"
   ]
  },
  {
   "cell_type": "code",
   "execution_count": 18,
   "id": "bcf1bf45-684e-4f67-996d-f62de3c94115",
   "metadata": {},
   "outputs": [
    {
     "name": "stdout",
     "output_type": "stream",
     "text": [
      "7 muz toplam maliyeti: ₺700\n"
     ]
    }
   ],
   "source": [
    "maliyet_hesapla(birim_fiyat = 100, adet=7, urun=\"muz\")"
   ]
  },
  {
   "cell_type": "code",
   "execution_count": 19,
   "id": "2da918bb-226e-42c8-a3e1-cb655609dc7c",
   "metadata": {},
   "outputs": [],
   "source": [
    "def not_durumu(ad, vize, final):\n",
    "    ortalama = (vize*0.4) + (final*0.6)\n",
    "    print(f\"{ad} adlı öğrencinin ortalaması: {ortalama:.2f}\")\n",
    "    if ortalama >= 60:\n",
    "        print(\"✅ Geçti\")\n",
    "    else:\n",
    "        print(\"❌ Kaldı\")"
   ]
  },
  {
   "cell_type": "code",
   "execution_count": 20,
   "id": "3e9fe610-20ca-458b-840a-83a1f40465b4",
   "metadata": {},
   "outputs": [
    {
     "name": "stdout",
     "output_type": "stream",
     "text": [
      "Ali adlı öğrencinin ortalaması: 76.00\n",
      "✅ Geçti\n"
     ]
    }
   ],
   "source": [
    "not_durumu(\"Ali\", 70, 80)"
   ]
  },
  {
   "cell_type": "code",
   "execution_count": 21,
   "id": "96155e03-a18d-4988-b65c-7ad3a24b9af0",
   "metadata": {},
   "outputs": [
    {
     "name": "stdout",
     "output_type": "stream",
     "text": [
      "Deniz adlı öğrencinin ortalaması: 53.00\n",
      "❌ Kaldı\n"
     ]
    }
   ],
   "source": [
    "not_durumu(ad=\"Deniz\", vize=50, final=55)"
   ]
  },
  {
   "cell_type": "code",
   "execution_count": 22,
   "id": "949cdb26-9fce-47a5-9c47-75c53dda1ef4",
   "metadata": {},
   "outputs": [
    {
     "name": "stdin",
     "output_type": "stream",
     "text": [
      "Adınızı girin:  Merve\n",
      "Vize notu girin:  80\n",
      "Final notu girin:  70\n"
     ]
    },
    {
     "name": "stdout",
     "output_type": "stream",
     "text": [
      "Merve adlı öğrencinin ortalaması: 74.00\n",
      "✅ Geçti\n"
     ]
    }
   ],
   "source": [
    "ad1 = input(\"Adınızı girin: \")\n",
    "vize1 = int(input(\"Vize notu girin: \"))\n",
    "final1 = int(input(\"Final notu girin: \"))\n",
    "\n",
    "not_durumu(ad=ad1, vize=vize1, final=final1)"
   ]
  },
  {
   "cell_type": "code",
   "execution_count": null,
   "id": "74904e11-1f41-4633-b62d-b0bd31212158",
   "metadata": {},
   "outputs": [],
   "source": [
    "ad = input(\"ad daxil edin\")\n",
    "vize = int(input(\"Viza neticesini girin\"))\n",
    "final = int(input(\"Final neticesini girin\"))\n",
    "\n",
    "def not_durumu(ad, vize, final):\n",
    "    ortalama = (vize * 0.4) + (final*0.6)\n",
    "    print(f\"{ad} adli ogrencinin ortalamasi: {ortalama:.2f}\")\n",
    "    if ortalama >=60:\n",
    "        print(\"gecdi\")\n",
    "    else:\n",
    "        print(\"kaldi\")\n",
    "\n",
    "not_durumu(ad, vize, final)"
   ]
  },
  {
   "cell_type": "code",
   "execution_count": 23,
   "id": "5bc794cd-116f-4427-bd0f-ae7de971b664",
   "metadata": {},
   "outputs": [],
   "source": [
    "def getir_pi():\n",
    "    return 3.14"
   ]
  },
  {
   "cell_type": "code",
   "execution_count": 24,
   "id": "92fcc129-e9f1-42df-82ee-9f922667f7df",
   "metadata": {},
   "outputs": [
    {
     "name": "stdout",
     "output_type": "stream",
     "text": [
      "bitti\n"
     ]
    }
   ],
   "source": [
    "getir_pi()\n",
    "print(\"bitti\")"
   ]
  },
  {
   "cell_type": "code",
   "execution_count": 26,
   "id": "a47481ba-e931-4be2-b613-1beff125f8aa",
   "metadata": {},
   "outputs": [
    {
     "name": "stdout",
     "output_type": "stream",
     "text": [
      "3.14\n",
      "bitti\n"
     ]
    }
   ],
   "source": [
    "print(getir_pi())\n",
    "print(\"bitti\")"
   ]
  },
  {
   "cell_type": "code",
   "execution_count": 27,
   "id": "ad6d7b8a-e3b0-4da4-99dc-aa27c923526f",
   "metadata": {},
   "outputs": [
    {
     "name": "stdout",
     "output_type": "stream",
     "text": [
      "3.14\n"
     ]
    }
   ],
   "source": [
    "pi = getir_pi()\n",
    "print(pi)"
   ]
  },
  {
   "cell_type": "code",
   "execution_count": 28,
   "id": "823b04b1-5ac3-4534-ab77-f23ddc91de64",
   "metadata": {},
   "outputs": [
    {
     "data": {
      "text/plain": [
       "6.28"
      ]
     },
     "execution_count": 28,
     "metadata": {},
     "output_type": "execute_result"
    }
   ],
   "source": [
    "getir_pi() * 2"
   ]
  },
  {
   "cell_type": "code",
   "execution_count": 29,
   "id": "a96212a5-545f-43a1-ac80-323dabb960d1",
   "metadata": {},
   "outputs": [
    {
     "data": {
      "text/plain": [
       "8.14"
      ]
     },
     "execution_count": 29,
     "metadata": {},
     "output_type": "execute_result"
    }
   ],
   "source": [
    "getir_pi()+5"
   ]
  },
  {
   "cell_type": "code",
   "execution_count": 30,
   "id": "f0e8b2c0-b84d-432c-b8c9-78be1fbf8074",
   "metadata": {},
   "outputs": [],
   "source": [
    "def yaz():\n",
    "    print(\"Merhaba \")\n",
    "\n",
    "def getir():\n",
    "    return \"Merhaba\""
   ]
  },
  {
   "cell_type": "code",
   "execution_count": 31,
   "id": "4bc9d216-e7e4-4097-b5ea-5149b2e9cefc",
   "metadata": {},
   "outputs": [
    {
     "name": "stdout",
     "output_type": "stream",
     "text": [
      "Merhaba \n",
      "Bitti\n"
     ]
    }
   ],
   "source": [
    "yaz()\n",
    "print(\"Bitti\")"
   ]
  },
  {
   "cell_type": "code",
   "execution_count": 32,
   "id": "d8a8f4b4-9327-49f8-91b2-9e76afe54b72",
   "metadata": {},
   "outputs": [
    {
     "name": "stdout",
     "output_type": "stream",
     "text": [
      "Bitti\n"
     ]
    }
   ],
   "source": [
    "getir()\n",
    "print(\"Bitti\")"
   ]
  },
  {
   "cell_type": "code",
   "execution_count": 33,
   "id": "da96e57e-4c92-4b91-9b6b-24972e1ec55e",
   "metadata": {},
   "outputs": [
    {
     "name": "stdout",
     "output_type": "stream",
     "text": [
      "Merhaba \n"
     ]
    },
    {
     "ename": "TypeError",
     "evalue": "unsupported operand type(s) for *: 'NoneType' and 'int'",
     "output_type": "error",
     "traceback": [
      "\u001b[31m---------------------------------------------------------------------------\u001b[39m",
      "\u001b[31mTypeError\u001b[39m                                 Traceback (most recent call last)",
      "\u001b[36mCell\u001b[39m\u001b[36m \u001b[39m\u001b[32mIn[33]\u001b[39m\u001b[32m, line 1\u001b[39m\n\u001b[32m----> \u001b[39m\u001b[32m1\u001b[39m \u001b[43myaz\u001b[49m\u001b[43m(\u001b[49m\u001b[43m)\u001b[49m\u001b[43m \u001b[49m\u001b[43m*\u001b[49m\u001b[43m \u001b[49m\u001b[32;43m5\u001b[39;49m\n",
      "\u001b[31mTypeError\u001b[39m: unsupported operand type(s) for *: 'NoneType' and 'int'"
     ]
    }
   ],
   "source": [
    "yaz() * 5"
   ]
  },
  {
   "cell_type": "code",
   "execution_count": 34,
   "id": "d24a2fda-de26-4360-8f13-fd55c69c45df",
   "metadata": {},
   "outputs": [
    {
     "data": {
      "text/plain": [
       "'MerhabaMerhabaMerhabaMerhabaMerhaba'"
      ]
     },
     "execution_count": 34,
     "metadata": {},
     "output_type": "execute_result"
    }
   ],
   "source": [
    "getir() * 5"
   ]
  },
  {
   "cell_type": "code",
   "execution_count": 35,
   "id": "071d5a83-e52b-46fb-9770-110446982235",
   "metadata": {},
   "outputs": [
    {
     "name": "stdout",
     "output_type": "stream",
     "text": [
      "Merhaba \n",
      "Fonksiyonun dönüş değeri:  None\n"
     ]
    }
   ],
   "source": [
    "deger = yaz()\n",
    "print(\"Fonksiyonun dönüş değeri: \", deger)"
   ]
  },
  {
   "cell_type": "code",
   "execution_count": 36,
   "id": "457bf718-0238-4a6e-a954-07b7b984f36b",
   "metadata": {},
   "outputs": [],
   "source": [
    "def getir_deger():\n",
    "    return "
   ]
  },
  {
   "cell_type": "code",
   "execution_count": 38,
   "id": "ee988ef7-ed32-43f4-a37e-f4d125009e4a",
   "metadata": {},
   "outputs": [
    {
     "name": "stdout",
     "output_type": "stream",
     "text": [
      "None\n"
     ]
    }
   ],
   "source": [
    "print(getir_deger())"
   ]
  },
  {
   "cell_type": "code",
   "execution_count": 39,
   "id": "0ee5e757-4df4-4a6a-92fd-c3cbe32aa9e5",
   "metadata": {},
   "outputs": [],
   "source": [
    "def kare(sayi):\n",
    "    return sayi**2 "
   ]
  },
  {
   "cell_type": "code",
   "execution_count": 40,
   "id": "8b89448c-ff12-4e65-a390-1f9f4889c0c7",
   "metadata": {},
   "outputs": [
    {
     "name": "stdout",
     "output_type": "stream",
     "text": [
      "bitti\n"
     ]
    }
   ],
   "source": [
    "kare(5)\n",
    "print(\"bitti\")"
   ]
  },
  {
   "cell_type": "code",
   "execution_count": 41,
   "id": "88130514-3c96-4098-a0dd-79cde3364132",
   "metadata": {},
   "outputs": [
    {
     "name": "stdout",
     "output_type": "stream",
     "text": [
      "25\n",
      "bitti\n"
     ]
    }
   ],
   "source": [
    "print(kare(5))\n",
    "print(\"bitti\")"
   ]
  },
  {
   "cell_type": "code",
   "execution_count": 43,
   "id": "67d4d3ca-11df-4899-b0b8-638aec616b26",
   "metadata": {},
   "outputs": [
    {
     "name": "stdin",
     "output_type": "stream",
     "text": [
      "Bir sayı girin:  7\n"
     ]
    },
    {
     "name": "stdout",
     "output_type": "stream",
     "text": [
      "Karesi:  49\n"
     ]
    }
   ],
   "source": [
    "x = int(input(\"Bir sayı girin: \"))\n",
    "\n",
    "sonuc = kare(x)\n",
    "print(\"Karesi: \", sonuc)"
   ]
  },
  {
   "cell_type": "code",
   "execution_count": 44,
   "id": "15062b07-0f5c-4859-9613-9095b400fd23",
   "metadata": {},
   "outputs": [],
   "source": [
    "def bilgiler():\n",
    "    isim = \"zeynep\"\n",
    "    yas = 25\n",
    "    sehir = \"İstanbul\"\n",
    "    return isim, yas, sehir"
   ]
  },
  {
   "cell_type": "code",
   "execution_count": 45,
   "id": "858e40f0-1c17-42d7-9b81-ea16e0ae04af",
   "metadata": {},
   "outputs": [
    {
     "name": "stdout",
     "output_type": "stream",
     "text": [
      "('zeynep', 25, 'İstanbul')\n"
     ]
    }
   ],
   "source": [
    "veri =bilgiler()\n",
    "print(veri)"
   ]
  },
  {
   "cell_type": "code",
   "execution_count": 46,
   "id": "90c45c35-e134-4d01-9207-89ec79e3ecb1",
   "metadata": {},
   "outputs": [],
   "source": [
    "name, age, city = bilgiler()"
   ]
  },
  {
   "cell_type": "code",
   "execution_count": 47,
   "id": "e81d1953-1a3f-44d5-8d2b-a88c0678e988",
   "metadata": {},
   "outputs": [
    {
     "name": "stdout",
     "output_type": "stream",
     "text": [
      "zeynep\n",
      "25\n",
      "İstanbul\n"
     ]
    }
   ],
   "source": [
    "print(name)\n",
    "print(age)\n",
    "print(city)"
   ]
  },
  {
   "cell_type": "code",
   "execution_count": 48,
   "id": "608214a4-4acd-4dc9-a259-3adff0c118d9",
   "metadata": {},
   "outputs": [],
   "source": [
    "def islem(a,b):\n",
    "    toplam = a +b\n",
    "    fark = a-b\n",
    "    carpim = a * b\n",
    "    return toplam, fark, carpim"
   ]
  },
  {
   "cell_type": "code",
   "execution_count": 49,
   "id": "0ca00ec9-8fb6-4ef0-93af-b2fd7ea097b2",
   "metadata": {},
   "outputs": [
    {
     "name": "stdout",
     "output_type": "stream",
     "text": [
      "Toplam:  12\n",
      "Fark:  8\n",
      "Çarpma:  20\n"
     ]
    }
   ],
   "source": [
    "t, f, c = islem(10,2)\n",
    "\n",
    "print(\"Toplam: \", t)\n",
    "print(\"Fark: \", f)\n",
    "print(\"Çarpma: \", c)"
   ]
  },
  {
   "cell_type": "code",
   "execution_count": 56,
   "id": "6163b11f-af40-405e-b5f4-747c26edad9f",
   "metadata": {},
   "outputs": [],
   "source": [
    "def fonksiyon(a,b):\n",
    "    g = a+b\n",
    "    return g"
   ]
  },
  {
   "cell_type": "code",
   "execution_count": null,
   "id": "1c402277-6267-484b-9e4e-a0fd5c07c87c",
   "metadata": {},
   "outputs": [],
   "source": [
    "def fonksiyon(a,b):\n",
    "    return a+b"
   ]
  },
  {
   "cell_type": "code",
   "execution_count": 54,
   "id": "d6cba599-78b3-447f-973c-f1d59227bdd4",
   "metadata": {},
   "outputs": [
    {
     "data": {
      "text/plain": [
       "7"
      ]
     },
     "execution_count": 54,
     "metadata": {},
     "output_type": "execute_result"
    }
   ],
   "source": [
    "fonk()"
   ]
  },
  {
   "cell_type": "code",
   "execution_count": 57,
   "id": "996911a5-78a2-4830-84cc-989d49d5802e",
   "metadata": {},
   "outputs": [],
   "source": [
    "def bilgi(ad, soyad, yas):\n",
    "\t\treturn f\"{ad} {soyad} {yas} yaşındadır.\".upper().replace(\" \", \"-\")"
   ]
  },
  {
   "cell_type": "code",
   "execution_count": 64,
   "id": "470ffb24-134d-43b2-8900-75bf057770f8",
   "metadata": {},
   "outputs": [],
   "source": [
    "def bilgi(ad, soyad, yas):\n",
    "    metin = f\"{ad} {soyad} {yas} yaşındadır.\"\n",
    "    buyuk = metin.upper()\n",
    "    sonuc = buyuk.replace(\" \", \"-\")\n",
    "    return sonuc"
   ]
  },
  {
   "cell_type": "code",
   "execution_count": 65,
   "id": "8bd648e7-ef63-4e62-8270-aeeb75c2669d",
   "metadata": {},
   "outputs": [
    {
     "data": {
      "text/plain": [
       "'ALI-YILMAZ-45-YAŞINDADIR.'"
      ]
     },
     "execution_count": 65,
     "metadata": {},
     "output_type": "execute_result"
    }
   ],
   "source": [
    "bilgi(\"Ali\", \"Yılmaz\", 45)"
   ]
  },
  {
   "cell_type": "code",
   "execution_count": 76,
   "id": "474700df-d3e9-48ec-bb73-4b584b5f4b4d",
   "metadata": {},
   "outputs": [],
   "source": [
    "def kontrol(sayi):\n",
    "    if sayi>0:\n",
    "        return \"Pozitif\"\n",
    "    elif sayi<0:\n",
    "        return \"Negatif\"\n",
    "    else:\n",
    "        return \"Sıfır\""
   ]
  },
  {
   "cell_type": "code",
   "execution_count": 77,
   "id": "63dc0a8d-a64b-4d68-9091-d86e88d7fe72",
   "metadata": {},
   "outputs": [
    {
     "name": "stdout",
     "output_type": "stream",
     "text": [
      "Pozitif\n"
     ]
    }
   ],
   "source": [
    "print(kontrol(5))"
   ]
  },
  {
   "cell_type": "code",
   "execution_count": 78,
   "id": "56aecc6a-ac5b-41c6-8447-79900ff43bca",
   "metadata": {},
   "outputs": [
    {
     "data": {
      "text/plain": [
       "'Pozitif'"
      ]
     },
     "execution_count": 78,
     "metadata": {},
     "output_type": "execute_result"
    }
   ],
   "source": [
    "kontrol(5)"
   ]
  },
  {
   "cell_type": "code",
   "execution_count": 79,
   "id": "db773ab3-d744-4d76-af6d-87d6bea5056a",
   "metadata": {},
   "outputs": [
    {
     "data": {
      "text/plain": [
       "'Negatif'"
      ]
     },
     "execution_count": 79,
     "metadata": {},
     "output_type": "execute_result"
    }
   ],
   "source": [
    "kontrol(-5)"
   ]
  },
  {
   "cell_type": "code",
   "execution_count": 80,
   "id": "325e41ef-486a-4cb5-aaf6-99092e810a07",
   "metadata": {},
   "outputs": [
    {
     "data": {
      "text/plain": [
       "'Sıfır'"
      ]
     },
     "execution_count": 80,
     "metadata": {},
     "output_type": "execute_result"
    }
   ],
   "source": [
    "kontrol(0)"
   ]
  },
  {
   "cell_type": "code",
   "execution_count": 88,
   "id": "e75e3aea-4472-4f4b-8322-01e2ea666004",
   "metadata": {},
   "outputs": [],
   "source": [
    "def selamla(isim):\n",
    "    if not isim:\n",
    "        return \"İsim girilmedi!\"\n",
    "    return f\"Merhaba {isim}\""
   ]
  },
  {
   "cell_type": "code",
   "execution_count": null,
   "id": "f2ae0e5a-bdfb-42a7-bf78-307b591d5cab",
   "metadata": {},
   "outputs": [],
   "source": [
    "def selamla(isim):\n",
    "    if not isim:\n",
    "        return \"İsim girilmedi!\"\n",
    "    else:\n",
    "        return f\"Merhaba {isim}\""
   ]
  },
  {
   "cell_type": "code",
   "execution_count": 89,
   "id": "1f5a2297-9348-40d9-9372-c37851178c30",
   "metadata": {},
   "outputs": [
    {
     "data": {
      "text/plain": [
       "'İsim girilmedi!'"
      ]
     },
     "execution_count": 89,
     "metadata": {},
     "output_type": "execute_result"
    }
   ],
   "source": [
    "selamla(\"\")"
   ]
  },
  {
   "cell_type": "code",
   "execution_count": 90,
   "id": "376e84ee-3409-499b-a770-69b0d0f40b26",
   "metadata": {},
   "outputs": [
    {
     "data": {
      "text/plain": [
       "'Merhaba Zeynep'"
      ]
     },
     "execution_count": 90,
     "metadata": {},
     "output_type": "execute_result"
    }
   ],
   "source": [
    "selamla(\"Zeynep\")"
   ]
  },
  {
   "cell_type": "code",
   "execution_count": 85,
   "id": "97a4f27e-d8e0-4e40-93af-621320e5ea7b",
   "metadata": {},
   "outputs": [
    {
     "data": {
      "text/plain": [
       "'Merhaba \\n Birsu'"
      ]
     },
     "execution_count": 85,
     "metadata": {},
     "output_type": "execute_result"
    }
   ],
   "source": [
    "isim = \"Birsu\"\n",
    "f\"Merhaba \\n {isim}\""
   ]
  },
  {
   "cell_type": "code",
   "execution_count": 87,
   "id": "d7bf0ebd-a4c1-46dc-9b3f-fb84a99f1c41",
   "metadata": {},
   "outputs": [
    {
     "name": "stdout",
     "output_type": "stream",
     "text": [
      "Merhaba \n",
      "Birsu\n"
     ]
    }
   ],
   "source": [
    "isim = \"Birsu\"\n",
    "print(f\"Merhaba \\n{isim}\")"
   ]
  },
  {
   "cell_type": "code",
   "execution_count": 91,
   "id": "4e17d703-9439-41e1-88cd-07c83671cfc3",
   "metadata": {},
   "outputs": [],
   "source": [
    "def karekok_al(sayi):\n",
    "    if sayi < 0:\n",
    "        return \"Negatif sayıların karekökü alınmaz!\"\n",
    "    return sayi ** 0.5"
   ]
  },
  {
   "cell_type": "code",
   "execution_count": 92,
   "id": "55e1f2b0-345b-47bb-b6c0-4fd6c2a3268f",
   "metadata": {},
   "outputs": [
    {
     "data": {
      "text/plain": [
       "4.0"
      ]
     },
     "execution_count": 92,
     "metadata": {},
     "output_type": "execute_result"
    }
   ],
   "source": [
    "karekok_al(16)"
   ]
  },
  {
   "cell_type": "code",
   "execution_count": 93,
   "id": "56911740-f7a9-428b-ae58-c0de2318a324",
   "metadata": {},
   "outputs": [
    {
     "data": {
      "text/plain": [
       "'Negatif sayıların karekökü alınmaz!'"
      ]
     },
     "execution_count": 93,
     "metadata": {},
     "output_type": "execute_result"
    }
   ],
   "source": [
    "karekok_al(-9)"
   ]
  },
  {
   "cell_type": "code",
   "execution_count": 94,
   "id": "5370a579-5bde-4962-8366-f62ac776e867",
   "metadata": {},
   "outputs": [],
   "source": [
    "def cift_mi(sayi):\n",
    "    return sayi%2 == 0"
   ]
  },
  {
   "cell_type": "code",
   "execution_count": 95,
   "id": "002cf299-35c4-461d-8095-eb1b663a3c75",
   "metadata": {},
   "outputs": [
    {
     "data": {
      "text/plain": [
       "True"
      ]
     },
     "execution_count": 95,
     "metadata": {},
     "output_type": "execute_result"
    }
   ],
   "source": [
    "cift_mi(4)"
   ]
  },
  {
   "cell_type": "code",
   "execution_count": 96,
   "id": "b5b3eaed-3ccd-4fc5-8517-5925567316f5",
   "metadata": {},
   "outputs": [
    {
     "data": {
      "text/plain": [
       "False"
      ]
     },
     "execution_count": 96,
     "metadata": {},
     "output_type": "execute_result"
    }
   ],
   "source": [
    "cift_mi(7)"
   ]
  },
  {
   "cell_type": "code",
   "execution_count": 97,
   "id": "11e33aea-f337-4894-8457-9fe3e1ea3fff",
   "metadata": {},
   "outputs": [],
   "source": [
    "def harf_mi(karakter):\n",
    "    return karakter.isalpha()"
   ]
  },
  {
   "cell_type": "code",
   "execution_count": 98,
   "id": "93cd2046-7e38-427a-900c-82fac37f64e8",
   "metadata": {},
   "outputs": [
    {
     "data": {
      "text/plain": [
       "True"
      ]
     },
     "execution_count": 98,
     "metadata": {},
     "output_type": "execute_result"
    }
   ],
   "source": [
    "harf_mi(\"A\")"
   ]
  },
  {
   "cell_type": "code",
   "execution_count": 100,
   "id": "e5c57942-9a1a-4c23-9ff0-88d8c378eaf4",
   "metadata": {},
   "outputs": [
    {
     "data": {
      "text/plain": [
       "False"
      ]
     },
     "execution_count": 100,
     "metadata": {},
     "output_type": "execute_result"
    }
   ],
   "source": [
    "harf_mi(\"3\")"
   ]
  },
  {
   "cell_type": "markdown",
   "id": "1c29c947-6794-403f-a259-7eba12f36987",
   "metadata": {},
   "source": [
    "# Generator Kullanımı "
   ]
  },
  {
   "cell_type": "code",
   "execution_count": 101,
   "id": "6e0bd457-7559-4459-9aa1-a030f17bb45d",
   "metadata": {},
   "outputs": [],
   "source": [
    "def sayilar(n):\n",
    "    for i in range(1, n+1):\n",
    "        yield i"
   ]
  },
  {
   "cell_type": "code",
   "execution_count": 103,
   "id": "a8f2d1cc-70d7-4e7d-b60c-0c88af09674e",
   "metadata": {},
   "outputs": [
    {
     "name": "stdout",
     "output_type": "stream",
     "text": [
      "1\n",
      "2\n",
      "3\n",
      "4\n",
      "5\n"
     ]
    }
   ],
   "source": [
    "for sayi in sayilar(5):\n",
    "    print(sayi)"
   ]
  },
  {
   "cell_type": "code",
   "execution_count": 104,
   "id": "d605cd1a-5dc6-4d15-b130-f0978b2607f2",
   "metadata": {},
   "outputs": [],
   "source": [
    "def selamla(isim = \"Misafir\"):\n",
    "    print(f\"Merhaba, {isim}!\")"
   ]
  },
  {
   "cell_type": "code",
   "execution_count": 105,
   "id": "9b4f31e8-e79f-407a-bcdb-106220722fad",
   "metadata": {},
   "outputs": [
    {
     "name": "stdout",
     "output_type": "stream",
     "text": [
      "Merhaba, Misafir!\n"
     ]
    }
   ],
   "source": [
    "selamla()"
   ]
  },
  {
   "cell_type": "code",
   "execution_count": 106,
   "id": "b58e7082-cc73-49f8-b329-a9e9dbb88c7a",
   "metadata": {},
   "outputs": [
    {
     "name": "stdout",
     "output_type": "stream",
     "text": [
      "Merhaba, Zeynep!\n"
     ]
    }
   ],
   "source": [
    "selamla(\"Zeynep\")"
   ]
  },
  {
   "cell_type": "code",
   "execution_count": 107,
   "id": "cbc22c71-84c9-48db-8718-50d19f3f5612",
   "metadata": {},
   "outputs": [],
   "source": [
    "def bilgi(ad=\"Anonim\", sehir=\"Bilinmiyor\"):\n",
    "    print(f\"{ad} -> {sehir}\")"
   ]
  },
  {
   "cell_type": "code",
   "execution_count": 108,
   "id": "8b61f7c4-de03-44b3-badf-e477eeb10264",
   "metadata": {},
   "outputs": [
    {
     "name": "stdout",
     "output_type": "stream",
     "text": [
      "Anonim -> Bilinmiyor\n"
     ]
    }
   ],
   "source": [
    "bilgi()"
   ]
  },
  {
   "cell_type": "code",
   "execution_count": 109,
   "id": "cc08d8d6-a368-436b-91d9-cd93088571b9",
   "metadata": {},
   "outputs": [
    {
     "name": "stdout",
     "output_type": "stream",
     "text": [
      "Ali -> Bilinmiyor\n"
     ]
    }
   ],
   "source": [
    "bilgi(ad = \"Ali\")"
   ]
  },
  {
   "cell_type": "code",
   "execution_count": 110,
   "id": "7cc7b5bb-f62b-4ddb-99ac-df5036dffd4c",
   "metadata": {},
   "outputs": [
    {
     "name": "stdout",
     "output_type": "stream",
     "text": [
      "Ali -> İzmir\n"
     ]
    }
   ],
   "source": [
    "bilgi(ad = \"Ali\", sehir=\"İzmir\")"
   ]
  },
  {
   "cell_type": "code",
   "execution_count": 111,
   "id": "99c3d659-1536-46b1-9322-c4c3211d05ae",
   "metadata": {},
   "outputs": [],
   "source": [
    "def topla(a,b):\n",
    "    return a+b"
   ]
  },
  {
   "cell_type": "code",
   "execution_count": null,
   "id": "22df0a8e-31d1-43e8-b054-6f5b42b59a0d",
   "metadata": {},
   "outputs": [],
   "source": [
    "topla(2,3)"
   ]
  },
  {
   "cell_type": "raw",
   "id": "435340b5-af3b-48d6-81e7-a4ea90db2d72",
   "metadata": {},
   "source": [
    "*args"
   ]
  },
  {
   "cell_type": "code",
   "execution_count": 113,
   "id": "b093b69c-824a-42a0-8801-43bf64f1e7eb",
   "metadata": {},
   "outputs": [],
   "source": [
    "def topla(*args):\n",
    "    return sum(args)"
   ]
  },
  {
   "cell_type": "code",
   "execution_count": 114,
   "id": "b93092e8-320e-45e7-bb44-95202299b861",
   "metadata": {},
   "outputs": [
    {
     "data": {
      "text/plain": [
       "3"
      ]
     },
     "execution_count": 114,
     "metadata": {},
     "output_type": "execute_result"
    }
   ],
   "source": [
    "topla(1,2)"
   ]
  },
  {
   "cell_type": "code",
   "execution_count": 115,
   "id": "2d5a8cc0-f4e2-4d8c-9b65-1e051c897a75",
   "metadata": {},
   "outputs": [
    {
     "data": {
      "text/plain": [
       "21"
      ]
     },
     "execution_count": 115,
     "metadata": {},
     "output_type": "execute_result"
    }
   ],
   "source": [
    "topla(1,2,5,6,7)"
   ]
  },
  {
   "cell_type": "code",
   "execution_count": 116,
   "id": "489d25fa-1a31-4be4-96af-2b583083074d",
   "metadata": {},
   "outputs": [
    {
     "data": {
      "text/plain": [
       "45"
      ]
     },
     "execution_count": 116,
     "metadata": {},
     "output_type": "execute_result"
    }
   ],
   "source": [
    "topla(1,2,3,4,5,6,7,8,9)"
   ]
  },
  {
   "cell_type": "code",
   "execution_count": 117,
   "id": "cd5f4763-5fad-4dfd-9dd0-53ad5f7adafe",
   "metadata": {},
   "outputs": [],
   "source": [
    "def bilgiler(**kwargs):\n",
    "    for anahtar, deger in kwargs.items():\n",
    "        print(f\"{anahtar}: {deger}\")"
   ]
  },
  {
   "cell_type": "code",
   "execution_count": 118,
   "id": "128be8f9-7bd1-4acd-9f43-12e81416a243",
   "metadata": {},
   "outputs": [
    {
     "name": "stdout",
     "output_type": "stream",
     "text": [
      "ad: Ayşe\n",
      "yas: 25\n",
      "sehir: izmir\n"
     ]
    }
   ],
   "source": [
    "bilgiler(ad=\"Ayşe\", yas=25, sehir=\"izmir\")"
   ]
  },
  {
   "cell_type": "code",
   "execution_count": 119,
   "id": "c9c6f08e-f8d5-422c-9eb2-3d7d3ff69e35",
   "metadata": {},
   "outputs": [],
   "source": [
    "bilgi = {\n",
    "    \"ad\":\"Ali\",\n",
    "    \"soyad\":\"Yılmaz\"\n",
    "}"
   ]
  },
  {
   "cell_type": "code",
   "execution_count": 126,
   "id": "f373158a-38c7-402d-b709-f5e2a91afe26",
   "metadata": {},
   "outputs": [],
   "source": [
    "def selamla(ad, soyad):\n",
    "    print(f\"Merhaba {ad} {soyad}\")"
   ]
  },
  {
   "cell_type": "code",
   "execution_count": 127,
   "id": "0f94d752-b236-48f5-90f1-24bec47bf92d",
   "metadata": {},
   "outputs": [
    {
     "name": "stdout",
     "output_type": "stream",
     "text": [
      "Merhaba Ali Yılmaz\n"
     ]
    }
   ],
   "source": [
    "selamla(**bilgi)"
   ]
  },
  {
   "cell_type": "code",
   "execution_count": 128,
   "id": "a759fc2c-34c2-4157-9cf5-5891152bcd23",
   "metadata": {},
   "outputs": [],
   "source": [
    "def function(a, b, *args, **kwargs):\n",
    "    print(a)\n",
    "    print(b)\n",
    "    print(args)\n",
    "    print(kwargs)"
   ]
  },
  {
   "cell_type": "code",
   "execution_count": 130,
   "id": "c0585900-2a34-432b-a062-7b30a983947c",
   "metadata": {},
   "outputs": [
    {
     "name": "stdout",
     "output_type": "stream",
     "text": [
      "A\n",
      "B\n",
      "(1, 2, 3, 4, 5)\n",
      "{'bir': 1, 'iki': 2, 'uc': 3, 'dort': 4}\n"
     ]
    }
   ],
   "source": [
    "function(\"A\", \"B\", 1,2,3,4,5, bir=1, iki=2, uc=3, dort=4)"
   ]
  },
  {
   "cell_type": "code",
   "execution_count": 131,
   "id": "6f910cf2-6b83-4391-a851-3a7495603711",
   "metadata": {},
   "outputs": [],
   "source": [
    "def topla(a,b):\n",
    "    return a+b"
   ]
  },
  {
   "cell_type": "code",
   "execution_count": 132,
   "id": "e0b2787e-8e40-47da-9aa4-a77549922f7c",
   "metadata": {},
   "outputs": [
    {
     "data": {
      "text/plain": [
       "7"
      ]
     },
     "execution_count": 132,
     "metadata": {},
     "output_type": "execute_result"
    }
   ],
   "source": [
    "topla(3,4)"
   ]
  },
  {
   "cell_type": "markdown",
   "id": "419ca671-4ce9-4939-b0dd-a42d8be2f8b5",
   "metadata": {},
   "source": [
    "# Annotations"
   ]
  },
  {
   "cell_type": "code",
   "execution_count": 133,
   "id": "b4430ee9-a9e3-44b9-b805-29d95562fff9",
   "metadata": {},
   "outputs": [],
   "source": [
    "def topla(a: int, b:int) -> int:\n",
    "    return a+b"
   ]
  },
  {
   "cell_type": "code",
   "execution_count": 134,
   "id": "d1858307-34ca-4c2c-87d8-77c8a808f434",
   "metadata": {},
   "outputs": [
    {
     "data": {
      "text/plain": [
       "7"
      ]
     },
     "execution_count": 134,
     "metadata": {},
     "output_type": "execute_result"
    }
   ],
   "source": [
    "topla(3,4)"
   ]
  },
  {
   "cell_type": "code",
   "execution_count": 135,
   "id": "dc00e483-36ca-4eb4-9d79-41fd98e63a70",
   "metadata": {},
   "outputs": [],
   "source": [
    "def topla(a: int, b: int) -> int:\n",
    "    return a+b"
   ]
  },
  {
   "cell_type": "code",
   "execution_count": 136,
   "id": "b388a75e-bc54-439d-b75c-936eba9ca601",
   "metadata": {},
   "outputs": [
    {
     "data": {
      "text/plain": [
       "7"
      ]
     },
     "execution_count": 136,
     "metadata": {},
     "output_type": "execute_result"
    }
   ],
   "source": [
    "topla(3,4)"
   ]
  },
  {
   "cell_type": "markdown",
   "id": "1d8e81d6-c4a5-42bf-9bc9-4ca212041408",
   "metadata": {},
   "source": [
    "# Asenkron Fonksiyonlar"
   ]
  },
  {
   "cell_type": "code",
   "execution_count": 138,
   "id": "f679d687-9829-4e87-b665-6b732e88ed51",
   "metadata": {},
   "outputs": [],
   "source": [
    "import asyncio"
   ]
  },
  {
   "cell_type": "code",
   "execution_count": 139,
   "id": "f9b54e8a-d216-4d07-88ec-a2b696aac1d4",
   "metadata": {},
   "outputs": [],
   "source": [
    "async def bekle():\n",
    "    print(\"Başlıyor...\")\n",
    "    await asyncio.sleep(1)\n",
    "    print(\"Bitti\")"
   ]
  },
  {
   "cell_type": "code",
   "execution_count": 140,
   "id": "0b9227c2-1816-4cfd-ab2d-6d089c61c4c4",
   "metadata": {},
   "outputs": [
    {
     "name": "stdout",
     "output_type": "stream",
     "text": [
      "Başlıyor...\n",
      "Bitti\n"
     ]
    }
   ],
   "source": [
    "await bekle()"
   ]
  },
  {
   "cell_type": "code",
   "execution_count": 142,
   "id": "e81f8fce-5270-4048-8020-a94d3ec2fd52",
   "metadata": {},
   "outputs": [],
   "source": [
    "async def fırın():\n",
    "    print(\"🍕 Fırına pizza koyuldu...\")\n",
    "    await asyncio.sleep(3)\n",
    "    print(\"🍕 Pizza pişti!\")\n",
    "\n",
    "async def salata():\n",
    "    print(\"🥗 Salata hazırlanıyor...\")\n",
    "    await asyncio.sleep(1)\n",
    "    print(\"🥗 Salata hazır!\")\n",
    "\n",
    "async def yemek_hazirligi():\n",
    "    await asyncio.gather(fırın(), salata())"
   ]
  },
  {
   "cell_type": "code",
   "execution_count": 143,
   "id": "37b6ed2b-2b6e-43d3-b973-fedcea974fad",
   "metadata": {},
   "outputs": [
    {
     "name": "stdout",
     "output_type": "stream",
     "text": [
      "🍕 Fırına pizza koyuldu...\n",
      "🥗 Salata hazırlanıyor...\n",
      "🥗 Salata hazır!\n",
      "🍕 Pizza pişti!\n"
     ]
    }
   ],
   "source": [
    "await yemek_hazirligi()"
   ]
  },
  {
   "cell_type": "code",
   "execution_count": null,
   "id": "2b651296-0326-4bd8-8b22-ce11c6e62aca",
   "metadata": {},
   "outputs": [],
   "source": []
  }
 ],
 "metadata": {
  "kernelspec": {
   "display_name": "Python 3 (ipykernel)",
   "language": "python",
   "name": "python3"
  },
  "language_info": {
   "codemirror_mode": {
    "name": "ipython",
    "version": 3
   },
   "file_extension": ".py",
   "mimetype": "text/x-python",
   "name": "python",
   "nbconvert_exporter": "python",
   "pygments_lexer": "ipython3",
   "version": "3.12.2"
  }
 },
 "nbformat": 4,
 "nbformat_minor": 5
}
