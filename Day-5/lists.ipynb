{
 "cells": [
  {
   "cell_type": "code",
   "execution_count": 1,
   "id": "a6bf1bef-b14b-4c98-bba4-2c62ac7e288b",
   "metadata": {},
   "outputs": [
    {
     "data": {
      "text/plain": [
       "[1, 2, 3, 4, 5]"
      ]
     },
     "execution_count": 1,
     "metadata": {},
     "output_type": "execute_result"
    }
   ],
   "source": [
    "sayilar = [1,2,3,4,5]\n",
    "sayilar"
   ]
  },
  {
   "cell_type": "code",
   "execution_count": 2,
   "id": "dd3916df-2b7f-4e70-9ce4-5e1353d07780",
   "metadata": {},
   "outputs": [
    {
     "data": {
      "text/plain": [
       "list"
      ]
     },
     "execution_count": 2,
     "metadata": {},
     "output_type": "execute_result"
    }
   ],
   "source": [
    "type(sayilar)"
   ]
  },
  {
   "cell_type": "code",
   "execution_count": 3,
   "id": "1f955e85-f8cf-45dd-bf84-d6ff1139e013",
   "metadata": {},
   "outputs": [],
   "source": [
    "meyveler = [\"elma\",\"muz\",\"üzüm\",\"çilek\",\"kiraz\"]"
   ]
  },
  {
   "cell_type": "code",
   "execution_count": 4,
   "id": "0c4926a4-510f-40dc-bc76-6a665dc5c56b",
   "metadata": {},
   "outputs": [],
   "source": [
    "empty = []"
   ]
  },
  {
   "cell_type": "code",
   "execution_count": 5,
   "id": "5dbf1a1c-144b-4631-8a78-7e3f138475d5",
   "metadata": {},
   "outputs": [
    {
     "data": {
      "text/plain": [
       "[0, 1, 4, 9, 16, 25, 36, 49, 64, 81]"
      ]
     },
     "execution_count": 5,
     "metadata": {},
     "output_type": "execute_result"
    }
   ],
   "source": [
    "kareler = []\n",
    "\n",
    "for i in range(10):\n",
    "    kareler.append(i**2)\n",
    "\n",
    "kareler"
   ]
  },
  {
   "cell_type": "code",
   "execution_count": 6,
   "id": "3c281c28-4f2b-4010-8db2-b5af73093ef4",
   "metadata": {},
   "outputs": [],
   "source": [
    "liste = [1, \"Python\", 3.14, [4,5]]"
   ]
  },
  {
   "cell_type": "code",
   "execution_count": 7,
   "id": "f0d4f177-20d6-431c-b239-e5c978d19a0a",
   "metadata": {},
   "outputs": [
    {
     "data": {
      "text/plain": [
       "[1, 'Python', 3.14, [4, 5]]"
      ]
     },
     "execution_count": 7,
     "metadata": {},
     "output_type": "execute_result"
    }
   ],
   "source": [
    "liste"
   ]
  },
  {
   "cell_type": "code",
   "execution_count": 8,
   "id": "4e0674f1-4874-4f18-869e-0eb3edfcf2ef",
   "metadata": {},
   "outputs": [
    {
     "data": {
      "text/plain": [
       "[0, 1, 2, 3]"
      ]
     },
     "execution_count": 8,
     "metadata": {},
     "output_type": "execute_result"
    }
   ],
   "source": [
    "list((0,1,2,3))"
   ]
  },
  {
   "cell_type": "code",
   "execution_count": 9,
   "id": "74baa983-cf01-4abd-892e-597b0e60b870",
   "metadata": {},
   "outputs": [
    {
     "data": {
      "text/plain": [
       "['armut', 'muz', 'elma']"
      ]
     },
     "execution_count": 9,
     "metadata": {},
     "output_type": "execute_result"
    }
   ],
   "source": [
    "list({\"elma\",\"armut\",\"muz\"})"
   ]
  },
  {
   "cell_type": "code",
   "execution_count": 10,
   "id": "7cedb58b-2278-45f4-a21f-ee437728326c",
   "metadata": {},
   "outputs": [
    {
     "data": {
      "text/plain": [
       "['ad', 'yaş']"
      ]
     },
     "execution_count": 10,
     "metadata": {},
     "output_type": "execute_result"
    }
   ],
   "source": [
    "list({\"ad\":\"Ali\", \"yaş\":25})"
   ]
  },
  {
   "cell_type": "code",
   "execution_count": 11,
   "id": "c546c67d-b561-42b7-afeb-fae91aeb8499",
   "metadata": {},
   "outputs": [
    {
     "data": {
      "text/plain": [
       "['ad', 'yaş']"
      ]
     },
     "execution_count": 11,
     "metadata": {},
     "output_type": "execute_result"
    }
   ],
   "source": [
    "list({\"ad\":\"Ali\", \"yaş\":25})"
   ]
  },
  {
   "cell_type": "code",
   "execution_count": 12,
   "id": "752aff65-aec3-42ad-829d-0e077261c889",
   "metadata": {},
   "outputs": [
    {
     "data": {
      "text/plain": [
       "[('ad', 'Ali'), ('yaş', 25)]"
      ]
     },
     "execution_count": 12,
     "metadata": {},
     "output_type": "execute_result"
    }
   ],
   "source": [
    "list({\"ad\":\"Ali\", \"yaş\":25}.items())"
   ]
  },
  {
   "cell_type": "code",
   "execution_count": 13,
   "id": "9f447913-c678-4cdc-9377-2f9d19fd7406",
   "metadata": {},
   "outputs": [
    {
     "data": {
      "text/plain": [
       "['Ali', 25]"
      ]
     },
     "execution_count": 13,
     "metadata": {},
     "output_type": "execute_result"
    }
   ],
   "source": [
    "list({\"ad\":\"Ali\", \"yaş\":25}.values())"
   ]
  },
  {
   "cell_type": "code",
   "execution_count": 14,
   "id": "e247d243-9304-4149-9be5-66ef80c54253",
   "metadata": {},
   "outputs": [
    {
     "data": {
      "text/plain": [
       "['P', 'y', 't', 'h', 'o', 'n']"
      ]
     },
     "execution_count": 14,
     "metadata": {},
     "output_type": "execute_result"
    }
   ],
   "source": [
    "list(\"Python\")"
   ]
  },
  {
   "cell_type": "code",
   "execution_count": 15,
   "id": "8de34d17-dbe7-4860-968b-3f241c70b391",
   "metadata": {},
   "outputs": [],
   "source": [
    "# [expression(item) for item in iterable]"
   ]
  },
  {
   "cell_type": "code",
   "execution_count": 16,
   "id": "2b73867c-f3eb-4ce4-9d37-8718b5b79934",
   "metadata": {},
   "outputs": [
    {
     "data": {
      "text/plain": [
       "8"
      ]
     },
     "execution_count": 16,
     "metadata": {},
     "output_type": "execute_result"
    }
   ],
   "source": [
    "3 +5 "
   ]
  },
  {
   "cell_type": "code",
   "execution_count": 17,
   "id": "c0605d90-8216-47f5-bcac-5458903263a4",
   "metadata": {},
   "outputs": [
    {
     "data": {
      "text/plain": [
       "6"
      ]
     },
     "execution_count": 17,
     "metadata": {},
     "output_type": "execute_result"
    }
   ],
   "source": [
    "len(\"Python\")"
   ]
  },
  {
   "cell_type": "code",
   "execution_count": 18,
   "id": "62ceba68-a5a2-459f-9cab-7ca9f6b37fdc",
   "metadata": {},
   "outputs": [
    {
     "data": {
      "text/plain": [
       "[1, 4, 9, 16, 25, 36, 49, 64, 81, 100]"
      ]
     },
     "execution_count": 18,
     "metadata": {},
     "output_type": "execute_result"
    }
   ],
   "source": [
    "[number**2 for number in range(1,11)]"
   ]
  },
  {
   "cell_type": "code",
   "execution_count": 19,
   "id": "f6f01846-f64c-4d29-af8c-8af49507fa51",
   "metadata": {},
   "outputs": [
    {
     "data": {
      "text/plain": [
       "['elma', 'muz', 'üzüm', 'çilek', 'kiraz']"
      ]
     },
     "execution_count": 19,
     "metadata": {},
     "output_type": "execute_result"
    }
   ],
   "source": [
    "meyveler"
   ]
  },
  {
   "cell_type": "code",
   "execution_count": 20,
   "id": "2c82d8a8-7122-45f5-8b45-63d9e4ba5d5a",
   "metadata": {},
   "outputs": [
    {
     "data": {
      "text/plain": [
       "['ELMA', 'MUZ', 'ÜZÜM', 'ÇILEK', 'KIRAZ']"
      ]
     },
     "execution_count": 20,
     "metadata": {},
     "output_type": "execute_result"
    }
   ],
   "source": [
    "[meyve.upper() for meyve in meyveler]"
   ]
  },
  {
   "cell_type": "code",
   "execution_count": 21,
   "id": "c393354f-691a-45a8-a8a3-cd884d405158",
   "metadata": {},
   "outputs": [
    {
     "data": {
      "text/plain": [
       "['ELMA', 'MUZ', 'ÜZÜM', 'ÇILEK', 'KIRAZ']"
      ]
     },
     "execution_count": 21,
     "metadata": {},
     "output_type": "execute_result"
    }
   ],
   "source": [
    "[meyve.upper() for meyve in meyveler]"
   ]
  },
  {
   "cell_type": "code",
   "execution_count": 22,
   "id": "268c1485-0339-46d1-bffb-3affee1a097a",
   "metadata": {},
   "outputs": [],
   "source": [
    "meyveler_buyuk = [meyve.upper() for meyve in meyveler]"
   ]
  },
  {
   "cell_type": "code",
   "execution_count": 23,
   "id": "f51b714d-b791-439e-b0f5-fc4e599cf362",
   "metadata": {},
   "outputs": [
    {
     "data": {
      "text/plain": [
       "['ELMA', 'MUZ', 'ÜZÜM', 'ÇILEK', 'KIRAZ']"
      ]
     },
     "execution_count": 23,
     "metadata": {},
     "output_type": "execute_result"
    }
   ],
   "source": [
    "meyveler_buyuk"
   ]
  },
  {
   "cell_type": "code",
   "execution_count": 24,
   "id": "2cb05e37-d068-47de-9940-70f2c2b086a4",
   "metadata": {},
   "outputs": [
    {
     "data": {
      "text/plain": [
       "['ELMA', 'MUZ', 'ÜZÜM', 'ÇILEK', 'KIRAZ']"
      ]
     },
     "execution_count": 24,
     "metadata": {},
     "output_type": "execute_result"
    }
   ],
   "source": [
    "[m.upper() for m in meyveler]"
   ]
  },
  {
   "cell_type": "code",
   "execution_count": 25,
   "id": "f6767c53-9472-4cda-abb7-491e037ff322",
   "metadata": {},
   "outputs": [],
   "source": [
    "kelime = \"PYTHON\""
   ]
  },
  {
   "cell_type": "code",
   "execution_count": 26,
   "id": "d7e70ef4-3234-4c5a-abb6-b6d10d84ecdd",
   "metadata": {},
   "outputs": [
    {
     "data": {
      "text/plain": [
       "['p', 'y', 't', 'h', 'o', 'n']"
      ]
     },
     "execution_count": 26,
     "metadata": {},
     "output_type": "execute_result"
    }
   ],
   "source": [
    "[k.lower() for k in kelime]"
   ]
  },
  {
   "cell_type": "code",
   "execution_count": 27,
   "id": "3d38c3f8-9ae6-4930-898f-064fa3860b46",
   "metadata": {},
   "outputs": [
    {
     "data": {
      "text/plain": [
       "['p', 'y', 't', 'h', 'o', 'n']"
      ]
     },
     "execution_count": 27,
     "metadata": {},
     "output_type": "execute_result"
    }
   ],
   "source": [
    "[k.lower() for k in kelime]"
   ]
  },
  {
   "cell_type": "code",
   "execution_count": 28,
   "id": "17b07856-e125-421f-81c7-c50773987e21",
   "metadata": {},
   "outputs": [
    {
     "data": {
      "text/plain": [
       "['p', 'y', 't', 'h', 'o', 'n']"
      ]
     },
     "execution_count": 28,
     "metadata": {},
     "output_type": "execute_result"
    }
   ],
   "source": [
    "[kelime.lower() for kelime in kelime]"
   ]
  },
  {
   "cell_type": "code",
   "execution_count": 29,
   "id": "e8d9b719-5827-400a-b8a5-7b240d98783a",
   "metadata": {},
   "outputs": [
    {
     "data": {
      "text/plain": [
       "['elma', 'muz', 'üzüm', 'çilek', 'kiraz']"
      ]
     },
     "execution_count": 29,
     "metadata": {},
     "output_type": "execute_result"
    }
   ],
   "source": [
    "[meyve.lower() for meyve in meyveler]"
   ]
  },
  {
   "cell_type": "code",
   "execution_count": 30,
   "id": "97118d15-2f39-479c-9a8a-04be29312abd",
   "metadata": {},
   "outputs": [
    {
     "data": {
      "text/plain": [
       "['p', 'y', 't', 'h', 'o', 'n']"
      ]
     },
     "execution_count": 30,
     "metadata": {},
     "output_type": "execute_result"
    }
   ],
   "source": [
    "[k.lower() for k in kelime]"
   ]
  },
  {
   "cell_type": "code",
   "execution_count": 31,
   "id": "91df3ea7-dab8-4e82-97d0-3f62501fd202",
   "metadata": {},
   "outputs": [
    {
     "data": {
      "text/plain": [
       "[1, 'Python', 3.14, [4, 5]]"
      ]
     },
     "execution_count": 31,
     "metadata": {},
     "output_type": "execute_result"
    }
   ],
   "source": [
    "liste"
   ]
  },
  {
   "cell_type": "code",
   "execution_count": 32,
   "id": "f1808247-0bb2-4f32-bb95-97a5545afd6b",
   "metadata": {},
   "outputs": [
    {
     "data": {
      "text/plain": [
       "1"
      ]
     },
     "execution_count": 32,
     "metadata": {},
     "output_type": "execute_result"
    }
   ],
   "source": [
    "liste[0]"
   ]
  },
  {
   "cell_type": "code",
   "execution_count": 33,
   "id": "6c4eac38-26a1-4c8f-95be-a4815f17e3d6",
   "metadata": {},
   "outputs": [
    {
     "data": {
      "text/plain": [
       "'Python'"
      ]
     },
     "execution_count": 33,
     "metadata": {},
     "output_type": "execute_result"
    }
   ],
   "source": [
    "liste[1]"
   ]
  },
  {
   "cell_type": "code",
   "execution_count": 34,
   "id": "d2c24103-b7ee-4ffa-8ccd-413f7465be32",
   "metadata": {},
   "outputs": [
    {
     "data": {
      "text/plain": [
       "3.14"
      ]
     },
     "execution_count": 34,
     "metadata": {},
     "output_type": "execute_result"
    }
   ],
   "source": [
    "liste[2]"
   ]
  },
  {
   "cell_type": "code",
   "execution_count": 35,
   "id": "0b4cccb2-e3f8-463e-baf2-7f16501e576a",
   "metadata": {},
   "outputs": [
    {
     "data": {
      "text/plain": [
       "[4, 5]"
      ]
     },
     "execution_count": 35,
     "metadata": {},
     "output_type": "execute_result"
    }
   ],
   "source": [
    "liste[3]"
   ]
  },
  {
   "cell_type": "code",
   "execution_count": 36,
   "id": "a162a2a4-434e-489c-aa78-b476c0a7701a",
   "metadata": {},
   "outputs": [
    {
     "data": {
      "text/plain": [
       "[1, 'Python', 3.14, [4, 5]]"
      ]
     },
     "execution_count": 36,
     "metadata": {},
     "output_type": "execute_result"
    }
   ],
   "source": [
    "liste"
   ]
  },
  {
   "cell_type": "code",
   "execution_count": 37,
   "id": "edc3b735-8299-485f-9403-72ec6730e17c",
   "metadata": {},
   "outputs": [
    {
     "data": {
      "text/plain": [
       "[4, 5]"
      ]
     },
     "execution_count": 37,
     "metadata": {},
     "output_type": "execute_result"
    }
   ],
   "source": [
    "liste[-1]"
   ]
  },
  {
   "cell_type": "code",
   "execution_count": 38,
   "id": "4439c027-4b82-45fa-bab8-d81aa99e5ccb",
   "metadata": {},
   "outputs": [
    {
     "data": {
      "text/plain": [
       "3.14"
      ]
     },
     "execution_count": 38,
     "metadata": {},
     "output_type": "execute_result"
    }
   ],
   "source": [
    "liste[-2]"
   ]
  },
  {
   "cell_type": "code",
   "execution_count": 39,
   "id": "82461da2-51f9-40d0-a540-f03e90397b51",
   "metadata": {},
   "outputs": [
    {
     "data": {
      "text/plain": [
       "4"
      ]
     },
     "execution_count": 39,
     "metadata": {},
     "output_type": "execute_result"
    }
   ],
   "source": [
    "liste[3][0]"
   ]
  },
  {
   "cell_type": "code",
   "execution_count": 40,
   "id": "cc40b713-f8d0-43cf-8284-a65500522474",
   "metadata": {},
   "outputs": [
    {
     "data": {
      "text/plain": [
       "5"
      ]
     },
     "execution_count": 40,
     "metadata": {},
     "output_type": "execute_result"
    }
   ],
   "source": [
    "liste[3][1]"
   ]
  },
  {
   "cell_type": "code",
   "execution_count": 41,
   "id": "e8b7384e-1851-4c7d-956d-d4bb028dd543",
   "metadata": {},
   "outputs": [
    {
     "data": {
      "text/plain": [
       "[4, 5]"
      ]
     },
     "execution_count": 41,
     "metadata": {},
     "output_type": "execute_result"
    }
   ],
   "source": [
    "liste[3]"
   ]
  },
  {
   "cell_type": "code",
   "execution_count": 42,
   "id": "8bc2a435-f8be-4448-a628-11e218ea7299",
   "metadata": {},
   "outputs": [],
   "source": [
    "personel = [\n",
    "    {\"isim\":\"Efe\", \"yaş\": 30, \"meslek\":\"yazılımcı\"},\n",
    "    {\"isim\":\"Deniz\", \"yaş\": 35, \"meslek\":\"veri bilimci\"},\n",
    "    {\"isim\":\"Ada\", \"yaş\": 40, \"meslek\":\"yapay zekacı\"},\n",
    "]"
   ]
  },
  {
   "cell_type": "code",
   "execution_count": 43,
   "id": "12107cc5-a02e-4237-b461-bd12e549e135",
   "metadata": {},
   "outputs": [
    {
     "data": {
      "text/plain": [
       "{'isim': 'Deniz', 'yaş': 35, 'meslek': 'veri bilimci'}"
      ]
     },
     "execution_count": 43,
     "metadata": {},
     "output_type": "execute_result"
    }
   ],
   "source": [
    "personel[1]"
   ]
  },
  {
   "cell_type": "code",
   "execution_count": 44,
   "id": "c120aeef-e356-4e36-8ea1-ed54eeab6de1",
   "metadata": {},
   "outputs": [
    {
     "data": {
      "text/plain": [
       "'Deniz'"
      ]
     },
     "execution_count": 44,
     "metadata": {},
     "output_type": "execute_result"
    }
   ],
   "source": [
    "personel[1][\"isim\"]"
   ]
  },
  {
   "cell_type": "code",
   "execution_count": 45,
   "id": "1ab7ca90-da04-483f-b92a-0634d18be0b3",
   "metadata": {},
   "outputs": [
    {
     "data": {
      "text/plain": [
       "'Efe'"
      ]
     },
     "execution_count": 45,
     "metadata": {},
     "output_type": "execute_result"
    }
   ],
   "source": [
    "personel[0][\"isim\"]"
   ]
  },
  {
   "cell_type": "code",
   "execution_count": 46,
   "id": "b9439b54-1b76-450f-a30f-849630607dad",
   "metadata": {},
   "outputs": [
    {
     "data": {
      "text/plain": [
       "'yazılımcı'"
      ]
     },
     "execution_count": 46,
     "metadata": {},
     "output_type": "execute_result"
    }
   ],
   "source": [
    "personel[0][\"meslek\"]"
   ]
  },
  {
   "cell_type": "code",
   "execution_count": 47,
   "id": "b65af2ae-bf29-4f53-b3e3-1cb196495e76",
   "metadata": {},
   "outputs": [],
   "source": [
    "# list_object[start:stop:step]"
   ]
  },
  {
   "cell_type": "code",
   "execution_count": 48,
   "id": "66ef6802-75ec-49e8-b91c-b381f4016333",
   "metadata": {},
   "outputs": [],
   "source": [
    "harfler = \"AaBbCcDd\""
   ]
  },
  {
   "cell_type": "code",
   "execution_count": 49,
   "id": "0c333211-ed08-4620-a788-a8b989092bd9",
   "metadata": {},
   "outputs": [],
   "source": [
    "harfler = [harf for harf in harfler]"
   ]
  },
  {
   "cell_type": "code",
   "execution_count": 50,
   "id": "d99cedf3-748c-4ee2-b8f4-19d44b214100",
   "metadata": {},
   "outputs": [
    {
     "data": {
      "text/plain": [
       "['A', 'a', 'B', 'b', 'C', 'c', 'D', 'd']"
      ]
     },
     "execution_count": 50,
     "metadata": {},
     "output_type": "execute_result"
    }
   ],
   "source": [
    "harfler"
   ]
  },
  {
   "cell_type": "code",
   "execution_count": 51,
   "id": "f0434049-9142-47fb-9293-e08207e31334",
   "metadata": {},
   "outputs": [
    {
     "data": {
      "text/plain": [
       "['A', 'a', 'B', 'b']"
      ]
     },
     "execution_count": 51,
     "metadata": {},
     "output_type": "execute_result"
    }
   ],
   "source": [
    "harfler[:4]"
   ]
  },
  {
   "cell_type": "code",
   "execution_count": 52,
   "id": "f7c2b36f-a082-4ba5-bdb0-77d32681ae01",
   "metadata": {},
   "outputs": [
    {
     "data": {
      "text/plain": [
       "['B', 'b']"
      ]
     },
     "execution_count": 52,
     "metadata": {},
     "output_type": "execute_result"
    }
   ],
   "source": [
    "harfler[2:4]"
   ]
  },
  {
   "cell_type": "code",
   "execution_count": 53,
   "id": "64292f31-2d4f-4d49-8848-fb2f00c3a542",
   "metadata": {},
   "outputs": [
    {
     "data": {
      "text/plain": [
       "['c', 'D', 'd']"
      ]
     },
     "execution_count": 53,
     "metadata": {},
     "output_type": "execute_result"
    }
   ],
   "source": [
    "harfler[-3:]"
   ]
  },
  {
   "cell_type": "code",
   "execution_count": 54,
   "id": "0e1c4940-496a-4269-8e4d-1cd88e2010f8",
   "metadata": {},
   "outputs": [
    {
     "data": {
      "text/plain": [
       "['a', 'b', 'c', 'd']"
      ]
     },
     "execution_count": 54,
     "metadata": {},
     "output_type": "execute_result"
    }
   ],
   "source": [
    "harfler[1::2]"
   ]
  },
  {
   "cell_type": "code",
   "execution_count": 55,
   "id": "544511c3-2148-43e5-b787-509e0a19260f",
   "metadata": {},
   "outputs": [
    {
     "data": {
      "text/plain": [
       "['A', 'a', 'B', 'b', 'C', 'c', 'D', 'd']"
      ]
     },
     "execution_count": 55,
     "metadata": {},
     "output_type": "execute_result"
    }
   ],
   "source": [
    "harfler"
   ]
  },
  {
   "cell_type": "code",
   "execution_count": 56,
   "id": "3bb6be0f-060b-43db-ae68-6b6f9480b455",
   "metadata": {},
   "outputs": [
    {
     "data": {
      "text/plain": [
       "['d', 'D', 'c', 'C', 'b', 'B', 'a', 'A']"
      ]
     },
     "execution_count": 56,
     "metadata": {},
     "output_type": "execute_result"
    }
   ],
   "source": [
    "harfler[::-1]"
   ]
  },
  {
   "cell_type": "code",
   "execution_count": 57,
   "id": "8a077dda-b6b0-4ad8-a669-a49512b7bd75",
   "metadata": {},
   "outputs": [
    {
     "data": {
      "text/plain": [
       "['d', 'c', 'b', 'a']"
      ]
     },
     "execution_count": 57,
     "metadata": {},
     "output_type": "execute_result"
    }
   ],
   "source": [
    "harfler[::-2]"
   ]
  },
  {
   "cell_type": "code",
   "execution_count": 59,
   "id": "95b5496f-8f8a-44be-aee9-8d9cabd7cd61",
   "metadata": {},
   "outputs": [],
   "source": [
    "# slice(start, stop, step)"
   ]
  },
  {
   "cell_type": "code",
   "execution_count": 60,
   "id": "d5ba7a5a-d980-404c-8f6b-13f83e2601f6",
   "metadata": {},
   "outputs": [
    {
     "data": {
      "text/plain": [
       "['elma', 'muz', 'üzüm', 'çilek', 'kiraz']"
      ]
     },
     "execution_count": 60,
     "metadata": {},
     "output_type": "execute_result"
    }
   ],
   "source": [
    "meyveler"
   ]
  },
  {
   "cell_type": "code",
   "execution_count": 61,
   "id": "3fbb4b0e-a98d-4f6b-8f0e-750aba9ecedc",
   "metadata": {},
   "outputs": [],
   "source": [
    "dilim = slice(1,4)"
   ]
  },
  {
   "cell_type": "code",
   "execution_count": 62,
   "id": "25da8243-816c-47d5-a749-ef705ceae8a8",
   "metadata": {},
   "outputs": [
    {
     "data": {
      "text/plain": [
       "slice(1, 4, None)"
      ]
     },
     "execution_count": 62,
     "metadata": {},
     "output_type": "execute_result"
    }
   ],
   "source": [
    "dilim"
   ]
  },
  {
   "cell_type": "code",
   "execution_count": 63,
   "id": "f53d60cd-2e6f-4cd1-8252-77e7225d7a7e",
   "metadata": {},
   "outputs": [
    {
     "data": {
      "text/plain": [
       "['muz', 'üzüm', 'çilek']"
      ]
     },
     "execution_count": 63,
     "metadata": {},
     "output_type": "execute_result"
    }
   ],
   "source": [
    "meyveler[dilim]"
   ]
  },
  {
   "cell_type": "code",
   "execution_count": 64,
   "id": "3d1ed4b6-d8f0-49ac-bee9-9495f8c3035d",
   "metadata": {},
   "outputs": [],
   "source": [
    "dilim2 = slice(0,5,2)"
   ]
  },
  {
   "cell_type": "code",
   "execution_count": 65,
   "id": "0dac0a81-a3b2-4b27-a195-8818926ad217",
   "metadata": {},
   "outputs": [
    {
     "data": {
      "text/plain": [
       "['elma', 'üzüm', 'kiraz']"
      ]
     },
     "execution_count": 65,
     "metadata": {},
     "output_type": "execute_result"
    }
   ],
   "source": [
    "meyveler[dilim2]"
   ]
  },
  {
   "cell_type": "code",
   "execution_count": 66,
   "id": "2543af78-9197-4705-b538-023016862386",
   "metadata": {},
   "outputs": [],
   "source": [
    "matris = [[1,2,3],\n",
    "          [4,5,6],\n",
    "          [7,8,9]]"
   ]
  },
  {
   "cell_type": "code",
   "execution_count": 67,
   "id": "5f136b94-5654-4211-ae12-86416fd8e82f",
   "metadata": {},
   "outputs": [
    {
     "data": {
      "text/plain": [
       "[4, 5, 6]"
      ]
     },
     "execution_count": 67,
     "metadata": {},
     "output_type": "execute_result"
    }
   ],
   "source": [
    "matris[1]"
   ]
  },
  {
   "cell_type": "code",
   "execution_count": 68,
   "id": "69359046-752e-4061-801e-4de6870b5e88",
   "metadata": {},
   "outputs": [
    {
     "data": {
      "text/plain": [
       "[7, 8, 9]"
      ]
     },
     "execution_count": 68,
     "metadata": {},
     "output_type": "execute_result"
    }
   ],
   "source": [
    "matris[2]"
   ]
  },
  {
   "cell_type": "code",
   "execution_count": 69,
   "id": "6541286a-7d89-4998-94bd-0b85c97fb43f",
   "metadata": {},
   "outputs": [
    {
     "data": {
      "text/plain": [
       "7"
      ]
     },
     "execution_count": 69,
     "metadata": {},
     "output_type": "execute_result"
    }
   ],
   "source": [
    "matris[2][0]"
   ]
  },
  {
   "cell_type": "code",
   "execution_count": 70,
   "id": "dad8eb40-8809-4cea-b9cb-06c30dbe4e88",
   "metadata": {},
   "outputs": [],
   "source": [
    "sayilar = [1,2,3,4]"
   ]
  },
  {
   "cell_type": "code",
   "execution_count": 71,
   "id": "fa1ba9aa-0f0c-43a9-8315-53a858062d53",
   "metadata": {},
   "outputs": [
    {
     "data": {
      "text/plain": [
       "1"
      ]
     },
     "execution_count": 71,
     "metadata": {},
     "output_type": "execute_result"
    }
   ],
   "source": [
    "sayilar[0]"
   ]
  },
  {
   "cell_type": "code",
   "execution_count": 72,
   "id": "9c7d0ce6-6f28-489b-bff3-a66041348131",
   "metadata": {},
   "outputs": [
    {
     "data": {
      "text/plain": [
       "2483706508992"
      ]
     },
     "execution_count": 72,
     "metadata": {},
     "output_type": "execute_result"
    }
   ],
   "source": [
    "id(sayilar)"
   ]
  },
  {
   "cell_type": "code",
   "execution_count": 73,
   "id": "fa40b881-814b-4fd5-9123-d6c455b216ee",
   "metadata": {},
   "outputs": [],
   "source": [
    "sayilar[0] = \"bir\"\n",
    "sayilar[1] = \"iki\"\n",
    "sayilar[2] = \"üç\"\n",
    "sayilar[3] = \"dört\""
   ]
  },
  {
   "cell_type": "code",
   "execution_count": 74,
   "id": "a4954a6f-c414-4361-a1d5-bc86e5e82b91",
   "metadata": {},
   "outputs": [
    {
     "data": {
      "text/plain": [
       "['bir', 'iki', 'üç', 'dört']"
      ]
     },
     "execution_count": 74,
     "metadata": {},
     "output_type": "execute_result"
    }
   ],
   "source": [
    "sayilar"
   ]
  },
  {
   "cell_type": "code",
   "execution_count": 75,
   "id": "d255327d-3fdc-40e4-85f8-b92c4bd6ea90",
   "metadata": {},
   "outputs": [
    {
     "data": {
      "text/plain": [
       "2483706508992"
      ]
     },
     "execution_count": 75,
     "metadata": {},
     "output_type": "execute_result"
    }
   ],
   "source": [
    "id(sayilar)"
   ]
  },
  {
   "cell_type": "code",
   "execution_count": 76,
   "id": "94592da9-b923-4c9f-b021-353131224a6d",
   "metadata": {},
   "outputs": [
    {
     "data": {
      "text/plain": [
       "['elma', 'muz', 'üzüm', 'çilek', 'kiraz']"
      ]
     },
     "execution_count": 76,
     "metadata": {},
     "output_type": "execute_result"
    }
   ],
   "source": [
    "meyveler"
   ]
  },
  {
   "cell_type": "code",
   "execution_count": 77,
   "id": "a57c5995-8da5-4182-85e9-3740776e302e",
   "metadata": {},
   "outputs": [
    {
     "data": {
      "text/plain": [
       "3"
      ]
     },
     "execution_count": 77,
     "metadata": {},
     "output_type": "execute_result"
    }
   ],
   "source": [
    "meyveler.index(\"çilek\")"
   ]
  },
  {
   "cell_type": "code",
   "execution_count": 78,
   "id": "61aa4ae6-f004-41a4-8ec2-771e345f1924",
   "metadata": {},
   "outputs": [],
   "source": [
    "meyveler[meyveler.index(\"çilek\")] = \"kavun\""
   ]
  },
  {
   "cell_type": "code",
   "execution_count": 79,
   "id": "db328b44-e50b-4896-9f4d-5cf20b924465",
   "metadata": {},
   "outputs": [
    {
     "data": {
      "text/plain": [
       "['elma', 'muz', 'üzüm', 'kavun', 'kiraz']"
      ]
     },
     "execution_count": 79,
     "metadata": {},
     "output_type": "execute_result"
    }
   ],
   "source": [
    "meyveler"
   ]
  },
  {
   "cell_type": "code",
   "execution_count": 80,
   "id": "ec1964b6-8ebe-4edd-8e99-a8bf92db7c3a",
   "metadata": {},
   "outputs": [
    {
     "data": {
      "text/plain": [
       "['bir', 'iki', 'üç', 'dört']"
      ]
     },
     "execution_count": 80,
     "metadata": {},
     "output_type": "execute_result"
    }
   ],
   "source": [
    "sayilar"
   ]
  },
  {
   "cell_type": "code",
   "execution_count": 81,
   "id": "5612d3bf-4b70-4f43-9f94-aed7fe8c1171",
   "metadata": {},
   "outputs": [],
   "source": [
    "sayilar = [1,2,3,4,5,6,7]"
   ]
  },
  {
   "cell_type": "code",
   "execution_count": 82,
   "id": "7b7f8614-5c1a-4247-9864-1bb517586ecd",
   "metadata": {},
   "outputs": [],
   "source": [
    "sayilar[1:4] = [22,33,44]"
   ]
  },
  {
   "cell_type": "code",
   "execution_count": 83,
   "id": "9848454c-0801-4297-a7b4-e03396c32b4a",
   "metadata": {},
   "outputs": [
    {
     "data": {
      "text/plain": [
       "[1, 22, 33, 44, 5, 6, 7]"
      ]
     },
     "execution_count": 83,
     "metadata": {},
     "output_type": "execute_result"
    }
   ],
   "source": [
    "sayilar"
   ]
  },
  {
   "cell_type": "code",
   "execution_count": 84,
   "id": "f1e52195-1db1-4c5b-984a-06bf0d6b7021",
   "metadata": {},
   "outputs": [],
   "source": [
    "sayilar = [1,5,6,7]"
   ]
  },
  {
   "cell_type": "code",
   "execution_count": 85,
   "id": "9d130ba5-e1e6-4ce5-821e-2273edc6ea84",
   "metadata": {},
   "outputs": [
    {
     "data": {
      "text/plain": [
       "[1, 5, 6, 7]"
      ]
     },
     "execution_count": 85,
     "metadata": {},
     "output_type": "execute_result"
    }
   ],
   "source": [
    "sayilar"
   ]
  },
  {
   "cell_type": "code",
   "execution_count": 86,
   "id": "0effd488-cee1-4d30-80d2-e226eed06a99",
   "metadata": {},
   "outputs": [],
   "source": [
    "sayilar[1:1] = [2,3,4]"
   ]
  },
  {
   "cell_type": "code",
   "execution_count": 87,
   "id": "49bacca2-51e6-4d85-9b67-455f6464fbe1",
   "metadata": {},
   "outputs": [
    {
     "data": {
      "text/plain": [
       "[1, 2, 3, 4, 5, 6, 7]"
      ]
     },
     "execution_count": 87,
     "metadata": {},
     "output_type": "execute_result"
    }
   ],
   "source": [
    "sayilar"
   ]
  },
  {
   "cell_type": "code",
   "execution_count": 88,
   "id": "a7ac2b7b-915d-40bb-ba12-18c140306f8f",
   "metadata": {},
   "outputs": [],
   "source": [
    "sayilar = [1,2,0,0,0,0,4,5,6,7]"
   ]
  },
  {
   "cell_type": "code",
   "execution_count": 89,
   "id": "3377318e-91bb-4647-8b63-894c22d5f9fa",
   "metadata": {},
   "outputs": [],
   "source": [
    "sayilar[2:6] = [3]"
   ]
  },
  {
   "cell_type": "code",
   "execution_count": 90,
   "id": "db077442-d382-4381-9f5d-1823cfb73f84",
   "metadata": {},
   "outputs": [
    {
     "data": {
      "text/plain": [
       "[1, 2, 3, 4, 5, 6, 7]"
      ]
     },
     "execution_count": 90,
     "metadata": {},
     "output_type": "execute_result"
    }
   ],
   "source": [
    "sayilar"
   ]
  },
  {
   "cell_type": "markdown",
   "id": "6a381600-f429-4833-a43d-9345ebf9ba6f",
   "metadata": {},
   "source": [
    "# Kopyalama"
   ]
  },
  {
   "cell_type": "code",
   "execution_count": 91,
   "id": "2a76aed6-0191-4a86-9cd0-f8f4b103b7aa",
   "metadata": {},
   "outputs": [],
   "source": [
    "a = [1,2,3]"
   ]
  },
  {
   "cell_type": "code",
   "execution_count": 92,
   "id": "a92ae752-c254-4924-b156-ddcec8dd3c82",
   "metadata": {},
   "outputs": [
    {
     "data": {
      "text/plain": [
       "2483713372736"
      ]
     },
     "execution_count": 92,
     "metadata": {},
     "output_type": "execute_result"
    }
   ],
   "source": [
    "id(a)"
   ]
  },
  {
   "cell_type": "code",
   "execution_count": 93,
   "id": "f46876c2-cd57-4066-a172-d82e68845bfb",
   "metadata": {},
   "outputs": [],
   "source": [
    "b = a"
   ]
  },
  {
   "cell_type": "code",
   "execution_count": 94,
   "id": "75477ff1-1c6f-47d5-9058-d13216bed1e0",
   "metadata": {},
   "outputs": [
    {
     "data": {
      "text/plain": [
       "2483713372736"
      ]
     },
     "execution_count": 94,
     "metadata": {},
     "output_type": "execute_result"
    }
   ],
   "source": [
    "id(b)"
   ]
  },
  {
   "cell_type": "code",
   "execution_count": 95,
   "id": "7a20efdb-6309-49c0-99b7-6aca15c1533b",
   "metadata": {},
   "outputs": [
    {
     "data": {
      "text/plain": [
       "[1, 2, 3]"
      ]
     },
     "execution_count": 95,
     "metadata": {},
     "output_type": "execute_result"
    }
   ],
   "source": [
    "b"
   ]
  },
  {
   "cell_type": "code",
   "execution_count": 96,
   "id": "c47121a5-f9eb-4e75-b4ee-56a842abdb5f",
   "metadata": {},
   "outputs": [],
   "source": [
    "b[0] = 99"
   ]
  },
  {
   "cell_type": "code",
   "execution_count": 97,
   "id": "725eb44c-d63e-4bc3-a6db-7a04a4478b6b",
   "metadata": {},
   "outputs": [
    {
     "data": {
      "text/plain": [
       "[99, 2, 3]"
      ]
     },
     "execution_count": 97,
     "metadata": {},
     "output_type": "execute_result"
    }
   ],
   "source": [
    "b"
   ]
  },
  {
   "cell_type": "code",
   "execution_count": 98,
   "id": "7363613e-9125-42c1-b3cf-68e0230788ac",
   "metadata": {},
   "outputs": [
    {
     "data": {
      "text/plain": [
       "[99, 2, 3]"
      ]
     },
     "execution_count": 98,
     "metadata": {},
     "output_type": "execute_result"
    }
   ],
   "source": [
    "a"
   ]
  },
  {
   "cell_type": "code",
   "execution_count": 99,
   "id": "0952728a-6bd4-42a5-bca2-2aea55b9ed88",
   "metadata": {},
   "outputs": [],
   "source": [
    "a = [[1,2], [3,4], [5,6]]"
   ]
  },
  {
   "cell_type": "code",
   "execution_count": 100,
   "id": "17ba87c4-be47-4ff4-b039-07a5882cbd69",
   "metadata": {},
   "outputs": [],
   "source": [
    "b = a[:]"
   ]
  },
  {
   "cell_type": "code",
   "execution_count": 101,
   "id": "e6cfdbc4-d1bb-4c0c-bda2-6ea4777df39e",
   "metadata": {},
   "outputs": [
    {
     "data": {
      "text/plain": [
       "[[1, 2], [3, 4], [5, 6]]"
      ]
     },
     "execution_count": 101,
     "metadata": {},
     "output_type": "execute_result"
    }
   ],
   "source": [
    "b"
   ]
  },
  {
   "cell_type": "code",
   "execution_count": 102,
   "id": "bcfaa5b7-001e-4866-9869-5fbb3e41fc2e",
   "metadata": {},
   "outputs": [
    {
     "data": {
      "text/plain": [
       "2483712750464"
      ]
     },
     "execution_count": 102,
     "metadata": {},
     "output_type": "execute_result"
    }
   ],
   "source": [
    "id(a)"
   ]
  },
  {
   "cell_type": "code",
   "execution_count": 103,
   "id": "a2c518dd-f7a4-4e8c-83bb-20c5d8ed44bc",
   "metadata": {},
   "outputs": [
    {
     "data": {
      "text/plain": [
       "2483712783872"
      ]
     },
     "execution_count": 103,
     "metadata": {},
     "output_type": "execute_result"
    }
   ],
   "source": [
    "id(b)"
   ]
  },
  {
   "cell_type": "code",
   "execution_count": 104,
   "id": "e0d54f73-0303-484c-b82e-ebd54c94f3f2",
   "metadata": {},
   "outputs": [
    {
     "data": {
      "text/plain": [
       "3"
      ]
     },
     "execution_count": 104,
     "metadata": {},
     "output_type": "execute_result"
    }
   ],
   "source": [
    "b[1][0]"
   ]
  },
  {
   "cell_type": "code",
   "execution_count": 105,
   "id": "83306d96-6bca-4ff3-9c6b-81c2aad4f3d1",
   "metadata": {},
   "outputs": [],
   "source": [
    "b[1][0] = 999"
   ]
  },
  {
   "cell_type": "code",
   "execution_count": 106,
   "id": "0bab8c77-7748-4d2f-9f3f-8b0d03bf120f",
   "metadata": {},
   "outputs": [
    {
     "data": {
      "text/plain": [
       "[[1, 2], [999, 4], [5, 6]]"
      ]
     },
     "execution_count": 106,
     "metadata": {},
     "output_type": "execute_result"
    }
   ],
   "source": [
    "b"
   ]
  },
  {
   "cell_type": "code",
   "execution_count": 107,
   "id": "9e7df6a8-80ba-4bab-aaeb-cf82544a4209",
   "metadata": {},
   "outputs": [
    {
     "data": {
      "text/plain": [
       "[[1, 2], [999, 4], [5, 6]]"
      ]
     },
     "execution_count": 107,
     "metadata": {},
     "output_type": "execute_result"
    }
   ],
   "source": [
    "a"
   ]
  },
  {
   "cell_type": "code",
   "execution_count": 108,
   "id": "a8ac8024-6a53-42f4-8a55-3c55e40a7b93",
   "metadata": {},
   "outputs": [],
   "source": [
    "x = [1,2,3,[4,5]]"
   ]
  },
  {
   "cell_type": "code",
   "execution_count": 109,
   "id": "58397fd3-148a-4a8d-9fb4-126d9fb53a1a",
   "metadata": {},
   "outputs": [
    {
     "data": {
      "text/plain": [
       "[1, 2, 3, [4, 5]]"
      ]
     },
     "execution_count": 109,
     "metadata": {},
     "output_type": "execute_result"
    }
   ],
   "source": [
    "x"
   ]
  },
  {
   "cell_type": "code",
   "execution_count": 110,
   "id": "45142252-007a-4c09-86f0-55276d667f84",
   "metadata": {},
   "outputs": [],
   "source": [
    "y = x.copy()"
   ]
  },
  {
   "cell_type": "code",
   "execution_count": 111,
   "id": "9ab9d320-3fe5-4ba6-a205-b5089aa32d6a",
   "metadata": {},
   "outputs": [
    {
     "data": {
      "text/plain": [
       "[1, 2, 3, [4, 5]]"
      ]
     },
     "execution_count": 111,
     "metadata": {},
     "output_type": "execute_result"
    }
   ],
   "source": [
    "y"
   ]
  },
  {
   "cell_type": "code",
   "execution_count": 112,
   "id": "74801a49-5f54-466a-bbc1-82ba65b7d073",
   "metadata": {},
   "outputs": [],
   "source": [
    "y[3][0] = 99"
   ]
  },
  {
   "cell_type": "code",
   "execution_count": 113,
   "id": "823a5e34-b1ab-4e7e-b1b1-bb916ad68f46",
   "metadata": {},
   "outputs": [
    {
     "data": {
      "text/plain": [
       "[1, 2, 3, [99, 5]]"
      ]
     },
     "execution_count": 113,
     "metadata": {},
     "output_type": "execute_result"
    }
   ],
   "source": [
    "y"
   ]
  },
  {
   "cell_type": "code",
   "execution_count": 114,
   "id": "f5c80e71-04ad-4655-8a27-3dc91a7a0d8b",
   "metadata": {},
   "outputs": [
    {
     "data": {
      "text/plain": [
       "[1, 2, 3, [99, 5]]"
      ]
     },
     "execution_count": 114,
     "metadata": {},
     "output_type": "execute_result"
    }
   ],
   "source": [
    "x"
   ]
  },
  {
   "cell_type": "code",
   "execution_count": 115,
   "id": "2203a114-0ba2-4910-a0e4-56648de44532",
   "metadata": {},
   "outputs": [
    {
     "data": {
      "text/plain": [
       "2483712748416"
      ]
     },
     "execution_count": 115,
     "metadata": {},
     "output_type": "execute_result"
    }
   ],
   "source": [
    "id(x)"
   ]
  },
  {
   "cell_type": "code",
   "execution_count": 116,
   "id": "eaa6ece7-a1a7-4b0f-89aa-d3cf67a3535e",
   "metadata": {},
   "outputs": [
    {
     "data": {
      "text/plain": [
       "2483713372928"
      ]
     },
     "execution_count": 116,
     "metadata": {},
     "output_type": "execute_result"
    }
   ],
   "source": [
    "id(y)"
   ]
  },
  {
   "cell_type": "code",
   "execution_count": 117,
   "id": "4772ac92-91ae-404d-a14a-a61c359d289d",
   "metadata": {},
   "outputs": [],
   "source": [
    "from copy import copy"
   ]
  },
  {
   "cell_type": "code",
   "execution_count": 118,
   "id": "961e49ec-a2af-4ebe-9434-23dc5eb425ce",
   "metadata": {},
   "outputs": [],
   "source": [
    "a = [10,11,12,13,14]"
   ]
  },
  {
   "cell_type": "code",
   "execution_count": 119,
   "id": "91390e17-c554-429e-b5c5-9f6d8f84f2e3",
   "metadata": {},
   "outputs": [],
   "source": [
    "b = copy(a)"
   ]
  },
  {
   "cell_type": "code",
   "execution_count": 120,
   "id": "55945b4c-213c-4a9f-8c87-5a5bb85d9050",
   "metadata": {},
   "outputs": [
    {
     "data": {
      "text/plain": [
       "2483712981248"
      ]
     },
     "execution_count": 120,
     "metadata": {},
     "output_type": "execute_result"
    }
   ],
   "source": [
    "id(a)"
   ]
  },
  {
   "cell_type": "code",
   "execution_count": 121,
   "id": "20667487-9289-42b7-9d6c-6dbb9a2fc811",
   "metadata": {},
   "outputs": [
    {
     "data": {
      "text/plain": [
       "2483706510976"
      ]
     },
     "execution_count": 121,
     "metadata": {},
     "output_type": "execute_result"
    }
   ],
   "source": [
    "id(b)"
   ]
  },
  {
   "cell_type": "code",
   "execution_count": 122,
   "id": "3701e010-f728-441d-b680-0476d2e8f836",
   "metadata": {},
   "outputs": [
    {
     "data": {
      "text/plain": [
       "[10, 11, 12, 13, 14]"
      ]
     },
     "execution_count": 122,
     "metadata": {},
     "output_type": "execute_result"
    }
   ],
   "source": [
    "b"
   ]
  },
  {
   "cell_type": "code",
   "execution_count": 123,
   "id": "293ac1e6-17ce-41c4-ac01-50ac2bf39277",
   "metadata": {},
   "outputs": [],
   "source": [
    "b[1] = 101"
   ]
  },
  {
   "cell_type": "code",
   "execution_count": 124,
   "id": "0e160498-8331-413c-9141-acbcc8d5693f",
   "metadata": {},
   "outputs": [
    {
     "data": {
      "text/plain": [
       "[10, 101, 12, 13, 14]"
      ]
     },
     "execution_count": 124,
     "metadata": {},
     "output_type": "execute_result"
    }
   ],
   "source": [
    "b"
   ]
  },
  {
   "cell_type": "code",
   "execution_count": 125,
   "id": "2e78339c-d209-419e-b97a-d96756addc63",
   "metadata": {},
   "outputs": [
    {
     "data": {
      "text/plain": [
       "[10, 11, 12, 13, 14]"
      ]
     },
     "execution_count": 125,
     "metadata": {},
     "output_type": "execute_result"
    }
   ],
   "source": [
    "a"
   ]
  },
  {
   "cell_type": "code",
   "execution_count": 126,
   "id": "44318221-ad8b-44d8-b963-380b550c7f2c",
   "metadata": {},
   "outputs": [
    {
     "data": {
      "text/plain": [
       "10"
      ]
     },
     "execution_count": 126,
     "metadata": {},
     "output_type": "execute_result"
    }
   ],
   "source": [
    "a[0]"
   ]
  },
  {
   "cell_type": "code",
   "execution_count": 127,
   "id": "a7dca6f0-c43a-4b07-9ea1-c459fb729a9a",
   "metadata": {},
   "outputs": [],
   "source": [
    "a[0] = 222"
   ]
  },
  {
   "cell_type": "code",
   "execution_count": 128,
   "id": "ac835979-6a4a-4d52-ad16-33c8f990ae29",
   "metadata": {},
   "outputs": [
    {
     "data": {
      "text/plain": [
       "[222, 11, 12, 13, 14]"
      ]
     },
     "execution_count": 128,
     "metadata": {},
     "output_type": "execute_result"
    }
   ],
   "source": [
    "a"
   ]
  },
  {
   "cell_type": "code",
   "execution_count": 129,
   "id": "80c4b90c-ee23-4977-ac90-614321fae6a1",
   "metadata": {},
   "outputs": [
    {
     "data": {
      "text/plain": [
       "[10, 101, 12, 13, 14]"
      ]
     },
     "execution_count": 129,
     "metadata": {},
     "output_type": "execute_result"
    }
   ],
   "source": [
    "b"
   ]
  },
  {
   "cell_type": "code",
   "execution_count": 130,
   "id": "43a4601e-9e94-4259-8f77-4099030f7bd4",
   "metadata": {},
   "outputs": [],
   "source": [
    "pets = [\"kedi\",\"köpek\"]"
   ]
  },
  {
   "cell_type": "code",
   "execution_count": 131,
   "id": "40c7d4be-a0f7-460e-a2ad-abaae1f3db0d",
   "metadata": {},
   "outputs": [],
   "source": [
    "pets.append(\"balık\")"
   ]
  },
  {
   "cell_type": "code",
   "execution_count": 132,
   "id": "1e565452-2d34-4dec-abef-49367a95d76e",
   "metadata": {},
   "outputs": [
    {
     "data": {
      "text/plain": [
       "['kedi', 'köpek', 'balık']"
      ]
     },
     "execution_count": 132,
     "metadata": {},
     "output_type": "execute_result"
    }
   ],
   "source": [
    "pets"
   ]
  },
  {
   "cell_type": "code",
   "execution_count": 133,
   "id": "fc6dccb7-f579-4836-bb76-3394ab441948",
   "metadata": {},
   "outputs": [],
   "source": [
    "meyveler = [\"elma\",\"muz\",\"üzüm\",\"çilek\",\"kiraz\"]"
   ]
  },
  {
   "cell_type": "code",
   "execution_count": 134,
   "id": "5d92d271-177b-4f80-b059-e9d007da772d",
   "metadata": {},
   "outputs": [],
   "source": [
    "meyveler.append([\"armut\",\"mango\",\"şeftali\"])"
   ]
  },
  {
   "cell_type": "code",
   "execution_count": 135,
   "id": "418e54bd-6ba6-41a9-bec4-6a44717cae46",
   "metadata": {},
   "outputs": [
    {
     "data": {
      "text/plain": [
       "['elma', 'muz', 'üzüm', 'çilek', 'kiraz', ['armut', 'mango', 'şeftali']]"
      ]
     },
     "execution_count": 135,
     "metadata": {},
     "output_type": "execute_result"
    }
   ],
   "source": [
    "meyveler"
   ]
  },
  {
   "cell_type": "code",
   "execution_count": 136,
   "id": "109e8100-8e5c-42c0-aea1-c061e894e6d2",
   "metadata": {},
   "outputs": [],
   "source": [
    "meyveler.extend([\"armut\",\"mango\",\"şeftali\"])"
   ]
  },
  {
   "cell_type": "code",
   "execution_count": 137,
   "id": "4f123845-d70f-4312-adba-813a73bb0206",
   "metadata": {},
   "outputs": [
    {
     "data": {
      "text/plain": [
       "['elma',\n",
       " 'muz',\n",
       " 'üzüm',\n",
       " 'çilek',\n",
       " 'kiraz',\n",
       " ['armut', 'mango', 'şeftali'],\n",
       " 'armut',\n",
       " 'mango',\n",
       " 'şeftali']"
      ]
     },
     "execution_count": 137,
     "metadata": {},
     "output_type": "execute_result"
    }
   ],
   "source": [
    "meyveler"
   ]
  },
  {
   "cell_type": "code",
   "execution_count": 138,
   "id": "dfbfcf8b-5c0f-4d69-a700-c55932d06a87",
   "metadata": {},
   "outputs": [],
   "source": [
    "harfler = [\"A\",\"B\",\"C\",\"D\"]"
   ]
  },
  {
   "cell_type": "code",
   "execution_count": 139,
   "id": "29e7bb69-4232-4089-b164-4ddd663a2b92",
   "metadata": {},
   "outputs": [],
   "source": [
    "harfler.insert(2,\"K\")"
   ]
  },
  {
   "cell_type": "code",
   "execution_count": 140,
   "id": "9c877518-a787-4481-8e14-5826b3356aea",
   "metadata": {},
   "outputs": [
    {
     "data": {
      "text/plain": [
       "['A', 'B', 'K', 'C', 'D']"
      ]
     },
     "execution_count": 140,
     "metadata": {},
     "output_type": "execute_result"
    }
   ],
   "source": [
    "harfler"
   ]
  },
  {
   "cell_type": "code",
   "execution_count": 141,
   "id": "b319a360-92a0-4a40-a8a3-2b2b4cfa6490",
   "metadata": {},
   "outputs": [],
   "source": [
    "liste = [1,2,3,2,4]"
   ]
  },
  {
   "cell_type": "code",
   "execution_count": 142,
   "id": "4d6166d2-c300-4233-a910-c7294ede22a2",
   "metadata": {},
   "outputs": [],
   "source": [
    "liste.remove(2)"
   ]
  },
  {
   "cell_type": "code",
   "execution_count": 143,
   "id": "3f99df20-2918-44fa-90a9-6132b1a28652",
   "metadata": {},
   "outputs": [
    {
     "data": {
      "text/plain": [
       "[1, 3, 2, 4]"
      ]
     },
     "execution_count": 143,
     "metadata": {},
     "output_type": "execute_result"
    }
   ],
   "source": [
    "liste"
   ]
  },
  {
   "cell_type": "code",
   "execution_count": 144,
   "id": "55390b20-e3c5-44c2-a090-1a868c374942",
   "metadata": {},
   "outputs": [],
   "source": [
    "liste = [\"a\", \"b\", \"c\"]"
   ]
  },
  {
   "cell_type": "code",
   "execution_count": 145,
   "id": "1dffc4a1-a6b2-4b9c-9bff-d2bf4fa6ba28",
   "metadata": {},
   "outputs": [],
   "source": [
    "x = liste.pop()"
   ]
  },
  {
   "cell_type": "code",
   "execution_count": 146,
   "id": "7d6d75af-8830-4796-8e9d-3e95b1bf259c",
   "metadata": {},
   "outputs": [
    {
     "data": {
      "text/plain": [
       "'c'"
      ]
     },
     "execution_count": 146,
     "metadata": {},
     "output_type": "execute_result"
    }
   ],
   "source": [
    "x"
   ]
  },
  {
   "cell_type": "code",
   "execution_count": 147,
   "id": "40fef89c-ddc3-4bb0-a390-2df459d0b1ee",
   "metadata": {},
   "outputs": [
    {
     "data": {
      "text/plain": [
       "['a', 'b']"
      ]
     },
     "execution_count": 147,
     "metadata": {},
     "output_type": "execute_result"
    }
   ],
   "source": [
    "liste"
   ]
  },
  {
   "cell_type": "code",
   "execution_count": 148,
   "id": "e79cedb4-21aa-4742-90c4-0dc477d7c28a",
   "metadata": {},
   "outputs": [],
   "source": [
    "liste = [\"a\", \"b\", \"c\"]"
   ]
  },
  {
   "cell_type": "code",
   "execution_count": 149,
   "id": "92708057-ca40-4868-9564-dc78d7253e13",
   "metadata": {},
   "outputs": [],
   "source": [
    "x = liste.pop(0)"
   ]
  },
  {
   "cell_type": "code",
   "execution_count": 150,
   "id": "a3a7e20c-ff0c-4201-90b0-55cdb351f8a3",
   "metadata": {},
   "outputs": [
    {
     "data": {
      "text/plain": [
       "'a'"
      ]
     },
     "execution_count": 150,
     "metadata": {},
     "output_type": "execute_result"
    }
   ],
   "source": [
    "x"
   ]
  },
  {
   "cell_type": "code",
   "execution_count": 151,
   "id": "502288e1-c4f6-4499-a479-822a2803a348",
   "metadata": {},
   "outputs": [
    {
     "data": {
      "text/plain": [
       "['b', 'c']"
      ]
     },
     "execution_count": 151,
     "metadata": {},
     "output_type": "execute_result"
    }
   ],
   "source": [
    "liste"
   ]
  },
  {
   "cell_type": "code",
   "execution_count": 152,
   "id": "7e15f03f-c07a-4fec-86f6-feaefc763630",
   "metadata": {},
   "outputs": [],
   "source": [
    "cift_sayilar = [0,2,4,6,8]"
   ]
  },
  {
   "cell_type": "code",
   "execution_count": 153,
   "id": "5608c4d8-9954-4945-b4df-a75be7915e00",
   "metadata": {},
   "outputs": [
    {
     "data": {
      "text/plain": [
       "[0, 2, 4, 6, 8]"
      ]
     },
     "execution_count": 153,
     "metadata": {},
     "output_type": "execute_result"
    }
   ],
   "source": [
    "cift_sayilar"
   ]
  },
  {
   "cell_type": "code",
   "execution_count": 154,
   "id": "1b1c0713-6b12-44b4-9691-dcd4791f11c8",
   "metadata": {},
   "outputs": [],
   "source": [
    "cift_sayilar.clear()"
   ]
  },
  {
   "cell_type": "code",
   "execution_count": 155,
   "id": "d8be1bc3-3318-41ab-abcf-fb8651bf2b81",
   "metadata": {},
   "outputs": [
    {
     "data": {
      "text/plain": [
       "[]"
      ]
     },
     "execution_count": 155,
     "metadata": {},
     "output_type": "execute_result"
    }
   ],
   "source": [
    "cift_sayilar"
   ]
  },
  {
   "cell_type": "code",
   "execution_count": 156,
   "id": "b031ad9d-2999-4837-9d96-3e1d32473150",
   "metadata": {},
   "outputs": [],
   "source": [
    "renkler = [\"kırmızı\", \"turuncu\", \"sarı\", \"yeşil\", \"mavi\"]"
   ]
  },
  {
   "cell_type": "code",
   "execution_count": 157,
   "id": "5b0422b1-d308-43d4-97c5-b6373fea6323",
   "metadata": {},
   "outputs": [],
   "source": [
    "del renkler[1]"
   ]
  },
  {
   "cell_type": "code",
   "execution_count": 158,
   "id": "67b053ba-17f6-47eb-8602-601bb0e06f19",
   "metadata": {},
   "outputs": [
    {
     "data": {
      "text/plain": [
       "['kırmızı', 'sarı', 'yeşil', 'mavi']"
      ]
     },
     "execution_count": 158,
     "metadata": {},
     "output_type": "execute_result"
    }
   ],
   "source": [
    "renkler"
   ]
  },
  {
   "cell_type": "code",
   "execution_count": 159,
   "id": "423ddfc1-f333-46e7-a0a3-6447df8dfd5b",
   "metadata": {},
   "outputs": [],
   "source": [
    "del renkler[1:3]"
   ]
  },
  {
   "cell_type": "code",
   "execution_count": 160,
   "id": "42f8f283-3054-42a3-9852-72de17dd2889",
   "metadata": {},
   "outputs": [
    {
     "data": {
      "text/plain": [
       "['kırmızı', 'mavi']"
      ]
     },
     "execution_count": 160,
     "metadata": {},
     "output_type": "execute_result"
    }
   ],
   "source": [
    "renkler"
   ]
  },
  {
   "cell_type": "code",
   "execution_count": 161,
   "id": "e413f0a8-8f41-46ec-ae4e-fc857e73380d",
   "metadata": {},
   "outputs": [],
   "source": [
    "del renkler[-1]"
   ]
  },
  {
   "cell_type": "code",
   "execution_count": 162,
   "id": "cf55df73-3770-4b12-b82d-4c9280a853b6",
   "metadata": {},
   "outputs": [
    {
     "data": {
      "text/plain": [
       "['kırmızı']"
      ]
     },
     "execution_count": 162,
     "metadata": {},
     "output_type": "execute_result"
    }
   ],
   "source": [
    "renkler"
   ]
  },
  {
   "cell_type": "code",
   "execution_count": 163,
   "id": "cfba3a2c-202c-4502-bd6a-1176beef7c43",
   "metadata": {},
   "outputs": [],
   "source": [
    "sayilar = [1,2,3,4,5]"
   ]
  },
  {
   "cell_type": "code",
   "execution_count": 164,
   "id": "d6a4fc80-d77d-48a5-be34-800f35510013",
   "metadata": {},
   "outputs": [
    {
     "data": {
      "text/plain": [
       "[5, 4, 3, 2, 1]"
      ]
     },
     "execution_count": 164,
     "metadata": {},
     "output_type": "execute_result"
    }
   ],
   "source": [
    "list(reversed(sayilar))"
   ]
  },
  {
   "cell_type": "code",
   "execution_count": 165,
   "id": "f579c7e8-a706-45f6-900d-c0fa0090806a",
   "metadata": {},
   "outputs": [],
   "source": [
    "numaralar = [2,9,5,1,6]"
   ]
  },
  {
   "cell_type": "code",
   "execution_count": 166,
   "id": "0d8a9d07-ff7d-49cc-99ec-328dedd25e6b",
   "metadata": {},
   "outputs": [
    {
     "data": {
      "text/plain": [
       "[1, 2, 5, 6, 9]"
      ]
     },
     "execution_count": 166,
     "metadata": {},
     "output_type": "execute_result"
    }
   ],
   "source": [
    "sorted(numaralar)"
   ]
  },
  {
   "cell_type": "code",
   "execution_count": 167,
   "id": "dc11ff21-48de-4fc4-a78e-10e6ca5d455e",
   "metadata": {},
   "outputs": [],
   "source": [
    "numaralar = [2,9,5,1,6]"
   ]
  },
  {
   "cell_type": "code",
   "execution_count": 168,
   "id": "63026c22-2f59-4679-8543-249ce9f25761",
   "metadata": {},
   "outputs": [
    {
     "data": {
      "text/plain": [
       "[9, 6, 5, 2, 1]"
      ]
     },
     "execution_count": 168,
     "metadata": {},
     "output_type": "execute_result"
    }
   ],
   "source": [
    "sorted(numaralar, reverse = True)"
   ]
  },
  {
   "cell_type": "code",
   "execution_count": 169,
   "id": "c11ab596-67ee-401b-9da1-c1e8e6e60ff9",
   "metadata": {},
   "outputs": [],
   "source": [
    "kelimeler = [\"elma\", \"armut\",\"karpuz\"]"
   ]
  },
  {
   "cell_type": "code",
   "execution_count": 170,
   "id": "e4368d37-6062-4542-9ec0-da10e082a0b7",
   "metadata": {},
   "outputs": [
    {
     "data": {
      "text/plain": [
       "['elma', 'armut', 'karpuz']"
      ]
     },
     "execution_count": 170,
     "metadata": {},
     "output_type": "execute_result"
    }
   ],
   "source": [
    "sorted(kelimeler, key=len)"
   ]
  },
  {
   "cell_type": "code",
   "execution_count": 171,
   "id": "4d254ce8-960a-44e0-9361-840a93512444",
   "metadata": {},
   "outputs": [],
   "source": [
    "sayilar = [2,9,5,1,6]"
   ]
  },
  {
   "cell_type": "code",
   "execution_count": 172,
   "id": "92b71fc3-c989-4e03-87bd-f2b1d381bcc7",
   "metadata": {},
   "outputs": [],
   "source": [
    "sayilar.sort()"
   ]
  },
  {
   "cell_type": "code",
   "execution_count": 173,
   "id": "3e43ac89-725f-4f85-80a4-2b9494e16306",
   "metadata": {},
   "outputs": [
    {
     "data": {
      "text/plain": [
       "[1, 2, 5, 6, 9]"
      ]
     },
     "execution_count": 173,
     "metadata": {},
     "output_type": "execute_result"
    }
   ],
   "source": [
    "sayilar"
   ]
  },
  {
   "cell_type": "code",
   "execution_count": 175,
   "id": "edff92c5-f9c2-4351-93a5-3b99e4d71639",
   "metadata": {},
   "outputs": [],
   "source": [
    "# sorted()"
   ]
  },
  {
   "cell_type": "code",
   "execution_count": null,
   "id": "ae4303d0-4d34-4fbf-b4cb-c9126fc0c4c2",
   "metadata": {},
   "outputs": [],
   "source": []
  }
 ],
 "metadata": {
  "kernelspec": {
   "display_name": "Python 3 (ipykernel)",
   "language": "python",
   "name": "python3"
  },
  "language_info": {
   "codemirror_mode": {
    "name": "ipython",
    "version": 3
   },
   "file_extension": ".py",
   "mimetype": "text/x-python",
   "name": "python",
   "nbconvert_exporter": "python",
   "pygments_lexer": "ipython3",
   "version": "3.12.2"
  }
 },
 "nbformat": 4,
 "nbformat_minor": 5
}
