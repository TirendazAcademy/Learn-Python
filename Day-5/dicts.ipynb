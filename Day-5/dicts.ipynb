{
 "cells": [
  {
   "cell_type": "code",
   "execution_count": 1,
   "id": "6f2be10c-820a-4f79-a447-85866dea1782",
   "metadata": {},
   "outputs": [],
   "source": [
    "ogrenci = {\n",
    "    \"isim\": \"Ayşe\",\n",
    "    \"yas\": 21,\n",
    "    \"bolum\": \"veri bilimi\"\n",
    "}"
   ]
  },
  {
   "cell_type": "code",
   "execution_count": 2,
   "id": "525cbed3-60ad-4e9b-b5c5-f46620231ef5",
   "metadata": {},
   "outputs": [
    {
     "data": {
      "text/plain": [
       "'Ayşe'"
      ]
     },
     "execution_count": 2,
     "metadata": {},
     "output_type": "execute_result"
    }
   ],
   "source": [
    "ogrenci[\"isim\"]"
   ]
  },
  {
   "cell_type": "code",
   "execution_count": 3,
   "id": "f723e01e-ad05-49a3-bd96-087c72d5c39d",
   "metadata": {},
   "outputs": [],
   "source": [
    "ogrenci[\"isim\"] = \"Nur\""
   ]
  },
  {
   "cell_type": "code",
   "execution_count": 4,
   "id": "eef0d43e-834a-4573-857a-6a9564f876ba",
   "metadata": {},
   "outputs": [
    {
     "data": {
      "text/plain": [
       "{'isim': 'Nur', 'yas': 21, 'bolum': 'veri bilimi'}"
      ]
     },
     "execution_count": 4,
     "metadata": {},
     "output_type": "execute_result"
    }
   ],
   "source": [
    "ogrenci"
   ]
  },
  {
   "cell_type": "code",
   "execution_count": 5,
   "id": "e6a75f15-fd1e-482d-9813-d6d723566aa4",
   "metadata": {},
   "outputs": [],
   "source": [
    "ogrenci = {\n",
    "    \"isim\": \"Ayşe\",\n",
    "    \"isim\": \"Nur\",\n",
    "    \"yas\": 21,\n",
    "    \"bolum\": \"veri bilimi\"\n",
    "}"
   ]
  },
  {
   "cell_type": "code",
   "execution_count": 6,
   "id": "068743b8-39a4-49ef-80fd-33b9a99ea59d",
   "metadata": {},
   "outputs": [
    {
     "data": {
      "text/plain": [
       "'Nur'"
      ]
     },
     "execution_count": 6,
     "metadata": {},
     "output_type": "execute_result"
    }
   ],
   "source": [
    "ogrenci[\"isim\"]"
   ]
  },
  {
   "cell_type": "code",
   "execution_count": 8,
   "id": "8e921537-4b50-4b61-b7b7-1105f26b59bc",
   "metadata": {},
   "outputs": [],
   "source": [
    "ogrenci = {\n",
    "    \"isim\": [\"Ayşe\",\"Nur\"],\n",
    "    \"yas\": 21,\n",
    "    \"bolum\": \"veri bilimi\"\n",
    "}"
   ]
  },
  {
   "cell_type": "code",
   "execution_count": 9,
   "id": "8991d63e-5519-40e3-a22a-55f6cd090294",
   "metadata": {},
   "outputs": [
    {
     "data": {
      "text/plain": [
       "{'isim': ['Ayşe', 'Nur'], 'yas': 21, 'bolum': 'veri bilimi'}"
      ]
     },
     "execution_count": 9,
     "metadata": {},
     "output_type": "execute_result"
    }
   ],
   "source": [
    "ogrenci"
   ]
  },
  {
   "cell_type": "code",
   "execution_count": 11,
   "id": "9473f3be-1fff-4da9-b0ec-b30484913a74",
   "metadata": {},
   "outputs": [],
   "source": [
    "veri = [(\"isim\", \"Ayşe\"), (\"yas\", 22), (\"bolum\", \"Yapay Zeka\")]"
   ]
  },
  {
   "cell_type": "code",
   "execution_count": 12,
   "id": "edb2497f-044d-453b-b763-09f5c6303f64",
   "metadata": {},
   "outputs": [
    {
     "data": {
      "text/plain": [
       "{'isim': 'Ayşe', 'yas': 22, 'bolum': 'Yapay Zeka'}"
      ]
     },
     "execution_count": 12,
     "metadata": {},
     "output_type": "execute_result"
    }
   ],
   "source": [
    "dict(veri)"
   ]
  },
  {
   "cell_type": "code",
   "execution_count": 13,
   "id": "68001b16-9cf0-4991-97a2-510d619ab2c9",
   "metadata": {},
   "outputs": [],
   "source": [
    "personel = {}"
   ]
  },
  {
   "cell_type": "code",
   "execution_count": 14,
   "id": "94930646-1a66-47a7-a890-0f609fde959d",
   "metadata": {},
   "outputs": [],
   "source": [
    "personel[\"isim\"] = \"Can\""
   ]
  },
  {
   "cell_type": "code",
   "execution_count": 15,
   "id": "2c205d25-4717-448d-b674-7f81b40f3644",
   "metadata": {},
   "outputs": [
    {
     "data": {
      "text/plain": [
       "{'isim': 'Can'}"
      ]
     },
     "execution_count": 15,
     "metadata": {},
     "output_type": "execute_result"
    }
   ],
   "source": [
    "personel"
   ]
  },
  {
   "cell_type": "code",
   "execution_count": 16,
   "id": "93766b26-79e3-4f31-89f6-18ff77c0eebc",
   "metadata": {},
   "outputs": [],
   "source": [
    "kareler = {}"
   ]
  },
  {
   "cell_type": "code",
   "execution_count": 17,
   "id": "bcd112bd-43ae-4242-a1c0-c087b2b5ee68",
   "metadata": {},
   "outputs": [],
   "source": [
    "for sayi in range(1,10):\n",
    "    kareler[sayi] = sayi**2"
   ]
  },
  {
   "cell_type": "code",
   "execution_count": 18,
   "id": "8eee6c64-d187-4f41-8658-01c39a796249",
   "metadata": {},
   "outputs": [
    {
     "data": {
      "text/plain": [
       "{1: 1, 2: 4, 3: 9, 4: 16, 5: 25, 6: 36, 7: 49, 8: 64, 9: 81}"
      ]
     },
     "execution_count": 18,
     "metadata": {},
     "output_type": "execute_result"
    }
   ],
   "source": [
    "kareler "
   ]
  },
  {
   "cell_type": "code",
   "execution_count": 19,
   "id": "06c3009c-8810-4c4b-8f7c-a4104c305a51",
   "metadata": {},
   "outputs": [],
   "source": [
    "kareler1 = {sayi: sayi**2 for sayi in range(1,10)}"
   ]
  },
  {
   "cell_type": "code",
   "execution_count": 20,
   "id": "ccb0d392-43ae-43c1-b83c-af0f362ed3e5",
   "metadata": {},
   "outputs": [
    {
     "data": {
      "text/plain": [
       "{1: 1, 2: 4, 3: 9, 4: 16, 5: 25, 6: 36, 7: 49, 8: 64, 9: 81}"
      ]
     },
     "execution_count": 20,
     "metadata": {},
     "output_type": "execute_result"
    }
   ],
   "source": [
    "kareler1 "
   ]
  },
  {
   "cell_type": "code",
   "execution_count": 21,
   "id": "765cb2fa-5d41-45e2-85ee-cf759e8af19c",
   "metadata": {},
   "outputs": [],
   "source": [
    "stok = {\n",
    "\t\t\"elma\":10,\n",
    "\t\t\"muz\":5,\n",
    "\t\t\"portakal\":8\n",
    "}"
   ]
  },
  {
   "cell_type": "code",
   "execution_count": 22,
   "id": "47772dfd-685e-4ba6-9a0b-14866b1f2e00",
   "metadata": {},
   "outputs": [
    {
     "data": {
      "text/plain": [
       "10"
      ]
     },
     "execution_count": 22,
     "metadata": {},
     "output_type": "execute_result"
    }
   ],
   "source": [
    "stok[\"elma\"]"
   ]
  },
  {
   "cell_type": "code",
   "execution_count": 23,
   "id": "49c5479d-0a1a-4f03-8aa8-cdddd29491e5",
   "metadata": {},
   "outputs": [
    {
     "ename": "KeyError",
     "evalue": "'kivi'",
     "output_type": "error",
     "traceback": [
      "\u001b[31m---------------------------------------------------------------------------\u001b[39m",
      "\u001b[31mKeyError\u001b[39m                                  Traceback (most recent call last)",
      "\u001b[36mCell\u001b[39m\u001b[36m \u001b[39m\u001b[32mIn[23]\u001b[39m\u001b[32m, line 1\u001b[39m\n\u001b[32m----> \u001b[39m\u001b[32m1\u001b[39m \u001b[43mstok\u001b[49m\u001b[43m[\u001b[49m\u001b[33;43m\"\u001b[39;49m\u001b[33;43mkivi\u001b[39;49m\u001b[33;43m\"\u001b[39;49m\u001b[43m]\u001b[49m\n",
      "\u001b[31mKeyError\u001b[39m: 'kivi'"
     ]
    }
   ],
   "source": [
    "stok[\"kivi\"]"
   ]
  },
  {
   "cell_type": "code",
   "execution_count": 24,
   "id": "361eefb5-5c17-4d0f-8cf4-5b1b30e5943f",
   "metadata": {},
   "outputs": [
    {
     "data": {
      "text/plain": [
       "10"
      ]
     },
     "execution_count": 24,
     "metadata": {},
     "output_type": "execute_result"
    }
   ],
   "source": [
    "stok.get(\"elma\")"
   ]
  },
  {
   "cell_type": "code",
   "execution_count": 25,
   "id": "2f59b859-46fb-4e56-8e8f-46b63911d82f",
   "metadata": {},
   "outputs": [],
   "source": [
    "stok.get(\"kivi\")"
   ]
  },
  {
   "cell_type": "code",
   "execution_count": 26,
   "id": "00c03b63-c122-402c-b4bf-7b8a787303e8",
   "metadata": {},
   "outputs": [
    {
     "data": {
      "text/plain": [
       "0"
      ]
     },
     "execution_count": 26,
     "metadata": {},
     "output_type": "execute_result"
    }
   ],
   "source": [
    "stok.get(\"kivi\", 0)"
   ]
  },
  {
   "cell_type": "code",
   "execution_count": 28,
   "id": "f34c5571-2a63-4055-829a-be77af28e882",
   "metadata": {},
   "outputs": [
    {
     "data": {
      "text/plain": [
       "[dict_values([10, 5, 8])]"
      ]
     },
     "execution_count": 28,
     "metadata": {},
     "output_type": "execute_result"
    }
   ],
   "source": [
    "[stok.values()]"
   ]
  },
  {
   "cell_type": "code",
   "execution_count": 29,
   "id": "896fd491-1147-4c10-abd4-3ff30586f10e",
   "metadata": {},
   "outputs": [
    {
     "data": {
      "text/plain": [
       "dict_keys(['elma', 'muz', 'portakal'])"
      ]
     },
     "execution_count": 29,
     "metadata": {},
     "output_type": "execute_result"
    }
   ],
   "source": [
    "stok.keys()"
   ]
  },
  {
   "cell_type": "code",
   "execution_count": 30,
   "id": "26de7fbb-b48c-4398-97df-1bef0e4fd1f8",
   "metadata": {},
   "outputs": [
    {
     "data": {
      "text/plain": [
       "dict_items([('elma', 10), ('muz', 5), ('portakal', 8)])"
      ]
     },
     "execution_count": 30,
     "metadata": {},
     "output_type": "execute_result"
    }
   ],
   "source": [
    "stok.items()"
   ]
  },
  {
   "cell_type": "code",
   "execution_count": 31,
   "id": "5fc20e1e-2233-4781-ab1d-6d46f41d11f2",
   "metadata": {},
   "outputs": [
    {
     "data": {
      "text/plain": [
       "{'elma': 10, 'muz': 5, 'portakal': 8}"
      ]
     },
     "execution_count": 31,
     "metadata": {},
     "output_type": "execute_result"
    }
   ],
   "source": [
    "stok"
   ]
  },
  {
   "cell_type": "code",
   "execution_count": 32,
   "id": "c2dc43e2-4cb7-42d8-b517-99b9ada87e4f",
   "metadata": {},
   "outputs": [
    {
     "data": {
      "text/plain": [
       "10"
      ]
     },
     "execution_count": 32,
     "metadata": {},
     "output_type": "execute_result"
    }
   ],
   "source": [
    "stok.setdefault(\"elma\")"
   ]
  },
  {
   "cell_type": "code",
   "execution_count": 33,
   "id": "cb4fee9d-4c0b-4e65-8190-165349470c67",
   "metadata": {},
   "outputs": [],
   "source": [
    "stok.setdefault(\"mango\")"
   ]
  },
  {
   "cell_type": "code",
   "execution_count": 34,
   "id": "58bb217a-de1a-47a4-8739-d59a5b74738b",
   "metadata": {},
   "outputs": [
    {
     "name": "stdout",
     "output_type": "stream",
     "text": [
      "None\n"
     ]
    }
   ],
   "source": [
    "print(stok.setdefault(\"mango\"))"
   ]
  },
  {
   "cell_type": "code",
   "execution_count": 35,
   "id": "a16b3f5f-1df0-4336-aef7-c064904d689f",
   "metadata": {},
   "outputs": [
    {
     "data": {
      "text/plain": [
       "{'elma': 10, 'muz': 5, 'portakal': 8, 'mango': None}"
      ]
     },
     "execution_count": 35,
     "metadata": {},
     "output_type": "execute_result"
    }
   ],
   "source": [
    "stok"
   ]
  },
  {
   "cell_type": "code",
   "execution_count": 36,
   "id": "71b16e75-d05e-43a4-827e-3ce68929c29e",
   "metadata": {},
   "outputs": [
    {
     "data": {
      "text/plain": [
       "7"
      ]
     },
     "execution_count": 36,
     "metadata": {},
     "output_type": "execute_result"
    }
   ],
   "source": [
    "stok.setdefault(\"çilek\", 7)"
   ]
  },
  {
   "cell_type": "code",
   "execution_count": 37,
   "id": "524b4b01-ac8a-4ba2-953b-0c8d3a46c9d7",
   "metadata": {},
   "outputs": [
    {
     "data": {
      "text/plain": [
       "{'elma': 10, 'muz': 5, 'portakal': 8, 'mango': None, 'çilek': 7}"
      ]
     },
     "execution_count": 37,
     "metadata": {},
     "output_type": "execute_result"
    }
   ],
   "source": [
    "stok"
   ]
  },
  {
   "cell_type": "code",
   "execution_count": 38,
   "id": "75a8e037-b418-4d9b-8e99-31a4327238ec",
   "metadata": {},
   "outputs": [],
   "source": [
    "ayarlar = {\n",
    "\t\t\"tema\": \"açık\",\n",
    "\t\t\"font\": \"Arial\"\n",
    "}"
   ]
  },
  {
   "cell_type": "code",
   "execution_count": 39,
   "id": "ca2bf245-14d3-4a42-8705-253e07c4d20f",
   "metadata": {},
   "outputs": [],
   "source": [
    "kullanici_ayar = {\n",
    "    \"tema\":\"koyu\",\n",
    "    \"boyut\":14\n",
    "}"
   ]
  },
  {
   "cell_type": "code",
   "execution_count": 40,
   "id": "7edb9016-2003-4da8-ae48-85b6e222697c",
   "metadata": {},
   "outputs": [],
   "source": [
    "ayarlar.update(kullanici_ayar)"
   ]
  },
  {
   "cell_type": "code",
   "execution_count": 41,
   "id": "73e3c0d8-e71e-42bc-bf4c-cd815db94e92",
   "metadata": {},
   "outputs": [
    {
     "data": {
      "text/plain": [
       "{'tema': 'koyu', 'font': 'Arial', 'boyut': 14}"
      ]
     },
     "execution_count": 41,
     "metadata": {},
     "output_type": "execute_result"
    }
   ],
   "source": [
    "ayarlar"
   ]
  },
  {
   "cell_type": "code",
   "execution_count": 42,
   "id": "b2e3fe06-3212-444f-9bae-c8b6a0141188",
   "metadata": {},
   "outputs": [],
   "source": [
    "urunler = {\n",
    "\t\t\"elma\": 10,\n",
    "\t\t\"muz\": 5\n",
    "}"
   ]
  },
  {
   "cell_type": "code",
   "execution_count": 43,
   "id": "d329d39c-5bc6-49fb-a786-a4449a48f85a",
   "metadata": {},
   "outputs": [],
   "source": [
    "urunler.update([(\"elma\",20),(\"armut\",8)])"
   ]
  },
  {
   "cell_type": "code",
   "execution_count": 44,
   "id": "4013b1ad-9109-4330-a7d6-821e3aa77ad1",
   "metadata": {},
   "outputs": [
    {
     "data": {
      "text/plain": [
       "{'elma': 20, 'muz': 5, 'armut': 8}"
      ]
     },
     "execution_count": 44,
     "metadata": {},
     "output_type": "execute_result"
    }
   ],
   "source": [
    "urunler"
   ]
  },
  {
   "cell_type": "code",
   "execution_count": 45,
   "id": "55068a21-d725-42d3-a1ec-9e199aca8474",
   "metadata": {},
   "outputs": [],
   "source": [
    "bilgiler = {\"ad\": \"Ali\"}"
   ]
  },
  {
   "cell_type": "code",
   "execution_count": 46,
   "id": "84f8d45f-d148-42d8-bd8f-db9d60e75a94",
   "metadata": {},
   "outputs": [],
   "source": [
    "bilgiler.update(soyad=\"Yılmaz\", yas=30)"
   ]
  },
  {
   "cell_type": "code",
   "execution_count": 47,
   "id": "04dec7c8-89fc-4d1a-ae41-b98a5b5e37f3",
   "metadata": {},
   "outputs": [
    {
     "data": {
      "text/plain": [
       "{'ad': 'Ali', 'soyad': 'Yılmaz', 'yas': 30}"
      ]
     },
     "execution_count": 47,
     "metadata": {},
     "output_type": "execute_result"
    }
   ],
   "source": [
    "bilgiler "
   ]
  },
  {
   "cell_type": "code",
   "execution_count": 48,
   "id": "04cc8d14-9b01-4047-ab3a-3bbe12cf4d0e",
   "metadata": {},
   "outputs": [],
   "source": [
    "stok = {\"elma\": 10, \"muz\": 5, \"portakal\": 8}"
   ]
  },
  {
   "cell_type": "code",
   "execution_count": 49,
   "id": "a0175445-f4be-4002-bec7-3ec7ccde8a73",
   "metadata": {},
   "outputs": [],
   "source": [
    "deger = stok.pop(\"elma\")"
   ]
  },
  {
   "cell_type": "code",
   "execution_count": 50,
   "id": "26dd71bc-92ac-4604-ba2b-415457e9d890",
   "metadata": {},
   "outputs": [
    {
     "data": {
      "text/plain": [
       "10"
      ]
     },
     "execution_count": 50,
     "metadata": {},
     "output_type": "execute_result"
    }
   ],
   "source": [
    "deger"
   ]
  },
  {
   "cell_type": "code",
   "execution_count": 51,
   "id": "3bbe0ac2-a5dc-4459-af17-abc80704a370",
   "metadata": {},
   "outputs": [
    {
     "data": {
      "text/plain": [
       "{'muz': 5, 'portakal': 8}"
      ]
     },
     "execution_count": 51,
     "metadata": {},
     "output_type": "execute_result"
    }
   ],
   "source": [
    "stok"
   ]
  },
  {
   "cell_type": "code",
   "execution_count": 52,
   "id": "adf7ce20-dcec-4cb7-8c08-13e4da46e59a",
   "metadata": {},
   "outputs": [],
   "source": [
    "del stok[\"muz\"]"
   ]
  },
  {
   "cell_type": "code",
   "execution_count": 53,
   "id": "3c3c787d-7fa8-411d-bbce-7671001358a7",
   "metadata": {},
   "outputs": [
    {
     "data": {
      "text/plain": [
       "{'portakal': 8}"
      ]
     },
     "execution_count": 53,
     "metadata": {},
     "output_type": "execute_result"
    }
   ],
   "source": [
    "stok"
   ]
  },
  {
   "cell_type": "code",
   "execution_count": 54,
   "id": "3405ec76-50be-454a-88e3-2ec7217bc275",
   "metadata": {},
   "outputs": [],
   "source": [
    "stok = {\"elma\": 10, \"muz\": 5, \"portakal\": 8}"
   ]
  },
  {
   "cell_type": "code",
   "execution_count": 55,
   "id": "5196c158-30db-4326-956c-cffa2916f3bf",
   "metadata": {},
   "outputs": [
    {
     "data": {
      "text/plain": [
       "{'elma': 10, 'muz': 5, 'portakal': 8}"
      ]
     },
     "execution_count": 55,
     "metadata": {},
     "output_type": "execute_result"
    }
   ],
   "source": [
    "stok"
   ]
  },
  {
   "cell_type": "code",
   "execution_count": 56,
   "id": "d886d20a-642d-4e99-b1b5-fd340e465393",
   "metadata": {},
   "outputs": [
    {
     "data": {
      "text/plain": [
       "('portakal', 8)"
      ]
     },
     "execution_count": 56,
     "metadata": {},
     "output_type": "execute_result"
    }
   ],
   "source": [
    "stok.popitem()"
   ]
  },
  {
   "cell_type": "code",
   "execution_count": 57,
   "id": "fbccf170-b910-4d3c-817c-277ad83ba3fb",
   "metadata": {},
   "outputs": [
    {
     "data": {
      "text/plain": [
       "{'elma': 10, 'muz': 5}"
      ]
     },
     "execution_count": 57,
     "metadata": {},
     "output_type": "execute_result"
    }
   ],
   "source": [
    "stok"
   ]
  },
  {
   "cell_type": "code",
   "execution_count": 58,
   "id": "3ba517fc-4ecd-43c8-877a-fed6573bad00",
   "metadata": {},
   "outputs": [],
   "source": [
    "stok = {\"elma\": 10, \"muz\": 5, \"portakal\": 8}"
   ]
  },
  {
   "cell_type": "code",
   "execution_count": 59,
   "id": "b752fbc6-5bce-4fad-8031-be3fb31a3051",
   "metadata": {},
   "outputs": [
    {
     "data": {
      "text/plain": [
       "{'elma': 10, 'muz': 5, 'portakal': 8}"
      ]
     },
     "execution_count": 59,
     "metadata": {},
     "output_type": "execute_result"
    }
   ],
   "source": [
    "stok"
   ]
  },
  {
   "cell_type": "code",
   "execution_count": 60,
   "id": "550df4e3-74a7-4cf9-9517-60d10f90a91a",
   "metadata": {},
   "outputs": [],
   "source": [
    "stok.clear()"
   ]
  },
  {
   "cell_type": "code",
   "execution_count": 61,
   "id": "39add14a-75df-4249-9768-f774120a5406",
   "metadata": {},
   "outputs": [
    {
     "data": {
      "text/plain": [
       "{}"
      ]
     },
     "execution_count": 61,
     "metadata": {},
     "output_type": "execute_result"
    }
   ],
   "source": [
    "stok"
   ]
  },
  {
   "cell_type": "code",
   "execution_count": 62,
   "id": "0cc63aaa-337d-431d-a8d1-848a933145ae",
   "metadata": {},
   "outputs": [],
   "source": [
    "notlar = {\n",
    "\t\t\"Ali\": 75,\n",
    "\t\t\"Buse\": 90,\n",
    "\t\t\"Can\": 60,\n",
    "\t\t\"Deniz\": 85\n",
    "}"
   ]
  },
  {
   "cell_type": "markdown",
   "id": "8f8c1754-41fc-489c-9fbb-0385f324a2b8",
   "metadata": {},
   "source": [
    "Notları büyükten küçüğe doğru sıralayın.\n",
    "Küçükten büyüğe doğru sıralayın.\n",
    "Anahtarlara göre sıralayın (Alfabetik sıralama)."
   ]
  },
  {
   "cell_type": "markdown",
   "id": "81feba24-4c6e-4dbb-9431-557cfbee8807",
   "metadata": {},
   "source": [
    "Notların toplamını ve ortalamasını bulun."
   ]
  }
 ],
 "metadata": {
  "kernelspec": {
   "display_name": "Python 3 (ipykernel)",
   "language": "python",
   "name": "python3"
  },
  "language_info": {
   "codemirror_mode": {
    "name": "ipython",
    "version": 3
   },
   "file_extension": ".py",
   "mimetype": "text/x-python",
   "name": "python",
   "nbconvert_exporter": "python",
   "pygments_lexer": "ipython3",
   "version": "3.12.2"
  }
 },
 "nbformat": 4,
 "nbformat_minor": 5
}
