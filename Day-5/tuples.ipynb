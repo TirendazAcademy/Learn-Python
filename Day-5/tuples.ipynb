{
 "cells": [
  {
   "cell_type": "code",
   "execution_count": 1,
   "id": "05944720-595a-4df3-9907-f8968e94cc6c",
   "metadata": {},
   "outputs": [],
   "source": [
    "red = (255,0,0)"
   ]
  },
  {
   "cell_type": "code",
   "execution_count": 2,
   "id": "550ea194-640d-4f1c-8caf-d5b0a88ea3f3",
   "metadata": {},
   "outputs": [
    {
     "data": {
      "text/plain": [
       "(255, 0, 0)"
      ]
     },
     "execution_count": 2,
     "metadata": {},
     "output_type": "execute_result"
    }
   ],
   "source": [
    "red"
   ]
  },
  {
   "cell_type": "code",
   "execution_count": 3,
   "id": "cc2ef9b0-f81c-424e-9d43-63fdfb1b534c",
   "metadata": {},
   "outputs": [
    {
     "data": {
      "text/plain": [
       "tuple"
      ]
     },
     "execution_count": 3,
     "metadata": {},
     "output_type": "execute_result"
    }
   ],
   "source": [
    "type(red)"
   ]
  },
  {
   "cell_type": "code",
   "execution_count": 4,
   "id": "2741abd9-f377-4619-b26e-5ee62846e407",
   "metadata": {},
   "outputs": [],
   "source": [
    "ogrenci = (\"Ela\", 25, \"Python-Dev\")"
   ]
  },
  {
   "cell_type": "code",
   "execution_count": 5,
   "id": "4aed1ff6-6eb3-433d-8361-d58e62690512",
   "metadata": {},
   "outputs": [
    {
     "data": {
      "text/plain": [
       "('Ela', 25, 'Python-Dev')"
      ]
     },
     "execution_count": 5,
     "metadata": {},
     "output_type": "execute_result"
    }
   ],
   "source": [
    "ogrenci "
   ]
  },
  {
   "cell_type": "code",
   "execution_count": 6,
   "id": "e269ec53-1746-4df0-ae8e-160eaa41e48e",
   "metadata": {},
   "outputs": [
    {
     "data": {
      "text/plain": [
       "'Ela'"
      ]
     },
     "execution_count": 6,
     "metadata": {},
     "output_type": "execute_result"
    }
   ],
   "source": [
    "ogrenci[0]"
   ]
  },
  {
   "cell_type": "code",
   "execution_count": 7,
   "id": "2855abbc-8c61-4c10-ab2c-843ec30ccc88",
   "metadata": {},
   "outputs": [
    {
     "data": {
      "text/plain": [
       "25"
      ]
     },
     "execution_count": 7,
     "metadata": {},
     "output_type": "execute_result"
    }
   ],
   "source": [
    "ogrenci[1]"
   ]
  },
  {
   "cell_type": "code",
   "execution_count": 8,
   "id": "9b9398be-3706-44b9-80e3-f179920dfc2a",
   "metadata": {},
   "outputs": [
    {
     "data": {
      "text/plain": [
       "'Python-Dev'"
      ]
     },
     "execution_count": 8,
     "metadata": {},
     "output_type": "execute_result"
    }
   ],
   "source": [
    "ogrenci[2]"
   ]
  },
  {
   "cell_type": "code",
   "execution_count": 9,
   "id": "e198100f-d160-4579-a344-a3310bbf1cad",
   "metadata": {},
   "outputs": [],
   "source": [
    "personel = \"Efe\", 25, True, 1.75, \"izmir\""
   ]
  },
  {
   "cell_type": "code",
   "execution_count": 10,
   "id": "e0c6df39-a52b-4576-bb7c-58c270571e03",
   "metadata": {},
   "outputs": [
    {
     "data": {
      "text/plain": [
       "('Efe', 25, True, 1.75, 'izmir')"
      ]
     },
     "execution_count": 10,
     "metadata": {},
     "output_type": "execute_result"
    }
   ],
   "source": [
    "personel"
   ]
  },
  {
   "cell_type": "code",
   "execution_count": 11,
   "id": "b8744add-4cac-42cd-9079-6fb8576987e2",
   "metadata": {},
   "outputs": [
    {
     "data": {
      "text/plain": [
       "tuple"
      ]
     },
     "execution_count": 11,
     "metadata": {},
     "output_type": "execute_result"
    }
   ],
   "source": [
    "type(personel)"
   ]
  },
  {
   "cell_type": "code",
   "execution_count": 12,
   "id": "ab06cb48-961e-475e-89ac-966a0859954c",
   "metadata": {},
   "outputs": [],
   "source": [
    "bir_kelime = \"Selam\","
   ]
  },
  {
   "cell_type": "code",
   "execution_count": 13,
   "id": "9e855fc9-60c7-46b6-bce8-31267099118a",
   "metadata": {},
   "outputs": [
    {
     "data": {
      "text/plain": [
       "tuple"
      ]
     },
     "execution_count": 13,
     "metadata": {},
     "output_type": "execute_result"
    }
   ],
   "source": [
    "type(bir_kelime)"
   ]
  },
  {
   "cell_type": "code",
   "execution_count": 14,
   "id": "39e95120-823f-4a9c-9218-e53d916f695e",
   "metadata": {},
   "outputs": [],
   "source": [
    "bir_sayi = (42,)"
   ]
  },
  {
   "cell_type": "code",
   "execution_count": 15,
   "id": "804df48b-9039-45ff-9072-d195103f886a",
   "metadata": {},
   "outputs": [
    {
     "data": {
      "text/plain": [
       "tuple"
      ]
     },
     "execution_count": 15,
     "metadata": {},
     "output_type": "execute_result"
    }
   ],
   "source": [
    "type(bir_sayi)"
   ]
  },
  {
   "cell_type": "code",
   "execution_count": 18,
   "id": "7b42c79d-64ff-4aca-83c3-fd5db078c81c",
   "metadata": {},
   "outputs": [
    {
     "data": {
      "text/plain": [
       "'Merhaba, Merve! Sen 24 yaşındasın.'"
      ]
     },
     "execution_count": 18,
     "metadata": {},
     "output_type": "execute_result"
    }
   ],
   "source": [
    "\"Merhaba, %s! Sen %s yaşındasın.\" %(\"Merve\", 24)"
   ]
  },
  {
   "cell_type": "code",
   "execution_count": 19,
   "id": "7daeff84-c06d-4088-975b-daefc3b27982",
   "metadata": {},
   "outputs": [
    {
     "data": {
      "text/plain": [
       "('V', 'e', 'r', 'i', 'B', 'i', 'l', 'i', 'm', 'i')"
      ]
     },
     "execution_count": 19,
     "metadata": {},
     "output_type": "execute_result"
    }
   ],
   "source": [
    "tuple(\"VeriBilimi\")"
   ]
  },
  {
   "cell_type": "code",
   "execution_count": 20,
   "id": "5b594878-5240-4485-97e3-0faeaf6f554c",
   "metadata": {},
   "outputs": [],
   "source": [
    "liste=[\"can\", 35, 1.75, \"istanbul\"]"
   ]
  },
  {
   "cell_type": "code",
   "execution_count": 21,
   "id": "a23a525a-2e20-4c15-8a06-f4eca9d20328",
   "metadata": {},
   "outputs": [
    {
     "data": {
      "text/plain": [
       "['can', 35, 1.75, 'istanbul']"
      ]
     },
     "execution_count": 21,
     "metadata": {},
     "output_type": "execute_result"
    }
   ],
   "source": [
    "liste"
   ]
  },
  {
   "cell_type": "code",
   "execution_count": 22,
   "id": "9ac0c3bf-da00-40f0-97d4-6a8b14c96974",
   "metadata": {},
   "outputs": [
    {
     "data": {
      "text/plain": [
       "('can', 35, 1.75, 'istanbul')"
      ]
     },
     "execution_count": 22,
     "metadata": {},
     "output_type": "execute_result"
    }
   ],
   "source": [
    "tuple(liste)"
   ]
  },
  {
   "cell_type": "code",
   "execution_count": 23,
   "id": "0c1bbfcd-99b6-485c-b101-4fb73395e34a",
   "metadata": {},
   "outputs": [],
   "source": [
    "personel = (\"Eda\",\n",
    "           35,\n",
    "           \"Python-Dev\",\n",
    "           (\"Django\", \"Flask\", \"CSS\", \"HTML\"))"
   ]
  },
  {
   "cell_type": "code",
   "execution_count": 24,
   "id": "9dcd4cc4-8ad7-4c08-9fd8-228fdc454aec",
   "metadata": {},
   "outputs": [
    {
     "data": {
      "text/plain": [
       "('Eda', 35, 'Python-Dev', ('Django', 'Flask', 'CSS', 'HTML'))"
      ]
     },
     "execution_count": 24,
     "metadata": {},
     "output_type": "execute_result"
    }
   ],
   "source": [
    "personel"
   ]
  },
  {
   "cell_type": "code",
   "execution_count": 25,
   "id": "94000c60-1cfd-476d-9dfa-e510502a252a",
   "metadata": {},
   "outputs": [
    {
     "data": {
      "text/plain": [
       "'Eda'"
      ]
     },
     "execution_count": 25,
     "metadata": {},
     "output_type": "execute_result"
    }
   ],
   "source": [
    "personel[0]"
   ]
  },
  {
   "cell_type": "code",
   "execution_count": 27,
   "id": "4fbb60c1-9668-4189-9bbe-4f908cb11734",
   "metadata": {},
   "outputs": [
    {
     "data": {
      "text/plain": [
       "'Django'"
      ]
     },
     "execution_count": 27,
     "metadata": {},
     "output_type": "execute_result"
    }
   ],
   "source": [
    "personel[-1][0]"
   ]
  },
  {
   "cell_type": "code",
   "execution_count": 28,
   "id": "fcff6d70-c430-4eff-b4f5-26f8bacfb325",
   "metadata": {},
   "outputs": [
    {
     "data": {
      "text/plain": [
       "'Eda'"
      ]
     },
     "execution_count": 28,
     "metadata": {},
     "output_type": "execute_result"
    }
   ],
   "source": [
    "personel[0]"
   ]
  },
  {
   "cell_type": "code",
   "execution_count": 29,
   "id": "1cf629c9-5851-4fd5-849a-765c273692e4",
   "metadata": {},
   "outputs": [
    {
     "ename": "TypeError",
     "evalue": "'tuple' object does not support item assignment",
     "output_type": "error",
     "traceback": [
      "\u001b[31m---------------------------------------------------------------------------\u001b[39m",
      "\u001b[31mTypeError\u001b[39m                                 Traceback (most recent call last)",
      "\u001b[36mCell\u001b[39m\u001b[36m \u001b[39m\u001b[32mIn[29]\u001b[39m\u001b[32m, line 1\u001b[39m\n\u001b[32m----> \u001b[39m\u001b[32m1\u001b[39m \u001b[43mpersonel\u001b[49m\u001b[43m[\u001b[49m\u001b[32;43m0\u001b[39;49m\u001b[43m]\u001b[49m = \u001b[33m\"\u001b[39m\u001b[33mefe\u001b[39m\u001b[33m\"\u001b[39m\n",
      "\u001b[31mTypeError\u001b[39m: 'tuple' object does not support item assignment"
     ]
    }
   ],
   "source": [
    "personel[0] = \"efe\""
   ]
  },
  {
   "cell_type": "code",
   "execution_count": 30,
   "id": "ca4483d0-db30-4a9a-ae6f-08622cd807f9",
   "metadata": {},
   "outputs": [
    {
     "ename": "TypeError",
     "evalue": "'tuple' object doesn't support item deletion",
     "output_type": "error",
     "traceback": [
      "\u001b[31m---------------------------------------------------------------------------\u001b[39m",
      "\u001b[31mTypeError\u001b[39m                                 Traceback (most recent call last)",
      "\u001b[36mCell\u001b[39m\u001b[36m \u001b[39m\u001b[32mIn[30]\u001b[39m\u001b[32m, line 1\u001b[39m\n\u001b[32m----> \u001b[39m\u001b[32m1\u001b[39m \u001b[38;5;28;01mdel\u001b[39;00m \u001b[43mpersonel\u001b[49m\u001b[43m[\u001b[49m\u001b[32;43m0\u001b[39;49m\u001b[43m]\u001b[49m\n",
      "\u001b[31mTypeError\u001b[39m: 'tuple' object doesn't support item deletion"
     ]
    }
   ],
   "source": [
    "del personel[0]"
   ]
  },
  {
   "cell_type": "code",
   "execution_count": 31,
   "id": "b5431399-c4c3-48f3-b2cc-d49510a31b55",
   "metadata": {},
   "outputs": [],
   "source": [
    "ogrenci_info = (\"Deniz\", 18, [\"Mat\", \"Fiz\",\"Kim\"])"
   ]
  },
  {
   "cell_type": "code",
   "execution_count": 32,
   "id": "7c773a0d-637d-41af-9849-c417dca8d49e",
   "metadata": {},
   "outputs": [
    {
     "data": {
      "text/plain": [
       "('Deniz', 18, ['Mat', 'Fiz', 'Kim'])"
      ]
     },
     "execution_count": 32,
     "metadata": {},
     "output_type": "execute_result"
    }
   ],
   "source": [
    "ogrenci_info"
   ]
  },
  {
   "cell_type": "code",
   "execution_count": 33,
   "id": "f9ce5e46-8311-4eff-8589-c4513d8b1c3a",
   "metadata": {},
   "outputs": [
    {
     "data": {
      "text/plain": [
       "'Fiz'"
      ]
     },
     "execution_count": 33,
     "metadata": {},
     "output_type": "execute_result"
    }
   ],
   "source": [
    "ogrenci_info[2][1]"
   ]
  },
  {
   "cell_type": "code",
   "execution_count": 34,
   "id": "08ed23b9-325d-48f3-b630-268c777412a0",
   "metadata": {},
   "outputs": [],
   "source": [
    "ogrenci_info[2][1] = \"Bio\""
   ]
  },
  {
   "cell_type": "code",
   "execution_count": 35,
   "id": "c109c3da-c7df-455d-9932-974fec6c19ed",
   "metadata": {},
   "outputs": [
    {
     "data": {
      "text/plain": [
       "('Deniz', 18, ['Mat', 'Bio', 'Kim'])"
      ]
     },
     "execution_count": 35,
     "metadata": {},
     "output_type": "execute_result"
    }
   ],
   "source": [
    "ogrenci_info"
   ]
  },
  {
   "cell_type": "code",
   "execution_count": 36,
   "id": "76998262-1a35-4700-a2d9-8a6749f7ea2f",
   "metadata": {},
   "outputs": [],
   "source": [
    "x,y,z = 1,3,5"
   ]
  },
  {
   "cell_type": "code",
   "execution_count": 37,
   "id": "7cdddeae-bdcf-41f8-b09b-f1769d99a5d4",
   "metadata": {},
   "outputs": [],
   "source": [
    "tek_sayilar = x,y,z"
   ]
  },
  {
   "cell_type": "code",
   "execution_count": 38,
   "id": "27c08d59-94db-4b83-84ac-7200d5824757",
   "metadata": {},
   "outputs": [
    {
     "data": {
      "text/plain": [
       "(1, 3, 5)"
      ]
     },
     "execution_count": 38,
     "metadata": {},
     "output_type": "execute_result"
    }
   ],
   "source": [
    "tek_sayilar"
   ]
  },
  {
   "cell_type": "code",
   "execution_count": 39,
   "id": "1b409d4c-9891-4232-81b3-596045b4d37d",
   "metadata": {},
   "outputs": [],
   "source": [
    "cift_sayilar = (2,4,6)"
   ]
  },
  {
   "cell_type": "code",
   "execution_count": 40,
   "id": "32e0e645-e425-451d-8c23-8763ad5ea22b",
   "metadata": {},
   "outputs": [],
   "source": [
    "x,y,z = cift_sayilar"
   ]
  },
  {
   "cell_type": "code",
   "execution_count": 41,
   "id": "9f5d27c0-81b5-4131-a071-a27f16296f23",
   "metadata": {},
   "outputs": [
    {
     "data": {
      "text/plain": [
       "2"
      ]
     },
     "execution_count": 41,
     "metadata": {},
     "output_type": "execute_result"
    }
   ],
   "source": [
    "x"
   ]
  },
  {
   "cell_type": "code",
   "execution_count": 42,
   "id": "c0e1077e-4e44-4c83-b5fe-8488411c21de",
   "metadata": {},
   "outputs": [
    {
     "data": {
      "text/plain": [
       "4"
      ]
     },
     "execution_count": 42,
     "metadata": {},
     "output_type": "execute_result"
    }
   ],
   "source": [
    "y"
   ]
  },
  {
   "cell_type": "code",
   "execution_count": 43,
   "id": "cdd673fb-0c53-456b-a431-79dda7cc7175",
   "metadata": {},
   "outputs": [
    {
     "data": {
      "text/plain": [
       "6"
      ]
     },
     "execution_count": 43,
     "metadata": {},
     "output_type": "execute_result"
    }
   ],
   "source": [
    "z"
   ]
  },
  {
   "cell_type": "code",
   "execution_count": 44,
   "id": "de2a2b0b-f94c-4758-a805-aa4baa61f123",
   "metadata": {},
   "outputs": [],
   "source": [
    "sayilar = (1,2,3,4,5)"
   ]
  },
  {
   "cell_type": "code",
   "execution_count": 45,
   "id": "4749244e-8432-4d33-bb9b-19eddad0f408",
   "metadata": {},
   "outputs": [],
   "source": [
    "*ilk, son = sayilar"
   ]
  },
  {
   "cell_type": "code",
   "execution_count": 46,
   "id": "c56c497c-2fad-4572-8dd6-928e2d447c81",
   "metadata": {},
   "outputs": [
    {
     "data": {
      "text/plain": [
       "[1, 2, 3, 4]"
      ]
     },
     "execution_count": 46,
     "metadata": {},
     "output_type": "execute_result"
    }
   ],
   "source": [
    "ilk"
   ]
  },
  {
   "cell_type": "code",
   "execution_count": 47,
   "id": "526f77ea-ee60-495b-b87b-2c63c862db52",
   "metadata": {},
   "outputs": [
    {
     "data": {
      "text/plain": [
       "5"
      ]
     },
     "execution_count": 47,
     "metadata": {},
     "output_type": "execute_result"
    }
   ],
   "source": [
    "son"
   ]
  },
  {
   "cell_type": "code",
   "execution_count": 51,
   "id": "6c7ea791-ce7f-4a88-8dd4-ad6a25ade745",
   "metadata": {},
   "outputs": [],
   "source": [
    "sayilar = [1,2,3,4,5,6,7,8,9,10]"
   ]
  },
  {
   "cell_type": "code",
   "execution_count": 52,
   "id": "cd4eda3e-c793-46f6-8ae9-688268e1ec40",
   "metadata": {},
   "outputs": [],
   "source": [
    "*ilk, son = sayilar"
   ]
  },
  {
   "cell_type": "code",
   "execution_count": 53,
   "id": "ca564ffe-470d-4a83-89c2-ef805283220a",
   "metadata": {},
   "outputs": [
    {
     "data": {
      "text/plain": [
       "[1, 2, 3, 4, 5, 6, 7, 8, 9]"
      ]
     },
     "execution_count": 53,
     "metadata": {},
     "output_type": "execute_result"
    }
   ],
   "source": [
    "ilk"
   ]
  },
  {
   "cell_type": "code",
   "execution_count": 54,
   "id": "45dbe9b6-af24-4628-9caa-efefdbcb0e0f",
   "metadata": {},
   "outputs": [
    {
     "data": {
      "text/plain": [
       "10"
      ]
     },
     "execution_count": 54,
     "metadata": {},
     "output_type": "execute_result"
    }
   ],
   "source": [
    "son"
   ]
  },
  {
   "cell_type": "code",
   "execution_count": 55,
   "id": "64d3ec61-3b78-4de2-8f49-bbf621ac3261",
   "metadata": {},
   "outputs": [],
   "source": [
    "sayilar = (1,2,3,4,5)"
   ]
  },
  {
   "cell_type": "code",
   "execution_count": 67,
   "id": "b3b87ec4-c99c-48d5-b21b-0912e8c5fcbc",
   "metadata": {},
   "outputs": [],
   "source": [
    "x, y, z, *son = sayilar"
   ]
  },
  {
   "cell_type": "code",
   "execution_count": 68,
   "id": "c990d1b8-d5ba-4c10-8bbf-c4596fa419f3",
   "metadata": {},
   "outputs": [
    {
     "data": {
      "text/plain": [
       "1"
      ]
     },
     "execution_count": 68,
     "metadata": {},
     "output_type": "execute_result"
    }
   ],
   "source": [
    "x"
   ]
  },
  {
   "cell_type": "code",
   "execution_count": 64,
   "id": "c53a8a38-b8e7-4e94-bcef-dbab5c7023e7",
   "metadata": {},
   "outputs": [
    {
     "data": {
      "text/plain": [
       "2"
      ]
     },
     "execution_count": 64,
     "metadata": {},
     "output_type": "execute_result"
    }
   ],
   "source": [
    "orta"
   ]
  },
  {
   "cell_type": "code",
   "execution_count": 65,
   "id": "0aa36b4f-2ef9-45ad-b213-dd0e88a79a18",
   "metadata": {},
   "outputs": [
    {
     "data": {
      "text/plain": [
       "3"
      ]
     },
     "execution_count": 65,
     "metadata": {},
     "output_type": "execute_result"
    }
   ],
   "source": [
    "orta1"
   ]
  },
  {
   "cell_type": "code",
   "execution_count": 66,
   "id": "72c22ce9-f904-4a14-a593-2472ae992131",
   "metadata": {},
   "outputs": [
    {
     "data": {
      "text/plain": [
       "[4, 5]"
      ]
     },
     "execution_count": 66,
     "metadata": {},
     "output_type": "execute_result"
    }
   ],
   "source": [
    "son"
   ]
  },
  {
   "cell_type": "code",
   "execution_count": 57,
   "id": "4a9222a6-079c-47ab-9a3c-e1add5c5b618",
   "metadata": {},
   "outputs": [],
   "source": [
    "ilk, *_ = sayilar"
   ]
  },
  {
   "cell_type": "code",
   "execution_count": null,
   "id": "4b167501-6a52-45a9-a22f-809838a06808",
   "metadata": {},
   "outputs": [],
   "source": []
  },
  {
   "cell_type": "code",
   "execution_count": 58,
   "id": "958db38e-02ca-4aeb-a3fd-9d9dfda95463",
   "metadata": {},
   "outputs": [
    {
     "data": {
      "text/plain": [
       "1"
      ]
     },
     "execution_count": 58,
     "metadata": {},
     "output_type": "execute_result"
    }
   ],
   "source": [
    "ilk"
   ]
  },
  {
   "cell_type": "code",
   "execution_count": 69,
   "id": "10d3cb55-3312-4edb-a38c-3bd79d830e26",
   "metadata": {},
   "outputs": [],
   "source": [
    "isim = (\"efe\", \"eda\")\n",
    "sehir = (\"izmir\", \"bursa\")"
   ]
  },
  {
   "cell_type": "code",
   "execution_count": 70,
   "id": "d3b123a4-2028-4cd4-9ba7-108b0b7199bf",
   "metadata": {},
   "outputs": [],
   "source": [
    "birlesim = (*isim, *sehir)"
   ]
  },
  {
   "cell_type": "code",
   "execution_count": 71,
   "id": "7465723d-f649-437e-9130-6c1fa8695695",
   "metadata": {},
   "outputs": [
    {
     "data": {
      "text/plain": [
       "('efe', 'eda', 'izmir', 'bursa')"
      ]
     },
     "execution_count": 71,
     "metadata": {},
     "output_type": "execute_result"
    }
   ],
   "source": [
    "birlesim "
   ]
  },
  {
   "cell_type": "code",
   "execution_count": 72,
   "id": "c3e6bbda-a8bf-4a80-819a-c6dbebf7a541",
   "metadata": {},
   "outputs": [
    {
     "data": {
      "text/plain": [
       "('Deniz', 18, ['Mat', 'Bio', 'Kim'])"
      ]
     },
     "execution_count": 72,
     "metadata": {},
     "output_type": "execute_result"
    }
   ],
   "source": [
    "ogrenci_info"
   ]
  },
  {
   "cell_type": "code",
   "execution_count": 73,
   "id": "00726f21-ae33-4043-aecf-6323b1a2d520",
   "metadata": {},
   "outputs": [],
   "source": [
    "ogrenci_bilgi = ogrenci_info[:]"
   ]
  },
  {
   "cell_type": "code",
   "execution_count": 74,
   "id": "5b7c6c1c-19ce-41f8-8723-50e8b435913c",
   "metadata": {},
   "outputs": [
    {
     "data": {
      "text/plain": [
       "True"
      ]
     },
     "execution_count": 74,
     "metadata": {},
     "output_type": "execute_result"
    }
   ],
   "source": [
    "id(ogrenci_bilgi) == id(ogrenci_info)"
   ]
  },
  {
   "cell_type": "markdown",
   "id": "28e2dc37-f6b8-4915-b9f6-f51d31a45301",
   "metadata": {},
   "source": [
    "## Shadow vs Deep"
   ]
  },
  {
   "cell_type": "code",
   "execution_count": 75,
   "id": "a3c5274a-f809-466a-8a20-23920c813cf6",
   "metadata": {},
   "outputs": [],
   "source": [
    "from copy import deepcopy"
   ]
  },
  {
   "cell_type": "code",
   "execution_count": 76,
   "id": "0afe4336-2c4c-41eb-9c1b-b4d5766e5db9",
   "metadata": {},
   "outputs": [
    {
     "data": {
      "text/plain": [
       "('Deniz', 18, ['Mat', 'Bio', 'Kim'])"
      ]
     },
     "execution_count": 76,
     "metadata": {},
     "output_type": "execute_result"
    }
   ],
   "source": [
    "ogrenci_info"
   ]
  },
  {
   "cell_type": "code",
   "execution_count": 77,
   "id": "c40b72bc-d822-47f6-8af0-d9941700cc05",
   "metadata": {},
   "outputs": [],
   "source": [
    "ogrenci_kopya = deepcopy(ogrenci_info)"
   ]
  },
  {
   "cell_type": "code",
   "execution_count": 78,
   "id": "c677fb63-a447-47d0-9cba-9436edf4597b",
   "metadata": {},
   "outputs": [
    {
     "data": {
      "text/plain": [
       "2351914813184"
      ]
     },
     "execution_count": 78,
     "metadata": {},
     "output_type": "execute_result"
    }
   ],
   "source": [
    "id(ogrenci_kopya)"
   ]
  },
  {
   "cell_type": "code",
   "execution_count": 79,
   "id": "091a2f8a-de12-4900-a122-5dd2d8a9c8d6",
   "metadata": {},
   "outputs": [
    {
     "data": {
      "text/plain": [
       "2351921355840"
      ]
     },
     "execution_count": 79,
     "metadata": {},
     "output_type": "execute_result"
    }
   ],
   "source": [
    "id(ogrenci_info)"
   ]
  },
  {
   "cell_type": "code",
   "execution_count": 80,
   "id": "b22631b1-b648-4441-8baf-ac7213c16594",
   "metadata": {},
   "outputs": [
    {
     "data": {
      "text/plain": [
       "('Deniz', 18, ['Mat', 'Bio', 'Kim'])"
      ]
     },
     "execution_count": 80,
     "metadata": {},
     "output_type": "execute_result"
    }
   ],
   "source": [
    "ogrenci_kopya"
   ]
  },
  {
   "cell_type": "code",
   "execution_count": 81,
   "id": "8c8fb4f7-9e95-4ef3-a965-99e8a3ef1003",
   "metadata": {},
   "outputs": [
    {
     "data": {
      "text/plain": [
       "'Kim'"
      ]
     },
     "execution_count": 81,
     "metadata": {},
     "output_type": "execute_result"
    }
   ],
   "source": [
    "ogrenci_kopya[2][2]"
   ]
  },
  {
   "cell_type": "code",
   "execution_count": 82,
   "id": "901c2711-8f1d-45c7-b7fe-5041dfbe10dd",
   "metadata": {},
   "outputs": [],
   "source": [
    "ogrenci_kopya[2][2] = \"bio\""
   ]
  },
  {
   "cell_type": "code",
   "execution_count": 83,
   "id": "e8db9b00-e3a8-452e-a574-22dd0a6eab1f",
   "metadata": {},
   "outputs": [
    {
     "data": {
      "text/plain": [
       "('Deniz', 18, ['Mat', 'Bio', 'bio'])"
      ]
     },
     "execution_count": 83,
     "metadata": {},
     "output_type": "execute_result"
    }
   ],
   "source": [
    "ogrenci_kopya"
   ]
  },
  {
   "cell_type": "code",
   "execution_count": 84,
   "id": "703df5cb-d6c1-45d9-996a-293cbad2b293",
   "metadata": {},
   "outputs": [
    {
     "data": {
      "text/plain": [
       "('Deniz', 18, ['Mat', 'Bio', 'Kim'])"
      ]
     },
     "execution_count": 84,
     "metadata": {},
     "output_type": "execute_result"
    }
   ],
   "source": [
    "ogrenci_info"
   ]
  },
  {
   "cell_type": "code",
   "execution_count": 85,
   "id": "e4daf82e-7d38-485a-8574-b71e63834bc5",
   "metadata": {},
   "outputs": [],
   "source": [
    "gunler = (\"pazartesi\", \"salı\", \"çarşamba\", \"perşembe\", \"cuma\")"
   ]
  },
  {
   "cell_type": "code",
   "execution_count": 86,
   "id": "499480df-dc55-4438-8040-0bc115459fa1",
   "metadata": {},
   "outputs": [
    {
     "data": {
      "text/plain": [
       "<reversed at 0x22399933370>"
      ]
     },
     "execution_count": 86,
     "metadata": {},
     "output_type": "execute_result"
    }
   ],
   "source": [
    "reversed(gunler)"
   ]
  },
  {
   "cell_type": "code",
   "execution_count": 87,
   "id": "bf90ca32-d80d-47f6-b339-ab626b353f07",
   "metadata": {},
   "outputs": [
    {
     "data": {
      "text/plain": [
       "('cuma', 'perşembe', 'çarşamba', 'salı', 'pazartesi')"
      ]
     },
     "execution_count": 87,
     "metadata": {},
     "output_type": "execute_result"
    }
   ],
   "source": [
    "tuple(reversed(gunler))"
   ]
  },
  {
   "cell_type": "code",
   "execution_count": 88,
   "id": "9ec96eac-2c32-4500-8224-b1b5a7e2a2ad",
   "metadata": {},
   "outputs": [
    {
     "data": {
      "text/plain": [
       "('cuma', 'perşembe', 'çarşamba', 'salı', 'pazartesi')"
      ]
     },
     "execution_count": 88,
     "metadata": {},
     "output_type": "execute_result"
    }
   ],
   "source": [
    "gunler[::-1]"
   ]
  },
  {
   "cell_type": "code",
   "execution_count": 89,
   "id": "ee041909-f143-4d4d-8ded-79ec4053a1ff",
   "metadata": {},
   "outputs": [],
   "source": [
    "sayilar =  (2, 9, 5, 1, 6)"
   ]
  },
  {
   "cell_type": "code",
   "execution_count": 90,
   "id": "db0d5ea8-4692-4efc-aa67-2bac8b9e5bc4",
   "metadata": {},
   "outputs": [
    {
     "data": {
      "text/plain": [
       "[1, 2, 5, 6, 9]"
      ]
     },
     "execution_count": 90,
     "metadata": {},
     "output_type": "execute_result"
    }
   ],
   "source": [
    "sorted(sayilar)"
   ]
  },
  {
   "cell_type": "code",
   "execution_count": 91,
   "id": "f104e241-eb2c-422b-b5f4-30400622a724",
   "metadata": {},
   "outputs": [],
   "source": [
    "meyveler = ((\"elma\", 100), (\"muz\", 150), (\"erik\", 125))"
   ]
  },
  {
   "cell_type": "code",
   "execution_count": 92,
   "id": "bc8bd74b-fe6c-4b3a-af6a-7e1ffdd4fe83",
   "metadata": {},
   "outputs": [
    {
     "data": {
      "text/plain": [
       "[('elma', 100), ('erik', 125), ('muz', 150)]"
      ]
     },
     "execution_count": 92,
     "metadata": {},
     "output_type": "execute_result"
    }
   ],
   "source": [
    "sorted(meyveler, key= lambda meyveler: meyveler[1])"
   ]
  },
  {
   "cell_type": "code",
   "execution_count": 93,
   "id": "04680749-9696-49de-9a7c-a0b22edbdcc5",
   "metadata": {},
   "outputs": [],
   "source": [
    "sayilar = (1,2,3,2,3,2,5)"
   ]
  },
  {
   "cell_type": "code",
   "execution_count": 94,
   "id": "a3030a0e-f19d-4b34-9995-851b7f2632cb",
   "metadata": {},
   "outputs": [
    {
     "data": {
      "text/plain": [
       "3"
      ]
     },
     "execution_count": 94,
     "metadata": {},
     "output_type": "execute_result"
    }
   ],
   "source": [
    "sayilar.count(2)"
   ]
  },
  {
   "cell_type": "code",
   "execution_count": 96,
   "id": "74c38956-31a6-41f2-85e0-9cb8e919ac9e",
   "metadata": {},
   "outputs": [
    {
     "data": {
      "text/plain": [
       "1"
      ]
     },
     "execution_count": 96,
     "metadata": {},
     "output_type": "execute_result"
    }
   ],
   "source": [
    "sayilar.index(2)"
   ]
  },
  {
   "cell_type": "code",
   "execution_count": 97,
   "id": "49bec88c-e829-4bda-8f24-37cb3f1904f6",
   "metadata": {},
   "outputs": [
    {
     "data": {
      "text/plain": [
       "7"
      ]
     },
     "execution_count": 97,
     "metadata": {},
     "output_type": "execute_result"
    }
   ],
   "source": [
    "len(sayilar)"
   ]
  },
  {
   "cell_type": "code",
   "execution_count": null,
   "id": "bab633bf-ba15-448e-b0d1-ebd99b1962ec",
   "metadata": {},
   "outputs": [],
   "source": []
  }
 ],
 "metadata": {
  "kernelspec": {
   "display_name": "Python 3 (ipykernel)",
   "language": "python",
   "name": "python3"
  },
  "language_info": {
   "codemirror_mode": {
    "name": "ipython",
    "version": 3
   },
   "file_extension": ".py",
   "mimetype": "text/x-python",
   "name": "python",
   "nbconvert_exporter": "python",
   "pygments_lexer": "ipython3",
   "version": "3.12.2"
  }
 },
 "nbformat": 4,
 "nbformat_minor": 5
}
